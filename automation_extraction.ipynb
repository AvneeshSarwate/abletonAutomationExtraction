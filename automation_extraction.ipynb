{
 "cells": [
  {
   "cell_type": "code",
   "execution_count": null,
   "id": "9e7935b2",
   "metadata": {},
   "outputs": [],
   "source": [
    "import gzip\n",
    "import sys \n",
    "import xml.etree.ElementTree as ET\n",
    "\n",
    "# refresh file to read in sublime w/ - cp xyGrab.als xyGrab.gz; gzip -d xyGrab.gz -f\n",
    "\n",
    "als_xml = gzip.open('xyGrab Project/xyGrab.als').read()\n",
    "tree = ET.fromstring(als_xml)\n",
    "\n",
    "def getClipsForTrack(trackNumber):\n",
    "    trackNum = trackNumber #maybe make this track name instead?\n",
    "    track = tree[0].find(\"Tracks\").findall(\"MidiTrack\")[trackNum]\n",
    "    clipSlots = track.find(\"DeviceChain\").find(\"MainSequencer\").find(\"ClipSlotList\").findall(\"ClipSlot\")\n",
    "    clipval = lambda cs: cs.find(\"ClipSlot\").find(\"Value\").find(\"MidiClip\")\n",
    "    clips = [clipval(cs) for cs in clipSlots if clipval(cs) is not None]\n",
    "    return clips\n",
    "\n",
    "def getAutomationsForClip(clip):\n",
    "    clipEnvelopes = clip.find(\"Envelopes\").find(\"Envelopes\").findall(\"ClipEnvelope\")\n",
    "    \n",
    "    return clipEnvelopes\n",
    "    \n",
    "clips = getClipsForTrack(0)\n",
    "automations = getAutomationsForClip(clips[0])\n",
    "\n",
    "\n",
    "# FloatEvent tag holds automation events\n",
    "# PointeeId in ClipEnvelope refers to device param being automated\n",
    "# MxDFloatParameter->AutomationTarget[Id] is same id as PointeeId\n",
    "# MxDFloatParameter->ShortName gives displayName of the parameter"
   ]
  },
  {
   "cell_type": "code",
   "execution_count": null,
   "id": "5e813a9d",
   "metadata": {},
   "outputs": [],
   "source": [
    "clipName = clips[0].find(\"Name\").items()"
   ]
  },
  {
   "cell_type": "code",
   "execution_count": null,
   "id": "ac985443",
   "metadata": {},
   "outputs": [],
   "source": [
    "tree[0].findall(\"MxDeviceAudioEffect\")"
   ]
  },
  {
   "cell_type": "code",
   "execution_count": null,
   "id": "b74f04a7",
   "metadata": {},
   "outputs": [],
   "source": []
  },
  {
   "cell_type": "code",
   "execution_count": null,
   "id": "0729ecdd",
   "metadata": {},
   "outputs": [],
   "source": [
    "tree2 = ET.parse(gzip.open('xyGrab Project/xyGrab.als'))\n",
    "tagType = 'MxDeviceAudioEffect'\n",
    "elems = []\n",
    "numItems = 0\n",
    "for e in tree2.iter():\n",
    "    numItems += 1\n",
    "    if e.tag == tagType:\n",
    "        elems.append(e)\n",
    "        \n",
    "\n",
    "def getAutomationsByTrackDeviceClip(trackNum, deviceName, clipName, tree):\n",
    "    tracks = []\n",
    "    for e in tree.iter():\n",
    "        if e.tag == \"MidiTrack\":\n",
    "            tracks.append(e)\n",
    "    \n",
    "    devices = []\n",
    "    for e in tracks[trackNum].iter():\n",
    "        if e.tag == \"MxDeviceAudioEffect\":\n",
    "            tracks.devices(e)\n",
    "            \n",
    "    \n",
    "        "
   ]
  },
  {
   "cell_type": "code",
   "execution_count": null,
   "id": "7fec11b7",
   "metadata": {},
   "outputs": [],
   "source": [
    "trackNum = 0\n",
    "deviceName = \"map_target\"\n",
    "clipName = \"1-Operator 6\"\n",
    "\n",
    "tracks = []\n",
    "for e in tree2.iter():\n",
    "    if e.tag == \"MidiTrack\":\n",
    "        tracks.append(e)"
   ]
  },
  {
   "cell_type": "code",
   "execution_count": null,
   "id": "4de6e4ac",
   "metadata": {},
   "outputs": [],
   "source": [
    "devices = []\n",
    "for e in tracks[trackNum].iter():\n",
    "    if e.tag == \"MxDeviceAudioEffect\":\n",
    "        name = e.find(\"UserName\").attrib[\"Value\"]\n",
    "        if name == deviceName:\n",
    "            devices.append(e)\n",
    "            "
   ]
  },
  {
   "cell_type": "code",
   "execution_count": null,
   "id": "b9b007a5",
   "metadata": {},
   "outputs": [],
   "source": [
    "device = devices[0]\n",
    "param_name_to_id = {}\n",
    "for e in device.iter():\n",
    "    if e.tag == \"MxDFloatParameter\":\n",
    "        name = e.find(\"Name\").attrib[\"Value\"]\n",
    "        param_id = e.attrib[\"Id\"]\n",
    "        automation_target_id = e.find(\"Timeable/AutomationTarget\").attrib[\"Id\"]\n",
    "        param_name_to_id[name] = automation_target_id"
   ]
  },
  {
   "cell_type": "code",
   "execution_count": null,
   "id": "2ce2424d",
   "metadata": {},
   "outputs": [],
   "source": [
    "param_id_to_curve = {}\n",
    "for e in tree2.iter():\n",
    "    if e.tag == \"ClipEnvelope\":\n",
    "        pointee_id = e.find(\"EnvelopeTarget/PointeeId\").attrib[\"Value\"]\n",
    "        param_id_to_curve[pointee_id] = e.find(\"Automation/Events\")"
   ]
  },
  {
   "cell_type": "code",
   "execution_count": null,
   "id": "65b6cb6c",
   "metadata": {},
   "outputs": [],
   "source": [
    "#for track number and clip slot, get params from device \n",
    "param_id_to_curve[param_name_to_id['p-0']]"
   ]
  },
  {
   "cell_type": "code",
   "execution_count": 1,
   "id": "bfa53c1c",
   "metadata": {},
   "outputs": [],
   "source": [
    "import xml.etree.ElementTree as ET\n",
    "import gzip\n",
    "def getAutomationsByTrackDeviceClipParam(trackNum, deviceName, clipName, paramName, tree):\n",
    "    tracks = []\n",
    "    for e in tree.iter():\n",
    "        if e.tag == \"MidiTrack\":\n",
    "            tracks.append(e)\n",
    "            \n",
    "    devices = []\n",
    "    for e in tracks[trackNum].iter():\n",
    "        if e.tag == \"MxDeviceAudioEffect\":\n",
    "            name = e.find(\"UserName\").attrib[\"Value\"]\n",
    "            if name == deviceName:\n",
    "                devices.append(e)\n",
    "                \n",
    "    device = devices[0]\n",
    "    param_name_to_id = {}\n",
    "    for e in device.iter():\n",
    "        if e.tag == \"MxDFloatParameter\":\n",
    "            name = e.find(\"Name\").attrib[\"Value\"]\n",
    "            param_id = e.attrib[\"Id\"]\n",
    "            automation_target_id = e.find(\"Timeable/AutomationTarget\").attrib[\"Id\"]\n",
    "            param_name_to_id[name] = automation_target_id\n",
    "    \n",
    "    param_id_to_curve = {}\n",
    "    for e in tree2.iter():\n",
    "        if e.tag == \"ClipEnvelope\":\n",
    "            pointee_id = e.find(\"EnvelopeTarget/PointeeId\").attrib[\"Value\"]\n",
    "            param_id_to_curve[pointee_id] = e.find(\"Automation/Events\")\n",
    "    \n",
    "    return param_id_to_curve[param_name_to_id[paramName]]"
   ]
  },
  {
   "cell_type": "code",
   "execution_count": 2,
   "id": "073bab47",
   "metadata": {},
   "outputs": [
    {
     "data": {
      "text/plain": [
       "<Element 'Events' at 0x1059b18b0>"
      ]
     },
     "execution_count": 2,
     "metadata": {},
     "output_type": "execute_result"
    }
   ],
   "source": [
    "tree2 = ET.parse(gzip.open('xyGrab Project/xyGrab.als'))\n",
    "getAutomationsByTrackDeviceClipParam(0, \"map_target\", \"1-Operator 6\", \"p-1\", tree2)"
   ]
  }
 ],
 "metadata": {
  "kernelspec": {
   "display_name": "Python 3 (ipykernel)",
   "language": "python",
   "name": "python3"
  },
  "language_info": {
   "codemirror_mode": {
    "name": "ipython",
    "version": 3
   },
   "file_extension": ".py",
   "mimetype": "text/x-python",
   "name": "python",
   "nbconvert_exporter": "python",
   "pygments_lexer": "ipython3",
   "version": "3.9.7"
  }
 },
 "nbformat": 4,
 "nbformat_minor": 5
}
