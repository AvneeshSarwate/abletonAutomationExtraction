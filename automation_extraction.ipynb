{
 "cells": [
  {
   "cell_type": "code",
   "execution_count": null,
   "id": "d8d9d1cd",
   "metadata": {},
   "outputs": [],
   "source": [
    "# cp xyGrab.als xyGrab.gz; gzip -d xyGrab.gz -f"
   ]
  },
  {
   "cell_type": "code",
   "execution_count": null,
   "id": "20930149",
   "metadata": {},
   "outputs": [],
   "source": [
    "import xml.etree.ElementTree as ET\n",
    "import gzip\n",
    "def getAutomationsByTrackDeviceClipParam(trackNum, deviceName, clipName, paramName, tree):\n",
    "    tracks = []\n",
    "    for e in tree.iter():\n",
    "        if e.tag == \"MidiTrack\":\n",
    "            tracks.append(e)\n",
    "            \n",
    "    devices = []\n",
    "    for e in tracks[trackNum].iter():\n",
    "        if e.tag == \"MxDeviceAudioEffect\":\n",
    "            name = e.find(\"UserName\").attrib[\"Value\"]\n",
    "            if name == deviceName:\n",
    "                devices.append(e)\n",
    "                \n",
    "    device = devices[0]\n",
    "    param_name_to_id = {}\n",
    "    for e in device.iter():\n",
    "        if e.tag == \"MxDFloatParameter\":\n",
    "            name = e.find(\"Name\").attrib[\"Value\"]\n",
    "            param_id = e.attrib[\"Id\"]\n",
    "            automation_target_id = e.find(\"Timeable/AutomationTarget\").attrib[\"Id\"]\n",
    "            param_name_to_id[name] = automation_target_id\n",
    "    \n",
    "    param_id_to_curve = {}\n",
    "    for e in tree2.iter():\n",
    "        if e.tag == \"ClipEnvelope\":\n",
    "            pointee_id = e.find(\"EnvelopeTarget/PointeeId\").attrib[\"Value\"]\n",
    "            param_id_to_curve[pointee_id] = e.find(\"Automation/Events\")\n",
    "    \n",
    "    return param_id_to_curve[param_name_to_id[paramName]]"
   ]
  },
  {
   "cell_type": "code",
   "execution_count": null,
   "id": "2697ce4b",
   "metadata": {},
   "outputs": [],
   "source": [
    "tree2 = ET.parse(gzip.open('xyGrab Project/xyGrab.als'))\n",
    "getAutomationsByTrackDeviceClipParam(0, \"map_target\", \"1-Operator 6\", \"p-1\", tree2)"
   ]
  },
  {
   "cell_type": "code",
   "execution_count": null,
   "id": "5f3fcf36",
   "metadata": {},
   "outputs": [],
   "source": [
    "server.shutdown()\n",
    "server.server_close()"
   ]
  },
  {
   "cell_type": "code",
   "execution_count": null,
   "id": "5376f406",
   "metadata": {},
   "outputs": [
    {
     "name": "stdout",
     "output_type": "stream",
     "text": [
      "127.0.0.1 wrote:\n",
      "b'testone'\n",
      "127.0.0.1 wrote:\n",
      "b'another lalal'\n"
     ]
    }
   ],
   "source": [
    "# https://docs.python.org/3/library/socketserver.html#socketserver-tcpserver-example\n",
    "import socketserver\n",
    "\n",
    "class MyTCPHandler(socketserver.StreamRequestHandler):\n",
    "\n",
    "    def handle(self):\n",
    "        # self.rfile is a file-like object created by the handler;\n",
    "        # we can now use e.g. readline() instead of raw recv() calls\n",
    "        self.data = self.rfile.readline().strip()\n",
    "        print(\"{} wrote:\".format(self.client_address[0]))\n",
    "        print(self.data)\n",
    "        # Likewise, self.wfile is a file-like object used to write back\n",
    "        # to the client\n",
    "        self.wfile.write(self.data + bytes(b\"\\n\"))\n",
    "\n",
    "\n",
    "HOST, PORT = \"localhost\", 11999\n",
    "\n",
    "# Create the server, binding to localhost on port 9999\n",
    "with socketserver.TCPServer((HOST, PORT), MyTCPHandler) as server:\n",
    "    # Activate the server; this will keep running until you\n",
    "    # interrupt the program with Ctrl-C\n",
    "    server.serve_forever()"
   ]
  }
 ],
 "metadata": {
  "kernelspec": {
   "display_name": "Python 3 (ipykernel)",
   "language": "python",
   "name": "python3"
  },
  "language_info": {
   "codemirror_mode": {
    "name": "ipython",
    "version": 3
   },
   "file_extension": ".py",
   "mimetype": "text/x-python",
   "name": "python",
   "nbconvert_exporter": "python",
   "pygments_lexer": "ipython3",
   "version": "3.9.7"
  }
 },
 "nbformat": 4,
 "nbformat_minor": 5
}
