{
 "cells": [
  {
   "cell_type": "code",
   "execution_count": null,
   "id": "140e5c1b",
   "metadata": {},
   "outputs": [],
   "source": [
    "# cp xyGrab.als xyGrab.gz; gzip -d xyGrab.gz -f"
   ]
  },
  {
   "cell_type": "code",
   "execution_count": null,
   "id": "1c9fcaa4",
   "metadata": {},
   "outputs": [],
   "source": [
    "import xml.etree.ElementTree as ET\n",
    "import gzip\n",
    "def getAutomationsByTrackDeviceClipParam(trackNum, deviceName, clipName, paramName, tree):\n",
    "    tracks = []\n",
    "    for e in tree.iter():\n",
    "        if e.tag == \"MidiTrack\":\n",
    "            tracks.append(e)\n",
    "            \n",
    "    devices = []\n",
    "    for e in tracks[trackNum].iter():\n",
    "        if e.tag == \"MxDeviceAudioEffect\":\n",
    "            name = e.find(\"UserName\").attrib[\"Value\"]\n",
    "            if name == deviceName:\n",
    "                devices.append(e)\n",
    "                \n",
    "    device = devices[0]\n",
    "    param_name_to_id = {}\n",
    "    for e in device.iter():\n",
    "        if e.tag == \"MxDFloatParameter\":\n",
    "            name = e.find(\"Name\").attrib[\"Value\"]\n",
    "            param_id = e.attrib[\"Id\"]\n",
    "            automation_target_id = e.find(\"Timeable/AutomationTarget\").attrib[\"Id\"]\n",
    "            param_name_to_id[name] = automation_target_id\n",
    "    \n",
    "    param_id_to_curve = {}\n",
    "    for e in tree2.iter():\n",
    "        if e.tag == \"ClipEnvelope\":\n",
    "            pointee_id = e.find(\"EnvelopeTarget/PointeeId\").attrib[\"Value\"]\n",
    "            param_id_to_curve[pointee_id] = e.find(\"Automation/Events\")\n",
    "    \n",
    "    return param_id_to_curve[param_name_to_id[paramName]]"
   ]
  },
  {
   "cell_type": "code",
   "execution_count": null,
   "id": "febdd502",
   "metadata": {},
   "outputs": [],
   "source": [
    "tree2 = ET.parse(gzip.open('xyGrab Project/xyGrab.als'))\n",
    "getAutomationsByTrackDeviceClipParam(0, \"map_target\", \"1-Operator 6\", \"p-1\", tree2)"
   ]
  },
  {
   "cell_type": "code",
   "execution_count": null,
   "id": "e7bfa8a6",
   "metadata": {},
   "outputs": [],
   "source": [
    "# findall LiveSet/Tracks/MidiTrack\n",
    "# in each MidiTrack dig into DeviceChain/MainSequencer/ClipSlotList\n",
    "# in the clip slot list findall ClipSlot/ClipSlot/Value/MidiClip/\n",
    "# names are in MidiClip/Name and envelopes are in MidiClip/Envelopes/Envelopes/ClipEnvelope\n",
    "# this will let you get the names of all MidiClips (there are ones in TakeLanes subtrees we want to ignore)\n",
    "\n",
    "# alternatively, just go through whole XML doc for MidiClips and ignore those without automations\n",
    "# hidden take-lane clips probs won't have automations (and probs won't have duplicate names)\n",
    "\n",
    "#json object will be clipName: {x: p-0-data, y: p-1-data}\n",
    "\n",
    "# get all the MxDFloatParameter id numbers by just full traversal thru whole XML doc"
   ]
  },
  {
   "cell_type": "code",
   "execution_count": null,
   "id": "1685afcc",
   "metadata": {},
   "outputs": [],
   "source": [
    "import json\n",
    "\n",
    "def xml2jsonCurve(xml_curve):\n",
    "    return\n",
    "\n",
    "def assembleCurve(x_curve, y_curve):\n",
    "    x_clean = xml2jsonCurve(x_curve)\n",
    "    y_clean = xml2jsonCurve(y_curve)\n",
    "    return\n",
    "        \n",
    "\n",
    "def getCurvesJson(tree):\n",
    "    clip_curves = {}\n",
    "    param_id_to_name = {}\n",
    "    for e in tree.iter():\n",
    "        if e.tag == \"MxDFloatParameter\":\n",
    "            name = e.find(\"Name\").attrib[\"Value\"]\n",
    "            automation_target_id = e.find(\"Timeable/AutomationTarget\").attrib[\"Id\"]\n",
    "            param_id_to_name[automation_target_id] = name\n",
    "    \n",
    "    for e in tree.iter():\n",
    "        if e.tag == \"MidiClip\":\n",
    "            clip_name = e.find(\"Name\").attrib[\"Id\"]\n",
    "            clip_curves[clip_name] = {}\n",
    "            x_curve = []\n",
    "            y_curve = []\n",
    "            for e2 in e.iter():\n",
    "                if e2.tag == \"ClipEnvelope\":\n",
    "                    automation_target_id = e.find(\"EnvelopeTarget/PointeeId\").attrib[\"Value\"]\n",
    "                    param_name = param_id_to_name[automation_target_id]\n",
    "                    curve_xml = e.find(\"Automation/Events\")\n",
    "                    if param_name = \"p-0\":\n",
    "                        x_curve = curve_xml\n",
    "                    if param_name = \"p-1\":\n",
    "                        y_curve = curve_xml\n",
    "            if len(x_curve) > 0 and len(y_curve) > 0:\n",
    "                clipCurves[clip_name] = assembleCurve(x_curve, y_curve)\n",
    "        \n",
    "    return json.dumps(clip_curves)\n",
    "            \n",
    "                    \n",
    "    \n",
    "            \n",
    "    "
   ]
  },
  {
   "cell_type": "code",
   "execution_count": null,
   "id": "13bd1a79",
   "metadata": {},
   "outputs": [],
   "source": [
    "server.shutdown()\n",
    "server.server_close()"
   ]
  },
  {
   "cell_type": "code",
   "execution_count": null,
   "id": "ae68bfd3",
   "metadata": {},
   "outputs": [],
   "source": [
    "# https://docs.python.org/3/library/socketserver.html#socketserver-tcpserver-example\n",
    "import socketserver\n",
    "\n",
    "class MyTCPHandler(socketserver.StreamRequestHandler):\n",
    "\n",
    "    def handle(self):\n",
    "        # self.rfile is a file-like object created by the handler;\n",
    "        # we can now use e.g. readline() instead of raw recv() calls\n",
    "        self.data = self.rfile.readline().strip()\n",
    "        print(\"{} wrote:\".format(self.client_address[0]))\n",
    "        print(self.data)\n",
    "        # Likewise, self.wfile is a file-like object used to write back\n",
    "        # to the client\n",
    "        self.wfile.write(self.data + bytes(b\"\\n\"))\n",
    "\n",
    "\n",
    "HOST, PORT = \"localhost\", 11999\n",
    "\n",
    "# Create the server, binding to localhost on port 9999\n",
    "with socketserver.TCPServer((HOST, PORT), MyTCPHandler) as server:\n",
    "    # Activate the server; this will keep running until you\n",
    "    # interrupt the program with Ctrl-C\n",
    "    server.serve_forever()"
   ]
  },
  {
   "cell_type": "code",
   "execution_count": 6,
   "id": "41ff6ede",
   "metadata": {},
   "outputs": [],
   "source": [
    "# Alternate idea, instead of storing curves in Ableton, just store them in server, save periodically to file (as json)\n",
    "# then, can have a web-based interface for seeing/editting curves (p5 js points API)\n",
    "# (see Music+vis+art tricks notes under - UI for a 2D path animation tool - )\n",
    "# can still use OSC messages/tempo from live to do sycned record start/end stuff\n",
    "\n",
    "# https://websockets.readthedocs.io/en/stable/\n",
    "# https://python-osc.readthedocs.io/en/latest/\n",
    "# https://docs.python.org/3/library/http.server.html\n",
    "# - - listen for OSC in python, and then use websockets to communicate with browser UI\n",
    "\n",
    "# Better options\n",
    "# write TCP server in node and use existin OSC/Websocket stuff from other projects - \n",
    "# https://www.digitalocean.com/community/tutorials/how-to-develop-a-node-js-tcp-server-application-using-pm2-and-nginx-on-ubuntu-16-04\n",
    "# https://developer.mozilla.org/en-US/docs/Web/API/WebSockets_API/Writing_WebSocket_client_applications\n",
    "# https://github.com/n-riesco/ijavascript - interact with node server\n",
    "# will need to use draw-loop code from three-sketches repo to visualize curves anyway"
   ]
  }
 ],
 "metadata": {
  "kernelspec": {
   "display_name": "Python 3 (ipykernel)",
   "language": "python",
   "name": "python3"
  },
  "language_info": {
   "codemirror_mode": {
    "name": "ipython",
    "version": 3
   },
   "file_extension": ".py",
   "mimetype": "text/x-python",
   "name": "python",
   "nbconvert_exporter": "python",
   "pygments_lexer": "ipython3",
   "version": "3.9.7"
  }
 },
 "nbformat": 4,
 "nbformat_minor": 5
}
