{
 "cells": [
  {
   "cell_type": "code",
   "execution_count": 1,
   "id": "900ab90e",
   "metadata": {},
   "outputs": [
    {
     "data": {
      "text/plain": [
       "'Setup Done'"
      ]
     },
     "execution_count": 1,
     "metadata": {},
     "output_type": "execute_result"
    },
    {
     "name": "stdout",
     "output_type": "stream",
     "text": [
      "ready UDP\n",
      "TCP Server is running on port 11999.\n"
     ]
    },
    {
     "name": "stderr",
     "output_type": "stream",
     "text": [
      "Error: connect ECONNREFUSED 192.168.1.39:7071\n",
      "    at TCPConnectWrap.afterConnect [as oncomplete] (node:net:1161:16)"
     ]
    },
    {
     "name": "stdout",
     "output_type": "stream",
     "text": [
      "CONNECTED: 127.0.0.1:55319\n"
     ]
    }
   ],
   "source": [
    "//init cell\n",
    "\n",
    "//common functions\n",
    "\n",
    "const os = require('os');\n",
    "const fs = require('fs');\n",
    "const osc = require('osc');\n",
    "const net = require('net');\n",
    "\n",
    "function sliceStartStop(loop) {\n",
    "    return loop.slice(1, -1)\n",
    "}\n",
    "\n",
    "function normalizeTime(loop) {\n",
    "    const start_time = loop[0].ts;\n",
    "    const dur = loop.slice(-1)[0].ts - start_time;\n",
    "    touch_pts = loop.map(({ts, pos}) => ({pos, ts: (ts-start_time)/dur}));\n",
    "    return touch_pts;\n",
    "}\n",
    "\n",
    "function deduplicate(loop) { //for fixing touchOSC bug of \"lagging Y\" redundant pre-message\n",
    "    let filteredLoop = loop.filter((elem, i, arr) => i%2 != 0); //throw out even indices\n",
    "    return filteredLoop;\n",
    "    //todo - this only works when messages are guaranteed ordered (local UDP, tcp)\n",
    "    //for non-ordered messages, probably most robust is to just toss first couple values to\n",
    "    //get rid of \"cut start\" from redundant message (or to move cursor near intened start before recording)\n",
    "}\n",
    "\n",
    "function flipY(loop) {\n",
    "    return loop.map(({ts, pos: {x, y}}) => ({ts, pos: {x, y: 1-y}}))\n",
    "}\n",
    "\n",
    "function oscArgs(...args) {\n",
    "    let output  = args.map(e => {\n",
    "        let type_str = typeof e;\n",
    "        switch(type_str) {\n",
    "            case 'string':\n",
    "                return {type: 's', value: e}\n",
    "            case 'number': \n",
    "                return {type: 'f', value: e}\n",
    "            case 'boolean':\n",
    "                return {type: 'i', value: e+0}\n",
    "        }\n",
    "    });\n",
    "    return output;\n",
    "}\n",
    "\n",
    "function saveLoops(fileName) {\n",
    "    if(!fileName) fileName = Date().toString().replaceAll(/[\\: \\)\\(]/g, \"-\") + \".json\";\n",
    "    fs.writeFileSync(fileName, JSON.stringify({rawLoops, processedLoops}));\n",
    "}\n",
    "function loadLoops(fileName) {\n",
    "    return JSON.parse(fs.readFileSync(fileName));\n",
    "}\n",
    "\n",
    "//TCP server to OF\n",
    "\n",
    "const tcp_port = 11999;\n",
    "const tcp_host = '127.0.0.1';\n",
    "\n",
    "const server = net.createServer();\n",
    "server.listen(tcp_port, tcp_host, () => {\n",
    "    console.log('TCP Server is running on port ' + tcp_port + '.');\n",
    "});\n",
    "\n",
    "const sockets = [];\n",
    "\n",
    "server.on('connection', function(sock) {\n",
    "    console.log('CONNECTED: ' + sock.remoteAddress + ':' + sock.remotePort);\n",
    "    sockets.push(sock);\n",
    "\n",
    "    sock.write( JSON.stringify(processedLoops) + '\\n' );\n",
    "\n",
    "    sock.on('data', function(data) {\n",
    "        console.log('DATA ' + sock.remoteAddress + ': ' + data);\n",
    "        // Write the data back to all the connected, the client will receive it as data from the server\n",
    "        sockets.forEach(function(sock, index, array) {\n",
    "            sock.write(sock.remoteAddress + ':' + sock.remotePort + \" said \" + data + '\\n');\n",
    "        });\n",
    "    });\n",
    "\n",
    "    // Add a 'close' event handler to this instance of socket\n",
    "    sock.on('close', function(data) {\n",
    "        let index = sockets.findIndex(function(o) {\n",
    "            return o.remoteAddress === sock.remoteAddress && o.remotePort === sock.remotePort;\n",
    "        })\n",
    "        if (index !== -1) sockets.splice(index, 1);\n",
    "        console.log('CLOSED: ' + sock.remoteAddress + ' ' + sock.remotePort);\n",
    "    });\n",
    "});\n",
    "\n",
    "//OSC Server to touchOSC\n",
    "\n",
    "const TCP_OSC_PORT = 7071;\n",
    "const TCP_OSC_HOST = '192.168.1.39';\n",
    "\n",
    "const tcp_osc_port = new osc.TCPSocketPort({});\n",
    "// change to remote host/port (address of phone/tablet) - set touchOSC on device to TCPserver\n",
    "tcp_osc_port.open(TCP_OSC_HOST, TCP_OSC_PORT); \n",
    "\n",
    "tcp_osc_port.on('ready', () => {\n",
    "  console.log('ready TCP');\n",
    "});\n",
    "\n",
    "\n",
    "const UDP_OSC_PORT = 7071;\n",
    "const UDP_OSC_HOST = '0.0.0.0';\n",
    "\n",
    "// Bind to a UDP socket to listen for incoming OSC events.\n",
    "const udp_osc_port = new osc.UDPPort({\n",
    "    localAddress: UDP_OSC_HOST,\n",
    "    localPort: UDP_OSC_PORT,\n",
    "    remoteAddress: '127.0.0.1',\n",
    "    remotePort: 7072\n",
    "});\n",
    "\n",
    "udp_osc_port.on(\"ready\", () => {\n",
    "    console.log('ready UDP');\n",
    "});\n",
    "\n",
    "udp_osc_port.open();\n",
    "\n",
    "function clearAll() {\n",
    "    udp_osc_port.send({address: \"/clearAll\", args: []});\n",
    "}\n",
    "\n",
    "let osc_port = udp_osc_port;\n",
    "\n",
    "let rawLoops = {};\n",
    "let processedLoops = {};\n",
    "let activeLoop = 'firstLoop';\n",
    "let isRecording = false;\n",
    "let isTouching = false;\n",
    "const handlers = {};\n",
    "\n",
    "function processLoop(loopKey) {\n",
    "    processedLoops[loopKey] = flipY(normalizeTime(deduplicate(sliceStartStop(rawLoops[loopKey]))));\n",
    "}\n",
    "\n",
    "handlers['/recording'] = (isRec) => {\n",
    "    isRecording = isRec;\n",
    "    if(isRecording) {\n",
    "        rawLoops[activeLoop] = [{ts: Date.now(), pos: 'start'}];\n",
    "    } else {\n",
    "        rawLoops[activeLoop].push({ts: Date.now(), pos: 'end'});\n",
    "        processLoop(activeLoop);\n",
    "        sockets.forEach(sock => sock.write( JSON.stringify(processedLoops) + '\\n' ))\n",
    "    }\n",
    "}\n",
    "const f = float => ({type: 'f', value: float}); //helper for formatting floats for OSC\n",
    "handlers['/pos'] = (x, y) => {\n",
    "    if(isRecording) {\n",
    "        rawLoops[activeLoop].push({ts: Date.now(), pos: {x, y}});\n",
    "    }\n",
    "    udp_osc_port.send({address: '/touchPos', args: [f(x), f(y)]});\n",
    "}\n",
    "handlers['/pos/touch'] = (touching) => {\n",
    "    isTouching = touching;\n",
    "    udp_osc_port.send({address: '/touching', args: [f(isTouching)]});\n",
    "}\n",
    "\n",
    "let logAddresses = [];\n",
    "osc_port.on('message', (message) => {\n",
    "    let {address, args} = message;\n",
    "    if(logAddresses.includes(address)) console.log(message);\n",
    "    if(handlers[address]) handlers[address](...args); \n",
    "});\n",
    "\n",
    "let loadFile = \"\";\n",
    "if(loadFile) {\n",
    "    console.log(\"loaded file\", loadFile);\n",
    "    let loops = loadLoops(loadFile);\n",
    "    processedLoops = loops.processedLoops;\n",
    "    rawLoops = loops.rawLoops;\n",
    "}\n",
    "\n",
    "\"Setup Done\""
   ]
  },
  {
   "cell_type": "code",
   "execution_count": 92,
   "id": "7de26c4f",
   "metadata": {},
   "outputs": [
    {
     "data": {
      "text/plain": [
       "'loop6'"
      ]
     },
     "execution_count": 92,
     "metadata": {},
     "output_type": "execute_result"
    }
   ],
   "source": [
    "activeLoop = \"loop6\""
   ]
  },
  {
   "cell_type": "code",
   "execution_count": 38,
   "id": "fd9ff778",
   "metadata": {},
   "outputs": [],
   "source": [
    "udp_osc_port.send({address: \"/launch\", args: oscArgs('loop2', 2, false, 'grp1', 'key1')});"
   ]
  },
  {
   "cell_type": "code",
   "execution_count": 99,
   "id": "1283dea3",
   "metadata": {},
   "outputs": [],
   "source": [
    "dev = 100; //40,\n",
    "for(var i = 0; i < dev; i++) {\n",
    "    let dur = 5 + i/100\n",
    "    udp_osc_port.send({address: \"/launch\", args: oscArgs('loop2', dur, false, 'grp1', 'key'+i)});\n",
    "}"
   ]
  },
  {
   "cell_type": "code",
   "execution_count": 98,
   "id": "68b643df",
   "metadata": {},
   "outputs": [
    {
     "name": "stdout",
     "output_type": "stream",
     "text": [
      "CONNECTED: 127.0.0.1:64286\n"
     ]
    }
   ],
   "source": [
    "// processedLoops.loop2.map(({ts, pos: {x,y}}) => [x.toFixed(10), y.toFixed(10)])\n",
    "function sliceStartStop(loop) {\n",
    "    return loop.slice(1, -1)\n",
    "}\n",
    "\n",
    "function normalizeTime(loop) {\n",
    "    const start_time = loop[0].ts;\n",
    "    const dur = loop.slice(-1)[0].ts - start_time;\n",
    "    touch_pts = loop.map(({ts, pos}) => ({pos, ts: (ts-start_time)/dur}));\n",
    "    return touch_pts;\n",
    "}\n",
    "\n",
    "function deduplicate(loop) { //for fixing touchOSC bug of \"lagging Y\" redundant pre-message\n",
    "    let filteredLoop = loop.filter((elem, i, arr) => i%2 != 0); //throw out even indices\n",
    "    return filteredLoop;\n",
    "    //todo - this only works when messages are guaranteed ordered (local UDP, tcp)\n",
    "    //for non-ordered messages, probably most robust is to just toss first couple values to\n",
    "    //get rid of \"cut start\" from redundant message (or to move cursor near intened start before recording)\n",
    "}\n",
    "\n",
    "function flipY(loop) {\n",
    "    return loop.map(({ts, pos: {x, y}}) => ({ts, pos: {x, y: 1-y}}))\n",
    "}\n",
    "function processLoop(loopKey) {\n",
    "    processedLoops[loopKey] = flipY(normalizeTime(deduplicate(sliceStartStop(rawLoops[loopKey]))));\n",
    "}\n",
    "Object.keys(processedLoops).forEach(processLoop)"
   ]
  },
  {
   "cell_type": "code",
   "execution_count": 95,
   "id": "308f5037",
   "metadata": {},
   "outputs": [
    {
     "name": "stdout",
     "output_type": "stream",
     "text": [
      "CONNECTED: 127.0.0.1:58254\n"
     ]
    }
   ],
   "source": [
    "saveLoops(\"bug_in_loop3.json\")"
   ]
  }
 ],
 "metadata": {
  "kernelspec": {
   "display_name": "JavaScript (Node.js)",
   "language": "javascript",
   "name": "javascript"
  },
  "language_info": {
   "file_extension": ".js",
   "mimetype": "application/javascript",
   "name": "javascript",
   "version": "16.13.0"
  }
 },
 "nbformat": 4,
 "nbformat_minor": 5
}
