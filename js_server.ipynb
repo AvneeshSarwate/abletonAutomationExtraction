{
 "cells": [
  {
   "cell_type": "code",
   "execution_count": null,
   "id": "a8b52971",
   "metadata": {},
   "outputs": [],
   "source": [
    "const osc = require('osc');\n",
    "\n",
    "let server = new osc.TCPSocketPort({});\n",
    "\n",
    "server.open('192.168.1.39', 7071); // change to remote host/port (address of phone/tablet) - set touchOSC on device to TCPserver\n",
    "\n",
    "server.on('ready', () => {\n",
    "  console.log('ready');\n",
    "});\n",
    "\n",
    "\n",
    "server.on('message', (msg) => {\n",
    "    console.log(msg)\n",
    "})"
   ]
  }
 ],
 "metadata": {
  "kernelspec": {
   "display_name": "JavaScript (Node.js)",
   "language": "javascript",
   "name": "javascript"
  },
  "language_info": {
   "file_extension": ".js",
   "mimetype": "application/javascript",
   "name": "javascript",
   "version": "16.13.0"
  }
 },
 "nbformat": 4,
 "nbformat_minor": 5
}
