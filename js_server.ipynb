{
 "cells": [
  {
   "cell_type": "code",
   "execution_count": null,
   "id": "900ab90e",
   "metadata": {},
   "outputs": [],
   "source": [
    "function normalizeTime(loop) {\n",
    "    const start_time = \n",
    "}"
   ]
  },
  {
   "cell_type": "code",
   "execution_count": null,
   "id": "a8b52971",
   "metadata": {},
   "outputs": [
    {
     "data": {
      "text/plain": [
       "Server {\n",
       "  _events: [Object: null prototype] {\n",
       "    listening: [Function: bound onceWrapper] { listener: [Function (anonymous)] },\n",
       "    connection: [Function (anonymous)]\n",
       "  },\n",
       "  _eventsCount: 2,\n",
       "  _maxListeners: undefined,\n",
       "  _connections: 0,\n",
       "  _handle: null,\n",
       "  _usingWorkers: false,\n",
       "  _workers: [],\n",
       "  _unref: false,\n",
       "  allowHalfOpen: false,\n",
       "  pauseOnConnect: false,\n",
       "  [Symbol(kCapture)]: false,\n",
       "  [Symbol(async_id_symbol)]: -1\n",
       "}"
      ]
     },
     "execution_count": 1,
     "metadata": {},
     "output_type": "execute_result"
    },
    {
     "name": "stdout",
     "output_type": "stream",
     "text": [
      "TCP Server is running on port 11999.\n"
     ]
    }
   ],
   "source": [
    "//TCP server to OF\n",
    "\n",
    "const net = require('net');\n",
    "const tcp_port = 11999;\n",
    "const tcp_host = '127.0.0.1';\n",
    "\n",
    "const server = net.createServer();\n",
    "server.listen(tcp_port, tcp_host, () => {\n",
    "    console.log('TCP Server is running on port ' + tcp_port + '.');\n",
    "});\n",
    "\n",
    "let sockets = [];\n",
    "\n",
    "server.on('connection', function(sock) {\n",
    "    console.log('CONNECTED: ' + sock.remoteAddress + ':' + sock.remotePort);\n",
    "    sockets.push(sock);\n",
    "\n",
    "    sock.on('data', function(data) {\n",
    "        console.log('DATA ' + sock.remoteAddress + ': ' + data);\n",
    "        // Write the data back to all the connected, the client will receive it as data from the server\n",
    "        sockets.forEach(function(sock, index, array) {\n",
    "            sock.write(sock.remoteAddress + ':' + sock.remotePort + \" said \" + data + '\\n');\n",
    "        });\n",
    "    });\n",
    "\n",
    "    // Add a 'close' event handler to this instance of socket\n",
    "    sock.on('close', function(data) {\n",
    "        let index = sockets.findIndex(function(o) {\n",
    "            return o.remoteAddress === sock.remoteAddress && o.remotePort === sock.remotePort;\n",
    "        })\n",
    "        if (index !== -1) sockets.splice(index, 1);\n",
    "        console.log('CLOSED: ' + sock.remoteAddress + ' ' + sock.remotePort);\n",
    "    });\n",
    "});"
   ]
  },
  {
   "cell_type": "code",
   "execution_count": null,
   "id": "b7e281d7",
   "metadata": {},
   "outputs": [
    {
     "data": {
      "text/plain": [
       "EventEmitter {\n",
       "  options: {\n",
       "    localAddress: '0.0.0.0',\n",
       "    localPort: 7071,\n",
       "    remoteAddress: '127.0.0.1',\n",
       "    remotePort: 7072\n",
       "  },\n",
       "  _events: [Object: null prototype] {\n",
       "    data: [Function: bound ],\n",
       "    open: [Function: bound ],\n",
       "    ready: [Function (anonymous)],\n",
       "    message: [Function (anonymous)]\n",
       "  },\n",
       "  _eventsCount: 4,\n",
       "  socket: Socket {\n",
       "    _events: [Object: null prototype] {\n",
       "      error: [Array],\n",
       "      listening: [Function: onListening]\n",
       "    },\n",
       "    _eventsCount: 2,\n",
       "    _maxListeners: undefined,\n",
       "    type: 'udp4',\n",
       "    [Symbol(kCapture)]: false,\n",
       "    [Symbol(async_id_symbol)]: 23,\n",
       "    [Symbol(state symbol)]: {\n",
       "      handle: [UDP],\n",
       "      receiving: false,\n",
       "      bindState: 1,\n",
       "      connectState: 0,\n",
       "      queue: undefined,\n",
       "      reuseAddr: undefined,\n",
       "      ipv6Only: undefined,\n",
       "      recvBufferSize: undefined,\n",
       "      sendBufferSize: undefined\n",
       "    }\n",
       "  }\n",
       "}"
      ]
     },
     "execution_count": 2,
     "metadata": {},
     "output_type": "execute_result"
    },
    {
     "name": "stdout",
     "output_type": "stream",
     "text": [
      "ready UDP\n",
      "CONNECTED: 127.0.0.1:63734\n",
      "{ address: '/recording', args: [ 1 ] }\n",
      "{ address: '/pos/touch', args: [ true ] }\n"
     ]
    },
    {
     "name": "stderr",
     "output_type": "stream",
     "text": [
      "TypeError: udp_osc_port.sendMsg is not a function\n",
      "    at Object.handlers./pos/touch (evalmachine.<anonymous>:66:18)\n",
      "    at osc.UDPPort.<anonymous> (evalmachine.<anonymous>:72:44)\n",
      "    at osc.UDPPort.emit (node:events:390:28)\n",
      "    at Object.osc.firePacketEvents (/Users/avneeshsarwate/abletonAutomationExtraction/node_modules/osc/src/osc-transports.js:25:18)\n",
      "    at osc.UDPPort.p.decodeOSC (/Users/avneeshsarwate/abletonAutomationExtraction/node_modules/osc/src/osc-transports.js:85:17)\n",
      "    at osc.UDPPort.emit (node:events:390:28)\n",
      "    at Socket.<anonymous> (/Users/avneeshsarwate/abletonAutomationExtraction/node_modules/osc/src/platforms/osc-node.js:102:18)\n",
      "    at Socket.emit (node:events:390:28)\n",
      "    at UDP.onMessage [as onmessage] (node:dgram:931:8)"
     ]
    },
    {
     "name": "stdout",
     "output_type": "stream",
     "text": [
      "{ address: '/pos', args: [ 0.4182790219783783, 0.7319419384002686 ] }\n"
     ]
    },
    {
     "name": "stderr",
     "output_type": "stream",
     "text": [
      "TypeError: udp_osc_port.sendMsg is not a function\n",
      "    at Object.handlers./pos (evalmachine.<anonymous>:62:18)\n",
      "    at osc.UDPPort.<anonymous> (evalmachine.<anonymous>:72:44)\n",
      "    at osc.UDPPort.emit (node:events:390:28)\n",
      "    at Object.osc.firePacketEvents (/Users/avneeshsarwate/abletonAutomationExtraction/node_modules/osc/src/osc-transports.js:25:18)\n",
      "    at osc.UDPPort.p.decodeOSC (/Users/avneeshsarwate/abletonAutomationExtraction/node_modules/osc/src/osc-transports.js:85:17)\n",
      "    at osc.UDPPort.emit (node:events:390:28)\n",
      "    at Socket.<anonymous> (/Users/avneeshsarwate/abletonAutomationExtraction/node_modules/osc/src/platforms/osc-node.js:102:18)\n",
      "    at Socket.emit (node:events:390:28)\n",
      "    at UDP.onMessage [as onmessage] (node:dgram:931:8)"
     ]
    },
    {
     "name": "stdout",
     "output_type": "stream",
     "text": [
      "{ address: '/pos', args: [ 0.4182790219783783, 0.7465935349464417 ] }\n"
     ]
    },
    {
     "name": "stderr",
     "output_type": "stream",
     "text": [
      "TypeError: udp_osc_port.sendMsg is not a function\n",
      "    at Object.handlers./pos (evalmachine.<anonymous>:62:18)\n",
      "    at osc.UDPPort.<anonymous> (evalmachine.<anonymous>:72:44)\n",
      "    at osc.UDPPort.emit (node:events:390:28)\n",
      "    at Object.osc.firePacketEvents (/Users/avneeshsarwate/abletonAutomationExtraction/node_modules/osc/src/osc-transports.js:25:18)\n",
      "    at osc.UDPPort.p.decodeOSC (/Users/avneeshsarwate/abletonAutomationExtraction/node_modules/osc/src/osc-transports.js:85:17)\n",
      "    at osc.UDPPort.emit (node:events:390:28)\n",
      "    at Socket.<anonymous> (/Users/avneeshsarwate/abletonAutomationExtraction/node_modules/osc/src/platforms/osc-node.js:102:18)\n",
      "    at Socket.emit (node:events:390:28)\n",
      "    at UDP.onMessage [as onmessage] (node:dgram:931:8)"
     ]
    },
    {
     "name": "stdout",
     "output_type": "stream",
     "text": [
      "{ address: '/pos', args: [ 0.4182790219783783, 0.7495527863502502 ] }\n"
     ]
    },
    {
     "name": "stderr",
     "output_type": "stream",
     "text": [
      "TypeError: udp_osc_port.sendMsg is not a function\n",
      "    at Object.handlers./pos (evalmachine.<anonymous>:62:18)\n",
      "    at osc.UDPPort.<anonymous> (evalmachine.<anonymous>:72:44)\n",
      "    at osc.UDPPort.emit (node:events:390:28)\n",
      "    at Object.osc.firePacketEvents (/Users/avneeshsarwate/abletonAutomationExtraction/node_modules/osc/src/osc-transports.js:25:18)\n",
      "    at osc.UDPPort.p.decodeOSC (/Users/avneeshsarwate/abletonAutomationExtraction/node_modules/osc/src/osc-transports.js:85:17)\n",
      "    at osc.UDPPort.emit (node:events:390:28)\n",
      "    at Socket.<anonymous> (/Users/avneeshsarwate/abletonAutomationExtraction/node_modules/osc/src/platforms/osc-node.js:102:18)\n",
      "    at Socket.emit (node:events:390:28)\n",
      "    at UDP.onMessage [as onmessage] (node:dgram:931:8)"
     ]
    },
    {
     "name": "stdout",
     "output_type": "stream",
     "text": [
      "{ address: '/pos', args: [ 0.41904738545417786, 0.7495527863502502 ] }\n"
     ]
    },
    {
     "name": "stderr",
     "output_type": "stream",
     "text": [
      "TypeError: udp_osc_port.sendMsg is not a function\n",
      "    at Object.handlers./pos (evalmachine.<anonymous>:62:18)\n",
      "    at osc.UDPPort.<anonymous> (evalmachine.<anonymous>:72:44)\n",
      "    at osc.UDPPort.emit (node:events:390:28)\n",
      "    at Object.osc.firePacketEvents (/Users/avneeshsarwate/abletonAutomationExtraction/node_modules/osc/src/osc-transports.js:25:18)\n",
      "    at osc.UDPPort.p.decodeOSC (/Users/avneeshsarwate/abletonAutomationExtraction/node_modules/osc/src/osc-transports.js:85:17)\n",
      "    at osc.UDPPort.emit (node:events:390:28)\n",
      "    at Socket.<anonymous> (/Users/avneeshsarwate/abletonAutomationExtraction/node_modules/osc/src/platforms/osc-node.js:102:18)\n",
      "    at Socket.emit (node:events:390:28)\n",
      "    at UDP.onMessage [as onmessage] (node:dgram:931:8)"
     ]
    },
    {
     "name": "stdout",
     "output_type": "stream",
     "text": [
      "{ address: '/pos', args: [ 0.41904738545417786, 0.7576773166656494 ] }\n"
     ]
    },
    {
     "name": "stderr",
     "output_type": "stream",
     "text": [
      "TypeError: udp_osc_port.sendMsg is not a function\n",
      "    at Object.handlers./pos (evalmachine.<anonymous>:62:18)\n",
      "    at osc.UDPPort.<anonymous> (evalmachine.<anonymous>:72:44)\n",
      "    at osc.UDPPort.emit (node:events:390:28)\n",
      "    at Object.osc.firePacketEvents (/Users/avneeshsarwate/abletonAutomationExtraction/node_modules/osc/src/osc-transports.js:25:18)\n",
      "    at osc.UDPPort.p.decodeOSC (/Users/avneeshsarwate/abletonAutomationExtraction/node_modules/osc/src/osc-transports.js:85:17)\n",
      "    at osc.UDPPort.emit (node:events:390:28)\n",
      "    at Socket.<anonymous> (/Users/avneeshsarwate/abletonAutomationExtraction/node_modules/osc/src/platforms/osc-node.js:102:18)\n",
      "    at Socket.emit (node:events:390:28)\n",
      "    at UDP.onMessage [as onmessage] (node:dgram:931:8)"
     ]
    },
    {
     "name": "stdout",
     "output_type": "stream",
     "text": [
      "{ address: '/pos', args: [ 0.4239692986011505, 0.7576773166656494 ] }\n"
     ]
    },
    {
     "name": "stderr",
     "output_type": "stream",
     "text": [
      "TypeError: udp_osc_port.sendMsg is not a function\n",
      "    at Object.handlers./pos (evalmachine.<anonymous>:62:18)\n",
      "    at osc.UDPPort.<anonymous> (evalmachine.<anonymous>:72:44)\n",
      "    at osc.UDPPort.emit (node:events:390:28)\n",
      "    at Object.osc.firePacketEvents (/Users/avneeshsarwate/abletonAutomationExtraction/node_modules/osc/src/osc-transports.js:25:18)\n",
      "    at osc.UDPPort.p.decodeOSC (/Users/avneeshsarwate/abletonAutomationExtraction/node_modules/osc/src/osc-transports.js:85:17)\n",
      "    at osc.UDPPort.emit (node:events:390:28)\n",
      "    at Socket.<anonymous> (/Users/avneeshsarwate/abletonAutomationExtraction/node_modules/osc/src/platforms/osc-node.js:102:18)\n",
      "    at Socket.emit (node:events:390:28)\n",
      "    at UDP.onMessage [as onmessage] (node:dgram:931:8)"
     ]
    },
    {
     "name": "stdout",
     "output_type": "stream",
     "text": [
      "{ address: '/pos', args: [ 0.4239692986011505, 0.7705564498901367 ] }\n"
     ]
    },
    {
     "name": "stderr",
     "output_type": "stream",
     "text": [
      "TypeError: udp_osc_port.sendMsg is not a function\n",
      "    at Object.handlers./pos (evalmachine.<anonymous>:62:18)\n",
      "    at osc.UDPPort.<anonymous> (evalmachine.<anonymous>:72:44)\n",
      "    at osc.UDPPort.emit (node:events:390:28)\n",
      "    at Object.osc.firePacketEvents (/Users/avneeshsarwate/abletonAutomationExtraction/node_modules/osc/src/osc-transports.js:25:18)\n",
      "    at osc.UDPPort.p.decodeOSC (/Users/avneeshsarwate/abletonAutomationExtraction/node_modules/osc/src/osc-transports.js:85:17)\n",
      "    at osc.UDPPort.emit (node:events:390:28)\n",
      "    at Socket.<anonymous> (/Users/avneeshsarwate/abletonAutomationExtraction/node_modules/osc/src/platforms/osc-node.js:102:18)\n",
      "    at Socket.emit (node:events:390:28)\n",
      "    at UDP.onMessage [as onmessage] (node:dgram:931:8)"
     ]
    },
    {
     "name": "stdout",
     "output_type": "stream",
     "text": [
      "{ address: '/pos', args: [ 0.43591272830963135, 0.7705564498901367 ] }\n"
     ]
    },
    {
     "name": "stderr",
     "output_type": "stream",
     "text": [
      "TypeError: udp_osc_port.sendMsg is not a function\n",
      "    at Object.handlers./pos (evalmachine.<anonymous>:62:18)\n",
      "    at osc.UDPPort.<anonymous> (evalmachine.<anonymous>:72:44)\n",
      "    at osc.UDPPort.emit (node:events:390:28)\n",
      "    at Object.osc.firePacketEvents (/Users/avneeshsarwate/abletonAutomationExtraction/node_modules/osc/src/osc-transports.js:25:18)\n",
      "    at osc.UDPPort.p.decodeOSC (/Users/avneeshsarwate/abletonAutomationExtraction/node_modules/osc/src/osc-transports.js:85:17)\n",
      "    at osc.UDPPort.emit (node:events:390:28)\n",
      "    at Socket.<anonymous> (/Users/avneeshsarwate/abletonAutomationExtraction/node_modules/osc/src/platforms/osc-node.js:102:18)\n",
      "    at Socket.emit (node:events:390:28)\n",
      "    at UDP.onMessage [as onmessage] (node:dgram:931:8)"
     ]
    },
    {
     "name": "stdout",
     "output_type": "stream",
     "text": [
      "{ address: '/pos', args: [ 0.43591272830963135, 0.7909363508224487 ] }\n"
     ]
    },
    {
     "name": "stderr",
     "output_type": "stream",
     "text": [
      "TypeError: udp_osc_port.sendMsg is not a function\n",
      "    at Object.handlers./pos (evalmachine.<anonymous>:62:18)\n",
      "    at osc.UDPPort.<anonymous> (evalmachine.<anonymous>:72:44)\n",
      "    at osc.UDPPort.emit (node:events:390:28)\n",
      "    at Object.osc.firePacketEvents (/Users/avneeshsarwate/abletonAutomationExtraction/node_modules/osc/src/osc-transports.js:25:18)\n",
      "    at osc.UDPPort.p.decodeOSC (/Users/avneeshsarwate/abletonAutomationExtraction/node_modules/osc/src/osc-transports.js:85:17)\n",
      "    at osc.UDPPort.emit (node:events:390:28)\n",
      "    at Socket.<anonymous> (/Users/avneeshsarwate/abletonAutomationExtraction/node_modules/osc/src/platforms/osc-node.js:102:18)\n",
      "    at Socket.emit (node:events:390:28)\n",
      "    at UDP.onMessage [as onmessage] (node:dgram:931:8)"
     ]
    },
    {
     "name": "stdout",
     "output_type": "stream",
     "text": [
      "{ address: '/pos', args: [ 0.45132505893707275, 0.7909363508224487 ] }\n"
     ]
    },
    {
     "name": "stderr",
     "output_type": "stream",
     "text": [
      "TypeError: udp_osc_port.sendMsg is not a function\n",
      "    at Object.handlers./pos (evalmachine.<anonymous>:62:18)\n",
      "    at osc.UDPPort.<anonymous> (evalmachine.<anonymous>:72:44)\n",
      "    at osc.UDPPort.emit (node:events:390:28)\n",
      "    at Object.osc.firePacketEvents (/Users/avneeshsarwate/abletonAutomationExtraction/node_modules/osc/src/osc-transports.js:25:18)\n",
      "    at osc.UDPPort.p.decodeOSC (/Users/avneeshsarwate/abletonAutomationExtraction/node_modules/osc/src/osc-transports.js:85:17)\n",
      "    at osc.UDPPort.emit (node:events:390:28)\n",
      "    at Socket.<anonymous> (/Users/avneeshsarwate/abletonAutomationExtraction/node_modules/osc/src/platforms/osc-node.js:102:18)\n",
      "    at Socket.emit (node:events:390:28)\n",
      "    at UDP.onMessage [as onmessage] (node:dgram:931:8)"
     ]
    },
    {
     "name": "stdout",
     "output_type": "stream",
     "text": [
      "{ address: '/pos', args: [ 0.45132505893707275, 0.811095654964447 ] }\n"
     ]
    },
    {
     "name": "stderr",
     "output_type": "stream",
     "text": [
      "TypeError: udp_osc_port.sendMsg is not a function\n",
      "    at Object.handlers./pos (evalmachine.<anonymous>:62:18)\n",
      "    at osc.UDPPort.<anonymous> (evalmachine.<anonymous>:72:44)\n",
      "    at osc.UDPPort.emit (node:events:390:28)\n",
      "    at Object.osc.firePacketEvents (/Users/avneeshsarwate/abletonAutomationExtraction/node_modules/osc/src/osc-transports.js:25:18)\n",
      "    at osc.UDPPort.p.decodeOSC (/Users/avneeshsarwate/abletonAutomationExtraction/node_modules/osc/src/osc-transports.js:85:17)\n",
      "    at osc.UDPPort.emit (node:events:390:28)\n",
      "    at Socket.<anonymous> (/Users/avneeshsarwate/abletonAutomationExtraction/node_modules/osc/src/platforms/osc-node.js:102:18)\n",
      "    at Socket.emit (node:events:390:28)\n",
      "    at UDP.onMessage [as onmessage] (node:dgram:931:8)"
     ]
    },
    {
     "name": "stdout",
     "output_type": "stream",
     "text": [
      "{ address: '/pos', args: [ 0.46904245018959045, 0.811095654964447 ] }\n"
     ]
    },
    {
     "name": "stderr",
     "output_type": "stream",
     "text": [
      "TypeError: udp_osc_port.sendMsg is not a function\n",
      "    at Object.handlers./pos (evalmachine.<anonymous>:62:18)\n",
      "    at osc.UDPPort.<anonymous> (evalmachine.<anonymous>:72:44)\n",
      "    at osc.UDPPort.emit (node:events:390:28)\n",
      "    at Object.osc.firePacketEvents (/Users/avneeshsarwate/abletonAutomationExtraction/node_modules/osc/src/osc-transports.js:25:18)\n",
      "    at osc.UDPPort.p.decodeOSC (/Users/avneeshsarwate/abletonAutomationExtraction/node_modules/osc/src/osc-transports.js:85:17)\n",
      "    at osc.UDPPort.emit (node:events:390:28)\n",
      "    at Socket.<anonymous> (/Users/avneeshsarwate/abletonAutomationExtraction/node_modules/osc/src/platforms/osc-node.js:102:18)\n",
      "    at Socket.emit (node:events:390:28)\n",
      "    at UDP.onMessage [as onmessage] (node:dgram:931:8)"
     ]
    },
    {
     "name": "stdout",
     "output_type": "stream",
     "text": [
      "{ address: '/pos', args: [ 0.46904245018959045, 0.8287749886512756 ] }\n"
     ]
    },
    {
     "name": "stderr",
     "output_type": "stream",
     "text": [
      "TypeError: udp_osc_port.sendMsg is not a function\n",
      "    at Object.handlers./pos (evalmachine.<anonymous>:62:18)\n",
      "    at osc.UDPPort.<anonymous> (evalmachine.<anonymous>:72:44)\n",
      "    at osc.UDPPort.emit (node:events:390:28)\n",
      "    at Object.osc.firePacketEvents (/Users/avneeshsarwate/abletonAutomationExtraction/node_modules/osc/src/osc-transports.js:25:18)\n",
      "    at osc.UDPPort.p.decodeOSC (/Users/avneeshsarwate/abletonAutomationExtraction/node_modules/osc/src/osc-transports.js:85:17)\n",
      "    at osc.UDPPort.emit (node:events:390:28)\n",
      "    at Socket.<anonymous> (/Users/avneeshsarwate/abletonAutomationExtraction/node_modules/osc/src/platforms/osc-node.js:102:18)\n",
      "    at Socket.emit (node:events:390:28)\n",
      "    at UDP.onMessage [as onmessage] (node:dgram:931:8)"
     ]
    },
    {
     "name": "stdout",
     "output_type": "stream",
     "text": [
      "{ address: '/pos', args: [ 0.484218955039978, 0.8287749886512756 ] }\n"
     ]
    },
    {
     "name": "stderr",
     "output_type": "stream",
     "text": [
      "TypeError: udp_osc_port.sendMsg is not a function\n",
      "    at Object.handlers./pos (evalmachine.<anonymous>:62:18)\n",
      "    at osc.UDPPort.<anonymous> (evalmachine.<anonymous>:72:44)\n",
      "    at osc.UDPPort.emit (node:events:390:28)\n",
      "    at Object.osc.firePacketEvents (/Users/avneeshsarwate/abletonAutomationExtraction/node_modules/osc/src/osc-transports.js:25:18)\n",
      "    at osc.UDPPort.p.decodeOSC (/Users/avneeshsarwate/abletonAutomationExtraction/node_modules/osc/src/osc-transports.js:85:17)\n",
      "    at osc.UDPPort.emit (node:events:390:28)\n",
      "    at Socket.<anonymous> (/Users/avneeshsarwate/abletonAutomationExtraction/node_modules/osc/src/platforms/osc-node.js:102:18)\n",
      "    at Socket.emit (node:events:390:28)\n",
      "    at UDP.onMessage [as onmessage] (node:dgram:931:8)"
     ]
    },
    {
     "name": "stdout",
     "output_type": "stream",
     "text": [
      "{ address: '/pos', args: [ 0.484218955039978, 0.8415476083755493 ] }\n"
     ]
    },
    {
     "name": "stderr",
     "output_type": "stream",
     "text": [
      "TypeError: udp_osc_port.sendMsg is not a function\n",
      "    at Object.handlers./pos (evalmachine.<anonymous>:62:18)\n",
      "    at osc.UDPPort.<anonymous> (evalmachine.<anonymous>:72:44)\n",
      "    at osc.UDPPort.emit (node:events:390:28)\n",
      "    at Object.osc.firePacketEvents (/Users/avneeshsarwate/abletonAutomationExtraction/node_modules/osc/src/osc-transports.js:25:18)\n",
      "    at osc.UDPPort.p.decodeOSC (/Users/avneeshsarwate/abletonAutomationExtraction/node_modules/osc/src/osc-transports.js:85:17)\n",
      "    at osc.UDPPort.emit (node:events:390:28)\n",
      "    at Socket.<anonymous> (/Users/avneeshsarwate/abletonAutomationExtraction/node_modules/osc/src/platforms/osc-node.js:102:18)\n",
      "    at Socket.emit (node:events:390:28)\n",
      "    at UDP.onMessage [as onmessage] (node:dgram:931:8)"
     ]
    },
    {
     "name": "stdout",
     "output_type": "stream",
     "text": [
      "{ address: '/pos', args: [ 0.4996769428253174, 0.8415476083755493 ] }\n"
     ]
    },
    {
     "name": "stderr",
     "output_type": "stream",
     "text": [
      "TypeError: udp_osc_port.sendMsg is not a function\n",
      "    at Object.handlers./pos (evalmachine.<anonymous>:62:18)\n",
      "    at osc.UDPPort.<anonymous> (evalmachine.<anonymous>:72:44)\n",
      "    at osc.UDPPort.emit (node:events:390:28)\n",
      "    at Object.osc.firePacketEvents (/Users/avneeshsarwate/abletonAutomationExtraction/node_modules/osc/src/osc-transports.js:25:18)\n",
      "    at osc.UDPPort.p.decodeOSC (/Users/avneeshsarwate/abletonAutomationExtraction/node_modules/osc/src/osc-transports.js:85:17)\n",
      "    at osc.UDPPort.emit (node:events:390:28)\n",
      "    at Socket.<anonymous> (/Users/avneeshsarwate/abletonAutomationExtraction/node_modules/osc/src/platforms/osc-node.js:102:18)\n",
      "    at Socket.emit (node:events:390:28)\n",
      "    at UDP.onMessage [as onmessage] (node:dgram:931:8)"
     ]
    },
    {
     "name": "stdout",
     "output_type": "stream",
     "text": [
      "{ address: '/pos', args: [ 0.4996769428253174, 0.8509730100631714 ] }\n"
     ]
    },
    {
     "name": "stderr",
     "output_type": "stream",
     "text": [
      "TypeError: udp_osc_port.sendMsg is not a function\n",
      "    at Object.handlers./pos (evalmachine.<anonymous>:62:18)\n",
      "    at osc.UDPPort.<anonymous> (evalmachine.<anonymous>:72:44)\n",
      "    at osc.UDPPort.emit (node:events:390:28)\n",
      "    at Object.osc.firePacketEvents (/Users/avneeshsarwate/abletonAutomationExtraction/node_modules/osc/src/osc-transports.js:25:18)\n",
      "    at osc.UDPPort.p.decodeOSC (/Users/avneeshsarwate/abletonAutomationExtraction/node_modules/osc/src/osc-transports.js:85:17)\n",
      "    at osc.UDPPort.emit (node:events:390:28)\n",
      "    at Socket.<anonymous> (/Users/avneeshsarwate/abletonAutomationExtraction/node_modules/osc/src/platforms/osc-node.js:102:18)\n",
      "    at Socket.emit (node:events:390:28)\n",
      "    at UDP.onMessage [as onmessage] (node:dgram:931:8)"
     ]
    },
    {
     "name": "stdout",
     "output_type": "stream",
     "text": [
      "{ address: '/pos', args: [ 0.5144655108451843, 0.8509730100631714 ] }\n"
     ]
    },
    {
     "name": "stderr",
     "output_type": "stream",
     "text": [
      "TypeError: udp_osc_port.sendMsg is not a function\n",
      "    at Object.handlers./pos (evalmachine.<anonymous>:62:18)\n",
      "    at osc.UDPPort.<anonymous> (evalmachine.<anonymous>:72:44)\n",
      "    at osc.UDPPort.emit (node:events:390:28)\n",
      "    at Object.osc.firePacketEvents (/Users/avneeshsarwate/abletonAutomationExtraction/node_modules/osc/src/osc-transports.js:25:18)\n",
      "    at osc.UDPPort.p.decodeOSC (/Users/avneeshsarwate/abletonAutomationExtraction/node_modules/osc/src/osc-transports.js:85:17)\n",
      "    at osc.UDPPort.emit (node:events:390:28)\n",
      "    at Socket.<anonymous> (/Users/avneeshsarwate/abletonAutomationExtraction/node_modules/osc/src/platforms/osc-node.js:102:18)\n",
      "    at Socket.emit (node:events:390:28)\n",
      "    at UDP.onMessage [as onmessage] (node:dgram:931:8)"
     ]
    },
    {
     "name": "stdout",
     "output_type": "stream",
     "text": [
      "{ address: '/pos', args: [ 0.5144655108451843, 0.8554385304450989 ] }\n"
     ]
    },
    {
     "name": "stderr",
     "output_type": "stream",
     "text": [
      "TypeError: udp_osc_port.sendMsg is not a function\n",
      "    at Object.handlers./pos (evalmachine.<anonymous>:62:18)\n",
      "    at osc.UDPPort.<anonymous> (evalmachine.<anonymous>:72:44)\n",
      "    at osc.UDPPort.emit (node:events:390:28)\n",
      "    at Object.osc.firePacketEvents (/Users/avneeshsarwate/abletonAutomationExtraction/node_modules/osc/src/osc-transports.js:25:18)\n",
      "    at osc.UDPPort.p.decodeOSC (/Users/avneeshsarwate/abletonAutomationExtraction/node_modules/osc/src/osc-transports.js:85:17)\n",
      "    at osc.UDPPort.emit (node:events:390:28)\n",
      "    at Socket.<anonymous> (/Users/avneeshsarwate/abletonAutomationExtraction/node_modules/osc/src/platforms/osc-node.js:102:18)\n",
      "    at Socket.emit (node:events:390:28)\n",
      "    at UDP.onMessage [as onmessage] (node:dgram:931:8)"
     ]
    },
    {
     "name": "stdout",
     "output_type": "stream",
     "text": [
      "{ address: '/pos', args: [ 0.5328370928764343, 0.8554385304450989 ] }\n"
     ]
    },
    {
     "name": "stderr",
     "output_type": "stream",
     "text": [
      "TypeError: udp_osc_port.sendMsg is not a function\n",
      "    at Object.handlers./pos (evalmachine.<anonymous>:62:18)\n",
      "    at osc.UDPPort.<anonymous> (evalmachine.<anonymous>:72:44)\n",
      "    at osc.UDPPort.emit (node:events:390:28)\n",
      "    at Object.osc.firePacketEvents (/Users/avneeshsarwate/abletonAutomationExtraction/node_modules/osc/src/osc-transports.js:25:18)\n",
      "    at osc.UDPPort.p.decodeOSC (/Users/avneeshsarwate/abletonAutomationExtraction/node_modules/osc/src/osc-transports.js:85:17)\n",
      "    at osc.UDPPort.emit (node:events:390:28)\n",
      "    at Socket.<anonymous> (/Users/avneeshsarwate/abletonAutomationExtraction/node_modules/osc/src/platforms/osc-node.js:102:18)\n",
      "    at Socket.emit (node:events:390:28)\n",
      "    at UDP.onMessage [as onmessage] (node:dgram:931:8)"
     ]
    },
    {
     "name": "stdout",
     "output_type": "stream",
     "text": [
      "{ address: '/pos', args: [ 0.5328370928764343, 0.8573175072669983 ] }\n"
     ]
    },
    {
     "name": "stderr",
     "output_type": "stream",
     "text": [
      "TypeError: udp_osc_port.sendMsg is not a function\n",
      "    at Object.handlers./pos (evalmachine.<anonymous>:62:18)\n",
      "    at osc.UDPPort.<anonymous> (evalmachine.<anonymous>:72:44)\n",
      "    at osc.UDPPort.emit (node:events:390:28)\n",
      "    at Object.osc.firePacketEvents (/Users/avneeshsarwate/abletonAutomationExtraction/node_modules/osc/src/osc-transports.js:25:18)\n",
      "    at osc.UDPPort.p.decodeOSC (/Users/avneeshsarwate/abletonAutomationExtraction/node_modules/osc/src/osc-transports.js:85:17)\n",
      "    at osc.UDPPort.emit (node:events:390:28)\n",
      "    at Socket.<anonymous> (/Users/avneeshsarwate/abletonAutomationExtraction/node_modules/osc/src/platforms/osc-node.js:102:18)\n",
      "    at Socket.emit (node:events:390:28)\n",
      "    at UDP.onMessage [as onmessage] (node:dgram:931:8)"
     ]
    },
    {
     "name": "stdout",
     "output_type": "stream",
     "text": [
      "{ address: '/pos', args: [ 0.5525094866752625, 0.8573175072669983 ] }\n"
     ]
    },
    {
     "name": "stderr",
     "output_type": "stream",
     "text": [
      "TypeError: udp_osc_port.sendMsg is not a function\n",
      "    at Object.handlers./pos (evalmachine.<anonymous>:62:18)\n",
      "    at osc.UDPPort.<anonymous> (evalmachine.<anonymous>:72:44)\n",
      "    at osc.UDPPort.emit (node:events:390:28)\n",
      "    at Object.osc.firePacketEvents (/Users/avneeshsarwate/abletonAutomationExtraction/node_modules/osc/src/osc-transports.js:25:18)\n",
      "    at osc.UDPPort.p.decodeOSC (/Users/avneeshsarwate/abletonAutomationExtraction/node_modules/osc/src/osc-transports.js:85:17)\n",
      "    at osc.UDPPort.emit (node:events:390:28)\n",
      "    at Socket.<anonymous> (/Users/avneeshsarwate/abletonAutomationExtraction/node_modules/osc/src/platforms/osc-node.js:102:18)\n",
      "    at Socket.emit (node:events:390:28)\n",
      "    at UDP.onMessage [as onmessage] (node:dgram:931:8)"
     ]
    },
    {
     "name": "stdout",
     "output_type": "stream",
     "text": [
      "{ address: '/pos', args: [ 0.5694737434387207, 0.8573175072669983 ] }\n"
     ]
    },
    {
     "name": "stderr",
     "output_type": "stream",
     "text": [
      "TypeError: udp_osc_port.sendMsg is not a function\n",
      "    at Object.handlers./pos (evalmachine.<anonymous>:62:18)\n",
      "    at osc.UDPPort.<anonymous> (evalmachine.<anonymous>:72:44)\n",
      "    at osc.UDPPort.emit (node:events:390:28)\n",
      "    at Object.osc.firePacketEvents (/Users/avneeshsarwate/abletonAutomationExtraction/node_modules/osc/src/osc-transports.js:25:18)\n",
      "    at osc.UDPPort.p.decodeOSC (/Users/avneeshsarwate/abletonAutomationExtraction/node_modules/osc/src/osc-transports.js:85:17)\n",
      "    at osc.UDPPort.emit (node:events:390:28)\n",
      "    at Socket.<anonymous> (/Users/avneeshsarwate/abletonAutomationExtraction/node_modules/osc/src/platforms/osc-node.js:102:18)\n",
      "    at Socket.emit (node:events:390:28)\n",
      "    at UDP.onMessage [as onmessage] (node:dgram:931:8)"
     ]
    },
    {
     "name": "stdout",
     "output_type": "stream",
     "text": [
      "{ address: '/pos', args: [ 0.5854033827781677, 0.8573175072669983 ] }\n"
     ]
    },
    {
     "name": "stderr",
     "output_type": "stream",
     "text": [
      "TypeError: udp_osc_port.sendMsg is not a function\n",
      "    at Object.handlers./pos (evalmachine.<anonymous>:62:18)\n",
      "    at osc.UDPPort.<anonymous> (evalmachine.<anonymous>:72:44)\n",
      "    at osc.UDPPort.emit (node:events:390:28)\n",
      "    at Object.osc.firePacketEvents (/Users/avneeshsarwate/abletonAutomationExtraction/node_modules/osc/src/osc-transports.js:25:18)\n",
      "    at osc.UDPPort.p.decodeOSC (/Users/avneeshsarwate/abletonAutomationExtraction/node_modules/osc/src/osc-transports.js:85:17)\n",
      "    at osc.UDPPort.emit (node:events:390:28)\n",
      "    at Socket.<anonymous> (/Users/avneeshsarwate/abletonAutomationExtraction/node_modules/osc/src/platforms/osc-node.js:102:18)\n",
      "    at Socket.emit (node:events:390:28)\n",
      "    at UDP.onMessage [as onmessage] (node:dgram:931:8)"
     ]
    },
    {
     "name": "stdout",
     "output_type": "stream",
     "text": [
      "{ address: '/pos', args: [ 0.5854033827781677, 0.855575442314148 ] }\n"
     ]
    },
    {
     "name": "stderr",
     "output_type": "stream",
     "text": [
      "TypeError: udp_osc_port.sendMsg is not a function\n",
      "    at Object.handlers./pos (evalmachine.<anonymous>:62:18)\n",
      "    at osc.UDPPort.<anonymous> (evalmachine.<anonymous>:72:44)\n",
      "    at osc.UDPPort.emit (node:events:390:28)\n",
      "    at Object.osc.firePacketEvents (/Users/avneeshsarwate/abletonAutomationExtraction/node_modules/osc/src/osc-transports.js:25:18)\n",
      "    at osc.UDPPort.p.decodeOSC (/Users/avneeshsarwate/abletonAutomationExtraction/node_modules/osc/src/osc-transports.js:85:17)\n",
      "    at osc.UDPPort.emit (node:events:390:28)\n",
      "    at Socket.<anonymous> (/Users/avneeshsarwate/abletonAutomationExtraction/node_modules/osc/src/platforms/osc-node.js:102:18)\n",
      "    at Socket.emit (node:events:390:28)\n",
      "    at UDP.onMessage [as onmessage] (node:dgram:931:8)"
     ]
    },
    {
     "name": "stdout",
     "output_type": "stream",
     "text": [
      "{ address: '/pos', args: [ 0.6002147197723389, 0.855575442314148 ] }\n"
     ]
    },
    {
     "name": "stderr",
     "output_type": "stream",
     "text": [
      "TypeError: udp_osc_port.sendMsg is not a function\n",
      "    at Object.handlers./pos (evalmachine.<anonymous>:62:18)\n",
      "    at osc.UDPPort.<anonymous> (evalmachine.<anonymous>:72:44)\n",
      "    at osc.UDPPort.emit (node:events:390:28)\n",
      "    at Object.osc.firePacketEvents (/Users/avneeshsarwate/abletonAutomationExtraction/node_modules/osc/src/osc-transports.js:25:18)\n",
      "    at osc.UDPPort.p.decodeOSC (/Users/avneeshsarwate/abletonAutomationExtraction/node_modules/osc/src/osc-transports.js:85:17)\n",
      "    at osc.UDPPort.emit (node:events:390:28)\n",
      "    at Socket.<anonymous> (/Users/avneeshsarwate/abletonAutomationExtraction/node_modules/osc/src/platforms/osc-node.js:102:18)\n",
      "    at Socket.emit (node:events:390:28)\n",
      "    at UDP.onMessage [as onmessage] (node:dgram:931:8)"
     ]
    },
    {
     "name": "stdout",
     "output_type": "stream",
     "text": [
      "{ address: '/pos', args: [ 0.6002147197723389, 0.8521673679351807 ] }\n"
     ]
    },
    {
     "name": "stderr",
     "output_type": "stream",
     "text": [
      "TypeError: udp_osc_port.sendMsg is not a function\n",
      "    at Object.handlers./pos (evalmachine.<anonymous>:62:18)\n",
      "    at osc.UDPPort.<anonymous> (evalmachine.<anonymous>:72:44)\n",
      "    at osc.UDPPort.emit (node:events:390:28)\n",
      "    at Object.osc.firePacketEvents (/Users/avneeshsarwate/abletonAutomationExtraction/node_modules/osc/src/osc-transports.js:25:18)\n",
      "    at osc.UDPPort.p.decodeOSC (/Users/avneeshsarwate/abletonAutomationExtraction/node_modules/osc/src/osc-transports.js:85:17)\n",
      "    at osc.UDPPort.emit (node:events:390:28)\n",
      "    at Socket.<anonymous> (/Users/avneeshsarwate/abletonAutomationExtraction/node_modules/osc/src/platforms/osc-node.js:102:18)\n",
      "    at Socket.emit (node:events:390:28)\n",
      "    at UDP.onMessage [as onmessage] (node:dgram:931:8)"
     ]
    },
    {
     "name": "stdout",
     "output_type": "stream",
     "text": [
      "{ address: '/pos', args: [ 0.6116865277290344, 0.8521673679351807 ] }\n"
     ]
    },
    {
     "name": "stderr",
     "output_type": "stream",
     "text": [
      "TypeError: udp_osc_port.sendMsg is not a function\n",
      "    at Object.handlers./pos (evalmachine.<anonymous>:62:18)\n",
      "    at osc.UDPPort.<anonymous> (evalmachine.<anonymous>:72:44)\n",
      "    at osc.UDPPort.emit (node:events:390:28)\n",
      "    at Object.osc.firePacketEvents (/Users/avneeshsarwate/abletonAutomationExtraction/node_modules/osc/src/osc-transports.js:25:18)\n",
      "    at osc.UDPPort.p.decodeOSC (/Users/avneeshsarwate/abletonAutomationExtraction/node_modules/osc/src/osc-transports.js:85:17)\n",
      "    at osc.UDPPort.emit (node:events:390:28)\n",
      "    at Socket.<anonymous> (/Users/avneeshsarwate/abletonAutomationExtraction/node_modules/osc/src/platforms/osc-node.js:102:18)\n",
      "    at Socket.emit (node:events:390:28)\n",
      "    at UDP.onMessage [as onmessage] (node:dgram:931:8)"
     ]
    },
    {
     "name": "stdout",
     "output_type": "stream",
     "text": [
      "{ address: '/pos', args: [ 0.6116865277290344, 0.8502731323242188 ] }\n"
     ]
    },
    {
     "name": "stderr",
     "output_type": "stream",
     "text": [
      "TypeError: udp_osc_port.sendMsg is not a function\n",
      "    at Object.handlers./pos (evalmachine.<anonymous>:62:18)\n",
      "    at osc.UDPPort.<anonymous> (evalmachine.<anonymous>:72:44)\n",
      "    at osc.UDPPort.emit (node:events:390:28)\n",
      "    at Object.osc.firePacketEvents (/Users/avneeshsarwate/abletonAutomationExtraction/node_modules/osc/src/osc-transports.js:25:18)\n",
      "    at osc.UDPPort.p.decodeOSC (/Users/avneeshsarwate/abletonAutomationExtraction/node_modules/osc/src/osc-transports.js:85:17)\n",
      "    at osc.UDPPort.emit (node:events:390:28)\n",
      "    at Socket.<anonymous> (/Users/avneeshsarwate/abletonAutomationExtraction/node_modules/osc/src/platforms/osc-node.js:102:18)\n",
      "    at Socket.emit (node:events:390:28)\n",
      "    at UDP.onMessage [as onmessage] (node:dgram:931:8)"
     ]
    },
    {
     "name": "stdout",
     "output_type": "stream",
     "text": [
      "{ address: '/pos', args: [ 0.6237820982933044, 0.8502731323242188 ] }\n"
     ]
    },
    {
     "name": "stderr",
     "output_type": "stream",
     "text": [
      "TypeError: udp_osc_port.sendMsg is not a function\n",
      "    at Object.handlers./pos (evalmachine.<anonymous>:62:18)\n",
      "    at osc.UDPPort.<anonymous> (evalmachine.<anonymous>:72:44)\n",
      "    at osc.UDPPort.emit (node:events:390:28)\n",
      "    at Object.osc.firePacketEvents (/Users/avneeshsarwate/abletonAutomationExtraction/node_modules/osc/src/osc-transports.js:25:18)\n",
      "    at osc.UDPPort.p.decodeOSC (/Users/avneeshsarwate/abletonAutomationExtraction/node_modules/osc/src/osc-transports.js:85:17)\n",
      "    at osc.UDPPort.emit (node:events:390:28)\n",
      "    at Socket.<anonymous> (/Users/avneeshsarwate/abletonAutomationExtraction/node_modules/osc/src/platforms/osc-node.js:102:18)\n",
      "    at Socket.emit (node:events:390:28)\n",
      "    at UDP.onMessage [as onmessage] (node:dgram:931:8)"
     ]
    },
    {
     "name": "stdout",
     "output_type": "stream",
     "text": [
      "{ address: '/pos', args: [ 0.6237820982933044, 0.8479225039482117 ] }\n"
     ]
    },
    {
     "name": "stderr",
     "output_type": "stream",
     "text": [
      "TypeError: udp_osc_port.sendMsg is not a function\n",
      "    at Object.handlers./pos (evalmachine.<anonymous>:62:18)\n",
      "    at osc.UDPPort.<anonymous> (evalmachine.<anonymous>:72:44)\n",
      "    at osc.UDPPort.emit (node:events:390:28)\n",
      "    at Object.osc.firePacketEvents (/Users/avneeshsarwate/abletonAutomationExtraction/node_modules/osc/src/osc-transports.js:25:18)\n",
      "    at osc.UDPPort.p.decodeOSC (/Users/avneeshsarwate/abletonAutomationExtraction/node_modules/osc/src/osc-transports.js:85:17)\n",
      "    at osc.UDPPort.emit (node:events:390:28)\n",
      "    at Socket.<anonymous> (/Users/avneeshsarwate/abletonAutomationExtraction/node_modules/osc/src/platforms/osc-node.js:102:18)\n",
      "    at Socket.emit (node:events:390:28)\n",
      "    at UDP.onMessage [as onmessage] (node:dgram:931:8)"
     ]
    },
    {
     "name": "stdout",
     "output_type": "stream",
     "text": [
      "{ address: '/pos', args: [ 0.636440634727478, 0.8479225039482117 ] }\n"
     ]
    },
    {
     "name": "stderr",
     "output_type": "stream",
     "text": [
      "TypeError: udp_osc_port.sendMsg is not a function\n",
      "    at Object.handlers./pos (evalmachine.<anonymous>:62:18)\n",
      "    at osc.UDPPort.<anonymous> (evalmachine.<anonymous>:72:44)\n",
      "    at osc.UDPPort.emit (node:events:390:28)\n",
      "    at Object.osc.firePacketEvents (/Users/avneeshsarwate/abletonAutomationExtraction/node_modules/osc/src/osc-transports.js:25:18)\n",
      "    at osc.UDPPort.p.decodeOSC (/Users/avneeshsarwate/abletonAutomationExtraction/node_modules/osc/src/osc-transports.js:85:17)\n",
      "    at osc.UDPPort.emit (node:events:390:28)\n",
      "    at Socket.<anonymous> (/Users/avneeshsarwate/abletonAutomationExtraction/node_modules/osc/src/platforms/osc-node.js:102:18)\n",
      "    at Socket.emit (node:events:390:28)\n",
      "    at UDP.onMessage [as onmessage] (node:dgram:931:8)"
     ]
    },
    {
     "name": "stdout",
     "output_type": "stream",
     "text": [
      "{ address: '/pos', args: [ 0.636440634727478, 0.8462564945220947 ] }\n"
     ]
    },
    {
     "name": "stderr",
     "output_type": "stream",
     "text": [
      "TypeError: udp_osc_port.sendMsg is not a function\n",
      "    at Object.handlers./pos (evalmachine.<anonymous>:62:18)\n",
      "    at osc.UDPPort.<anonymous> (evalmachine.<anonymous>:72:44)\n",
      "    at osc.UDPPort.emit (node:events:390:28)\n",
      "    at Object.osc.firePacketEvents (/Users/avneeshsarwate/abletonAutomationExtraction/node_modules/osc/src/osc-transports.js:25:18)\n",
      "    at osc.UDPPort.p.decodeOSC (/Users/avneeshsarwate/abletonAutomationExtraction/node_modules/osc/src/osc-transports.js:85:17)\n",
      "    at osc.UDPPort.emit (node:events:390:28)\n",
      "    at Socket.<anonymous> (/Users/avneeshsarwate/abletonAutomationExtraction/node_modules/osc/src/platforms/osc-node.js:102:18)\n",
      "    at Socket.emit (node:events:390:28)\n",
      "    at UDP.onMessage [as onmessage] (node:dgram:931:8)"
     ]
    },
    {
     "name": "stdout",
     "output_type": "stream",
     "text": [
      "{ address: '/pos', args: [ 0.647326648235321, 0.8462564945220947 ] }\n"
     ]
    },
    {
     "name": "stderr",
     "output_type": "stream",
     "text": [
      "TypeError: udp_osc_port.sendMsg is not a function\n",
      "    at Object.handlers./pos (evalmachine.<anonymous>:62:18)\n",
      "    at osc.UDPPort.<anonymous> (evalmachine.<anonymous>:72:44)\n",
      "    at osc.UDPPort.emit (node:events:390:28)\n",
      "    at Object.osc.firePacketEvents (/Users/avneeshsarwate/abletonAutomationExtraction/node_modules/osc/src/osc-transports.js:25:18)\n",
      "    at osc.UDPPort.p.decodeOSC (/Users/avneeshsarwate/abletonAutomationExtraction/node_modules/osc/src/osc-transports.js:85:17)\n",
      "    at osc.UDPPort.emit (node:events:390:28)\n",
      "    at Socket.<anonymous> (/Users/avneeshsarwate/abletonAutomationExtraction/node_modules/osc/src/platforms/osc-node.js:102:18)\n",
      "    at Socket.emit (node:events:390:28)\n",
      "    at UDP.onMessage [as onmessage] (node:dgram:931:8)"
     ]
    },
    {
     "name": "stdout",
     "output_type": "stream",
     "text": [
      "{ address: '/pos', args: [ 0.647326648235321, 0.8450850248336792 ] }\n"
     ]
    },
    {
     "name": "stderr",
     "output_type": "stream",
     "text": [
      "TypeError: udp_osc_port.sendMsg is not a function\n",
      "    at Object.handlers./pos (evalmachine.<anonymous>:62:18)\n",
      "    at osc.UDPPort.<anonymous> (evalmachine.<anonymous>:72:44)\n",
      "    at osc.UDPPort.emit (node:events:390:28)\n",
      "    at Object.osc.firePacketEvents (/Users/avneeshsarwate/abletonAutomationExtraction/node_modules/osc/src/osc-transports.js:25:18)\n",
      "    at osc.UDPPort.p.decodeOSC (/Users/avneeshsarwate/abletonAutomationExtraction/node_modules/osc/src/osc-transports.js:85:17)\n",
      "    at osc.UDPPort.emit (node:events:390:28)\n",
      "    at Socket.<anonymous> (/Users/avneeshsarwate/abletonAutomationExtraction/node_modules/osc/src/platforms/osc-node.js:102:18)\n",
      "    at Socket.emit (node:events:390:28)\n",
      "    at UDP.onMessage [as onmessage] (node:dgram:931:8)"
     ]
    },
    {
     "name": "stdout",
     "output_type": "stream",
     "text": [
      "{ address: '/pos', args: [ 0.657459557056427, 0.8450850248336792 ] }\n"
     ]
    },
    {
     "name": "stderr",
     "output_type": "stream",
     "text": [
      "TypeError: udp_osc_port.sendMsg is not a function\n",
      "    at Object.handlers./pos (evalmachine.<anonymous>:62:18)\n",
      "    at osc.UDPPort.<anonymous> (evalmachine.<anonymous>:72:44)\n",
      "    at osc.UDPPort.emit (node:events:390:28)\n",
      "    at Object.osc.firePacketEvents (/Users/avneeshsarwate/abletonAutomationExtraction/node_modules/osc/src/osc-transports.js:25:18)\n",
      "    at osc.UDPPort.p.decodeOSC (/Users/avneeshsarwate/abletonAutomationExtraction/node_modules/osc/src/osc-transports.js:85:17)\n",
      "    at osc.UDPPort.emit (node:events:390:28)\n",
      "    at Socket.<anonymous> (/Users/avneeshsarwate/abletonAutomationExtraction/node_modules/osc/src/platforms/osc-node.js:102:18)\n",
      "    at Socket.emit (node:events:390:28)\n",
      "    at UDP.onMessage [as onmessage] (node:dgram:931:8)"
     ]
    },
    {
     "name": "stdout",
     "output_type": "stream",
     "text": [
      "{ address: '/pos', args: [ 0.657459557056427, 0.843251645565033 ] }\n"
     ]
    },
    {
     "name": "stderr",
     "output_type": "stream",
     "text": [
      "TypeError: udp_osc_port.sendMsg is not a function\n",
      "    at Object.handlers./pos (evalmachine.<anonymous>:62:18)\n",
      "    at osc.UDPPort.<anonymous> (evalmachine.<anonymous>:72:44)\n",
      "    at osc.UDPPort.emit (node:events:390:28)\n",
      "    at Object.osc.firePacketEvents (/Users/avneeshsarwate/abletonAutomationExtraction/node_modules/osc/src/osc-transports.js:25:18)\n",
      "    at osc.UDPPort.p.decodeOSC (/Users/avneeshsarwate/abletonAutomationExtraction/node_modules/osc/src/osc-transports.js:85:17)\n",
      "    at osc.UDPPort.emit (node:events:390:28)\n",
      "    at Socket.<anonymous> (/Users/avneeshsarwate/abletonAutomationExtraction/node_modules/osc/src/platforms/osc-node.js:102:18)\n",
      "    at Socket.emit (node:events:390:28)\n",
      "    at UDP.onMessage [as onmessage] (node:dgram:931:8)"
     ]
    },
    {
     "name": "stdout",
     "output_type": "stream",
     "text": [
      "{ address: '/pos', args: [ 0.6656449437141418, 0.843251645565033 ] }\n"
     ]
    },
    {
     "name": "stderr",
     "output_type": "stream",
     "text": [
      "TypeError: udp_osc_port.sendMsg is not a function\n",
      "    at Object.handlers./pos (evalmachine.<anonymous>:62:18)\n",
      "    at osc.UDPPort.<anonymous> (evalmachine.<anonymous>:72:44)\n",
      "    at osc.UDPPort.emit (node:events:390:28)\n",
      "    at Object.osc.firePacketEvents (/Users/avneeshsarwate/abletonAutomationExtraction/node_modules/osc/src/osc-transports.js:25:18)\n",
      "    at osc.UDPPort.p.decodeOSC (/Users/avneeshsarwate/abletonAutomationExtraction/node_modules/osc/src/osc-transports.js:85:17)\n",
      "    at osc.UDPPort.emit (node:events:390:28)\n",
      "    at Socket.<anonymous> (/Users/avneeshsarwate/abletonAutomationExtraction/node_modules/osc/src/platforms/osc-node.js:102:18)\n",
      "    at Socket.emit (node:events:390:28)\n",
      "    at UDP.onMessage [as onmessage] (node:dgram:931:8)"
     ]
    },
    {
     "name": "stdout",
     "output_type": "stream",
     "text": [
      "{ address: '/pos', args: [ 0.6656449437141418, 0.8403608798980713 ] }\n"
     ]
    },
    {
     "name": "stderr",
     "output_type": "stream",
     "text": [
      "TypeError: udp_osc_port.sendMsg is not a function\n",
      "    at Object.handlers./pos (evalmachine.<anonymous>:62:18)\n",
      "    at osc.UDPPort.<anonymous> (evalmachine.<anonymous>:72:44)\n",
      "    at osc.UDPPort.emit (node:events:390:28)\n",
      "    at Object.osc.firePacketEvents (/Users/avneeshsarwate/abletonAutomationExtraction/node_modules/osc/src/osc-transports.js:25:18)\n",
      "    at osc.UDPPort.p.decodeOSC (/Users/avneeshsarwate/abletonAutomationExtraction/node_modules/osc/src/osc-transports.js:85:17)\n",
      "    at osc.UDPPort.emit (node:events:390:28)\n",
      "    at Socket.<anonymous> (/Users/avneeshsarwate/abletonAutomationExtraction/node_modules/osc/src/platforms/osc-node.js:102:18)\n",
      "    at Socket.emit (node:events:390:28)\n",
      "    at UDP.onMessage [as onmessage] (node:dgram:931:8)"
     ]
    },
    {
     "name": "stdout",
     "output_type": "stream",
     "text": [
      "{ address: '/pos', args: [ 0.6740205883979797, 0.8403608798980713 ] }\n"
     ]
    },
    {
     "name": "stderr",
     "output_type": "stream",
     "text": [
      "TypeError: udp_osc_port.sendMsg is not a function\n",
      "    at Object.handlers./pos (evalmachine.<anonymous>:62:18)\n",
      "    at osc.UDPPort.<anonymous> (evalmachine.<anonymous>:72:44)\n",
      "    at osc.UDPPort.emit (node:events:390:28)\n",
      "    at Object.osc.firePacketEvents (/Users/avneeshsarwate/abletonAutomationExtraction/node_modules/osc/src/osc-transports.js:25:18)\n",
      "    at osc.UDPPort.p.decodeOSC (/Users/avneeshsarwate/abletonAutomationExtraction/node_modules/osc/src/osc-transports.js:85:17)\n",
      "    at osc.UDPPort.emit (node:events:390:28)\n",
      "    at Socket.<anonymous> (/Users/avneeshsarwate/abletonAutomationExtraction/node_modules/osc/src/platforms/osc-node.js:102:18)\n",
      "    at Socket.emit (node:events:390:28)\n",
      "    at UDP.onMessage [as onmessage] (node:dgram:931:8)"
     ]
    },
    {
     "name": "stdout",
     "output_type": "stream",
     "text": [
      "{ address: '/pos', args: [ 0.6740205883979797, 0.8363289833068848 ] }\n"
     ]
    },
    {
     "name": "stderr",
     "output_type": "stream",
     "text": [
      "TypeError: udp_osc_port.sendMsg is not a function\n",
      "    at Object.handlers./pos (evalmachine.<anonymous>:62:18)\n",
      "    at osc.UDPPort.<anonymous> (evalmachine.<anonymous>:72:44)\n",
      "    at osc.UDPPort.emit (node:events:390:28)\n",
      "    at Object.osc.firePacketEvents (/Users/avneeshsarwate/abletonAutomationExtraction/node_modules/osc/src/osc-transports.js:25:18)\n",
      "    at osc.UDPPort.p.decodeOSC (/Users/avneeshsarwate/abletonAutomationExtraction/node_modules/osc/src/osc-transports.js:85:17)\n",
      "    at osc.UDPPort.emit (node:events:390:28)\n",
      "    at Socket.<anonymous> (/Users/avneeshsarwate/abletonAutomationExtraction/node_modules/osc/src/platforms/osc-node.js:102:18)\n",
      "    at Socket.emit (node:events:390:28)\n",
      "    at UDP.onMessage [as onmessage] (node:dgram:931:8)"
     ]
    },
    {
     "name": "stdout",
     "output_type": "stream",
     "text": [
      "{ address: '/pos', args: [ 0.6814376711845398, 0.8363289833068848 ] }\n"
     ]
    },
    {
     "name": "stderr",
     "output_type": "stream",
     "text": [
      "TypeError: udp_osc_port.sendMsg is not a function\n",
      "    at Object.handlers./pos (evalmachine.<anonymous>:62:18)\n",
      "    at osc.UDPPort.<anonymous> (evalmachine.<anonymous>:72:44)\n",
      "    at osc.UDPPort.emit (node:events:390:28)\n",
      "    at Object.osc.firePacketEvents (/Users/avneeshsarwate/abletonAutomationExtraction/node_modules/osc/src/osc-transports.js:25:18)\n",
      "    at osc.UDPPort.p.decodeOSC (/Users/avneeshsarwate/abletonAutomationExtraction/node_modules/osc/src/osc-transports.js:85:17)\n",
      "    at osc.UDPPort.emit (node:events:390:28)\n",
      "    at Socket.<anonymous> (/Users/avneeshsarwate/abletonAutomationExtraction/node_modules/osc/src/platforms/osc-node.js:102:18)\n",
      "    at Socket.emit (node:events:390:28)\n",
      "    at UDP.onMessage [as onmessage] (node:dgram:931:8)"
     ]
    },
    {
     "name": "stdout",
     "output_type": "stream",
     "text": [
      "{ address: '/pos', args: [ 0.6814376711845398, 0.8325937986373901 ] }\n"
     ]
    },
    {
     "name": "stderr",
     "output_type": "stream",
     "text": [
      "TypeError: udp_osc_port.sendMsg is not a function\n",
      "    at Object.handlers./pos (evalmachine.<anonymous>:62:18)\n",
      "    at osc.UDPPort.<anonymous> (evalmachine.<anonymous>:72:44)\n",
      "    at osc.UDPPort.emit (node:events:390:28)\n",
      "    at Object.osc.firePacketEvents (/Users/avneeshsarwate/abletonAutomationExtraction/node_modules/osc/src/osc-transports.js:25:18)\n",
      "    at osc.UDPPort.p.decodeOSC (/Users/avneeshsarwate/abletonAutomationExtraction/node_modules/osc/src/osc-transports.js:85:17)\n",
      "    at osc.UDPPort.emit (node:events:390:28)\n",
      "    at Socket.<anonymous> (/Users/avneeshsarwate/abletonAutomationExtraction/node_modules/osc/src/platforms/osc-node.js:102:18)\n",
      "    at Socket.emit (node:events:390:28)\n",
      "    at UDP.onMessage [as onmessage] (node:dgram:931:8)"
     ]
    },
    {
     "name": "stdout",
     "output_type": "stream",
     "text": [
      "{ address: '/pos', args: [ 0.6885048747062683, 0.8325937986373901 ] }\n"
     ]
    },
    {
     "name": "stderr",
     "output_type": "stream",
     "text": [
      "TypeError: udp_osc_port.sendMsg is not a function\n",
      "    at Object.handlers./pos (evalmachine.<anonymous>:62:18)\n",
      "    at osc.UDPPort.<anonymous> (evalmachine.<anonymous>:72:44)\n",
      "    at osc.UDPPort.emit (node:events:390:28)\n",
      "    at Object.osc.firePacketEvents (/Users/avneeshsarwate/abletonAutomationExtraction/node_modules/osc/src/osc-transports.js:25:18)\n",
      "    at osc.UDPPort.p.decodeOSC (/Users/avneeshsarwate/abletonAutomationExtraction/node_modules/osc/src/osc-transports.js:85:17)\n",
      "    at osc.UDPPort.emit (node:events:390:28)\n",
      "    at Socket.<anonymous> (/Users/avneeshsarwate/abletonAutomationExtraction/node_modules/osc/src/platforms/osc-node.js:102:18)\n",
      "    at Socket.emit (node:events:390:28)\n",
      "    at UDP.onMessage [as onmessage] (node:dgram:931:8)"
     ]
    },
    {
     "name": "stdout",
     "output_type": "stream",
     "text": [
      "{ address: '/pos', args: [ 0.6885048747062683, 0.8282044529914856 ] }\n"
     ]
    },
    {
     "name": "stderr",
     "output_type": "stream",
     "text": [
      "TypeError: udp_osc_port.sendMsg is not a function\n",
      "    at Object.handlers./pos (evalmachine.<anonymous>:62:18)\n",
      "    at osc.UDPPort.<anonymous> (evalmachine.<anonymous>:72:44)\n",
      "    at osc.UDPPort.emit (node:events:390:28)\n",
      "    at Object.osc.firePacketEvents (/Users/avneeshsarwate/abletonAutomationExtraction/node_modules/osc/src/osc-transports.js:25:18)\n",
      "    at osc.UDPPort.p.decodeOSC (/Users/avneeshsarwate/abletonAutomationExtraction/node_modules/osc/src/osc-transports.js:85:17)\n",
      "    at osc.UDPPort.emit (node:events:390:28)\n",
      "    at Socket.<anonymous> (/Users/avneeshsarwate/abletonAutomationExtraction/node_modules/osc/src/platforms/osc-node.js:102:18)\n",
      "    at Socket.emit (node:events:390:28)\n",
      "    at UDP.onMessage [as onmessage] (node:dgram:931:8)"
     ]
    },
    {
     "name": "stdout",
     "output_type": "stream",
     "text": [
      "{ address: '/pos', args: [ 0.6951307654380798, 0.8282044529914856 ] }\n"
     ]
    },
    {
     "name": "stderr",
     "output_type": "stream",
     "text": [
      "TypeError: udp_osc_port.sendMsg is not a function\n",
      "    at Object.handlers./pos (evalmachine.<anonymous>:62:18)\n",
      "    at osc.UDPPort.<anonymous> (evalmachine.<anonymous>:72:44)\n",
      "    at osc.UDPPort.emit (node:events:390:28)\n",
      "    at Object.osc.firePacketEvents (/Users/avneeshsarwate/abletonAutomationExtraction/node_modules/osc/src/osc-transports.js:25:18)\n",
      "    at osc.UDPPort.p.decodeOSC (/Users/avneeshsarwate/abletonAutomationExtraction/node_modules/osc/src/osc-transports.js:85:17)\n",
      "    at osc.UDPPort.emit (node:events:390:28)\n",
      "    at Socket.<anonymous> (/Users/avneeshsarwate/abletonAutomationExtraction/node_modules/osc/src/platforms/osc-node.js:102:18)\n",
      "    at Socket.emit (node:events:390:28)\n",
      "    at UDP.onMessage [as onmessage] (node:dgram:931:8)"
     ]
    },
    {
     "name": "stdout",
     "output_type": "stream",
     "text": [
      "{ address: '/pos', args: [ 0.6951307654380798, 0.8244920969009399 ] }\n"
     ]
    },
    {
     "name": "stderr",
     "output_type": "stream",
     "text": [
      "TypeError: udp_osc_port.sendMsg is not a function\n",
      "    at Object.handlers./pos (evalmachine.<anonymous>:62:18)\n",
      "    at osc.UDPPort.<anonymous> (evalmachine.<anonymous>:72:44)\n",
      "    at osc.UDPPort.emit (node:events:390:28)\n",
      "    at Object.osc.firePacketEvents (/Users/avneeshsarwate/abletonAutomationExtraction/node_modules/osc/src/osc-transports.js:25:18)\n",
      "    at osc.UDPPort.p.decodeOSC (/Users/avneeshsarwate/abletonAutomationExtraction/node_modules/osc/src/osc-transports.js:85:17)\n",
      "    at osc.UDPPort.emit (node:events:390:28)\n",
      "    at Socket.<anonymous> (/Users/avneeshsarwate/abletonAutomationExtraction/node_modules/osc/src/platforms/osc-node.js:102:18)\n",
      "    at Socket.emit (node:events:390:28)\n",
      "    at UDP.onMessage [as onmessage] (node:dgram:931:8)"
     ]
    },
    {
     "name": "stdout",
     "output_type": "stream",
     "text": [
      "{ address: '/pos', args: [ 0.7000755071640015, 0.8244920969009399 ] }\n"
     ]
    },
    {
     "name": "stderr",
     "output_type": "stream",
     "text": [
      "TypeError: udp_osc_port.sendMsg is not a function\n",
      "    at Object.handlers./pos (evalmachine.<anonymous>:62:18)\n",
      "    at osc.UDPPort.<anonymous> (evalmachine.<anonymous>:72:44)\n",
      "    at osc.UDPPort.emit (node:events:390:28)\n",
      "    at Object.osc.firePacketEvents (/Users/avneeshsarwate/abletonAutomationExtraction/node_modules/osc/src/osc-transports.js:25:18)\n",
      "    at osc.UDPPort.p.decodeOSC (/Users/avneeshsarwate/abletonAutomationExtraction/node_modules/osc/src/osc-transports.js:85:17)\n",
      "    at osc.UDPPort.emit (node:events:390:28)\n",
      "    at Socket.<anonymous> (/Users/avneeshsarwate/abletonAutomationExtraction/node_modules/osc/src/platforms/osc-node.js:102:18)\n",
      "    at Socket.emit (node:events:390:28)\n",
      "    at UDP.onMessage [as onmessage] (node:dgram:931:8)"
     ]
    },
    {
     "name": "stdout",
     "output_type": "stream",
     "text": [
      "{ address: '/pos', args: [ 0.7000755071640015, 0.8203157186508179 ] }\n"
     ]
    },
    {
     "name": "stderr",
     "output_type": "stream",
     "text": [
      "TypeError: udp_osc_port.sendMsg is not a function\n",
      "    at Object.handlers./pos (evalmachine.<anonymous>:62:18)\n",
      "    at osc.UDPPort.<anonymous> (evalmachine.<anonymous>:72:44)\n",
      "    at osc.UDPPort.emit (node:events:390:28)\n",
      "    at Object.osc.firePacketEvents (/Users/avneeshsarwate/abletonAutomationExtraction/node_modules/osc/src/osc-transports.js:25:18)\n",
      "    at osc.UDPPort.p.decodeOSC (/Users/avneeshsarwate/abletonAutomationExtraction/node_modules/osc/src/osc-transports.js:85:17)\n",
      "    at osc.UDPPort.emit (node:events:390:28)\n",
      "    at Socket.<anonymous> (/Users/avneeshsarwate/abletonAutomationExtraction/node_modules/osc/src/platforms/osc-node.js:102:18)\n",
      "    at Socket.emit (node:events:390:28)\n",
      "    at UDP.onMessage [as onmessage] (node:dgram:931:8)"
     ]
    },
    {
     "name": "stdout",
     "output_type": "stream",
     "text": [
      "{ address: '/pos', args: [ 0.7043355703353882, 0.8203157186508179 ] }\n"
     ]
    },
    {
     "name": "stderr",
     "output_type": "stream",
     "text": [
      "TypeError: udp_osc_port.sendMsg is not a function\n",
      "    at Object.handlers./pos (evalmachine.<anonymous>:62:18)\n",
      "    at osc.UDPPort.<anonymous> (evalmachine.<anonymous>:72:44)\n",
      "    at osc.UDPPort.emit (node:events:390:28)\n",
      "    at Object.osc.firePacketEvents (/Users/avneeshsarwate/abletonAutomationExtraction/node_modules/osc/src/osc-transports.js:25:18)\n",
      "    at osc.UDPPort.p.decodeOSC (/Users/avneeshsarwate/abletonAutomationExtraction/node_modules/osc/src/osc-transports.js:85:17)\n",
      "    at osc.UDPPort.emit (node:events:390:28)\n",
      "    at Socket.<anonymous> (/Users/avneeshsarwate/abletonAutomationExtraction/node_modules/osc/src/platforms/osc-node.js:102:18)\n",
      "    at Socket.emit (node:events:390:28)\n",
      "    at UDP.onMessage [as onmessage] (node:dgram:931:8)"
     ]
    },
    {
     "name": "stdout",
     "output_type": "stream",
     "text": [
      "{ address: '/pos', args: [ 0.7043355703353882, 0.8170217275619507 ] }\n"
     ]
    },
    {
     "name": "stderr",
     "output_type": "stream",
     "text": [
      "TypeError: udp_osc_port.sendMsg is not a function\n",
      "    at Object.handlers./pos (evalmachine.<anonymous>:62:18)\n",
      "    at osc.UDPPort.<anonymous> (evalmachine.<anonymous>:72:44)\n",
      "    at osc.UDPPort.emit (node:events:390:28)\n",
      "    at Object.osc.firePacketEvents (/Users/avneeshsarwate/abletonAutomationExtraction/node_modules/osc/src/osc-transports.js:25:18)\n",
      "    at osc.UDPPort.p.decodeOSC (/Users/avneeshsarwate/abletonAutomationExtraction/node_modules/osc/src/osc-transports.js:85:17)\n",
      "    at osc.UDPPort.emit (node:events:390:28)\n",
      "    at Socket.<anonymous> (/Users/avneeshsarwate/abletonAutomationExtraction/node_modules/osc/src/platforms/osc-node.js:102:18)\n",
      "    at Socket.emit (node:events:390:28)\n",
      "    at UDP.onMessage [as onmessage] (node:dgram:931:8)"
     ]
    },
    {
     "name": "stdout",
     "output_type": "stream",
     "text": [
      "{ address: '/pos', args: [ 0.7078806161880493, 0.8170217275619507 ] }\n"
     ]
    },
    {
     "name": "stderr",
     "output_type": "stream",
     "text": [
      "TypeError: udp_osc_port.sendMsg is not a function\n",
      "    at Object.handlers./pos (evalmachine.<anonymous>:62:18)\n",
      "    at osc.UDPPort.<anonymous> (evalmachine.<anonymous>:72:44)\n",
      "    at osc.UDPPort.emit (node:events:390:28)\n",
      "    at Object.osc.firePacketEvents (/Users/avneeshsarwate/abletonAutomationExtraction/node_modules/osc/src/osc-transports.js:25:18)\n",
      "    at osc.UDPPort.p.decodeOSC (/Users/avneeshsarwate/abletonAutomationExtraction/node_modules/osc/src/osc-transports.js:85:17)\n",
      "    at osc.UDPPort.emit (node:events:390:28)\n",
      "    at Socket.<anonymous> (/Users/avneeshsarwate/abletonAutomationExtraction/node_modules/osc/src/platforms/osc-node.js:102:18)\n",
      "    at Socket.emit (node:events:390:28)\n",
      "    at UDP.onMessage [as onmessage] (node:dgram:931:8)"
     ]
    },
    {
     "name": "stdout",
     "output_type": "stream",
     "text": [
      "{ address: '/pos', args: [ 0.7078806161880493, 0.8134767413139343 ] }\n"
     ]
    },
    {
     "name": "stderr",
     "output_type": "stream",
     "text": [
      "TypeError: udp_osc_port.sendMsg is not a function\n",
      "    at Object.handlers./pos (evalmachine.<anonymous>:62:18)\n",
      "    at osc.UDPPort.<anonymous> (evalmachine.<anonymous>:72:44)\n",
      "    at osc.UDPPort.emit (node:events:390:28)\n",
      "    at Object.osc.firePacketEvents (/Users/avneeshsarwate/abletonAutomationExtraction/node_modules/osc/src/osc-transports.js:25:18)\n",
      "    at osc.UDPPort.p.decodeOSC (/Users/avneeshsarwate/abletonAutomationExtraction/node_modules/osc/src/osc-transports.js:85:17)\n",
      "    at osc.UDPPort.emit (node:events:390:28)\n",
      "    at Socket.<anonymous> (/Users/avneeshsarwate/abletonAutomationExtraction/node_modules/osc/src/platforms/osc-node.js:102:18)\n",
      "    at Socket.emit (node:events:390:28)\n",
      "    at UDP.onMessage [as onmessage] (node:dgram:931:8)"
     ]
    },
    {
     "name": "stdout",
     "output_type": "stream",
     "text": [
      "{ address: '/pos', args: [ 0.7110375761985779, 0.8134767413139343 ] }\n"
     ]
    },
    {
     "name": "stderr",
     "output_type": "stream",
     "text": [
      "TypeError: udp_osc_port.sendMsg is not a function\n",
      "    at Object.handlers./pos (evalmachine.<anonymous>:62:18)\n",
      "    at osc.UDPPort.<anonymous> (evalmachine.<anonymous>:72:44)\n",
      "    at osc.UDPPort.emit (node:events:390:28)\n",
      "    at Object.osc.firePacketEvents (/Users/avneeshsarwate/abletonAutomationExtraction/node_modules/osc/src/osc-transports.js:25:18)\n",
      "    at osc.UDPPort.p.decodeOSC (/Users/avneeshsarwate/abletonAutomationExtraction/node_modules/osc/src/osc-transports.js:85:17)\n",
      "    at osc.UDPPort.emit (node:events:390:28)\n",
      "    at Socket.<anonymous> (/Users/avneeshsarwate/abletonAutomationExtraction/node_modules/osc/src/platforms/osc-node.js:102:18)\n",
      "    at Socket.emit (node:events:390:28)\n",
      "    at UDP.onMessage [as onmessage] (node:dgram:931:8)"
     ]
    },
    {
     "name": "stdout",
     "output_type": "stream",
     "text": [
      "{ address: '/pos', args: [ 0.7110375761985779, 0.8100154399871826 ] }\n"
     ]
    },
    {
     "name": "stderr",
     "output_type": "stream",
     "text": [
      "TypeError: udp_osc_port.sendMsg is not a function\n",
      "    at Object.handlers./pos (evalmachine.<anonymous>:62:18)\n",
      "    at osc.UDPPort.<anonymous> (evalmachine.<anonymous>:72:44)\n",
      "    at osc.UDPPort.emit (node:events:390:28)\n",
      "    at Object.osc.firePacketEvents (/Users/avneeshsarwate/abletonAutomationExtraction/node_modules/osc/src/osc-transports.js:25:18)\n",
      "    at osc.UDPPort.p.decodeOSC (/Users/avneeshsarwate/abletonAutomationExtraction/node_modules/osc/src/osc-transports.js:85:17)\n",
      "    at osc.UDPPort.emit (node:events:390:28)\n",
      "    at Socket.<anonymous> (/Users/avneeshsarwate/abletonAutomationExtraction/node_modules/osc/src/platforms/osc-node.js:102:18)\n",
      "    at Socket.emit (node:events:390:28)\n",
      "    at UDP.onMessage [as onmessage] (node:dgram:931:8)"
     ]
    },
    {
     "name": "stdout",
     "output_type": "stream",
     "text": [
      "{ address: '/pos', args: [ 0.7137534022331238, 0.8100154399871826 ] }\n"
     ]
    },
    {
     "name": "stderr",
     "output_type": "stream",
     "text": [
      "TypeError: udp_osc_port.sendMsg is not a function\n",
      "    at Object.handlers./pos (evalmachine.<anonymous>:62:18)\n",
      "    at osc.UDPPort.<anonymous> (evalmachine.<anonymous>:72:44)\n",
      "    at osc.UDPPort.emit (node:events:390:28)\n",
      "    at Object.osc.firePacketEvents (/Users/avneeshsarwate/abletonAutomationExtraction/node_modules/osc/src/osc-transports.js:25:18)\n",
      "    at osc.UDPPort.p.decodeOSC (/Users/avneeshsarwate/abletonAutomationExtraction/node_modules/osc/src/osc-transports.js:85:17)\n",
      "    at osc.UDPPort.emit (node:events:390:28)\n",
      "    at Socket.<anonymous> (/Users/avneeshsarwate/abletonAutomationExtraction/node_modules/osc/src/platforms/osc-node.js:102:18)\n",
      "    at Socket.emit (node:events:390:28)\n",
      "    at UDP.onMessage [as onmessage] (node:dgram:931:8)"
     ]
    },
    {
     "name": "stdout",
     "output_type": "stream",
     "text": [
      "{ address: '/pos', args: [ 0.7137534022331238, 0.8069953322410583 ] }\n"
     ]
    },
    {
     "name": "stderr",
     "output_type": "stream",
     "text": [
      "TypeError: udp_osc_port.sendMsg is not a function\n",
      "    at Object.handlers./pos (evalmachine.<anonymous>:62:18)\n",
      "    at osc.UDPPort.<anonymous> (evalmachine.<anonymous>:72:44)\n",
      "    at osc.UDPPort.emit (node:events:390:28)\n",
      "    at Object.osc.firePacketEvents (/Users/avneeshsarwate/abletonAutomationExtraction/node_modules/osc/src/osc-transports.js:25:18)\n",
      "    at osc.UDPPort.p.decodeOSC (/Users/avneeshsarwate/abletonAutomationExtraction/node_modules/osc/src/osc-transports.js:85:17)\n",
      "    at osc.UDPPort.emit (node:events:390:28)\n",
      "    at Socket.<anonymous> (/Users/avneeshsarwate/abletonAutomationExtraction/node_modules/osc/src/platforms/osc-node.js:102:18)\n",
      "    at Socket.emit (node:events:390:28)\n",
      "    at UDP.onMessage [as onmessage] (node:dgram:931:8)"
     ]
    },
    {
     "name": "stdout",
     "output_type": "stream",
     "text": [
      "{ address: '/pos', args: [ 0.7165757417678833, 0.8069953322410583 ] }\n"
     ]
    },
    {
     "name": "stderr",
     "output_type": "stream",
     "text": [
      "TypeError: udp_osc_port.sendMsg is not a function\n",
      "    at Object.handlers./pos (evalmachine.<anonymous>:62:18)\n",
      "    at osc.UDPPort.<anonymous> (evalmachine.<anonymous>:72:44)\n",
      "    at osc.UDPPort.emit (node:events:390:28)\n",
      "    at Object.osc.firePacketEvents (/Users/avneeshsarwate/abletonAutomationExtraction/node_modules/osc/src/osc-transports.js:25:18)\n",
      "    at osc.UDPPort.p.decodeOSC (/Users/avneeshsarwate/abletonAutomationExtraction/node_modules/osc/src/osc-transports.js:85:17)\n",
      "    at osc.UDPPort.emit (node:events:390:28)\n",
      "    at Socket.<anonymous> (/Users/avneeshsarwate/abletonAutomationExtraction/node_modules/osc/src/platforms/osc-node.js:102:18)\n",
      "    at Socket.emit (node:events:390:28)\n",
      "    at UDP.onMessage [as onmessage] (node:dgram:931:8)"
     ]
    },
    {
     "name": "stdout",
     "output_type": "stream",
     "text": [
      "{ address: '/pos', args: [ 0.7165757417678833, 0.8032602071762085 ] }\n"
     ]
    },
    {
     "name": "stderr",
     "output_type": "stream",
     "text": [
      "TypeError: udp_osc_port.sendMsg is not a function\n",
      "    at Object.handlers./pos (evalmachine.<anonymous>:62:18)\n",
      "    at osc.UDPPort.<anonymous> (evalmachine.<anonymous>:72:44)\n",
      "    at osc.UDPPort.emit (node:events:390:28)\n",
      "    at Object.osc.firePacketEvents (/Users/avneeshsarwate/abletonAutomationExtraction/node_modules/osc/src/osc-transports.js:25:18)\n",
      "    at osc.UDPPort.p.decodeOSC (/Users/avneeshsarwate/abletonAutomationExtraction/node_modules/osc/src/osc-transports.js:85:17)\n",
      "    at osc.UDPPort.emit (node:events:390:28)\n",
      "    at Socket.<anonymous> (/Users/avneeshsarwate/abletonAutomationExtraction/node_modules/osc/src/platforms/osc-node.js:102:18)\n",
      "    at Socket.emit (node:events:390:28)\n",
      "    at UDP.onMessage [as onmessage] (node:dgram:931:8)"
     ]
    },
    {
     "name": "stdout",
     "output_type": "stream",
     "text": [
      "{ address: '/pos', args: [ 0.7201130986213684, 0.8032602071762085 ] }\n"
     ]
    },
    {
     "name": "stderr",
     "output_type": "stream",
     "text": [
      "TypeError: udp_osc_port.sendMsg is not a function\n",
      "    at Object.handlers./pos (evalmachine.<anonymous>:62:18)\n",
      "    at osc.UDPPort.<anonymous> (evalmachine.<anonymous>:72:44)\n",
      "    at osc.UDPPort.emit (node:events:390:28)\n",
      "    at Object.osc.firePacketEvents (/Users/avneeshsarwate/abletonAutomationExtraction/node_modules/osc/src/osc-transports.js:25:18)\n",
      "    at osc.UDPPort.p.decodeOSC (/Users/avneeshsarwate/abletonAutomationExtraction/node_modules/osc/src/osc-transports.js:85:17)\n",
      "    at osc.UDPPort.emit (node:events:390:28)\n",
      "    at Socket.<anonymous> (/Users/avneeshsarwate/abletonAutomationExtraction/node_modules/osc/src/platforms/osc-node.js:102:18)\n",
      "    at Socket.emit (node:events:390:28)\n",
      "    at UDP.onMessage [as onmessage] (node:dgram:931:8)"
     ]
    },
    {
     "name": "stdout",
     "output_type": "stream",
     "text": [
      "{ address: '/pos', args: [ 0.7201130986213684, 0.799000084400177 ] }\n"
     ]
    },
    {
     "name": "stderr",
     "output_type": "stream",
     "text": [
      "TypeError: udp_osc_port.sendMsg is not a function\n",
      "    at Object.handlers./pos (evalmachine.<anonymous>:62:18)\n",
      "    at osc.UDPPort.<anonymous> (evalmachine.<anonymous>:72:44)\n",
      "    at osc.UDPPort.emit (node:events:390:28)\n",
      "    at Object.osc.firePacketEvents (/Users/avneeshsarwate/abletonAutomationExtraction/node_modules/osc/src/osc-transports.js:25:18)\n",
      "    at osc.UDPPort.p.decodeOSC (/Users/avneeshsarwate/abletonAutomationExtraction/node_modules/osc/src/osc-transports.js:85:17)\n",
      "    at osc.UDPPort.emit (node:events:390:28)\n",
      "    at Socket.<anonymous> (/Users/avneeshsarwate/abletonAutomationExtraction/node_modules/osc/src/platforms/osc-node.js:102:18)\n",
      "    at Socket.emit (node:events:390:28)\n",
      "    at UDP.onMessage [as onmessage] (node:dgram:931:8)"
     ]
    },
    {
     "name": "stdout",
     "output_type": "stream",
     "text": [
      "{ address: '/pos', args: [ 0.7237569689750671, 0.799000084400177 ] }\n"
     ]
    },
    {
     "name": "stderr",
     "output_type": "stream",
     "text": [
      "TypeError: udp_osc_port.sendMsg is not a function\n",
      "    at Object.handlers./pos (evalmachine.<anonymous>:62:18)\n",
      "    at osc.UDPPort.<anonymous> (evalmachine.<anonymous>:72:44)\n",
      "    at osc.UDPPort.emit (node:events:390:28)\n",
      "    at Object.osc.firePacketEvents (/Users/avneeshsarwate/abletonAutomationExtraction/node_modules/osc/src/osc-transports.js:25:18)\n",
      "    at osc.UDPPort.p.decodeOSC (/Users/avneeshsarwate/abletonAutomationExtraction/node_modules/osc/src/osc-transports.js:85:17)\n",
      "    at osc.UDPPort.emit (node:events:390:28)\n",
      "    at Socket.<anonymous> (/Users/avneeshsarwate/abletonAutomationExtraction/node_modules/osc/src/platforms/osc-node.js:102:18)\n",
      "    at Socket.emit (node:events:390:28)\n",
      "    at UDP.onMessage [as onmessage] (node:dgram:931:8)"
     ]
    },
    {
     "name": "stdout",
     "output_type": "stream",
     "text": [
      "{ address: '/pos', args: [ 0.7237569689750671, 0.7938956022262573 ] }\n"
     ]
    },
    {
     "name": "stderr",
     "output_type": "stream",
     "text": [
      "TypeError: udp_osc_port.sendMsg is not a function\n",
      "    at Object.handlers./pos (evalmachine.<anonymous>:62:18)\n",
      "    at osc.UDPPort.<anonymous> (evalmachine.<anonymous>:72:44)\n",
      "    at osc.UDPPort.emit (node:events:390:28)\n",
      "    at Object.osc.firePacketEvents (/Users/avneeshsarwate/abletonAutomationExtraction/node_modules/osc/src/osc-transports.js:25:18)\n",
      "    at osc.UDPPort.p.decodeOSC (/Users/avneeshsarwate/abletonAutomationExtraction/node_modules/osc/src/osc-transports.js:85:17)\n",
      "    at osc.UDPPort.emit (node:events:390:28)\n",
      "    at Socket.<anonymous> (/Users/avneeshsarwate/abletonAutomationExtraction/node_modules/osc/src/platforms/osc-node.js:102:18)\n",
      "    at Socket.emit (node:events:390:28)\n",
      "    at UDP.onMessage [as onmessage] (node:dgram:931:8)"
     ]
    },
    {
     "name": "stdout",
     "output_type": "stream",
     "text": [
      "{ address: '/pos', args: [ 0.7281083464622498, 0.7938956022262573 ] }\n"
     ]
    },
    {
     "name": "stderr",
     "output_type": "stream",
     "text": [
      "TypeError: udp_osc_port.sendMsg is not a function\n",
      "    at Object.handlers./pos (evalmachine.<anonymous>:62:18)\n",
      "    at osc.UDPPort.<anonymous> (evalmachine.<anonymous>:72:44)\n",
      "    at osc.UDPPort.emit (node:events:390:28)\n",
      "    at Object.osc.firePacketEvents (/Users/avneeshsarwate/abletonAutomationExtraction/node_modules/osc/src/osc-transports.js:25:18)\n",
      "    at osc.UDPPort.p.decodeOSC (/Users/avneeshsarwate/abletonAutomationExtraction/node_modules/osc/src/osc-transports.js:85:17)\n",
      "    at osc.UDPPort.emit (node:events:390:28)\n",
      "    at Socket.<anonymous> (/Users/avneeshsarwate/abletonAutomationExtraction/node_modules/osc/src/platforms/osc-node.js:102:18)\n",
      "    at Socket.emit (node:events:390:28)\n",
      "    at UDP.onMessage [as onmessage] (node:dgram:931:8)"
     ]
    },
    {
     "name": "stdout",
     "output_type": "stream",
     "text": [
      "{ address: '/pos', args: [ 0.7281083464622498, 0.7877717614173889 ] }\n"
     ]
    },
    {
     "name": "stderr",
     "output_type": "stream",
     "text": [
      "TypeError: udp_osc_port.sendMsg is not a function\n",
      "    at Object.handlers./pos (evalmachine.<anonymous>:62:18)\n",
      "    at osc.UDPPort.<anonymous> (evalmachine.<anonymous>:72:44)\n",
      "    at osc.UDPPort.emit (node:events:390:28)\n",
      "    at Object.osc.firePacketEvents (/Users/avneeshsarwate/abletonAutomationExtraction/node_modules/osc/src/osc-transports.js:25:18)\n",
      "    at osc.UDPPort.p.decodeOSC (/Users/avneeshsarwate/abletonAutomationExtraction/node_modules/osc/src/osc-transports.js:85:17)\n",
      "    at osc.UDPPort.emit (node:events:390:28)\n",
      "    at Socket.<anonymous> (/Users/avneeshsarwate/abletonAutomationExtraction/node_modules/osc/src/platforms/osc-node.js:102:18)\n",
      "    at Socket.emit (node:events:390:28)\n",
      "    at UDP.onMessage [as onmessage] (node:dgram:931:8)"
     ]
    },
    {
     "name": "stdout",
     "output_type": "stream",
     "text": [
      "{ address: '/pos', args: [ 0.7330226302146912, 0.7877717614173889 ] }\n"
     ]
    },
    {
     "name": "stderr",
     "output_type": "stream",
     "text": [
      "TypeError: udp_osc_port.sendMsg is not a function\n",
      "    at Object.handlers./pos (evalmachine.<anonymous>:62:18)\n",
      "    at osc.UDPPort.<anonymous> (evalmachine.<anonymous>:72:44)\n",
      "    at osc.UDPPort.emit (node:events:390:28)\n",
      "    at Object.osc.firePacketEvents (/Users/avneeshsarwate/abletonAutomationExtraction/node_modules/osc/src/osc-transports.js:25:18)\n",
      "    at osc.UDPPort.p.decodeOSC (/Users/avneeshsarwate/abletonAutomationExtraction/node_modules/osc/src/osc-transports.js:85:17)\n",
      "    at osc.UDPPort.emit (node:events:390:28)\n",
      "    at Socket.<anonymous> (/Users/avneeshsarwate/abletonAutomationExtraction/node_modules/osc/src/platforms/osc-node.js:102:18)\n",
      "    at Socket.emit (node:events:390:28)\n",
      "    at UDP.onMessage [as onmessage] (node:dgram:931:8)"
     ]
    },
    {
     "name": "stdout",
     "output_type": "stream",
     "text": [
      "{ address: '/pos', args: [ 0.7330226302146912, 0.7771063446998596 ] }\n"
     ]
    },
    {
     "name": "stderr",
     "output_type": "stream",
     "text": [
      "TypeError: udp_osc_port.sendMsg is not a function\n",
      "    at Object.handlers./pos (evalmachine.<anonymous>:62:18)\n",
      "    at osc.UDPPort.<anonymous> (evalmachine.<anonymous>:72:44)\n",
      "    at osc.UDPPort.emit (node:events:390:28)\n",
      "    at Object.osc.firePacketEvents (/Users/avneeshsarwate/abletonAutomationExtraction/node_modules/osc/src/osc-transports.js:25:18)\n",
      "    at osc.UDPPort.p.decodeOSC (/Users/avneeshsarwate/abletonAutomationExtraction/node_modules/osc/src/osc-transports.js:85:17)\n",
      "    at osc.UDPPort.emit (node:events:390:28)\n",
      "    at Socket.<anonymous> (/Users/avneeshsarwate/abletonAutomationExtraction/node_modules/osc/src/platforms/osc-node.js:102:18)\n",
      "    at Socket.emit (node:events:390:28)\n",
      "    at UDP.onMessage [as onmessage] (node:dgram:931:8)"
     ]
    },
    {
     "name": "stdout",
     "output_type": "stream",
     "text": [
      "{ address: '/pos', args: [ 0.7378000020980835, 0.7771063446998596 ] }\n"
     ]
    },
    {
     "name": "stderr",
     "output_type": "stream",
     "text": [
      "TypeError: udp_osc_port.sendMsg is not a function\n",
      "    at Object.handlers./pos (evalmachine.<anonymous>:62:18)\n",
      "    at osc.UDPPort.<anonymous> (evalmachine.<anonymous>:72:44)\n",
      "    at osc.UDPPort.emit (node:events:390:28)\n",
      "    at Object.osc.firePacketEvents (/Users/avneeshsarwate/abletonAutomationExtraction/node_modules/osc/src/osc-transports.js:25:18)\n",
      "    at osc.UDPPort.p.decodeOSC (/Users/avneeshsarwate/abletonAutomationExtraction/node_modules/osc/src/osc-transports.js:85:17)\n",
      "    at osc.UDPPort.emit (node:events:390:28)\n",
      "    at Socket.<anonymous> (/Users/avneeshsarwate/abletonAutomationExtraction/node_modules/osc/src/platforms/osc-node.js:102:18)\n",
      "    at Socket.emit (node:events:390:28)\n",
      "    at UDP.onMessage [as onmessage] (node:dgram:931:8)"
     ]
    },
    {
     "name": "stdout",
     "output_type": "stream",
     "text": [
      "{ address: '/pos', args: [ 0.7378000020980835, 0.7665778398513794 ] }\n"
     ]
    },
    {
     "name": "stderr",
     "output_type": "stream",
     "text": [
      "TypeError: udp_osc_port.sendMsg is not a function\n",
      "    at Object.handlers./pos (evalmachine.<anonymous>:62:18)\n",
      "    at osc.UDPPort.<anonymous> (evalmachine.<anonymous>:72:44)\n",
      "    at osc.UDPPort.emit (node:events:390:28)\n",
      "    at Object.osc.firePacketEvents (/Users/avneeshsarwate/abletonAutomationExtraction/node_modules/osc/src/osc-transports.js:25:18)\n",
      "    at osc.UDPPort.p.decodeOSC (/Users/avneeshsarwate/abletonAutomationExtraction/node_modules/osc/src/osc-transports.js:85:17)\n",
      "    at osc.UDPPort.emit (node:events:390:28)\n",
      "    at Socket.<anonymous> (/Users/avneeshsarwate/abletonAutomationExtraction/node_modules/osc/src/platforms/osc-node.js:102:18)\n",
      "    at Socket.emit (node:events:390:28)\n",
      "    at UDP.onMessage [as onmessage] (node:dgram:931:8)"
     ]
    },
    {
     "name": "stdout",
     "output_type": "stream",
     "text": [
      "{ address: '/pos', args: [ 0.7421818375587463, 0.7665778398513794 ] }\n"
     ]
    },
    {
     "name": "stderr",
     "output_type": "stream",
     "text": [
      "TypeError: udp_osc_port.sendMsg is not a function\n",
      "    at Object.handlers./pos (evalmachine.<anonymous>:62:18)\n",
      "    at osc.UDPPort.<anonymous> (evalmachine.<anonymous>:72:44)\n",
      "    at osc.UDPPort.emit (node:events:390:28)\n",
      "    at Object.osc.firePacketEvents (/Users/avneeshsarwate/abletonAutomationExtraction/node_modules/osc/src/osc-transports.js:25:18)\n",
      "    at osc.UDPPort.p.decodeOSC (/Users/avneeshsarwate/abletonAutomationExtraction/node_modules/osc/src/osc-transports.js:85:17)\n",
      "    at osc.UDPPort.emit (node:events:390:28)\n",
      "    at Socket.<anonymous> (/Users/avneeshsarwate/abletonAutomationExtraction/node_modules/osc/src/platforms/osc-node.js:102:18)\n",
      "    at Socket.emit (node:events:390:28)\n",
      "    at UDP.onMessage [as onmessage] (node:dgram:931:8)"
     ]
    },
    {
     "name": "stdout",
     "output_type": "stream",
     "text": [
      "{ address: '/pos', args: [ 0.7421818375587463, 0.757190465927124 ] }\n"
     ]
    },
    {
     "name": "stderr",
     "output_type": "stream",
     "text": [
      "TypeError: udp_osc_port.sendMsg is not a function\n",
      "    at Object.handlers./pos (evalmachine.<anonymous>:62:18)\n",
      "    at osc.UDPPort.<anonymous> (evalmachine.<anonymous>:72:44)\n",
      "    at osc.UDPPort.emit (node:events:390:28)\n",
      "    at Object.osc.firePacketEvents (/Users/avneeshsarwate/abletonAutomationExtraction/node_modules/osc/src/osc-transports.js:25:18)\n",
      "    at osc.UDPPort.p.decodeOSC (/Users/avneeshsarwate/abletonAutomationExtraction/node_modules/osc/src/osc-transports.js:85:17)\n",
      "    at osc.UDPPort.emit (node:events:390:28)\n",
      "    at Socket.<anonymous> (/Users/avneeshsarwate/abletonAutomationExtraction/node_modules/osc/src/platforms/osc-node.js:102:18)\n",
      "    at Socket.emit (node:events:390:28)\n",
      "    at UDP.onMessage [as onmessage] (node:dgram:931:8)"
     ]
    },
    {
     "name": "stdout",
     "output_type": "stream",
     "text": [
      "{ address: '/pos', args: [ 0.7466928958892822, 0.757190465927124 ] }\n"
     ]
    },
    {
     "name": "stderr",
     "output_type": "stream",
     "text": [
      "TypeError: udp_osc_port.sendMsg is not a function\n",
      "    at Object.handlers./pos (evalmachine.<anonymous>:62:18)\n",
      "    at osc.UDPPort.<anonymous> (evalmachine.<anonymous>:72:44)\n",
      "    at osc.UDPPort.emit (node:events:390:28)\n",
      "    at Object.osc.firePacketEvents (/Users/avneeshsarwate/abletonAutomationExtraction/node_modules/osc/src/osc-transports.js:25:18)\n",
      "    at osc.UDPPort.p.decodeOSC (/Users/avneeshsarwate/abletonAutomationExtraction/node_modules/osc/src/osc-transports.js:85:17)\n",
      "    at osc.UDPPort.emit (node:events:390:28)\n",
      "    at Socket.<anonymous> (/Users/avneeshsarwate/abletonAutomationExtraction/node_modules/osc/src/platforms/osc-node.js:102:18)\n",
      "    at Socket.emit (node:events:390:28)\n",
      "    at UDP.onMessage [as onmessage] (node:dgram:931:8)"
     ]
    },
    {
     "name": "stdout",
     "output_type": "stream",
     "text": [
      "{ address: '/pos', args: [ 0.7466928958892822, 0.7481606006622314 ] }\n"
     ]
    },
    {
     "name": "stderr",
     "output_type": "stream",
     "text": [
      "TypeError: udp_osc_port.sendMsg is not a function\n",
      "    at Object.handlers./pos (evalmachine.<anonymous>:62:18)\n",
      "    at osc.UDPPort.<anonymous> (evalmachine.<anonymous>:72:44)\n",
      "    at osc.UDPPort.emit (node:events:390:28)\n",
      "    at Object.osc.firePacketEvents (/Users/avneeshsarwate/abletonAutomationExtraction/node_modules/osc/src/osc-transports.js:25:18)\n",
      "    at osc.UDPPort.p.decodeOSC (/Users/avneeshsarwate/abletonAutomationExtraction/node_modules/osc/src/osc-transports.js:85:17)\n",
      "    at osc.UDPPort.emit (node:events:390:28)\n",
      "    at Socket.<anonymous> (/Users/avneeshsarwate/abletonAutomationExtraction/node_modules/osc/src/platforms/osc-node.js:102:18)\n",
      "    at Socket.emit (node:events:390:28)\n",
      "    at UDP.onMessage [as onmessage] (node:dgram:931:8)"
     ]
    },
    {
     "name": "stdout",
     "output_type": "stream",
     "text": [
      "{ address: '/pos', args: [ 0.7501922845840454, 0.7481606006622314 ] }\n"
     ]
    },
    {
     "name": "stderr",
     "output_type": "stream",
     "text": [
      "TypeError: udp_osc_port.sendMsg is not a function\n",
      "    at Object.handlers./pos (evalmachine.<anonymous>:62:18)\n",
      "    at osc.UDPPort.<anonymous> (evalmachine.<anonymous>:72:44)\n",
      "    at osc.UDPPort.emit (node:events:390:28)\n",
      "    at Object.osc.firePacketEvents (/Users/avneeshsarwate/abletonAutomationExtraction/node_modules/osc/src/osc-transports.js:25:18)\n",
      "    at osc.UDPPort.p.decodeOSC (/Users/avneeshsarwate/abletonAutomationExtraction/node_modules/osc/src/osc-transports.js:85:17)\n",
      "    at osc.UDPPort.emit (node:events:390:28)\n",
      "    at Socket.<anonymous> (/Users/avneeshsarwate/abletonAutomationExtraction/node_modules/osc/src/platforms/osc-node.js:102:18)\n",
      "    at Socket.emit (node:events:390:28)\n",
      "    at UDP.onMessage [as onmessage] (node:dgram:931:8)"
     ]
    },
    {
     "name": "stdout",
     "output_type": "stream",
     "text": [
      "{ address: '/pos', args: [ 0.7501922845840454, 0.7398306727409363 ] }\n"
     ]
    },
    {
     "name": "stderr",
     "output_type": "stream",
     "text": [
      "TypeError: udp_osc_port.sendMsg is not a function\n",
      "    at Object.handlers./pos (evalmachine.<anonymous>:62:18)\n",
      "    at osc.UDPPort.<anonymous> (evalmachine.<anonymous>:72:44)\n",
      "    at osc.UDPPort.emit (node:events:390:28)\n",
      "    at Object.osc.firePacketEvents (/Users/avneeshsarwate/abletonAutomationExtraction/node_modules/osc/src/osc-transports.js:25:18)\n",
      "    at osc.UDPPort.p.decodeOSC (/Users/avneeshsarwate/abletonAutomationExtraction/node_modules/osc/src/osc-transports.js:85:17)\n",
      "    at osc.UDPPort.emit (node:events:390:28)\n",
      "    at Socket.<anonymous> (/Users/avneeshsarwate/abletonAutomationExtraction/node_modules/osc/src/platforms/osc-node.js:102:18)\n",
      "    at Socket.emit (node:events:390:28)\n",
      "    at UDP.onMessage [as onmessage] (node:dgram:931:8)"
     ]
    },
    {
     "name": "stdout",
     "output_type": "stream",
     "text": [
      "{ address: '/pos', args: [ 0.7522690892219543, 0.7398306727409363 ] }\n"
     ]
    },
    {
     "name": "stderr",
     "output_type": "stream",
     "text": [
      "TypeError: udp_osc_port.sendMsg is not a function\n",
      "    at Object.handlers./pos (evalmachine.<anonymous>:62:18)\n",
      "    at osc.UDPPort.<anonymous> (evalmachine.<anonymous>:72:44)\n",
      "    at osc.UDPPort.emit (node:events:390:28)\n",
      "    at Object.osc.firePacketEvents (/Users/avneeshsarwate/abletonAutomationExtraction/node_modules/osc/src/osc-transports.js:25:18)\n",
      "    at osc.UDPPort.p.decodeOSC (/Users/avneeshsarwate/abletonAutomationExtraction/node_modules/osc/src/osc-transports.js:85:17)\n",
      "    at osc.UDPPort.emit (node:events:390:28)\n",
      "    at Socket.<anonymous> (/Users/avneeshsarwate/abletonAutomationExtraction/node_modules/osc/src/platforms/osc-node.js:102:18)\n",
      "    at Socket.emit (node:events:390:28)\n",
      "    at UDP.onMessage [as onmessage] (node:dgram:931:8)"
     ]
    },
    {
     "name": "stdout",
     "output_type": "stream",
     "text": [
      "{ address: '/pos', args: [ 0.7522690892219543, 0.7338893413543701 ] }\n"
     ]
    },
    {
     "name": "stderr",
     "output_type": "stream",
     "text": [
      "TypeError: udp_osc_port.sendMsg is not a function\n",
      "    at Object.handlers./pos (evalmachine.<anonymous>:62:18)\n",
      "    at osc.UDPPort.<anonymous> (evalmachine.<anonymous>:72:44)\n",
      "    at osc.UDPPort.emit (node:events:390:28)\n",
      "    at Object.osc.firePacketEvents (/Users/avneeshsarwate/abletonAutomationExtraction/node_modules/osc/src/osc-transports.js:25:18)\n",
      "    at osc.UDPPort.p.decodeOSC (/Users/avneeshsarwate/abletonAutomationExtraction/node_modules/osc/src/osc-transports.js:85:17)\n",
      "    at osc.UDPPort.emit (node:events:390:28)\n",
      "    at Socket.<anonymous> (/Users/avneeshsarwate/abletonAutomationExtraction/node_modules/osc/src/platforms/osc-node.js:102:18)\n",
      "    at Socket.emit (node:events:390:28)\n",
      "    at UDP.onMessage [as onmessage] (node:dgram:931:8)"
     ]
    },
    {
     "name": "stdout",
     "output_type": "stream",
     "text": [
      "{ address: '/pos', args: [ 0.7527711391448975, 0.7338893413543701 ] }\n"
     ]
    },
    {
     "name": "stderr",
     "output_type": "stream",
     "text": [
      "TypeError: udp_osc_port.sendMsg is not a function\n",
      "    at Object.handlers./pos (evalmachine.<anonymous>:62:18)\n",
      "    at osc.UDPPort.<anonymous> (evalmachine.<anonymous>:72:44)\n",
      "    at osc.UDPPort.emit (node:events:390:28)\n",
      "    at Object.osc.firePacketEvents (/Users/avneeshsarwate/abletonAutomationExtraction/node_modules/osc/src/osc-transports.js:25:18)\n",
      "    at osc.UDPPort.p.decodeOSC (/Users/avneeshsarwate/abletonAutomationExtraction/node_modules/osc/src/osc-transports.js:85:17)\n",
      "    at osc.UDPPort.emit (node:events:390:28)\n",
      "    at Socket.<anonymous> (/Users/avneeshsarwate/abletonAutomationExtraction/node_modules/osc/src/platforms/osc-node.js:102:18)\n",
      "    at Socket.emit (node:events:390:28)\n",
      "    at UDP.onMessage [as onmessage] (node:dgram:931:8)"
     ]
    },
    {
     "name": "stdout",
     "output_type": "stream",
     "text": [
      "{ address: '/pos', args: [ 0.7527711391448975, 0.7325733304023743 ] }\n"
     ]
    },
    {
     "name": "stderr",
     "output_type": "stream",
     "text": [
      "TypeError: udp_osc_port.sendMsg is not a function\n",
      "    at Object.handlers./pos (evalmachine.<anonymous>:62:18)\n",
      "    at osc.UDPPort.<anonymous> (evalmachine.<anonymous>:72:44)\n",
      "    at osc.UDPPort.emit (node:events:390:28)\n",
      "    at Object.osc.firePacketEvents (/Users/avneeshsarwate/abletonAutomationExtraction/node_modules/osc/src/osc-transports.js:25:18)\n",
      "    at osc.UDPPort.p.decodeOSC (/Users/avneeshsarwate/abletonAutomationExtraction/node_modules/osc/src/osc-transports.js:85:17)\n",
      "    at osc.UDPPort.emit (node:events:390:28)\n",
      "    at Socket.<anonymous> (/Users/avneeshsarwate/abletonAutomationExtraction/node_modules/osc/src/platforms/osc-node.js:102:18)\n",
      "    at Socket.emit (node:events:390:28)\n",
      "    at UDP.onMessage [as onmessage] (node:dgram:931:8)"
     ]
    },
    {
     "name": "stdout",
     "output_type": "stream",
     "text": [
      "{ address: '/pos', args: [ 0.7528548240661621, 0.7325733304023743 ] }\n"
     ]
    },
    {
     "name": "stderr",
     "output_type": "stream",
     "text": [
      "TypeError: udp_osc_port.sendMsg is not a function\n",
      "    at Object.handlers./pos (evalmachine.<anonymous>:62:18)\n",
      "    at osc.UDPPort.<anonymous> (evalmachine.<anonymous>:72:44)\n",
      "    at osc.UDPPort.emit (node:events:390:28)\n",
      "    at Object.osc.firePacketEvents (/Users/avneeshsarwate/abletonAutomationExtraction/node_modules/osc/src/osc-transports.js:25:18)\n",
      "    at osc.UDPPort.p.decodeOSC (/Users/avneeshsarwate/abletonAutomationExtraction/node_modules/osc/src/osc-transports.js:85:17)\n",
      "    at osc.UDPPort.emit (node:events:390:28)\n",
      "    at Socket.<anonymous> (/Users/avneeshsarwate/abletonAutomationExtraction/node_modules/osc/src/platforms/osc-node.js:102:18)\n",
      "    at Socket.emit (node:events:390:28)\n",
      "    at UDP.onMessage [as onmessage] (node:dgram:931:8)"
     ]
    },
    {
     "name": "stdout",
     "output_type": "stream",
     "text": [
      "{ address: '/pos', args: [ 0.7528548240661621, 0.7320864200592041 ] }\n"
     ]
    },
    {
     "name": "stderr",
     "output_type": "stream",
     "text": [
      "TypeError: udp_osc_port.sendMsg is not a function\n",
      "    at Object.handlers./pos (evalmachine.<anonymous>:62:18)\n",
      "    at osc.UDPPort.<anonymous> (evalmachine.<anonymous>:72:44)\n",
      "    at osc.UDPPort.emit (node:events:390:28)\n",
      "    at Object.osc.firePacketEvents (/Users/avneeshsarwate/abletonAutomationExtraction/node_modules/osc/src/osc-transports.js:25:18)\n",
      "    at osc.UDPPort.p.decodeOSC (/Users/avneeshsarwate/abletonAutomationExtraction/node_modules/osc/src/osc-transports.js:85:17)\n",
      "    at osc.UDPPort.emit (node:events:390:28)\n",
      "    at Socket.<anonymous> (/Users/avneeshsarwate/abletonAutomationExtraction/node_modules/osc/src/platforms/osc-node.js:102:18)\n",
      "    at Socket.emit (node:events:390:28)\n",
      "    at UDP.onMessage [as onmessage] (node:dgram:931:8)"
     ]
    },
    {
     "name": "stdout",
     "output_type": "stream",
     "text": [
      "{ address: '/pos', args: [ 0.7528548240661621, 0.7316375970840454 ] }\n"
     ]
    },
    {
     "name": "stderr",
     "output_type": "stream",
     "text": [
      "TypeError: udp_osc_port.sendMsg is not a function\n",
      "    at Object.handlers./pos (evalmachine.<anonymous>:62:18)\n",
      "    at osc.UDPPort.<anonymous> (evalmachine.<anonymous>:72:44)\n",
      "    at osc.UDPPort.emit (node:events:390:28)\n",
      "    at Object.osc.firePacketEvents (/Users/avneeshsarwate/abletonAutomationExtraction/node_modules/osc/src/osc-transports.js:25:18)\n",
      "    at osc.UDPPort.p.decodeOSC (/Users/avneeshsarwate/abletonAutomationExtraction/node_modules/osc/src/osc-transports.js:85:17)\n",
      "    at osc.UDPPort.emit (node:events:390:28)\n",
      "    at Socket.<anonymous> (/Users/avneeshsarwate/abletonAutomationExtraction/node_modules/osc/src/platforms/osc-node.js:102:18)\n",
      "    at Socket.emit (node:events:390:28)\n",
      "    at UDP.onMessage [as onmessage] (node:dgram:931:8)"
     ]
    },
    {
     "name": "stdout",
     "output_type": "stream",
     "text": [
      "{ address: '/pos', args: [ 0.7501618266105652, 0.7316375970840454 ] }\n"
     ]
    },
    {
     "name": "stderr",
     "output_type": "stream",
     "text": [
      "TypeError: udp_osc_port.sendMsg is not a function\n",
      "    at Object.handlers./pos (evalmachine.<anonymous>:62:18)\n",
      "    at osc.UDPPort.<anonymous> (evalmachine.<anonymous>:72:44)\n",
      "    at osc.UDPPort.emit (node:events:390:28)\n",
      "    at Object.osc.firePacketEvents (/Users/avneeshsarwate/abletonAutomationExtraction/node_modules/osc/src/osc-transports.js:25:18)\n",
      "    at osc.UDPPort.p.decodeOSC (/Users/avneeshsarwate/abletonAutomationExtraction/node_modules/osc/src/osc-transports.js:85:17)\n",
      "    at osc.UDPPort.emit (node:events:390:28)\n",
      "    at Socket.<anonymous> (/Users/avneeshsarwate/abletonAutomationExtraction/node_modules/osc/src/platforms/osc-node.js:102:18)\n",
      "    at Socket.emit (node:events:390:28)\n",
      "    at UDP.onMessage [as onmessage] (node:dgram:931:8)"
     ]
    },
    {
     "name": "stdout",
     "output_type": "stream",
     "text": [
      "{ address: '/pos', args: [ 0.7501618266105652, 0.7280013561248779 ] }\n"
     ]
    },
    {
     "name": "stderr",
     "output_type": "stream",
     "text": [
      "TypeError: udp_osc_port.sendMsg is not a function\n",
      "    at Object.handlers./pos (evalmachine.<anonymous>:62:18)\n",
      "    at osc.UDPPort.<anonymous> (evalmachine.<anonymous>:72:44)\n",
      "    at osc.UDPPort.emit (node:events:390:28)\n",
      "    at Object.osc.firePacketEvents (/Users/avneeshsarwate/abletonAutomationExtraction/node_modules/osc/src/osc-transports.js:25:18)\n",
      "    at osc.UDPPort.p.decodeOSC (/Users/avneeshsarwate/abletonAutomationExtraction/node_modules/osc/src/osc-transports.js:85:17)\n",
      "    at osc.UDPPort.emit (node:events:390:28)\n",
      "    at Socket.<anonymous> (/Users/avneeshsarwate/abletonAutomationExtraction/node_modules/osc/src/platforms/osc-node.js:102:18)\n",
      "    at Socket.emit (node:events:390:28)\n",
      "    at UDP.onMessage [as onmessage] (node:dgram:931:8)"
     ]
    },
    {
     "name": "stdout",
     "output_type": "stream",
     "text": [
      "{ address: '/pos', args: [ 0.7473395466804504, 0.7280013561248779 ] }\n"
     ]
    },
    {
     "name": "stderr",
     "output_type": "stream",
     "text": [
      "TypeError: udp_osc_port.sendMsg is not a function\n",
      "    at Object.handlers./pos (evalmachine.<anonymous>:62:18)\n",
      "    at osc.UDPPort.<anonymous> (evalmachine.<anonymous>:72:44)\n",
      "    at osc.UDPPort.emit (node:events:390:28)\n",
      "    at Object.osc.firePacketEvents (/Users/avneeshsarwate/abletonAutomationExtraction/node_modules/osc/src/osc-transports.js:25:18)\n",
      "    at osc.UDPPort.p.decodeOSC (/Users/avneeshsarwate/abletonAutomationExtraction/node_modules/osc/src/osc-transports.js:85:17)\n",
      "    at osc.UDPPort.emit (node:events:390:28)\n",
      "    at Socket.<anonymous> (/Users/avneeshsarwate/abletonAutomationExtraction/node_modules/osc/src/platforms/osc-node.js:102:18)\n",
      "    at Socket.emit (node:events:390:28)\n",
      "    at UDP.onMessage [as onmessage] (node:dgram:931:8)"
     ]
    },
    {
     "name": "stdout",
     "output_type": "stream",
     "text": [
      "{ address: '/pos', args: [ 0.7473395466804504, 0.7251942157745361 ] }\n"
     ]
    },
    {
     "name": "stderr",
     "output_type": "stream",
     "text": [
      "TypeError: udp_osc_port.sendMsg is not a function\n",
      "    at Object.handlers./pos (evalmachine.<anonymous>:62:18)\n",
      "    at osc.UDPPort.<anonymous> (evalmachine.<anonymous>:72:44)\n",
      "    at osc.UDPPort.emit (node:events:390:28)\n",
      "    at Object.osc.firePacketEvents (/Users/avneeshsarwate/abletonAutomationExtraction/node_modules/osc/src/osc-transports.js:25:18)\n",
      "    at osc.UDPPort.p.decodeOSC (/Users/avneeshsarwate/abletonAutomationExtraction/node_modules/osc/src/osc-transports.js:85:17)\n",
      "    at osc.UDPPort.emit (node:events:390:28)\n",
      "    at Socket.<anonymous> (/Users/avneeshsarwate/abletonAutomationExtraction/node_modules/osc/src/platforms/osc-node.js:102:18)\n",
      "    at Socket.emit (node:events:390:28)\n",
      "    at UDP.onMessage [as onmessage] (node:dgram:931:8)"
     ]
    },
    {
     "name": "stdout",
     "output_type": "stream",
     "text": [
      "{ address: '/pos', args: [ 0.7451943159103394, 0.7251942157745361 ] }\n"
     ]
    },
    {
     "name": "stderr",
     "output_type": "stream",
     "text": [
      "TypeError: udp_osc_port.sendMsg is not a function\n",
      "    at Object.handlers./pos (evalmachine.<anonymous>:62:18)\n",
      "    at osc.UDPPort.<anonymous> (evalmachine.<anonymous>:72:44)\n",
      "    at osc.UDPPort.emit (node:events:390:28)\n",
      "    at Object.osc.firePacketEvents (/Users/avneeshsarwate/abletonAutomationExtraction/node_modules/osc/src/osc-transports.js:25:18)\n",
      "    at osc.UDPPort.p.decodeOSC (/Users/avneeshsarwate/abletonAutomationExtraction/node_modules/osc/src/osc-transports.js:85:17)\n",
      "    at osc.UDPPort.emit (node:events:390:28)\n",
      "    at Socket.<anonymous> (/Users/avneeshsarwate/abletonAutomationExtraction/node_modules/osc/src/platforms/osc-node.js:102:18)\n",
      "    at Socket.emit (node:events:390:28)\n",
      "    at UDP.onMessage [as onmessage] (node:dgram:931:8)"
     ]
    },
    {
     "name": "stdout",
     "output_type": "stream",
     "text": [
      "{ address: '/pos', args: [ 0.7451943159103394, 0.7230642437934875 ] }\n"
     ]
    },
    {
     "name": "stderr",
     "output_type": "stream",
     "text": [
      "TypeError: udp_osc_port.sendMsg is not a function\n",
      "    at Object.handlers./pos (evalmachine.<anonymous>:62:18)\n",
      "    at osc.UDPPort.<anonymous> (evalmachine.<anonymous>:72:44)\n",
      "    at osc.UDPPort.emit (node:events:390:28)\n",
      "    at Object.osc.firePacketEvents (/Users/avneeshsarwate/abletonAutomationExtraction/node_modules/osc/src/osc-transports.js:25:18)\n",
      "    at osc.UDPPort.p.decodeOSC (/Users/avneeshsarwate/abletonAutomationExtraction/node_modules/osc/src/osc-transports.js:85:17)\n",
      "    at osc.UDPPort.emit (node:events:390:28)\n",
      "    at Socket.<anonymous> (/Users/avneeshsarwate/abletonAutomationExtraction/node_modules/osc/src/platforms/osc-node.js:102:18)\n",
      "    at Socket.emit (node:events:390:28)\n",
      "    at UDP.onMessage [as onmessage] (node:dgram:931:8)"
     ]
    },
    {
     "name": "stdout",
     "output_type": "stream",
     "text": [
      "{ address: '/pos', args: [ 0.7418851256370544, 0.7230642437934875 ] }\n"
     ]
    },
    {
     "name": "stderr",
     "output_type": "stream",
     "text": [
      "TypeError: udp_osc_port.sendMsg is not a function\n",
      "    at Object.handlers./pos (evalmachine.<anonymous>:62:18)\n",
      "    at osc.UDPPort.<anonymous> (evalmachine.<anonymous>:72:44)\n",
      "    at osc.UDPPort.emit (node:events:390:28)\n",
      "    at Object.osc.firePacketEvents (/Users/avneeshsarwate/abletonAutomationExtraction/node_modules/osc/src/osc-transports.js:25:18)\n",
      "    at osc.UDPPort.p.decodeOSC (/Users/avneeshsarwate/abletonAutomationExtraction/node_modules/osc/src/osc-transports.js:85:17)\n",
      "    at osc.UDPPort.emit (node:events:390:28)\n",
      "    at Socket.<anonymous> (/Users/avneeshsarwate/abletonAutomationExtraction/node_modules/osc/src/platforms/osc-node.js:102:18)\n",
      "    at Socket.emit (node:events:390:28)\n",
      "    at UDP.onMessage [as onmessage] (node:dgram:931:8)"
     ]
    },
    {
     "name": "stdout",
     "output_type": "stream",
     "text": [
      "{ address: '/pos', args: [ 0.7418851256370544, 0.7227599620819092 ] }\n"
     ]
    },
    {
     "name": "stderr",
     "output_type": "stream",
     "text": [
      "TypeError: udp_osc_port.sendMsg is not a function\n",
      "    at Object.handlers./pos (evalmachine.<anonymous>:62:18)\n",
      "    at osc.UDPPort.<anonymous> (evalmachine.<anonymous>:72:44)\n",
      "    at osc.UDPPort.emit (node:events:390:28)\n",
      "    at Object.osc.firePacketEvents (/Users/avneeshsarwate/abletonAutomationExtraction/node_modules/osc/src/osc-transports.js:25:18)\n",
      "    at osc.UDPPort.p.decodeOSC (/Users/avneeshsarwate/abletonAutomationExtraction/node_modules/osc/src/osc-transports.js:85:17)\n",
      "    at osc.UDPPort.emit (node:events:390:28)\n",
      "    at Socket.<anonymous> (/Users/avneeshsarwate/abletonAutomationExtraction/node_modules/osc/src/platforms/osc-node.js:102:18)\n",
      "    at Socket.emit (node:events:390:28)\n",
      "    at UDP.onMessage [as onmessage] (node:dgram:931:8)"
     ]
    },
    {
     "name": "stdout",
     "output_type": "stream",
     "text": [
      "{ address: '/pos', args: [ 0.7381575107574463, 0.7227599620819092 ] }\n"
     ]
    },
    {
     "name": "stderr",
     "output_type": "stream",
     "text": [
      "TypeError: udp_osc_port.sendMsg is not a function\n",
      "    at Object.handlers./pos (evalmachine.<anonymous>:62:18)\n",
      "    at osc.UDPPort.<anonymous> (evalmachine.<anonymous>:72:44)\n",
      "    at osc.UDPPort.emit (node:events:390:28)\n",
      "    at Object.osc.firePacketEvents (/Users/avneeshsarwate/abletonAutomationExtraction/node_modules/osc/src/osc-transports.js:25:18)\n",
      "    at osc.UDPPort.p.decodeOSC (/Users/avneeshsarwate/abletonAutomationExtraction/node_modules/osc/src/osc-transports.js:85:17)\n",
      "    at osc.UDPPort.emit (node:events:390:28)\n",
      "    at Socket.<anonymous> (/Users/avneeshsarwate/abletonAutomationExtraction/node_modules/osc/src/platforms/osc-node.js:102:18)\n",
      "    at Socket.emit (node:events:390:28)\n",
      "    at UDP.onMessage [as onmessage] (node:dgram:931:8)"
     ]
    },
    {
     "name": "stdout",
     "output_type": "stream",
     "text": [
      "{ address: '/pos', args: [ 0.7314251065254211, 0.7227599620819092 ] }\n"
     ]
    },
    {
     "name": "stderr",
     "output_type": "stream",
     "text": [
      "TypeError: udp_osc_port.sendMsg is not a function\n",
      "    at Object.handlers./pos (evalmachine.<anonymous>:62:18)\n",
      "    at osc.UDPPort.<anonymous> (evalmachine.<anonymous>:72:44)\n",
      "    at osc.UDPPort.emit (node:events:390:28)\n",
      "    at Object.osc.firePacketEvents (/Users/avneeshsarwate/abletonAutomationExtraction/node_modules/osc/src/osc-transports.js:25:18)\n",
      "    at osc.UDPPort.p.decodeOSC (/Users/avneeshsarwate/abletonAutomationExtraction/node_modules/osc/src/osc-transports.js:85:17)\n",
      "    at osc.UDPPort.emit (node:events:390:28)\n",
      "    at Socket.<anonymous> (/Users/avneeshsarwate/abletonAutomationExtraction/node_modules/osc/src/platforms/osc-node.js:102:18)\n",
      "    at Socket.emit (node:events:390:28)\n",
      "    at UDP.onMessage [as onmessage] (node:dgram:931:8)"
     ]
    },
    {
     "name": "stdout",
     "output_type": "stream",
     "text": [
      "{ address: '/pos', args: [ 0.7314251065254211, 0.723482608795166 ] }\n"
     ]
    },
    {
     "name": "stderr",
     "output_type": "stream",
     "text": [
      "TypeError: udp_osc_port.sendMsg is not a function\n",
      "    at Object.handlers./pos (evalmachine.<anonymous>:62:18)\n",
      "    at osc.UDPPort.<anonymous> (evalmachine.<anonymous>:72:44)\n",
      "    at osc.UDPPort.emit (node:events:390:28)\n",
      "    at Object.osc.firePacketEvents (/Users/avneeshsarwate/abletonAutomationExtraction/node_modules/osc/src/osc-transports.js:25:18)\n",
      "    at osc.UDPPort.p.decodeOSC (/Users/avneeshsarwate/abletonAutomationExtraction/node_modules/osc/src/osc-transports.js:85:17)\n",
      "    at osc.UDPPort.emit (node:events:390:28)\n",
      "    at Socket.<anonymous> (/Users/avneeshsarwate/abletonAutomationExtraction/node_modules/osc/src/platforms/osc-node.js:102:18)\n",
      "    at Socket.emit (node:events:390:28)\n",
      "    at UDP.onMessage [as onmessage] (node:dgram:931:8)"
     ]
    },
    {
     "name": "stdout",
     "output_type": "stream",
     "text": [
      "{ address: '/pos', args: [ 0.7231331467628479, 0.723482608795166 ] }\n"
     ]
    },
    {
     "name": "stderr",
     "output_type": "stream",
     "text": [
      "TypeError: udp_osc_port.sendMsg is not a function\n",
      "    at Object.handlers./pos (evalmachine.<anonymous>:62:18)\n",
      "    at osc.UDPPort.<anonymous> (evalmachine.<anonymous>:72:44)\n",
      "    at osc.UDPPort.emit (node:events:390:28)\n",
      "    at Object.osc.firePacketEvents (/Users/avneeshsarwate/abletonAutomationExtraction/node_modules/osc/src/osc-transports.js:25:18)\n",
      "    at osc.UDPPort.p.decodeOSC (/Users/avneeshsarwate/abletonAutomationExtraction/node_modules/osc/src/osc-transports.js:85:17)\n",
      "    at osc.UDPPort.emit (node:events:390:28)\n",
      "    at Socket.<anonymous> (/Users/avneeshsarwate/abletonAutomationExtraction/node_modules/osc/src/platforms/osc-node.js:102:18)\n",
      "    at Socket.emit (node:events:390:28)\n",
      "    at UDP.onMessage [as onmessage] (node:dgram:931:8)"
     ]
    },
    {
     "name": "stdout",
     "output_type": "stream",
     "text": [
      "{ address: '/pos', args: [ 0.7231331467628479, 0.7253388166427612 ] }\n"
     ]
    },
    {
     "name": "stderr",
     "output_type": "stream",
     "text": [
      "TypeError: udp_osc_port.sendMsg is not a function\n",
      "    at Object.handlers./pos (evalmachine.<anonymous>:62:18)\n",
      "    at osc.UDPPort.<anonymous> (evalmachine.<anonymous>:72:44)\n",
      "    at osc.UDPPort.emit (node:events:390:28)\n",
      "    at Object.osc.firePacketEvents (/Users/avneeshsarwate/abletonAutomationExtraction/node_modules/osc/src/osc-transports.js:25:18)\n",
      "    at osc.UDPPort.p.decodeOSC (/Users/avneeshsarwate/abletonAutomationExtraction/node_modules/osc/src/osc-transports.js:85:17)\n",
      "    at osc.UDPPort.emit (node:events:390:28)\n",
      "    at Socket.<anonymous> (/Users/avneeshsarwate/abletonAutomationExtraction/node_modules/osc/src/platforms/osc-node.js:102:18)\n",
      "    at Socket.emit (node:events:390:28)\n",
      "    at UDP.onMessage [as onmessage] (node:dgram:931:8)"
     ]
    },
    {
     "name": "stdout",
     "output_type": "stream",
     "text": [
      "{ address: '/pos', args: [ 0.7109006643295288, 0.7253388166427612 ] }\n"
     ]
    },
    {
     "name": "stderr",
     "output_type": "stream",
     "text": [
      "TypeError: udp_osc_port.sendMsg is not a function\n",
      "    at Object.handlers./pos (evalmachine.<anonymous>:62:18)\n",
      "    at osc.UDPPort.<anonymous> (evalmachine.<anonymous>:72:44)\n",
      "    at osc.UDPPort.emit (node:events:390:28)\n",
      "    at Object.osc.firePacketEvents (/Users/avneeshsarwate/abletonAutomationExtraction/node_modules/osc/src/osc-transports.js:25:18)\n",
      "    at osc.UDPPort.p.decodeOSC (/Users/avneeshsarwate/abletonAutomationExtraction/node_modules/osc/src/osc-transports.js:85:17)\n",
      "    at osc.UDPPort.emit (node:events:390:28)\n",
      "    at Socket.<anonymous> (/Users/avneeshsarwate/abletonAutomationExtraction/node_modules/osc/src/platforms/osc-node.js:102:18)\n",
      "    at Socket.emit (node:events:390:28)\n",
      "    at UDP.onMessage [as onmessage] (node:dgram:931:8)"
     ]
    },
    {
     "name": "stdout",
     "output_type": "stream",
     "text": [
      "{ address: '/pos', args: [ 0.7109006643295288, 0.7266700863838196 ] }\n"
     ]
    },
    {
     "name": "stderr",
     "output_type": "stream",
     "text": [
      "TypeError: udp_osc_port.sendMsg is not a function\n",
      "    at Object.handlers./pos (evalmachine.<anonymous>:62:18)\n",
      "    at osc.UDPPort.<anonymous> (evalmachine.<anonymous>:72:44)\n",
      "    at osc.UDPPort.emit (node:events:390:28)\n",
      "    at Object.osc.firePacketEvents (/Users/avneeshsarwate/abletonAutomationExtraction/node_modules/osc/src/osc-transports.js:25:18)\n",
      "    at osc.UDPPort.p.decodeOSC (/Users/avneeshsarwate/abletonAutomationExtraction/node_modules/osc/src/osc-transports.js:85:17)\n",
      "    at osc.UDPPort.emit (node:events:390:28)\n",
      "    at Socket.<anonymous> (/Users/avneeshsarwate/abletonAutomationExtraction/node_modules/osc/src/platforms/osc-node.js:102:18)\n",
      "    at Socket.emit (node:events:390:28)\n",
      "    at UDP.onMessage [as onmessage] (node:dgram:931:8)"
     ]
    },
    {
     "name": "stdout",
     "output_type": "stream",
     "text": [
      "{ address: '/pos', args: [ 0.7001135349273682, 0.7266700863838196 ] }\n"
     ]
    },
    {
     "name": "stderr",
     "output_type": "stream",
     "text": [
      "TypeError: udp_osc_port.sendMsg is not a function\n",
      "    at Object.handlers./pos (evalmachine.<anonymous>:62:18)\n",
      "    at osc.UDPPort.<anonymous> (evalmachine.<anonymous>:72:44)\n",
      "    at osc.UDPPort.emit (node:events:390:28)\n",
      "    at Object.osc.firePacketEvents (/Users/avneeshsarwate/abletonAutomationExtraction/node_modules/osc/src/osc-transports.js:25:18)\n",
      "    at osc.UDPPort.p.decodeOSC (/Users/avneeshsarwate/abletonAutomationExtraction/node_modules/osc/src/osc-transports.js:85:17)\n",
      "    at osc.UDPPort.emit (node:events:390:28)\n",
      "    at Socket.<anonymous> (/Users/avneeshsarwate/abletonAutomationExtraction/node_modules/osc/src/platforms/osc-node.js:102:18)\n",
      "    at Socket.emit (node:events:390:28)\n",
      "    at UDP.onMessage [as onmessage] (node:dgram:931:8)"
     ]
    },
    {
     "name": "stdout",
     "output_type": "stream",
     "text": [
      "{ address: '/pos', args: [ 0.7001135349273682, 0.727544903755188 ] }\n"
     ]
    },
    {
     "name": "stderr",
     "output_type": "stream",
     "text": [
      "TypeError: udp_osc_port.sendMsg is not a function\n",
      "    at Object.handlers./pos (evalmachine.<anonymous>:62:18)\n",
      "    at osc.UDPPort.<anonymous> (evalmachine.<anonymous>:72:44)\n",
      "    at osc.UDPPort.emit (node:events:390:28)\n",
      "    at Object.osc.firePacketEvents (/Users/avneeshsarwate/abletonAutomationExtraction/node_modules/osc/src/osc-transports.js:25:18)\n",
      "    at osc.UDPPort.p.decodeOSC (/Users/avneeshsarwate/abletonAutomationExtraction/node_modules/osc/src/osc-transports.js:85:17)\n",
      "    at osc.UDPPort.emit (node:events:390:28)\n",
      "    at Socket.<anonymous> (/Users/avneeshsarwate/abletonAutomationExtraction/node_modules/osc/src/platforms/osc-node.js:102:18)\n",
      "    at Socket.emit (node:events:390:28)\n",
      "    at UDP.onMessage [as onmessage] (node:dgram:931:8)"
     ]
    },
    {
     "name": "stdout",
     "output_type": "stream",
     "text": [
      "{ address: '/pos', args: [ 0.6889232397079468, 0.727544903755188 ] }\n"
     ]
    },
    {
     "name": "stderr",
     "output_type": "stream",
     "text": [
      "TypeError: udp_osc_port.sendMsg is not a function\n",
      "    at Object.handlers./pos (evalmachine.<anonymous>:62:18)\n",
      "    at osc.UDPPort.<anonymous> (evalmachine.<anonymous>:72:44)\n",
      "    at osc.UDPPort.emit (node:events:390:28)\n",
      "    at Object.osc.firePacketEvents (/Users/avneeshsarwate/abletonAutomationExtraction/node_modules/osc/src/osc-transports.js:25:18)\n",
      "    at osc.UDPPort.p.decodeOSC (/Users/avneeshsarwate/abletonAutomationExtraction/node_modules/osc/src/osc-transports.js:85:17)\n",
      "    at osc.UDPPort.emit (node:events:390:28)\n",
      "    at Socket.<anonymous> (/Users/avneeshsarwate/abletonAutomationExtraction/node_modules/osc/src/platforms/osc-node.js:102:18)\n",
      "    at Socket.emit (node:events:390:28)\n",
      "    at UDP.onMessage [as onmessage] (node:dgram:931:8)"
     ]
    },
    {
     "name": "stdout",
     "output_type": "stream",
     "text": [
      "{ address: '/pos', args: [ 0.6889232397079468, 0.728320837020874 ] }\n"
     ]
    },
    {
     "name": "stderr",
     "output_type": "stream",
     "text": [
      "TypeError: udp_osc_port.sendMsg is not a function\n",
      "    at Object.handlers./pos (evalmachine.<anonymous>:62:18)\n",
      "    at osc.UDPPort.<anonymous> (evalmachine.<anonymous>:72:44)\n",
      "    at osc.UDPPort.emit (node:events:390:28)\n",
      "    at Object.osc.firePacketEvents (/Users/avneeshsarwate/abletonAutomationExtraction/node_modules/osc/src/osc-transports.js:25:18)\n",
      "    at osc.UDPPort.p.decodeOSC (/Users/avneeshsarwate/abletonAutomationExtraction/node_modules/osc/src/osc-transports.js:85:17)\n",
      "    at osc.UDPPort.emit (node:events:390:28)\n",
      "    at Socket.<anonymous> (/Users/avneeshsarwate/abletonAutomationExtraction/node_modules/osc/src/platforms/osc-node.js:102:18)\n",
      "    at Socket.emit (node:events:390:28)\n",
      "    at UDP.onMessage [as onmessage] (node:dgram:931:8)"
     ]
    },
    {
     "name": "stdout",
     "output_type": "stream",
     "text": [
      "{ address: '/pos', args: [ 0.6791554689407349, 0.728320837020874 ] }\n"
     ]
    },
    {
     "name": "stderr",
     "output_type": "stream",
     "text": [
      "TypeError: udp_osc_port.sendMsg is not a function\n",
      "    at Object.handlers./pos (evalmachine.<anonymous>:62:18)\n",
      "    at osc.UDPPort.<anonymous> (evalmachine.<anonymous>:72:44)\n",
      "    at osc.UDPPort.emit (node:events:390:28)\n",
      "    at Object.osc.firePacketEvents (/Users/avneeshsarwate/abletonAutomationExtraction/node_modules/osc/src/osc-transports.js:25:18)\n",
      "    at osc.UDPPort.p.decodeOSC (/Users/avneeshsarwate/abletonAutomationExtraction/node_modules/osc/src/osc-transports.js:85:17)\n",
      "    at osc.UDPPort.emit (node:events:390:28)\n",
      "    at Socket.<anonymous> (/Users/avneeshsarwate/abletonAutomationExtraction/node_modules/osc/src/platforms/osc-node.js:102:18)\n",
      "    at Socket.emit (node:events:390:28)\n",
      "    at UDP.onMessage [as onmessage] (node:dgram:931:8)"
     ]
    },
    {
     "name": "stdout",
     "output_type": "stream",
     "text": [
      "{ address: '/pos', args: [ 0.6791554689407349, 0.7288838028907776 ] }\n"
     ]
    },
    {
     "name": "stderr",
     "output_type": "stream",
     "text": [
      "TypeError: udp_osc_port.sendMsg is not a function\n",
      "    at Object.handlers./pos (evalmachine.<anonymous>:62:18)\n",
      "    at osc.UDPPort.<anonymous> (evalmachine.<anonymous>:72:44)\n",
      "    at osc.UDPPort.emit (node:events:390:28)\n",
      "    at Object.osc.firePacketEvents (/Users/avneeshsarwate/abletonAutomationExtraction/node_modules/osc/src/osc-transports.js:25:18)\n",
      "    at osc.UDPPort.p.decodeOSC (/Users/avneeshsarwate/abletonAutomationExtraction/node_modules/osc/src/osc-transports.js:85:17)\n",
      "    at osc.UDPPort.emit (node:events:390:28)\n",
      "    at Socket.<anonymous> (/Users/avneeshsarwate/abletonAutomationExtraction/node_modules/osc/src/platforms/osc-node.js:102:18)\n",
      "    at Socket.emit (node:events:390:28)\n",
      "    at UDP.onMessage [as onmessage] (node:dgram:931:8)"
     ]
    },
    {
     "name": "stdout",
     "output_type": "stream",
     "text": [
      "{ address: '/pos', args: [ 0.6699050664901733, 0.7288838028907776 ] }\n"
     ]
    },
    {
     "name": "stderr",
     "output_type": "stream",
     "text": [
      "TypeError: udp_osc_port.sendMsg is not a function\n",
      "    at Object.handlers./pos (evalmachine.<anonymous>:62:18)\n",
      "    at osc.UDPPort.<anonymous> (evalmachine.<anonymous>:72:44)\n",
      "    at osc.UDPPort.emit (node:events:390:28)\n",
      "    at Object.osc.firePacketEvents (/Users/avneeshsarwate/abletonAutomationExtraction/node_modules/osc/src/osc-transports.js:25:18)\n",
      "    at osc.UDPPort.p.decodeOSC (/Users/avneeshsarwate/abletonAutomationExtraction/node_modules/osc/src/osc-transports.js:85:17)\n",
      "    at osc.UDPPort.emit (node:events:390:28)\n",
      "    at Socket.<anonymous> (/Users/avneeshsarwate/abletonAutomationExtraction/node_modules/osc/src/platforms/osc-node.js:102:18)\n",
      "    at Socket.emit (node:events:390:28)\n",
      "    at UDP.onMessage [as onmessage] (node:dgram:931:8)"
     ]
    },
    {
     "name": "stdout",
     "output_type": "stream",
     "text": [
      "{ address: '/pos', args: [ 0.6699050664901733, 0.7296749353408813 ] }\n"
     ]
    },
    {
     "name": "stderr",
     "output_type": "stream",
     "text": [
      "TypeError: udp_osc_port.sendMsg is not a function\n",
      "    at Object.handlers./pos (evalmachine.<anonymous>:62:18)\n",
      "    at osc.UDPPort.<anonymous> (evalmachine.<anonymous>:72:44)\n",
      "    at osc.UDPPort.emit (node:events:390:28)\n",
      "    at Object.osc.firePacketEvents (/Users/avneeshsarwate/abletonAutomationExtraction/node_modules/osc/src/osc-transports.js:25:18)\n",
      "    at osc.UDPPort.p.decodeOSC (/Users/avneeshsarwate/abletonAutomationExtraction/node_modules/osc/src/osc-transports.js:85:17)\n",
      "    at osc.UDPPort.emit (node:events:390:28)\n",
      "    at Socket.<anonymous> (/Users/avneeshsarwate/abletonAutomationExtraction/node_modules/osc/src/platforms/osc-node.js:102:18)\n",
      "    at Socket.emit (node:events:390:28)\n",
      "    at UDP.onMessage [as onmessage] (node:dgram:931:8)"
     ]
    },
    {
     "name": "stdout",
     "output_type": "stream",
     "text": [
      "{ address: '/pos', args: [ 0.6625107526779175, 0.7296749353408813 ] }\n"
     ]
    },
    {
     "name": "stderr",
     "output_type": "stream",
     "text": [
      "TypeError: udp_osc_port.sendMsg is not a function\n",
      "    at Object.handlers./pos (evalmachine.<anonymous>:62:18)\n",
      "    at osc.UDPPort.<anonymous> (evalmachine.<anonymous>:72:44)\n",
      "    at osc.UDPPort.emit (node:events:390:28)\n",
      "    at Object.osc.firePacketEvents (/Users/avneeshsarwate/abletonAutomationExtraction/node_modules/osc/src/osc-transports.js:25:18)\n",
      "    at osc.UDPPort.p.decodeOSC (/Users/avneeshsarwate/abletonAutomationExtraction/node_modules/osc/src/osc-transports.js:85:17)\n",
      "    at osc.UDPPort.emit (node:events:390:28)\n",
      "    at Socket.<anonymous> (/Users/avneeshsarwate/abletonAutomationExtraction/node_modules/osc/src/platforms/osc-node.js:102:18)\n",
      "    at Socket.emit (node:events:390:28)\n",
      "    at UDP.onMessage [as onmessage] (node:dgram:931:8)"
     ]
    },
    {
     "name": "stdout",
     "output_type": "stream",
     "text": [
      "{ address: '/pos', args: [ 0.6625107526779175, 0.7300705313682556 ] }\n"
     ]
    },
    {
     "name": "stderr",
     "output_type": "stream",
     "text": [
      "TypeError: udp_osc_port.sendMsg is not a function\n",
      "    at Object.handlers./pos (evalmachine.<anonymous>:62:18)\n",
      "    at osc.UDPPort.<anonymous> (evalmachine.<anonymous>:72:44)\n",
      "    at osc.UDPPort.emit (node:events:390:28)\n",
      "    at Object.osc.firePacketEvents (/Users/avneeshsarwate/abletonAutomationExtraction/node_modules/osc/src/osc-transports.js:25:18)\n",
      "    at osc.UDPPort.p.decodeOSC (/Users/avneeshsarwate/abletonAutomationExtraction/node_modules/osc/src/osc-transports.js:85:17)\n",
      "    at osc.UDPPort.emit (node:events:390:28)\n",
      "    at Socket.<anonymous> (/Users/avneeshsarwate/abletonAutomationExtraction/node_modules/osc/src/platforms/osc-node.js:102:18)\n",
      "    at Socket.emit (node:events:390:28)\n",
      "    at UDP.onMessage [as onmessage] (node:dgram:931:8)"
     ]
    },
    {
     "name": "stdout",
     "output_type": "stream",
     "text": [
      "{ address: '/pos', args: [ 0.6568737626075745, 0.7300705313682556 ] }\n"
     ]
    },
    {
     "name": "stderr",
     "output_type": "stream",
     "text": [
      "TypeError: udp_osc_port.sendMsg is not a function\n",
      "    at Object.handlers./pos (evalmachine.<anonymous>:62:18)\n",
      "    at osc.UDPPort.<anonymous> (evalmachine.<anonymous>:72:44)\n",
      "    at osc.UDPPort.emit (node:events:390:28)\n",
      "    at Object.osc.firePacketEvents (/Users/avneeshsarwate/abletonAutomationExtraction/node_modules/osc/src/osc-transports.js:25:18)\n",
      "    at osc.UDPPort.p.decodeOSC (/Users/avneeshsarwate/abletonAutomationExtraction/node_modules/osc/src/osc-transports.js:85:17)\n",
      "    at osc.UDPPort.emit (node:events:390:28)\n",
      "    at Socket.<anonymous> (/Users/avneeshsarwate/abletonAutomationExtraction/node_modules/osc/src/platforms/osc-node.js:102:18)\n",
      "    at Socket.emit (node:events:390:28)\n",
      "    at UDP.onMessage [as onmessage] (node:dgram:931:8)"
     ]
    },
    {
     "name": "stdout",
     "output_type": "stream",
     "text": [
      "{ address: '/pos', args: [ 0.6568737626075745, 0.730557382106781 ] }\n"
     ]
    },
    {
     "name": "stderr",
     "output_type": "stream",
     "text": [
      "TypeError: udp_osc_port.sendMsg is not a function\n",
      "    at Object.handlers./pos (evalmachine.<anonymous>:62:18)\n",
      "    at osc.UDPPort.<anonymous> (evalmachine.<anonymous>:72:44)\n",
      "    at osc.UDPPort.emit (node:events:390:28)\n",
      "    at Object.osc.firePacketEvents (/Users/avneeshsarwate/abletonAutomationExtraction/node_modules/osc/src/osc-transports.js:25:18)\n",
      "    at osc.UDPPort.p.decodeOSC (/Users/avneeshsarwate/abletonAutomationExtraction/node_modules/osc/src/osc-transports.js:85:17)\n",
      "    at osc.UDPPort.emit (node:events:390:28)\n",
      "    at Socket.<anonymous> (/Users/avneeshsarwate/abletonAutomationExtraction/node_modules/osc/src/platforms/osc-node.js:102:18)\n",
      "    at Socket.emit (node:events:390:28)\n",
      "    at UDP.onMessage [as onmessage] (node:dgram:931:8)"
     ]
    },
    {
     "name": "stdout",
     "output_type": "stream",
     "text": [
      "{ address: '/pos', args: [ 0.6517617106437683, 0.730557382106781 ] }\n"
     ]
    },
    {
     "name": "stderr",
     "output_type": "stream",
     "text": [
      "TypeError: udp_osc_port.sendMsg is not a function\n",
      "    at Object.handlers./pos (evalmachine.<anonymous>:62:18)\n",
      "    at osc.UDPPort.<anonymous> (evalmachine.<anonymous>:72:44)\n",
      "    at osc.UDPPort.emit (node:events:390:28)\n",
      "    at Object.osc.firePacketEvents (/Users/avneeshsarwate/abletonAutomationExtraction/node_modules/osc/src/osc-transports.js:25:18)\n",
      "    at osc.UDPPort.p.decodeOSC (/Users/avneeshsarwate/abletonAutomationExtraction/node_modules/osc/src/osc-transports.js:85:17)\n",
      "    at osc.UDPPort.emit (node:events:390:28)\n",
      "    at Socket.<anonymous> (/Users/avneeshsarwate/abletonAutomationExtraction/node_modules/osc/src/platforms/osc-node.js:102:18)\n",
      "    at Socket.emit (node:events:390:28)\n",
      "    at UDP.onMessage [as onmessage] (node:dgram:931:8)"
     ]
    },
    {
     "name": "stdout",
     "output_type": "stream",
     "text": [
      "{ address: '/pos', args: [ 0.6517617106437683, 0.7310670614242554 ] }\n"
     ]
    },
    {
     "name": "stderr",
     "output_type": "stream",
     "text": [
      "TypeError: udp_osc_port.sendMsg is not a function\n",
      "    at Object.handlers./pos (evalmachine.<anonymous>:62:18)\n",
      "    at osc.UDPPort.<anonymous> (evalmachine.<anonymous>:72:44)\n",
      "    at osc.UDPPort.emit (node:events:390:28)\n",
      "    at Object.osc.firePacketEvents (/Users/avneeshsarwate/abletonAutomationExtraction/node_modules/osc/src/osc-transports.js:25:18)\n",
      "    at osc.UDPPort.p.decodeOSC (/Users/avneeshsarwate/abletonAutomationExtraction/node_modules/osc/src/osc-transports.js:85:17)\n",
      "    at osc.UDPPort.emit (node:events:390:28)\n",
      "    at Socket.<anonymous> (/Users/avneeshsarwate/abletonAutomationExtraction/node_modules/osc/src/platforms/osc-node.js:102:18)\n",
      "    at Socket.emit (node:events:390:28)\n",
      "    at UDP.onMessage [as onmessage] (node:dgram:931:8)"
     ]
    },
    {
     "name": "stdout",
     "output_type": "stream",
     "text": [
      "{ address: '/pos', args: [ 0.6468474268913269, 0.7310670614242554 ] }\n"
     ]
    },
    {
     "name": "stderr",
     "output_type": "stream",
     "text": [
      "TypeError: udp_osc_port.sendMsg is not a function\n",
      "    at Object.handlers./pos (evalmachine.<anonymous>:62:18)\n",
      "    at osc.UDPPort.<anonymous> (evalmachine.<anonymous>:72:44)\n",
      "    at osc.UDPPort.emit (node:events:390:28)\n",
      "    at Object.osc.firePacketEvents (/Users/avneeshsarwate/abletonAutomationExtraction/node_modules/osc/src/osc-transports.js:25:18)\n",
      "    at osc.UDPPort.p.decodeOSC (/Users/avneeshsarwate/abletonAutomationExtraction/node_modules/osc/src/osc-transports.js:85:17)\n",
      "    at osc.UDPPort.emit (node:events:390:28)\n",
      "    at Socket.<anonymous> (/Users/avneeshsarwate/abletonAutomationExtraction/node_modules/osc/src/platforms/osc-node.js:102:18)\n",
      "    at Socket.emit (node:events:390:28)\n",
      "    at UDP.onMessage [as onmessage] (node:dgram:931:8)"
     ]
    },
    {
     "name": "stdout",
     "output_type": "stream",
     "text": [
      "{ address: '/pos', args: [ 0.6468474268913269, 0.7311812043190002 ] }\n"
     ]
    },
    {
     "name": "stderr",
     "output_type": "stream",
     "text": [
      "TypeError: udp_osc_port.sendMsg is not a function\n",
      "    at Object.handlers./pos (evalmachine.<anonymous>:62:18)\n",
      "    at osc.UDPPort.<anonymous> (evalmachine.<anonymous>:72:44)\n",
      "    at osc.UDPPort.emit (node:events:390:28)\n",
      "    at Object.osc.firePacketEvents (/Users/avneeshsarwate/abletonAutomationExtraction/node_modules/osc/src/osc-transports.js:25:18)\n",
      "    at osc.UDPPort.p.decodeOSC (/Users/avneeshsarwate/abletonAutomationExtraction/node_modules/osc/src/osc-transports.js:85:17)\n",
      "    at osc.UDPPort.emit (node:events:390:28)\n",
      "    at Socket.<anonymous> (/Users/avneeshsarwate/abletonAutomationExtraction/node_modules/osc/src/platforms/osc-node.js:102:18)\n",
      "    at Socket.emit (node:events:390:28)\n",
      "    at UDP.onMessage [as onmessage] (node:dgram:931:8)"
     ]
    },
    {
     "name": "stdout",
     "output_type": "stream",
     "text": [
      "{ address: '/pos', args: [ 0.6427698731422424, 0.7311812043190002 ] }\n"
     ]
    },
    {
     "name": "stderr",
     "output_type": "stream",
     "text": [
      "TypeError: udp_osc_port.sendMsg is not a function\n",
      "    at Object.handlers./pos (evalmachine.<anonymous>:62:18)\n",
      "    at osc.UDPPort.<anonymous> (evalmachine.<anonymous>:72:44)\n",
      "    at osc.UDPPort.emit (node:events:390:28)\n",
      "    at Object.osc.firePacketEvents (/Users/avneeshsarwate/abletonAutomationExtraction/node_modules/osc/src/osc-transports.js:25:18)\n",
      "    at osc.UDPPort.p.decodeOSC (/Users/avneeshsarwate/abletonAutomationExtraction/node_modules/osc/src/osc-transports.js:85:17)\n",
      "    at osc.UDPPort.emit (node:events:390:28)\n",
      "    at Socket.<anonymous> (/Users/avneeshsarwate/abletonAutomationExtraction/node_modules/osc/src/platforms/osc-node.js:102:18)\n",
      "    at Socket.emit (node:events:390:28)\n",
      "    at UDP.onMessage [as onmessage] (node:dgram:931:8)"
     ]
    },
    {
     "name": "stdout",
     "output_type": "stream",
     "text": [
      "{ address: '/pos', args: [ 0.6427698731422424, 0.7304128408432007 ] }\n"
     ]
    },
    {
     "name": "stderr",
     "output_type": "stream",
     "text": [
      "TypeError: udp_osc_port.sendMsg is not a function\n",
      "    at Object.handlers./pos (evalmachine.<anonymous>:62:18)\n",
      "    at osc.UDPPort.<anonymous> (evalmachine.<anonymous>:72:44)\n",
      "    at osc.UDPPort.emit (node:events:390:28)\n",
      "    at Object.osc.firePacketEvents (/Users/avneeshsarwate/abletonAutomationExtraction/node_modules/osc/src/osc-transports.js:25:18)\n",
      "    at osc.UDPPort.p.decodeOSC (/Users/avneeshsarwate/abletonAutomationExtraction/node_modules/osc/src/osc-transports.js:85:17)\n",
      "    at osc.UDPPort.emit (node:events:390:28)\n",
      "    at Socket.<anonymous> (/Users/avneeshsarwate/abletonAutomationExtraction/node_modules/osc/src/platforms/osc-node.js:102:18)\n",
      "    at Socket.emit (node:events:390:28)\n",
      "    at UDP.onMessage [as onmessage] (node:dgram:931:8)"
     ]
    },
    {
     "name": "stdout",
     "output_type": "stream",
     "text": [
      "{ address: '/pos', args: [ 0.6381218433380127, 0.7304128408432007 ] }\n"
     ]
    },
    {
     "name": "stderr",
     "output_type": "stream",
     "text": [
      "TypeError: udp_osc_port.sendMsg is not a function\n",
      "    at Object.handlers./pos (evalmachine.<anonymous>:62:18)\n",
      "    at osc.UDPPort.<anonymous> (evalmachine.<anonymous>:72:44)\n",
      "    at osc.UDPPort.emit (node:events:390:28)\n",
      "    at Object.osc.firePacketEvents (/Users/avneeshsarwate/abletonAutomationExtraction/node_modules/osc/src/osc-transports.js:25:18)\n",
      "    at osc.UDPPort.p.decodeOSC (/Users/avneeshsarwate/abletonAutomationExtraction/node_modules/osc/src/osc-transports.js:85:17)\n",
      "    at osc.UDPPort.emit (node:events:390:28)\n",
      "    at Socket.<anonymous> (/Users/avneeshsarwate/abletonAutomationExtraction/node_modules/osc/src/platforms/osc-node.js:102:18)\n",
      "    at Socket.emit (node:events:390:28)\n",
      "    at UDP.onMessage [as onmessage] (node:dgram:931:8)"
     ]
    },
    {
     "name": "stdout",
     "output_type": "stream",
     "text": [
      "{ address: '/pos', args: [ 0.6381218433380127, 0.7291043996810913 ] }\n"
     ]
    },
    {
     "name": "stderr",
     "output_type": "stream",
     "text": [
      "TypeError: udp_osc_port.sendMsg is not a function\n",
      "    at Object.handlers./pos (evalmachine.<anonymous>:62:18)\n",
      "    at osc.UDPPort.<anonymous> (evalmachine.<anonymous>:72:44)\n",
      "    at osc.UDPPort.emit (node:events:390:28)\n",
      "    at Object.osc.firePacketEvents (/Users/avneeshsarwate/abletonAutomationExtraction/node_modules/osc/src/osc-transports.js:25:18)\n",
      "    at osc.UDPPort.p.decodeOSC (/Users/avneeshsarwate/abletonAutomationExtraction/node_modules/osc/src/osc-transports.js:85:17)\n",
      "    at osc.UDPPort.emit (node:events:390:28)\n",
      "    at Socket.<anonymous> (/Users/avneeshsarwate/abletonAutomationExtraction/node_modules/osc/src/platforms/osc-node.js:102:18)\n",
      "    at Socket.emit (node:events:390:28)\n",
      "    at UDP.onMessage [as onmessage] (node:dgram:931:8)"
     ]
    },
    {
     "name": "stdout",
     "output_type": "stream",
     "text": [
      "{ address: '/pos', args: [ 0.6335422396659851, 0.7291043996810913 ] }\n"
     ]
    },
    {
     "name": "stderr",
     "output_type": "stream",
     "text": [
      "TypeError: udp_osc_port.sendMsg is not a function\n",
      "    at Object.handlers./pos (evalmachine.<anonymous>:62:18)\n",
      "    at osc.UDPPort.<anonymous> (evalmachine.<anonymous>:72:44)\n",
      "    at osc.UDPPort.emit (node:events:390:28)\n",
      "    at Object.osc.firePacketEvents (/Users/avneeshsarwate/abletonAutomationExtraction/node_modules/osc/src/osc-transports.js:25:18)\n",
      "    at osc.UDPPort.p.decodeOSC (/Users/avneeshsarwate/abletonAutomationExtraction/node_modules/osc/src/osc-transports.js:85:17)\n",
      "    at osc.UDPPort.emit (node:events:390:28)\n",
      "    at Socket.<anonymous> (/Users/avneeshsarwate/abletonAutomationExtraction/node_modules/osc/src/platforms/osc-node.js:102:18)\n",
      "    at Socket.emit (node:events:390:28)\n",
      "    at UDP.onMessage [as onmessage] (node:dgram:931:8)"
     ]
    },
    {
     "name": "stdout",
     "output_type": "stream",
     "text": [
      "{ address: '/pos', args: [ 0.6335422396659851, 0.7286479473114014 ] }\n"
     ]
    },
    {
     "name": "stderr",
     "output_type": "stream",
     "text": [
      "TypeError: udp_osc_port.sendMsg is not a function\n",
      "    at Object.handlers./pos (evalmachine.<anonymous>:62:18)\n",
      "    at osc.UDPPort.<anonymous> (evalmachine.<anonymous>:72:44)\n",
      "    at osc.UDPPort.emit (node:events:390:28)\n",
      "    at Object.osc.firePacketEvents (/Users/avneeshsarwate/abletonAutomationExtraction/node_modules/osc/src/osc-transports.js:25:18)\n",
      "    at osc.UDPPort.p.decodeOSC (/Users/avneeshsarwate/abletonAutomationExtraction/node_modules/osc/src/osc-transports.js:85:17)\n",
      "    at osc.UDPPort.emit (node:events:390:28)\n",
      "    at Socket.<anonymous> (/Users/avneeshsarwate/abletonAutomationExtraction/node_modules/osc/src/platforms/osc-node.js:102:18)\n",
      "    at Socket.emit (node:events:390:28)\n",
      "    at UDP.onMessage [as onmessage] (node:dgram:931:8)"
     ]
    },
    {
     "name": "stdout",
     "output_type": "stream",
     "text": [
      "{ address: '/pos', args: [ 0.627745509147644, 0.7286479473114014 ] }\n"
     ]
    },
    {
     "name": "stderr",
     "output_type": "stream",
     "text": [
      "TypeError: udp_osc_port.sendMsg is not a function\n",
      "    at Object.handlers./pos (evalmachine.<anonymous>:62:18)\n",
      "    at osc.UDPPort.<anonymous> (evalmachine.<anonymous>:72:44)\n",
      "    at osc.UDPPort.emit (node:events:390:28)\n",
      "    at Object.osc.firePacketEvents (/Users/avneeshsarwate/abletonAutomationExtraction/node_modules/osc/src/osc-transports.js:25:18)\n",
      "    at osc.UDPPort.p.decodeOSC (/Users/avneeshsarwate/abletonAutomationExtraction/node_modules/osc/src/osc-transports.js:85:17)\n",
      "    at osc.UDPPort.emit (node:events:390:28)\n",
      "    at Socket.<anonymous> (/Users/avneeshsarwate/abletonAutomationExtraction/node_modules/osc/src/platforms/osc-node.js:102:18)\n",
      "    at Socket.emit (node:events:390:28)\n",
      "    at UDP.onMessage [as onmessage] (node:dgram:931:8)"
     ]
    },
    {
     "name": "stdout",
     "output_type": "stream",
     "text": [
      "{ address: '/pos', args: [ 0.627745509147644, 0.7280317544937134 ] }\n"
     ]
    },
    {
     "name": "stderr",
     "output_type": "stream",
     "text": [
      "TypeError: udp_osc_port.sendMsg is not a function\n",
      "    at Object.handlers./pos (evalmachine.<anonymous>:62:18)\n",
      "    at osc.UDPPort.<anonymous> (evalmachine.<anonymous>:72:44)\n",
      "    at osc.UDPPort.emit (node:events:390:28)\n",
      "    at Object.osc.firePacketEvents (/Users/avneeshsarwate/abletonAutomationExtraction/node_modules/osc/src/osc-transports.js:25:18)\n",
      "    at osc.UDPPort.p.decodeOSC (/Users/avneeshsarwate/abletonAutomationExtraction/node_modules/osc/src/osc-transports.js:85:17)\n",
      "    at osc.UDPPort.emit (node:events:390:28)\n",
      "    at Socket.<anonymous> (/Users/avneeshsarwate/abletonAutomationExtraction/node_modules/osc/src/platforms/osc-node.js:102:18)\n",
      "    at Socket.emit (node:events:390:28)\n",
      "    at UDP.onMessage [as onmessage] (node:dgram:931:8)"
     ]
    },
    {
     "name": "stdout",
     "output_type": "stream",
     "text": [
      "{ address: '/pos', args: [ 0.6204577088356018, 0.7280317544937134 ] }\n"
     ]
    },
    {
     "name": "stderr",
     "output_type": "stream",
     "text": [
      "TypeError: udp_osc_port.sendMsg is not a function\n",
      "    at Object.handlers./pos (evalmachine.<anonymous>:62:18)\n",
      "    at osc.UDPPort.<anonymous> (evalmachine.<anonymous>:72:44)\n",
      "    at osc.UDPPort.emit (node:events:390:28)\n",
      "    at Object.osc.firePacketEvents (/Users/avneeshsarwate/abletonAutomationExtraction/node_modules/osc/src/osc-transports.js:25:18)\n",
      "    at osc.UDPPort.p.decodeOSC (/Users/avneeshsarwate/abletonAutomationExtraction/node_modules/osc/src/osc-transports.js:85:17)\n",
      "    at osc.UDPPort.emit (node:events:390:28)\n",
      "    at Socket.<anonymous> (/Users/avneeshsarwate/abletonAutomationExtraction/node_modules/osc/src/platforms/osc-node.js:102:18)\n",
      "    at Socket.emit (node:events:390:28)\n",
      "    at UDP.onMessage [as onmessage] (node:dgram:931:8)"
     ]
    },
    {
     "name": "stdout",
     "output_type": "stream",
     "text": [
      "{ address: '/pos', args: [ 0.6204577088356018, 0.7280013561248779 ] }\n"
     ]
    },
    {
     "name": "stderr",
     "output_type": "stream",
     "text": [
      "TypeError: udp_osc_port.sendMsg is not a function\n",
      "    at Object.handlers./pos (evalmachine.<anonymous>:62:18)\n",
      "    at osc.UDPPort.<anonymous> (evalmachine.<anonymous>:72:44)\n",
      "    at osc.UDPPort.emit (node:events:390:28)\n",
      "    at Object.osc.firePacketEvents (/Users/avneeshsarwate/abletonAutomationExtraction/node_modules/osc/src/osc-transports.js:25:18)\n",
      "    at osc.UDPPort.p.decodeOSC (/Users/avneeshsarwate/abletonAutomationExtraction/node_modules/osc/src/osc-transports.js:85:17)\n",
      "    at osc.UDPPort.emit (node:events:390:28)\n",
      "    at Socket.<anonymous> (/Users/avneeshsarwate/abletonAutomationExtraction/node_modules/osc/src/platforms/osc-node.js:102:18)\n",
      "    at Socket.emit (node:events:390:28)\n",
      "    at UDP.onMessage [as onmessage] (node:dgram:931:8)"
     ]
    },
    {
     "name": "stdout",
     "output_type": "stream",
     "text": [
      "{ address: '/pos', args: [ 0.6125613451004028, 0.7280013561248779 ] }\n"
     ]
    },
    {
     "name": "stderr",
     "output_type": "stream",
     "text": [
      "TypeError: udp_osc_port.sendMsg is not a function\n",
      "    at Object.handlers./pos (evalmachine.<anonymous>:62:18)\n",
      "    at osc.UDPPort.<anonymous> (evalmachine.<anonymous>:72:44)\n",
      "    at osc.UDPPort.emit (node:events:390:28)\n",
      "    at Object.osc.firePacketEvents (/Users/avneeshsarwate/abletonAutomationExtraction/node_modules/osc/src/osc-transports.js:25:18)\n",
      "    at osc.UDPPort.p.decodeOSC (/Users/avneeshsarwate/abletonAutomationExtraction/node_modules/osc/src/osc-transports.js:85:17)\n",
      "    at osc.UDPPort.emit (node:events:390:28)\n",
      "    at Socket.<anonymous> (/Users/avneeshsarwate/abletonAutomationExtraction/node_modules/osc/src/platforms/osc-node.js:102:18)\n",
      "    at Socket.emit (node:events:390:28)\n",
      "    at UDP.onMessage [as onmessage] (node:dgram:931:8)"
     ]
    },
    {
     "name": "stdout",
     "output_type": "stream",
     "text": [
      "{ address: '/pos', args: [ 0.6047562956809998, 0.7280013561248779 ] }\n"
     ]
    },
    {
     "name": "stderr",
     "output_type": "stream",
     "text": [
      "TypeError: udp_osc_port.sendMsg is not a function\n",
      "    at Object.handlers./pos (evalmachine.<anonymous>:62:18)\n",
      "    at osc.UDPPort.<anonymous> (evalmachine.<anonymous>:72:44)\n",
      "    at osc.UDPPort.emit (node:events:390:28)\n",
      "    at Object.osc.firePacketEvents (/Users/avneeshsarwate/abletonAutomationExtraction/node_modules/osc/src/osc-transports.js:25:18)\n",
      "    at osc.UDPPort.p.decodeOSC (/Users/avneeshsarwate/abletonAutomationExtraction/node_modules/osc/src/osc-transports.js:85:17)\n",
      "    at osc.UDPPort.emit (node:events:390:28)\n",
      "    at Socket.<anonymous> (/Users/avneeshsarwate/abletonAutomationExtraction/node_modules/osc/src/platforms/osc-node.js:102:18)\n",
      "    at Socket.emit (node:events:390:28)\n",
      "    at UDP.onMessage [as onmessage] (node:dgram:931:8)"
     ]
    },
    {
     "name": "stdout",
     "output_type": "stream",
     "text": [
      "{ address: '/pos', args: [ 0.5969892740249634, 0.7280013561248779 ] }\n"
     ]
    },
    {
     "name": "stderr",
     "output_type": "stream",
     "text": [
      "TypeError: udp_osc_port.sendMsg is not a function\n",
      "    at Object.handlers./pos (evalmachine.<anonymous>:62:18)\n",
      "    at osc.UDPPort.<anonymous> (evalmachine.<anonymous>:72:44)\n",
      "    at osc.UDPPort.emit (node:events:390:28)\n",
      "    at Object.osc.firePacketEvents (/Users/avneeshsarwate/abletonAutomationExtraction/node_modules/osc/src/osc-transports.js:25:18)\n",
      "    at osc.UDPPort.p.decodeOSC (/Users/avneeshsarwate/abletonAutomationExtraction/node_modules/osc/src/osc-transports.js:85:17)\n",
      "    at osc.UDPPort.emit (node:events:390:28)\n",
      "    at Socket.<anonymous> (/Users/avneeshsarwate/abletonAutomationExtraction/node_modules/osc/src/platforms/osc-node.js:102:18)\n",
      "    at Socket.emit (node:events:390:28)\n",
      "    at UDP.onMessage [as onmessage] (node:dgram:931:8)"
     ]
    },
    {
     "name": "stdout",
     "output_type": "stream",
     "text": [
      "{ address: '/pos', args: [ 0.5969892740249634, 0.7272406220436096 ] }\n"
     ]
    },
    {
     "name": "stderr",
     "output_type": "stream",
     "text": [
      "TypeError: udp_osc_port.sendMsg is not a function\n",
      "    at Object.handlers./pos (evalmachine.<anonymous>:62:18)\n",
      "    at osc.UDPPort.<anonymous> (evalmachine.<anonymous>:72:44)\n",
      "    at osc.UDPPort.emit (node:events:390:28)\n",
      "    at Object.osc.firePacketEvents (/Users/avneeshsarwate/abletonAutomationExtraction/node_modules/osc/src/osc-transports.js:25:18)\n",
      "    at osc.UDPPort.p.decodeOSC (/Users/avneeshsarwate/abletonAutomationExtraction/node_modules/osc/src/osc-transports.js:85:17)\n",
      "    at osc.UDPPort.emit (node:events:390:28)\n",
      "    at Socket.<anonymous> (/Users/avneeshsarwate/abletonAutomationExtraction/node_modules/osc/src/platforms/osc-node.js:102:18)\n",
      "    at Socket.emit (node:events:390:28)\n",
      "    at UDP.onMessage [as onmessage] (node:dgram:931:8)"
     ]
    },
    {
     "name": "stdout",
     "output_type": "stream",
     "text": [
      "{ address: '/pos', args: [ 0.5907208323478699, 0.7272406220436096 ] }\n"
     ]
    },
    {
     "name": "stderr",
     "output_type": "stream",
     "text": [
      "TypeError: udp_osc_port.sendMsg is not a function\n",
      "    at Object.handlers./pos (evalmachine.<anonymous>:62:18)\n",
      "    at osc.UDPPort.<anonymous> (evalmachine.<anonymous>:72:44)\n",
      "    at osc.UDPPort.emit (node:events:390:28)\n",
      "    at Object.osc.firePacketEvents (/Users/avneeshsarwate/abletonAutomationExtraction/node_modules/osc/src/osc-transports.js:25:18)\n",
      "    at osc.UDPPort.p.decodeOSC (/Users/avneeshsarwate/abletonAutomationExtraction/node_modules/osc/src/osc-transports.js:85:17)\n",
      "    at osc.UDPPort.emit (node:events:390:28)\n",
      "    at Socket.<anonymous> (/Users/avneeshsarwate/abletonAutomationExtraction/node_modules/osc/src/platforms/osc-node.js:102:18)\n",
      "    at Socket.emit (node:events:390:28)\n",
      "    at UDP.onMessage [as onmessage] (node:dgram:931:8)"
     ]
    },
    {
     "name": "stdout",
     "output_type": "stream",
     "text": [
      "{ address: '/pos', args: [ 0.5907208323478699, 0.7261984348297119 ] }\n"
     ]
    },
    {
     "name": "stderr",
     "output_type": "stream",
     "text": [
      "TypeError: udp_osc_port.sendMsg is not a function\n",
      "    at Object.handlers./pos (evalmachine.<anonymous>:62:18)\n",
      "    at osc.UDPPort.<anonymous> (evalmachine.<anonymous>:72:44)\n",
      "    at osc.UDPPort.emit (node:events:390:28)\n",
      "    at Object.osc.firePacketEvents (/Users/avneeshsarwate/abletonAutomationExtraction/node_modules/osc/src/osc-transports.js:25:18)\n",
      "    at osc.UDPPort.p.decodeOSC (/Users/avneeshsarwate/abletonAutomationExtraction/node_modules/osc/src/osc-transports.js:85:17)\n",
      "    at osc.UDPPort.emit (node:events:390:28)\n",
      "    at Socket.<anonymous> (/Users/avneeshsarwate/abletonAutomationExtraction/node_modules/osc/src/platforms/osc-node.js:102:18)\n",
      "    at Socket.emit (node:events:390:28)\n",
      "    at UDP.onMessage [as onmessage] (node:dgram:931:8)"
     ]
    },
    {
     "name": "stdout",
     "output_type": "stream",
     "text": [
      "{ address: '/pos', args: [ 0.5844600796699524, 0.7261984348297119 ] }\n"
     ]
    },
    {
     "name": "stderr",
     "output_type": "stream",
     "text": [
      "TypeError: udp_osc_port.sendMsg is not a function\n",
      "    at Object.handlers./pos (evalmachine.<anonymous>:62:18)\n",
      "    at osc.UDPPort.<anonymous> (evalmachine.<anonymous>:72:44)\n",
      "    at osc.UDPPort.emit (node:events:390:28)\n",
      "    at Object.osc.firePacketEvents (/Users/avneeshsarwate/abletonAutomationExtraction/node_modules/osc/src/osc-transports.js:25:18)\n",
      "    at osc.UDPPort.p.decodeOSC (/Users/avneeshsarwate/abletonAutomationExtraction/node_modules/osc/src/osc-transports.js:85:17)\n",
      "    at osc.UDPPort.emit (node:events:390:28)\n",
      "    at Socket.<anonymous> (/Users/avneeshsarwate/abletonAutomationExtraction/node_modules/osc/src/platforms/osc-node.js:102:18)\n",
      "    at Socket.emit (node:events:390:28)\n",
      "    at UDP.onMessage [as onmessage] (node:dgram:931:8)"
     ]
    },
    {
     "name": "stdout",
     "output_type": "stream",
     "text": [
      "{ address: '/pos', args: [ 0.5844600796699524, 0.7248290777206421 ] }\n"
     ]
    },
    {
     "name": "stderr",
     "output_type": "stream",
     "text": [
      "TypeError: udp_osc_port.sendMsg is not a function\n",
      "    at Object.handlers./pos (evalmachine.<anonymous>:62:18)\n",
      "    at osc.UDPPort.<anonymous> (evalmachine.<anonymous>:72:44)\n",
      "    at osc.UDPPort.emit (node:events:390:28)\n",
      "    at Object.osc.firePacketEvents (/Users/avneeshsarwate/abletonAutomationExtraction/node_modules/osc/src/osc-transports.js:25:18)\n",
      "    at osc.UDPPort.p.decodeOSC (/Users/avneeshsarwate/abletonAutomationExtraction/node_modules/osc/src/osc-transports.js:85:17)\n",
      "    at osc.UDPPort.emit (node:events:390:28)\n",
      "    at Socket.<anonymous> (/Users/avneeshsarwate/abletonAutomationExtraction/node_modules/osc/src/platforms/osc-node.js:102:18)\n",
      "    at Socket.emit (node:events:390:28)\n",
      "    at UDP.onMessage [as onmessage] (node:dgram:931:8)"
     ]
    },
    {
     "name": "stdout",
     "output_type": "stream",
     "text": [
      "{ address: '/pos', args: [ 0.5781993269920349, 0.7248290777206421 ] }\n"
     ]
    },
    {
     "name": "stderr",
     "output_type": "stream",
     "text": [
      "TypeError: udp_osc_port.sendMsg is not a function\n",
      "    at Object.handlers./pos (evalmachine.<anonymous>:62:18)\n",
      "    at osc.UDPPort.<anonymous> (evalmachine.<anonymous>:72:44)\n",
      "    at osc.UDPPort.emit (node:events:390:28)\n",
      "    at Object.osc.firePacketEvents (/Users/avneeshsarwate/abletonAutomationExtraction/node_modules/osc/src/osc-transports.js:25:18)\n",
      "    at osc.UDPPort.p.decodeOSC (/Users/avneeshsarwate/abletonAutomationExtraction/node_modules/osc/src/osc-transports.js:85:17)\n",
      "    at osc.UDPPort.emit (node:events:390:28)\n",
      "    at Socket.<anonymous> (/Users/avneeshsarwate/abletonAutomationExtraction/node_modules/osc/src/platforms/osc-node.js:102:18)\n",
      "    at Socket.emit (node:events:390:28)\n",
      "    at UDP.onMessage [as onmessage] (node:dgram:931:8)"
     ]
    },
    {
     "name": "stdout",
     "output_type": "stream",
     "text": [
      "{ address: '/pos', args: [ 0.5781993269920349, 0.7231251001358032 ] }\n"
     ]
    },
    {
     "name": "stderr",
     "output_type": "stream",
     "text": [
      "TypeError: udp_osc_port.sendMsg is not a function\n",
      "    at Object.handlers./pos (evalmachine.<anonymous>:62:18)\n",
      "    at osc.UDPPort.<anonymous> (evalmachine.<anonymous>:72:44)\n",
      "    at osc.UDPPort.emit (node:events:390:28)\n",
      "    at Object.osc.firePacketEvents (/Users/avneeshsarwate/abletonAutomationExtraction/node_modules/osc/src/osc-transports.js:25:18)\n",
      "    at osc.UDPPort.p.decodeOSC (/Users/avneeshsarwate/abletonAutomationExtraction/node_modules/osc/src/osc-transports.js:85:17)\n",
      "    at osc.UDPPort.emit (node:events:390:28)\n",
      "    at Socket.<anonymous> (/Users/avneeshsarwate/abletonAutomationExtraction/node_modules/osc/src/platforms/osc-node.js:102:18)\n",
      "    at Socket.emit (node:events:390:28)\n",
      "    at UDP.onMessage [as onmessage] (node:dgram:931:8)"
     ]
    },
    {
     "name": "stdout",
     "output_type": "stream",
     "text": [
      "{ address: '/pos', args: [ 0.571466863155365, 0.7231251001358032 ] }\n"
     ]
    },
    {
     "name": "stderr",
     "output_type": "stream",
     "text": [
      "TypeError: udp_osc_port.sendMsg is not a function\n",
      "    at Object.handlers./pos (evalmachine.<anonymous>:62:18)\n",
      "    at osc.UDPPort.<anonymous> (evalmachine.<anonymous>:72:44)\n",
      "    at osc.UDPPort.emit (node:events:390:28)\n",
      "    at Object.osc.firePacketEvents (/Users/avneeshsarwate/abletonAutomationExtraction/node_modules/osc/src/osc-transports.js:25:18)\n",
      "    at osc.UDPPort.p.decodeOSC (/Users/avneeshsarwate/abletonAutomationExtraction/node_modules/osc/src/osc-transports.js:85:17)\n",
      "    at osc.UDPPort.emit (node:events:390:28)\n",
      "    at Socket.<anonymous> (/Users/avneeshsarwate/abletonAutomationExtraction/node_modules/osc/src/platforms/osc-node.js:102:18)\n",
      "    at Socket.emit (node:events:390:28)\n",
      "    at UDP.onMessage [as onmessage] (node:dgram:931:8)"
     ]
    },
    {
     "name": "stdout",
     "output_type": "stream",
     "text": [
      "{ address: '/pos', args: [ 0.571466863155365, 0.7210330963134766 ] }\n"
     ]
    },
    {
     "name": "stderr",
     "output_type": "stream",
     "text": [
      "TypeError: udp_osc_port.sendMsg is not a function\n",
      "    at Object.handlers./pos (evalmachine.<anonymous>:62:18)\n",
      "    at osc.UDPPort.<anonymous> (evalmachine.<anonymous>:72:44)\n",
      "    at osc.UDPPort.emit (node:events:390:28)\n",
      "    at Object.osc.firePacketEvents (/Users/avneeshsarwate/abletonAutomationExtraction/node_modules/osc/src/osc-transports.js:25:18)\n",
      "    at osc.UDPPort.p.decodeOSC (/Users/avneeshsarwate/abletonAutomationExtraction/node_modules/osc/src/osc-transports.js:85:17)\n",
      "    at osc.UDPPort.emit (node:events:390:28)\n",
      "    at Socket.<anonymous> (/Users/avneeshsarwate/abletonAutomationExtraction/node_modules/osc/src/platforms/osc-node.js:102:18)\n",
      "    at Socket.emit (node:events:390:28)\n",
      "    at UDP.onMessage [as onmessage] (node:dgram:931:8)"
     ]
    },
    {
     "name": "stdout",
     "output_type": "stream",
     "text": [
      "{ address: '/pos', args: [ 0.563182532787323, 0.7210330963134766 ] }\n"
     ]
    },
    {
     "name": "stderr",
     "output_type": "stream",
     "text": [
      "TypeError: udp_osc_port.sendMsg is not a function\n",
      "    at Object.handlers./pos (evalmachine.<anonymous>:62:18)\n",
      "    at osc.UDPPort.<anonymous> (evalmachine.<anonymous>:72:44)\n",
      "    at osc.UDPPort.emit (node:events:390:28)\n",
      "    at Object.osc.firePacketEvents (/Users/avneeshsarwate/abletonAutomationExtraction/node_modules/osc/src/osc-transports.js:25:18)\n",
      "    at osc.UDPPort.p.decodeOSC (/Users/avneeshsarwate/abletonAutomationExtraction/node_modules/osc/src/osc-transports.js:85:17)\n",
      "    at osc.UDPPort.emit (node:events:390:28)\n",
      "    at Socket.<anonymous> (/Users/avneeshsarwate/abletonAutomationExtraction/node_modules/osc/src/platforms/osc-node.js:102:18)\n",
      "    at Socket.emit (node:events:390:28)\n",
      "    at UDP.onMessage [as onmessage] (node:dgram:931:8)"
     ]
    },
    {
     "name": "stdout",
     "output_type": "stream",
     "text": [
      "{ address: '/pos', args: [ 0.563182532787323, 0.717617392539978 ] }\n"
     ]
    },
    {
     "name": "stderr",
     "output_type": "stream",
     "text": [
      "TypeError: udp_osc_port.sendMsg is not a function\n",
      "    at Object.handlers./pos (evalmachine.<anonymous>:62:18)\n",
      "    at osc.UDPPort.<anonymous> (evalmachine.<anonymous>:72:44)\n",
      "    at osc.UDPPort.emit (node:events:390:28)\n",
      "    at Object.osc.firePacketEvents (/Users/avneeshsarwate/abletonAutomationExtraction/node_modules/osc/src/osc-transports.js:25:18)\n",
      "    at osc.UDPPort.p.decodeOSC (/Users/avneeshsarwate/abletonAutomationExtraction/node_modules/osc/src/osc-transports.js:85:17)\n",
      "    at osc.UDPPort.emit (node:events:390:28)\n",
      "    at Socket.<anonymous> (/Users/avneeshsarwate/abletonAutomationExtraction/node_modules/osc/src/platforms/osc-node.js:102:18)\n",
      "    at Socket.emit (node:events:390:28)\n",
      "    at UDP.onMessage [as onmessage] (node:dgram:931:8)"
     ]
    },
    {
     "name": "stdout",
     "output_type": "stream",
     "text": [
      "{ address: '/pos', args: [ 0.555080771446228, 0.717617392539978 ] }\n"
     ]
    },
    {
     "name": "stderr",
     "output_type": "stream",
     "text": [
      "TypeError: udp_osc_port.sendMsg is not a function\n",
      "    at Object.handlers./pos (evalmachine.<anonymous>:62:18)\n",
      "    at osc.UDPPort.<anonymous> (evalmachine.<anonymous>:72:44)\n",
      "    at osc.UDPPort.emit (node:events:390:28)\n",
      "    at Object.osc.firePacketEvents (/Users/avneeshsarwate/abletonAutomationExtraction/node_modules/osc/src/osc-transports.js:25:18)\n",
      "    at osc.UDPPort.p.decodeOSC (/Users/avneeshsarwate/abletonAutomationExtraction/node_modules/osc/src/osc-transports.js:85:17)\n",
      "    at osc.UDPPort.emit (node:events:390:28)\n",
      "    at Socket.<anonymous> (/Users/avneeshsarwate/abletonAutomationExtraction/node_modules/osc/src/platforms/osc-node.js:102:18)\n",
      "    at Socket.emit (node:events:390:28)\n",
      "    at UDP.onMessage [as onmessage] (node:dgram:931:8)"
     ]
    },
    {
     "name": "stdout",
     "output_type": "stream",
     "text": [
      "{ address: '/pos', args: [ 0.555080771446228, 0.713988721370697 ] }\n"
     ]
    },
    {
     "name": "stderr",
     "output_type": "stream",
     "text": [
      "TypeError: udp_osc_port.sendMsg is not a function\n",
      "    at Object.handlers./pos (evalmachine.<anonymous>:62:18)\n",
      "    at osc.UDPPort.<anonymous> (evalmachine.<anonymous>:72:44)\n",
      "    at osc.UDPPort.emit (node:events:390:28)\n",
      "    at Object.osc.firePacketEvents (/Users/avneeshsarwate/abletonAutomationExtraction/node_modules/osc/src/osc-transports.js:25:18)\n",
      "    at osc.UDPPort.p.decodeOSC (/Users/avneeshsarwate/abletonAutomationExtraction/node_modules/osc/src/osc-transports.js:85:17)\n",
      "    at osc.UDPPort.emit (node:events:390:28)\n",
      "    at Socket.<anonymous> (/Users/avneeshsarwate/abletonAutomationExtraction/node_modules/osc/src/platforms/osc-node.js:102:18)\n",
      "    at Socket.emit (node:events:390:28)\n",
      "    at UDP.onMessage [as onmessage] (node:dgram:931:8)"
     ]
    },
    {
     "name": "stdout",
     "output_type": "stream",
     "text": [
      "{ address: '/pos', args: [ 0.547389805316925, 0.713988721370697 ] }\n"
     ]
    },
    {
     "name": "stderr",
     "output_type": "stream",
     "text": [
      "TypeError: udp_osc_port.sendMsg is not a function\n",
      "    at Object.handlers./pos (evalmachine.<anonymous>:62:18)\n",
      "    at osc.UDPPort.<anonymous> (evalmachine.<anonymous>:72:44)\n",
      "    at osc.UDPPort.emit (node:events:390:28)\n",
      "    at Object.osc.firePacketEvents (/Users/avneeshsarwate/abletonAutomationExtraction/node_modules/osc/src/osc-transports.js:25:18)\n",
      "    at osc.UDPPort.p.decodeOSC (/Users/avneeshsarwate/abletonAutomationExtraction/node_modules/osc/src/osc-transports.js:85:17)\n",
      "    at osc.UDPPort.emit (node:events:390:28)\n",
      "    at Socket.<anonymous> (/Users/avneeshsarwate/abletonAutomationExtraction/node_modules/osc/src/platforms/osc-node.js:102:18)\n",
      "    at Socket.emit (node:events:390:28)\n",
      "    at UDP.onMessage [as onmessage] (node:dgram:931:8)"
     ]
    },
    {
     "name": "stdout",
     "output_type": "stream",
     "text": [
      "{ address: '/pos', args: [ 0.547389805316925, 0.7105197906494141 ] }\n"
     ]
    },
    {
     "name": "stderr",
     "output_type": "stream",
     "text": [
      "TypeError: udp_osc_port.sendMsg is not a function\n",
      "    at Object.handlers./pos (evalmachine.<anonymous>:62:18)\n",
      "    at osc.UDPPort.<anonymous> (evalmachine.<anonymous>:72:44)\n",
      "    at osc.UDPPort.emit (node:events:390:28)\n",
      "    at Object.osc.firePacketEvents (/Users/avneeshsarwate/abletonAutomationExtraction/node_modules/osc/src/osc-transports.js:25:18)\n",
      "    at osc.UDPPort.p.decodeOSC (/Users/avneeshsarwate/abletonAutomationExtraction/node_modules/osc/src/osc-transports.js:85:17)\n",
      "    at osc.UDPPort.emit (node:events:390:28)\n",
      "    at Socket.<anonymous> (/Users/avneeshsarwate/abletonAutomationExtraction/node_modules/osc/src/platforms/osc-node.js:102:18)\n",
      "    at Socket.emit (node:events:390:28)\n",
      "    at UDP.onMessage [as onmessage] (node:dgram:931:8)"
     ]
    },
    {
     "name": "stdout",
     "output_type": "stream",
     "text": [
      "{ address: '/pos', args: [ 0.5401933193206787, 0.7105197906494141 ] }\n"
     ]
    },
    {
     "name": "stderr",
     "output_type": "stream",
     "text": [
      "TypeError: udp_osc_port.sendMsg is not a function\n",
      "    at Object.handlers./pos (evalmachine.<anonymous>:62:18)\n",
      "    at osc.UDPPort.<anonymous> (evalmachine.<anonymous>:72:44)\n",
      "    at osc.UDPPort.emit (node:events:390:28)\n",
      "    at Object.osc.firePacketEvents (/Users/avneeshsarwate/abletonAutomationExtraction/node_modules/osc/src/osc-transports.js:25:18)\n",
      "    at osc.UDPPort.p.decodeOSC (/Users/avneeshsarwate/abletonAutomationExtraction/node_modules/osc/src/osc-transports.js:85:17)\n",
      "    at osc.UDPPort.emit (node:events:390:28)\n",
      "    at Socket.<anonymous> (/Users/avneeshsarwate/abletonAutomationExtraction/node_modules/osc/src/platforms/osc-node.js:102:18)\n",
      "    at Socket.emit (node:events:390:28)\n",
      "    at UDP.onMessage [as onmessage] (node:dgram:931:8)"
     ]
    },
    {
     "name": "stdout",
     "output_type": "stream",
     "text": [
      "{ address: '/pos', args: [ 0.5401933193206787, 0.7072030305862427 ] }\n"
     ]
    },
    {
     "name": "stderr",
     "output_type": "stream",
     "text": [
      "TypeError: udp_osc_port.sendMsg is not a function\n",
      "    at Object.handlers./pos (evalmachine.<anonymous>:62:18)\n",
      "    at osc.UDPPort.<anonymous> (evalmachine.<anonymous>:72:44)\n",
      "    at osc.UDPPort.emit (node:events:390:28)\n",
      "    at Object.osc.firePacketEvents (/Users/avneeshsarwate/abletonAutomationExtraction/node_modules/osc/src/osc-transports.js:25:18)\n",
      "    at osc.UDPPort.p.decodeOSC (/Users/avneeshsarwate/abletonAutomationExtraction/node_modules/osc/src/osc-transports.js:85:17)\n",
      "    at osc.UDPPort.emit (node:events:390:28)\n",
      "    at Socket.<anonymous> (/Users/avneeshsarwate/abletonAutomationExtraction/node_modules/osc/src/platforms/osc-node.js:102:18)\n",
      "    at Socket.emit (node:events:390:28)\n",
      "    at UDP.onMessage [as onmessage] (node:dgram:931:8)"
     ]
    },
    {
     "name": "stdout",
     "output_type": "stream",
     "text": [
      "{ address: '/pos', args: [ 0.5333011150360107, 0.7072030305862427 ] }\n"
     ]
    },
    {
     "name": "stderr",
     "output_type": "stream",
     "text": [
      "TypeError: udp_osc_port.sendMsg is not a function\n",
      "    at Object.handlers./pos (evalmachine.<anonymous>:62:18)\n",
      "    at osc.UDPPort.<anonymous> (evalmachine.<anonymous>:72:44)\n",
      "    at osc.UDPPort.emit (node:events:390:28)\n",
      "    at Object.osc.firePacketEvents (/Users/avneeshsarwate/abletonAutomationExtraction/node_modules/osc/src/osc-transports.js:25:18)\n",
      "    at osc.UDPPort.p.decodeOSC (/Users/avneeshsarwate/abletonAutomationExtraction/node_modules/osc/src/osc-transports.js:85:17)\n",
      "    at osc.UDPPort.emit (node:events:390:28)\n",
      "    at Socket.<anonymous> (/Users/avneeshsarwate/abletonAutomationExtraction/node_modules/osc/src/platforms/osc-node.js:102:18)\n",
      "    at Socket.emit (node:events:390:28)\n",
      "    at UDP.onMessage [as onmessage] (node:dgram:931:8)"
     ]
    },
    {
     "name": "stdout",
     "output_type": "stream",
     "text": [
      "{ address: '/pos', args: [ 0.5333011150360107, 0.703285276889801 ] }\n"
     ]
    },
    {
     "name": "stderr",
     "output_type": "stream",
     "text": [
      "TypeError: udp_osc_port.sendMsg is not a function\n",
      "    at Object.handlers./pos (evalmachine.<anonymous>:62:18)\n",
      "    at osc.UDPPort.<anonymous> (evalmachine.<anonymous>:72:44)\n",
      "    at osc.UDPPort.emit (node:events:390:28)\n",
      "    at Object.osc.firePacketEvents (/Users/avneeshsarwate/abletonAutomationExtraction/node_modules/osc/src/osc-transports.js:25:18)\n",
      "    at osc.UDPPort.p.decodeOSC (/Users/avneeshsarwate/abletonAutomationExtraction/node_modules/osc/src/osc-transports.js:85:17)\n",
      "    at osc.UDPPort.emit (node:events:390:28)\n",
      "    at Socket.<anonymous> (/Users/avneeshsarwate/abletonAutomationExtraction/node_modules/osc/src/platforms/osc-node.js:102:18)\n",
      "    at Socket.emit (node:events:390:28)\n",
      "    at UDP.onMessage [as onmessage] (node:dgram:931:8)"
     ]
    },
    {
     "name": "stdout",
     "output_type": "stream",
     "text": [
      "{ address: '/pos', args: [ 0.5272989273071289, 0.703285276889801 ] }\n"
     ]
    },
    {
     "name": "stderr",
     "output_type": "stream",
     "text": [
      "TypeError: udp_osc_port.sendMsg is not a function\n",
      "    at Object.handlers./pos (evalmachine.<anonymous>:62:18)\n",
      "    at osc.UDPPort.<anonymous> (evalmachine.<anonymous>:72:44)\n",
      "    at osc.UDPPort.emit (node:events:390:28)\n",
      "    at Object.osc.firePacketEvents (/Users/avneeshsarwate/abletonAutomationExtraction/node_modules/osc/src/osc-transports.js:25:18)\n",
      "    at osc.UDPPort.p.decodeOSC (/Users/avneeshsarwate/abletonAutomationExtraction/node_modules/osc/src/osc-transports.js:85:17)\n",
      "    at osc.UDPPort.emit (node:events:390:28)\n",
      "    at Socket.<anonymous> (/Users/avneeshsarwate/abletonAutomationExtraction/node_modules/osc/src/platforms/osc-node.js:102:18)\n",
      "    at Socket.emit (node:events:390:28)\n",
      "    at UDP.onMessage [as onmessage] (node:dgram:931:8)"
     ]
    },
    {
     "name": "stdout",
     "output_type": "stream",
     "text": [
      "{ address: '/pos', args: [ 0.5272989273071289, 0.69908607006073 ] }\n"
     ]
    },
    {
     "name": "stderr",
     "output_type": "stream",
     "text": [
      "TypeError: udp_osc_port.sendMsg is not a function\n",
      "    at Object.handlers./pos (evalmachine.<anonymous>:62:18)\n",
      "    at osc.UDPPort.<anonymous> (evalmachine.<anonymous>:72:44)\n",
      "    at osc.UDPPort.emit (node:events:390:28)\n",
      "    at Object.osc.firePacketEvents (/Users/avneeshsarwate/abletonAutomationExtraction/node_modules/osc/src/osc-transports.js:25:18)\n",
      "    at osc.UDPPort.p.decodeOSC (/Users/avneeshsarwate/abletonAutomationExtraction/node_modules/osc/src/osc-transports.js:85:17)\n",
      "    at osc.UDPPort.emit (node:events:390:28)\n",
      "    at Socket.<anonymous> (/Users/avneeshsarwate/abletonAutomationExtraction/node_modules/osc/src/platforms/osc-node.js:102:18)\n",
      "    at Socket.emit (node:events:390:28)\n",
      "    at UDP.onMessage [as onmessage] (node:dgram:931:8)"
     ]
    },
    {
     "name": "stdout",
     "output_type": "stream",
     "text": [
      "{ address: '/pos', args: [ 0.5202013850212097, 0.69908607006073 ] }\n"
     ]
    },
    {
     "name": "stderr",
     "output_type": "stream",
     "text": [
      "TypeError: udp_osc_port.sendMsg is not a function\n",
      "    at Object.handlers./pos (evalmachine.<anonymous>:62:18)\n",
      "    at osc.UDPPort.<anonymous> (evalmachine.<anonymous>:72:44)\n",
      "    at osc.UDPPort.emit (node:events:390:28)\n",
      "    at Object.osc.firePacketEvents (/Users/avneeshsarwate/abletonAutomationExtraction/node_modules/osc/src/osc-transports.js:25:18)\n",
      "    at osc.UDPPort.p.decodeOSC (/Users/avneeshsarwate/abletonAutomationExtraction/node_modules/osc/src/osc-transports.js:85:17)\n",
      "    at osc.UDPPort.emit (node:events:390:28)\n",
      "    at Socket.<anonymous> (/Users/avneeshsarwate/abletonAutomationExtraction/node_modules/osc/src/platforms/osc-node.js:102:18)\n",
      "    at Socket.emit (node:events:390:28)\n",
      "    at UDP.onMessage [as onmessage] (node:dgram:931:8)"
     ]
    },
    {
     "name": "stdout",
     "output_type": "stream",
     "text": [
      "{ address: '/pos', args: [ 0.5202013850212097, 0.6937838196754456 ] }\n"
     ]
    },
    {
     "name": "stderr",
     "output_type": "stream",
     "text": [
      "TypeError: udp_osc_port.sendMsg is not a function\n",
      "    at Object.handlers./pos (evalmachine.<anonymous>:62:18)\n",
      "    at osc.UDPPort.<anonymous> (evalmachine.<anonymous>:72:44)\n",
      "    at osc.UDPPort.emit (node:events:390:28)\n",
      "    at Object.osc.firePacketEvents (/Users/avneeshsarwate/abletonAutomationExtraction/node_modules/osc/src/osc-transports.js:25:18)\n",
      "    at osc.UDPPort.p.decodeOSC (/Users/avneeshsarwate/abletonAutomationExtraction/node_modules/osc/src/osc-transports.js:85:17)\n",
      "    at osc.UDPPort.emit (node:events:390:28)\n",
      "    at Socket.<anonymous> (/Users/avneeshsarwate/abletonAutomationExtraction/node_modules/osc/src/platforms/osc-node.js:102:18)\n",
      "    at Socket.emit (node:events:390:28)\n",
      "    at UDP.onMessage [as onmessage] (node:dgram:931:8)"
     ]
    },
    {
     "name": "stdout",
     "output_type": "stream",
     "text": [
      "{ address: '/pos', args: [ 0.5115214586257935, 0.6937838196754456 ] }\n"
     ]
    },
    {
     "name": "stderr",
     "output_type": "stream",
     "text": [
      "TypeError: udp_osc_port.sendMsg is not a function\n",
      "    at Object.handlers./pos (evalmachine.<anonymous>:62:18)\n",
      "    at osc.UDPPort.<anonymous> (evalmachine.<anonymous>:72:44)\n",
      "    at osc.UDPPort.emit (node:events:390:28)\n",
      "    at Object.osc.firePacketEvents (/Users/avneeshsarwate/abletonAutomationExtraction/node_modules/osc/src/osc-transports.js:25:18)\n",
      "    at osc.UDPPort.p.decodeOSC (/Users/avneeshsarwate/abletonAutomationExtraction/node_modules/osc/src/osc-transports.js:85:17)\n",
      "    at osc.UDPPort.emit (node:events:390:28)\n",
      "    at Socket.<anonymous> (/Users/avneeshsarwate/abletonAutomationExtraction/node_modules/osc/src/platforms/osc-node.js:102:18)\n",
      "    at Socket.emit (node:events:390:28)\n",
      "    at UDP.onMessage [as onmessage] (node:dgram:931:8)"
     ]
    },
    {
     "name": "stdout",
     "output_type": "stream",
     "text": [
      "{ address: '/pos', args: [ 0.5115214586257935, 0.687309980392456 ] }\n"
     ]
    },
    {
     "name": "stderr",
     "output_type": "stream",
     "text": [
      "TypeError: udp_osc_port.sendMsg is not a function\n",
      "    at Object.handlers./pos (evalmachine.<anonymous>:62:18)\n",
      "    at osc.UDPPort.<anonymous> (evalmachine.<anonymous>:72:44)\n",
      "    at osc.UDPPort.emit (node:events:390:28)\n",
      "    at Object.osc.firePacketEvents (/Users/avneeshsarwate/abletonAutomationExtraction/node_modules/osc/src/osc-transports.js:25:18)\n",
      "    at osc.UDPPort.p.decodeOSC (/Users/avneeshsarwate/abletonAutomationExtraction/node_modules/osc/src/osc-transports.js:85:17)\n",
      "    at osc.UDPPort.emit (node:events:390:28)\n",
      "    at Socket.<anonymous> (/Users/avneeshsarwate/abletonAutomationExtraction/node_modules/osc/src/platforms/osc-node.js:102:18)\n",
      "    at Socket.emit (node:events:390:28)\n",
      "    at UDP.onMessage [as onmessage] (node:dgram:931:8)"
     ]
    },
    {
     "name": "stdout",
     "output_type": "stream",
     "text": [
      "{ address: '/pos', args: [ 0.5035034418106079, 0.687309980392456 ] }\n"
     ]
    },
    {
     "name": "stderr",
     "output_type": "stream",
     "text": [
      "TypeError: udp_osc_port.sendMsg is not a function\n",
      "    at Object.handlers./pos (evalmachine.<anonymous>:62:18)\n",
      "    at osc.UDPPort.<anonymous> (evalmachine.<anonymous>:72:44)\n",
      "    at osc.UDPPort.emit (node:events:390:28)\n",
      "    at Object.osc.firePacketEvents (/Users/avneeshsarwate/abletonAutomationExtraction/node_modules/osc/src/osc-transports.js:25:18)\n",
      "    at osc.UDPPort.p.decodeOSC (/Users/avneeshsarwate/abletonAutomationExtraction/node_modules/osc/src/osc-transports.js:85:17)\n",
      "    at osc.UDPPort.emit (node:events:390:28)\n",
      "    at Socket.<anonymous> (/Users/avneeshsarwate/abletonAutomationExtraction/node_modules/osc/src/platforms/osc-node.js:102:18)\n",
      "    at Socket.emit (node:events:390:28)\n",
      "    at UDP.onMessage [as onmessage] (node:dgram:931:8)"
     ]
    },
    {
     "name": "stdout",
     "output_type": "stream",
     "text": [
      "{ address: '/pos', args: [ 0.5035034418106079, 0.6806156039237976 ] }\n"
     ]
    },
    {
     "name": "stderr",
     "output_type": "stream",
     "text": [
      "TypeError: udp_osc_port.sendMsg is not a function\n",
      "    at Object.handlers./pos (evalmachine.<anonymous>:62:18)\n",
      "    at osc.UDPPort.<anonymous> (evalmachine.<anonymous>:72:44)\n",
      "    at osc.UDPPort.emit (node:events:390:28)\n",
      "    at Object.osc.firePacketEvents (/Users/avneeshsarwate/abletonAutomationExtraction/node_modules/osc/src/osc-transports.js:25:18)\n",
      "    at osc.UDPPort.p.decodeOSC (/Users/avneeshsarwate/abletonAutomationExtraction/node_modules/osc/src/osc-transports.js:85:17)\n",
      "    at osc.UDPPort.emit (node:events:390:28)\n",
      "    at Socket.<anonymous> (/Users/avneeshsarwate/abletonAutomationExtraction/node_modules/osc/src/platforms/osc-node.js:102:18)\n",
      "    at Socket.emit (node:events:390:28)\n",
      "    at UDP.onMessage [as onmessage] (node:dgram:931:8)"
     ]
    },
    {
     "name": "stdout",
     "output_type": "stream",
     "text": [
      "{ address: '/pos', args: [ 0.4879617393016815, 0.6806156039237976 ] }\n"
     ]
    },
    {
     "name": "stderr",
     "output_type": "stream",
     "text": [
      "TypeError: udp_osc_port.sendMsg is not a function\n",
      "    at Object.handlers./pos (evalmachine.<anonymous>:62:18)\n",
      "    at osc.UDPPort.<anonymous> (evalmachine.<anonymous>:72:44)\n",
      "    at osc.UDPPort.emit (node:events:390:28)\n",
      "    at Object.osc.firePacketEvents (/Users/avneeshsarwate/abletonAutomationExtraction/node_modules/osc/src/osc-transports.js:25:18)\n",
      "    at osc.UDPPort.p.decodeOSC (/Users/avneeshsarwate/abletonAutomationExtraction/node_modules/osc/src/osc-transports.js:85:17)\n",
      "    at osc.UDPPort.emit (node:events:390:28)\n",
      "    at Socket.<anonymous> (/Users/avneeshsarwate/abletonAutomationExtraction/node_modules/osc/src/platforms/osc-node.js:102:18)\n",
      "    at Socket.emit (node:events:390:28)\n",
      "    at UDP.onMessage [as onmessage] (node:dgram:931:8)"
     ]
    },
    {
     "name": "stdout",
     "output_type": "stream",
     "text": [
      "{ address: '/pos', args: [ 0.4879617393016815, 0.6672040224075317 ] }\n"
     ]
    },
    {
     "name": "stderr",
     "output_type": "stream",
     "text": [
      "TypeError: udp_osc_port.sendMsg is not a function\n",
      "    at Object.handlers./pos (evalmachine.<anonymous>:62:18)\n",
      "    at osc.UDPPort.<anonymous> (evalmachine.<anonymous>:72:44)\n",
      "    at osc.UDPPort.emit (node:events:390:28)\n",
      "    at Object.osc.firePacketEvents (/Users/avneeshsarwate/abletonAutomationExtraction/node_modules/osc/src/osc-transports.js:25:18)\n",
      "    at osc.UDPPort.p.decodeOSC (/Users/avneeshsarwate/abletonAutomationExtraction/node_modules/osc/src/osc-transports.js:85:17)\n",
      "    at osc.UDPPort.emit (node:events:390:28)\n",
      "    at Socket.<anonymous> (/Users/avneeshsarwate/abletonAutomationExtraction/node_modules/osc/src/platforms/osc-node.js:102:18)\n",
      "    at Socket.emit (node:events:390:28)\n",
      "    at UDP.onMessage [as onmessage] (node:dgram:931:8)"
     ]
    },
    {
     "name": "stdout",
     "output_type": "stream",
     "text": [
      "{ address: '/pos', args: [ 0.4843178391456604, 0.6672040224075317 ] }\n"
     ]
    },
    {
     "name": "stderr",
     "output_type": "stream",
     "text": [
      "TypeError: udp_osc_port.sendMsg is not a function\n",
      "    at Object.handlers./pos (evalmachine.<anonymous>:62:18)\n",
      "    at osc.UDPPort.<anonymous> (evalmachine.<anonymous>:72:44)\n",
      "    at osc.UDPPort.emit (node:events:390:28)\n",
      "    at Object.osc.firePacketEvents (/Users/avneeshsarwate/abletonAutomationExtraction/node_modules/osc/src/osc-transports.js:25:18)\n",
      "    at osc.UDPPort.p.decodeOSC (/Users/avneeshsarwate/abletonAutomationExtraction/node_modules/osc/src/osc-transports.js:85:17)\n",
      "    at osc.UDPPort.emit (node:events:390:28)\n",
      "    at Socket.<anonymous> (/Users/avneeshsarwate/abletonAutomationExtraction/node_modules/osc/src/platforms/osc-node.js:102:18)\n",
      "    at Socket.emit (node:events:390:28)\n",
      "    at UDP.onMessage [as onmessage] (node:dgram:931:8)"
     ]
    },
    {
     "name": "stdout",
     "output_type": "stream",
     "text": [
      "{ address: '/pos', args: [ 0.4843178391456604, 0.6636361479759216 ] }\n"
     ]
    },
    {
     "name": "stderr",
     "output_type": "stream",
     "text": [
      "TypeError: udp_osc_port.sendMsg is not a function\n",
      "    at Object.handlers./pos (evalmachine.<anonymous>:62:18)\n",
      "    at osc.UDPPort.<anonymous> (evalmachine.<anonymous>:72:44)\n",
      "    at osc.UDPPort.emit (node:events:390:28)\n",
      "    at Object.osc.firePacketEvents (/Users/avneeshsarwate/abletonAutomationExtraction/node_modules/osc/src/osc-transports.js:25:18)\n",
      "    at osc.UDPPort.p.decodeOSC (/Users/avneeshsarwate/abletonAutomationExtraction/node_modules/osc/src/osc-transports.js:85:17)\n",
      "    at osc.UDPPort.emit (node:events:390:28)\n",
      "    at Socket.<anonymous> (/Users/avneeshsarwate/abletonAutomationExtraction/node_modules/osc/src/platforms/osc-node.js:102:18)\n",
      "    at Socket.emit (node:events:390:28)\n",
      "    at UDP.onMessage [as onmessage] (node:dgram:931:8)"
     ]
    },
    {
     "name": "stdout",
     "output_type": "stream",
     "text": [
      "{ address: '/pos', args: [ 0.47853633761405945, 0.6636361479759216 ] }\n"
     ]
    },
    {
     "name": "stderr",
     "output_type": "stream",
     "text": [
      "TypeError: udp_osc_port.sendMsg is not a function\n",
      "    at Object.handlers./pos (evalmachine.<anonymous>:62:18)\n",
      "    at osc.UDPPort.<anonymous> (evalmachine.<anonymous>:72:44)\n",
      "    at osc.UDPPort.emit (node:events:390:28)\n",
      "    at Object.osc.firePacketEvents (/Users/avneeshsarwate/abletonAutomationExtraction/node_modules/osc/src/osc-transports.js:25:18)\n",
      "    at osc.UDPPort.p.decodeOSC (/Users/avneeshsarwate/abletonAutomationExtraction/node_modules/osc/src/osc-transports.js:85:17)\n",
      "    at osc.UDPPort.emit (node:events:390:28)\n",
      "    at Socket.<anonymous> (/Users/avneeshsarwate/abletonAutomationExtraction/node_modules/osc/src/platforms/osc-node.js:102:18)\n",
      "    at Socket.emit (node:events:390:28)\n",
      "    at UDP.onMessage [as onmessage] (node:dgram:931:8)"
     ]
    },
    {
     "name": "stdout",
     "output_type": "stream",
     "text": [
      "{ address: '/pos', args: [ 0.47853633761405945, 0.6571775674819946 ] }\n"
     ]
    },
    {
     "name": "stderr",
     "output_type": "stream",
     "text": [
      "TypeError: udp_osc_port.sendMsg is not a function\n",
      "    at Object.handlers./pos (evalmachine.<anonymous>:62:18)\n",
      "    at osc.UDPPort.<anonymous> (evalmachine.<anonymous>:72:44)\n",
      "    at osc.UDPPort.emit (node:events:390:28)\n",
      "    at Object.osc.firePacketEvents (/Users/avneeshsarwate/abletonAutomationExtraction/node_modules/osc/src/osc-transports.js:25:18)\n",
      "    at osc.UDPPort.p.decodeOSC (/Users/avneeshsarwate/abletonAutomationExtraction/node_modules/osc/src/osc-transports.js:85:17)\n",
      "    at osc.UDPPort.emit (node:events:390:28)\n",
      "    at Socket.<anonymous> (/Users/avneeshsarwate/abletonAutomationExtraction/node_modules/osc/src/platforms/osc-node.js:102:18)\n",
      "    at Socket.emit (node:events:390:28)\n",
      "    at UDP.onMessage [as onmessage] (node:dgram:931:8)"
     ]
    },
    {
     "name": "stdout",
     "output_type": "stream",
     "text": [
      "{ address: '/pos', args: [ 0.47445881366729736, 0.6571775674819946 ] }\n"
     ]
    },
    {
     "name": "stderr",
     "output_type": "stream",
     "text": [
      "TypeError: udp_osc_port.sendMsg is not a function\n",
      "    at Object.handlers./pos (evalmachine.<anonymous>:62:18)\n",
      "    at osc.UDPPort.<anonymous> (evalmachine.<anonymous>:72:44)\n",
      "    at osc.UDPPort.emit (node:events:390:28)\n",
      "    at Object.osc.firePacketEvents (/Users/avneeshsarwate/abletonAutomationExtraction/node_modules/osc/src/osc-transports.js:25:18)\n",
      "    at osc.UDPPort.p.decodeOSC (/Users/avneeshsarwate/abletonAutomationExtraction/node_modules/osc/src/osc-transports.js:85:17)\n",
      "    at osc.UDPPort.emit (node:events:390:28)\n",
      "    at Socket.<anonymous> (/Users/avneeshsarwate/abletonAutomationExtraction/node_modules/osc/src/platforms/osc-node.js:102:18)\n",
      "    at Socket.emit (node:events:390:28)\n",
      "    at UDP.onMessage [as onmessage] (node:dgram:931:8)"
     ]
    },
    {
     "name": "stdout",
     "output_type": "stream",
     "text": [
      "{ address: '/pos', args: [ 0.47445881366729736, 0.6517307758331299 ] }\n"
     ]
    },
    {
     "name": "stderr",
     "output_type": "stream",
     "text": [
      "TypeError: udp_osc_port.sendMsg is not a function\n",
      "    at Object.handlers./pos (evalmachine.<anonymous>:62:18)\n",
      "    at osc.UDPPort.<anonymous> (evalmachine.<anonymous>:72:44)\n",
      "    at osc.UDPPort.emit (node:events:390:28)\n",
      "    at Object.osc.firePacketEvents (/Users/avneeshsarwate/abletonAutomationExtraction/node_modules/osc/src/osc-transports.js:25:18)\n",
      "    at osc.UDPPort.p.decodeOSC (/Users/avneeshsarwate/abletonAutomationExtraction/node_modules/osc/src/osc-transports.js:85:17)\n",
      "    at osc.UDPPort.emit (node:events:390:28)\n",
      "    at Socket.<anonymous> (/Users/avneeshsarwate/abletonAutomationExtraction/node_modules/osc/src/platforms/osc-node.js:102:18)\n",
      "    at Socket.emit (node:events:390:28)\n",
      "    at UDP.onMessage [as onmessage] (node:dgram:931:8)"
     ]
    },
    {
     "name": "stdout",
     "output_type": "stream",
     "text": [
      "{ address: '/pos', args: [ 0.47135502099990845, 0.6517307758331299 ] }\n"
     ]
    },
    {
     "name": "stderr",
     "output_type": "stream",
     "text": [
      "TypeError: udp_osc_port.sendMsg is not a function\n",
      "    at Object.handlers./pos (evalmachine.<anonymous>:62:18)\n",
      "    at osc.UDPPort.<anonymous> (evalmachine.<anonymous>:72:44)\n",
      "    at osc.UDPPort.emit (node:events:390:28)\n",
      "    at Object.osc.firePacketEvents (/Users/avneeshsarwate/abletonAutomationExtraction/node_modules/osc/src/osc-transports.js:25:18)\n",
      "    at osc.UDPPort.p.decodeOSC (/Users/avneeshsarwate/abletonAutomationExtraction/node_modules/osc/src/osc-transports.js:85:17)\n",
      "    at osc.UDPPort.emit (node:events:390:28)\n",
      "    at Socket.<anonymous> (/Users/avneeshsarwate/abletonAutomationExtraction/node_modules/osc/src/platforms/osc-node.js:102:18)\n",
      "    at Socket.emit (node:events:390:28)\n",
      "    at UDP.onMessage [as onmessage] (node:dgram:931:8)"
     ]
    },
    {
     "name": "stdout",
     "output_type": "stream",
     "text": [
      "{ address: '/pos', args: [ 0.47135502099990845, 0.6462839841842651 ] }\n"
     ]
    },
    {
     "name": "stderr",
     "output_type": "stream",
     "text": [
      "TypeError: udp_osc_port.sendMsg is not a function\n",
      "    at Object.handlers./pos (evalmachine.<anonymous>:62:18)\n",
      "    at osc.UDPPort.<anonymous> (evalmachine.<anonymous>:72:44)\n",
      "    at osc.UDPPort.emit (node:events:390:28)\n",
      "    at Object.osc.firePacketEvents (/Users/avneeshsarwate/abletonAutomationExtraction/node_modules/osc/src/osc-transports.js:25:18)\n",
      "    at osc.UDPPort.p.decodeOSC (/Users/avneeshsarwate/abletonAutomationExtraction/node_modules/osc/src/osc-transports.js:85:17)\n",
      "    at osc.UDPPort.emit (node:events:390:28)\n",
      "    at Socket.<anonymous> (/Users/avneeshsarwate/abletonAutomationExtraction/node_modules/osc/src/platforms/osc-node.js:102:18)\n",
      "    at Socket.emit (node:events:390:28)\n",
      "    at UDP.onMessage [as onmessage] (node:dgram:931:8)"
     ]
    },
    {
     "name": "stdout",
     "output_type": "stream",
     "text": [
      "{ address: '/pos', args: [ 0.46887505054473877, 0.6462839841842651 ] }\n"
     ]
    },
    {
     "name": "stderr",
     "output_type": "stream",
     "text": [
      "TypeError: udp_osc_port.sendMsg is not a function\n",
      "    at Object.handlers./pos (evalmachine.<anonymous>:62:18)\n",
      "    at osc.UDPPort.<anonymous> (evalmachine.<anonymous>:72:44)\n",
      "    at osc.UDPPort.emit (node:events:390:28)\n",
      "    at Object.osc.firePacketEvents (/Users/avneeshsarwate/abletonAutomationExtraction/node_modules/osc/src/osc-transports.js:25:18)\n",
      "    at osc.UDPPort.p.decodeOSC (/Users/avneeshsarwate/abletonAutomationExtraction/node_modules/osc/src/osc-transports.js:85:17)\n",
      "    at osc.UDPPort.emit (node:events:390:28)\n",
      "    at Socket.<anonymous> (/Users/avneeshsarwate/abletonAutomationExtraction/node_modules/osc/src/platforms/osc-node.js:102:18)\n",
      "    at Socket.emit (node:events:390:28)\n",
      "    at UDP.onMessage [as onmessage] (node:dgram:931:8)"
     ]
    },
    {
     "name": "stdout",
     "output_type": "stream",
     "text": [
      "{ address: '/pos', args: [ 0.46887505054473877, 0.6390646696090698 ] }\n"
     ]
    },
    {
     "name": "stderr",
     "output_type": "stream",
     "text": [
      "TypeError: udp_osc_port.sendMsg is not a function\n",
      "    at Object.handlers./pos (evalmachine.<anonymous>:62:18)\n",
      "    at osc.UDPPort.<anonymous> (evalmachine.<anonymous>:72:44)\n",
      "    at osc.UDPPort.emit (node:events:390:28)\n",
      "    at Object.osc.firePacketEvents (/Users/avneeshsarwate/abletonAutomationExtraction/node_modules/osc/src/osc-transports.js:25:18)\n",
      "    at osc.UDPPort.p.decodeOSC (/Users/avneeshsarwate/abletonAutomationExtraction/node_modules/osc/src/osc-transports.js:85:17)\n",
      "    at osc.UDPPort.emit (node:events:390:28)\n",
      "    at Socket.<anonymous> (/Users/avneeshsarwate/abletonAutomationExtraction/node_modules/osc/src/platforms/osc-node.js:102:18)\n",
      "    at Socket.emit (node:events:390:28)\n",
      "    at UDP.onMessage [as onmessage] (node:dgram:931:8)"
     ]
    },
    {
     "name": "stdout",
     "output_type": "stream",
     "text": [
      "{ address: '/pos', args: [ 0.46753621101379395, 0.6390646696090698 ] }\n"
     ]
    },
    {
     "name": "stderr",
     "output_type": "stream",
     "text": [
      "TypeError: udp_osc_port.sendMsg is not a function\n",
      "    at Object.handlers./pos (evalmachine.<anonymous>:62:18)\n",
      "    at osc.UDPPort.<anonymous> (evalmachine.<anonymous>:72:44)\n",
      "    at osc.UDPPort.emit (node:events:390:28)\n",
      "    at Object.osc.firePacketEvents (/Users/avneeshsarwate/abletonAutomationExtraction/node_modules/osc/src/osc-transports.js:25:18)\n",
      "    at osc.UDPPort.p.decodeOSC (/Users/avneeshsarwate/abletonAutomationExtraction/node_modules/osc/src/osc-transports.js:85:17)\n",
      "    at osc.UDPPort.emit (node:events:390:28)\n",
      "    at Socket.<anonymous> (/Users/avneeshsarwate/abletonAutomationExtraction/node_modules/osc/src/platforms/osc-node.js:102:18)\n",
      "    at Socket.emit (node:events:390:28)\n",
      "    at UDP.onMessage [as onmessage] (node:dgram:931:8)"
     ]
    },
    {
     "name": "stdout",
     "output_type": "stream",
     "text": [
      "{ address: '/pos', args: [ 0.46753621101379395, 0.6346143484115601 ] }\n"
     ]
    },
    {
     "name": "stderr",
     "output_type": "stream",
     "text": [
      "TypeError: udp_osc_port.sendMsg is not a function\n",
      "    at Object.handlers./pos (evalmachine.<anonymous>:62:18)\n",
      "    at osc.UDPPort.<anonymous> (evalmachine.<anonymous>:72:44)\n",
      "    at osc.UDPPort.emit (node:events:390:28)\n",
      "    at Object.osc.firePacketEvents (/Users/avneeshsarwate/abletonAutomationExtraction/node_modules/osc/src/osc-transports.js:25:18)\n",
      "    at osc.UDPPort.p.decodeOSC (/Users/avneeshsarwate/abletonAutomationExtraction/node_modules/osc/src/osc-transports.js:85:17)\n",
      "    at osc.UDPPort.emit (node:events:390:28)\n",
      "    at Socket.<anonymous> (/Users/avneeshsarwate/abletonAutomationExtraction/node_modules/osc/src/platforms/osc-node.js:102:18)\n",
      "    at Socket.emit (node:events:390:28)\n",
      "    at UDP.onMessage [as onmessage] (node:dgram:931:8)"
     ]
    },
    {
     "name": "stdout",
     "output_type": "stream",
     "text": [
      "{ address: '/pos', args: [ 0.46653202176094055, 0.6346143484115601 ] }\n"
     ]
    },
    {
     "name": "stderr",
     "output_type": "stream",
     "text": [
      "TypeError: udp_osc_port.sendMsg is not a function\n",
      "    at Object.handlers./pos (evalmachine.<anonymous>:62:18)\n",
      "    at osc.UDPPort.<anonymous> (evalmachine.<anonymous>:72:44)\n",
      "    at osc.UDPPort.emit (node:events:390:28)\n",
      "    at Object.osc.firePacketEvents (/Users/avneeshsarwate/abletonAutomationExtraction/node_modules/osc/src/osc-transports.js:25:18)\n",
      "    at osc.UDPPort.p.decodeOSC (/Users/avneeshsarwate/abletonAutomationExtraction/node_modules/osc/src/osc-transports.js:85:17)\n",
      "    at osc.UDPPort.emit (node:events:390:28)\n",
      "    at Socket.<anonymous> (/Users/avneeshsarwate/abletonAutomationExtraction/node_modules/osc/src/platforms/osc-node.js:102:18)\n",
      "    at Socket.emit (node:events:390:28)\n",
      "    at UDP.onMessage [as onmessage] (node:dgram:931:8)"
     ]
    },
    {
     "name": "stdout",
     "output_type": "stream",
     "text": [
      "{ address: '/pos', args: [ 0.46653202176094055, 0.6288328170776367 ] }\n"
     ]
    },
    {
     "name": "stderr",
     "output_type": "stream",
     "text": [
      "TypeError: udp_osc_port.sendMsg is not a function\n",
      "    at Object.handlers./pos (evalmachine.<anonymous>:62:18)\n",
      "    at osc.UDPPort.<anonymous> (evalmachine.<anonymous>:72:44)\n",
      "    at osc.UDPPort.emit (node:events:390:28)\n",
      "    at Object.osc.firePacketEvents (/Users/avneeshsarwate/abletonAutomationExtraction/node_modules/osc/src/osc-transports.js:25:18)\n",
      "    at osc.UDPPort.p.decodeOSC (/Users/avneeshsarwate/abletonAutomationExtraction/node_modules/osc/src/osc-transports.js:85:17)\n",
      "    at osc.UDPPort.emit (node:events:390:28)\n",
      "    at Socket.<anonymous> (/Users/avneeshsarwate/abletonAutomationExtraction/node_modules/osc/src/platforms/osc-node.js:102:18)\n",
      "    at Socket.emit (node:events:390:28)\n",
      "    at UDP.onMessage [as onmessage] (node:dgram:931:8)"
     ]
    },
    {
     "name": "stdout",
     "output_type": "stream",
     "text": [
      "{ address: '/pos', args: [ 0.46619731187820435, 0.6288328170776367 ] }\n"
     ]
    },
    {
     "name": "stderr",
     "output_type": "stream",
     "text": [
      "TypeError: udp_osc_port.sendMsg is not a function\n",
      "    at Object.handlers./pos (evalmachine.<anonymous>:62:18)\n",
      "    at osc.UDPPort.<anonymous> (evalmachine.<anonymous>:72:44)\n",
      "    at osc.UDPPort.emit (node:events:390:28)\n",
      "    at Object.osc.firePacketEvents (/Users/avneeshsarwate/abletonAutomationExtraction/node_modules/osc/src/osc-transports.js:25:18)\n",
      "    at osc.UDPPort.p.decodeOSC (/Users/avneeshsarwate/abletonAutomationExtraction/node_modules/osc/src/osc-transports.js:85:17)\n",
      "    at osc.UDPPort.emit (node:events:390:28)\n",
      "    at Socket.<anonymous> (/Users/avneeshsarwate/abletonAutomationExtraction/node_modules/osc/src/platforms/osc-node.js:102:18)\n",
      "    at Socket.emit (node:events:390:28)\n",
      "    at UDP.onMessage [as onmessage] (node:dgram:931:8)"
     ]
    },
    {
     "name": "stdout",
     "output_type": "stream",
     "text": [
      "{ address: '/pos', args: [ 0.46619731187820435, 0.6235229969024658 ] }\n"
     ]
    },
    {
     "name": "stderr",
     "output_type": "stream",
     "text": [
      "TypeError: udp_osc_port.sendMsg is not a function\n",
      "    at Object.handlers./pos (evalmachine.<anonymous>:62:18)\n",
      "    at osc.UDPPort.<anonymous> (evalmachine.<anonymous>:72:44)\n",
      "    at osc.UDPPort.emit (node:events:390:28)\n",
      "    at Object.osc.firePacketEvents (/Users/avneeshsarwate/abletonAutomationExtraction/node_modules/osc/src/osc-transports.js:25:18)\n",
      "    at osc.UDPPort.p.decodeOSC (/Users/avneeshsarwate/abletonAutomationExtraction/node_modules/osc/src/osc-transports.js:85:17)\n",
      "    at osc.UDPPort.emit (node:events:390:28)\n",
      "    at Socket.<anonymous> (/Users/avneeshsarwate/abletonAutomationExtraction/node_modules/osc/src/platforms/osc-node.js:102:18)\n",
      "    at Socket.emit (node:events:390:28)\n",
      "    at UDP.onMessage [as onmessage] (node:dgram:931:8)"
     ]
    },
    {
     "name": "stdout",
     "output_type": "stream",
     "text": [
      "{ address: '/pos', args: [ 0.46619731187820435, 0.6186238527297974 ] }\n"
     ]
    },
    {
     "name": "stderr",
     "output_type": "stream",
     "text": [
      "TypeError: udp_osc_port.sendMsg is not a function\n",
      "    at Object.handlers./pos (evalmachine.<anonymous>:62:18)\n",
      "    at osc.UDPPort.<anonymous> (evalmachine.<anonymous>:72:44)\n",
      "    at osc.UDPPort.emit (node:events:390:28)\n",
      "    at Object.osc.firePacketEvents (/Users/avneeshsarwate/abletonAutomationExtraction/node_modules/osc/src/osc-transports.js:25:18)\n",
      "    at osc.UDPPort.p.decodeOSC (/Users/avneeshsarwate/abletonAutomationExtraction/node_modules/osc/src/osc-transports.js:85:17)\n",
      "    at osc.UDPPort.emit (node:events:390:28)\n",
      "    at Socket.<anonymous> (/Users/avneeshsarwate/abletonAutomationExtraction/node_modules/osc/src/platforms/osc-node.js:102:18)\n",
      "    at Socket.emit (node:events:390:28)\n",
      "    at UDP.onMessage [as onmessage] (node:dgram:931:8)"
     ]
    },
    {
     "name": "stdout",
     "output_type": "stream",
     "text": [
      "{ address: '/pos', args: [ 0.46619731187820435, 0.615329921245575 ] }\n"
     ]
    },
    {
     "name": "stderr",
     "output_type": "stream",
     "text": [
      "TypeError: udp_osc_port.sendMsg is not a function\n",
      "    at Object.handlers./pos (evalmachine.<anonymous>:62:18)\n",
      "    at osc.UDPPort.<anonymous> (evalmachine.<anonymous>:72:44)\n",
      "    at osc.UDPPort.emit (node:events:390:28)\n",
      "    at Object.osc.firePacketEvents (/Users/avneeshsarwate/abletonAutomationExtraction/node_modules/osc/src/osc-transports.js:25:18)\n",
      "    at osc.UDPPort.p.decodeOSC (/Users/avneeshsarwate/abletonAutomationExtraction/node_modules/osc/src/osc-transports.js:85:17)\n",
      "    at osc.UDPPort.emit (node:events:390:28)\n",
      "    at Socket.<anonymous> (/Users/avneeshsarwate/abletonAutomationExtraction/node_modules/osc/src/platforms/osc-node.js:102:18)\n",
      "    at Socket.emit (node:events:390:28)\n",
      "    at UDP.onMessage [as onmessage] (node:dgram:931:8)"
     ]
    },
    {
     "name": "stdout",
     "output_type": "stream",
     "text": [
      "{ address: '/pos', args: [ 0.46619731187820435, 0.6122185587882996 ] }\n"
     ]
    },
    {
     "name": "stderr",
     "output_type": "stream",
     "text": [
      "TypeError: udp_osc_port.sendMsg is not a function\n",
      "    at Object.handlers./pos (evalmachine.<anonymous>:62:18)\n",
      "    at osc.UDPPort.<anonymous> (evalmachine.<anonymous>:72:44)\n",
      "    at osc.UDPPort.emit (node:events:390:28)\n",
      "    at Object.osc.firePacketEvents (/Users/avneeshsarwate/abletonAutomationExtraction/node_modules/osc/src/osc-transports.js:25:18)\n",
      "    at osc.UDPPort.p.decodeOSC (/Users/avneeshsarwate/abletonAutomationExtraction/node_modules/osc/src/osc-transports.js:85:17)\n",
      "    at osc.UDPPort.emit (node:events:390:28)\n",
      "    at Socket.<anonymous> (/Users/avneeshsarwate/abletonAutomationExtraction/node_modules/osc/src/platforms/osc-node.js:102:18)\n",
      "    at Socket.emit (node:events:390:28)\n",
      "    at UDP.onMessage [as onmessage] (node:dgram:931:8)"
     ]
    },
    {
     "name": "stdout",
     "output_type": "stream",
     "text": [
      "{ address: '/pos', args: [ 0.46619731187820435, 0.609419047832489 ] }\n"
     ]
    },
    {
     "name": "stderr",
     "output_type": "stream",
     "text": [
      "TypeError: udp_osc_port.sendMsg is not a function\n",
      "    at Object.handlers./pos (evalmachine.<anonymous>:62:18)\n",
      "    at osc.UDPPort.<anonymous> (evalmachine.<anonymous>:72:44)\n",
      "    at osc.UDPPort.emit (node:events:390:28)\n",
      "    at Object.osc.firePacketEvents (/Users/avneeshsarwate/abletonAutomationExtraction/node_modules/osc/src/osc-transports.js:25:18)\n",
      "    at osc.UDPPort.p.decodeOSC (/Users/avneeshsarwate/abletonAutomationExtraction/node_modules/osc/src/osc-transports.js:85:17)\n",
      "    at osc.UDPPort.emit (node:events:390:28)\n",
      "    at Socket.<anonymous> (/Users/avneeshsarwate/abletonAutomationExtraction/node_modules/osc/src/platforms/osc-node.js:102:18)\n",
      "    at Socket.emit (node:events:390:28)\n",
      "    at UDP.onMessage [as onmessage] (node:dgram:931:8)"
     ]
    },
    {
     "name": "stdout",
     "output_type": "stream",
     "text": [
      "{ address: '/pos', args: [ 0.46630382537841797, 0.609419047832489 ] }\n"
     ]
    },
    {
     "name": "stderr",
     "output_type": "stream",
     "text": [
      "TypeError: udp_osc_port.sendMsg is not a function\n",
      "    at Object.handlers./pos (evalmachine.<anonymous>:62:18)\n",
      "    at osc.UDPPort.<anonymous> (evalmachine.<anonymous>:72:44)\n",
      "    at osc.UDPPort.emit (node:events:390:28)\n",
      "    at Object.osc.firePacketEvents (/Users/avneeshsarwate/abletonAutomationExtraction/node_modules/osc/src/osc-transports.js:25:18)\n",
      "    at osc.UDPPort.p.decodeOSC (/Users/avneeshsarwate/abletonAutomationExtraction/node_modules/osc/src/osc-transports.js:85:17)\n",
      "    at osc.UDPPort.emit (node:events:390:28)\n",
      "    at Socket.<anonymous> (/Users/avneeshsarwate/abletonAutomationExtraction/node_modules/osc/src/platforms/osc-node.js:102:18)\n",
      "    at Socket.emit (node:events:390:28)\n",
      "    at UDP.onMessage [as onmessage] (node:dgram:931:8)"
     ]
    },
    {
     "name": "stdout",
     "output_type": "stream",
     "text": [
      "{ address: '/pos', args: [ 0.46630382537841797, 0.607410728931427 ] }\n"
     ]
    },
    {
     "name": "stderr",
     "output_type": "stream",
     "text": [
      "TypeError: udp_osc_port.sendMsg is not a function\n",
      "    at Object.handlers./pos (evalmachine.<anonymous>:62:18)\n",
      "    at osc.UDPPort.<anonymous> (evalmachine.<anonymous>:72:44)\n",
      "    at osc.UDPPort.emit (node:events:390:28)\n",
      "    at Object.osc.firePacketEvents (/Users/avneeshsarwate/abletonAutomationExtraction/node_modules/osc/src/osc-transports.js:25:18)\n",
      "    at osc.UDPPort.p.decodeOSC (/Users/avneeshsarwate/abletonAutomationExtraction/node_modules/osc/src/osc-transports.js:85:17)\n",
      "    at osc.UDPPort.emit (node:events:390:28)\n",
      "    at Socket.<anonymous> (/Users/avneeshsarwate/abletonAutomationExtraction/node_modules/osc/src/platforms/osc-node.js:102:18)\n",
      "    at Socket.emit (node:events:390:28)\n",
      "    at UDP.onMessage [as onmessage] (node:dgram:931:8)"
     ]
    },
    {
     "name": "stdout",
     "output_type": "stream",
     "text": [
      "{ address: '/pos', args: [ 0.46739161014556885, 0.607410728931427 ] }\n"
     ]
    },
    {
     "name": "stderr",
     "output_type": "stream",
     "text": [
      "TypeError: udp_osc_port.sendMsg is not a function\n",
      "    at Object.handlers./pos (evalmachine.<anonymous>:62:18)\n",
      "    at osc.UDPPort.<anonymous> (evalmachine.<anonymous>:72:44)\n",
      "    at osc.UDPPort.emit (node:events:390:28)\n",
      "    at Object.osc.firePacketEvents (/Users/avneeshsarwate/abletonAutomationExtraction/node_modules/osc/src/osc-transports.js:25:18)\n",
      "    at osc.UDPPort.p.decodeOSC (/Users/avneeshsarwate/abletonAutomationExtraction/node_modules/osc/src/osc-transports.js:85:17)\n",
      "    at osc.UDPPort.emit (node:events:390:28)\n",
      "    at Socket.<anonymous> (/Users/avneeshsarwate/abletonAutomationExtraction/node_modules/osc/src/platforms/osc-node.js:102:18)\n",
      "    at Socket.emit (node:events:390:28)\n",
      "    at UDP.onMessage [as onmessage] (node:dgram:931:8)"
     ]
    },
    {
     "name": "stdout",
     "output_type": "stream",
     "text": [
      "{ address: '/pos', args: [ 0.46739161014556885, 0.6051437854766846 ] }\n"
     ]
    },
    {
     "name": "stderr",
     "output_type": "stream",
     "text": [
      "TypeError: udp_osc_port.sendMsg is not a function\n",
      "    at Object.handlers./pos (evalmachine.<anonymous>:62:18)\n",
      "    at osc.UDPPort.<anonymous> (evalmachine.<anonymous>:72:44)\n",
      "    at osc.UDPPort.emit (node:events:390:28)\n",
      "    at Object.osc.firePacketEvents (/Users/avneeshsarwate/abletonAutomationExtraction/node_modules/osc/src/osc-transports.js:25:18)\n",
      "    at osc.UDPPort.p.decodeOSC (/Users/avneeshsarwate/abletonAutomationExtraction/node_modules/osc/src/osc-transports.js:85:17)\n",
      "    at osc.UDPPort.emit (node:events:390:28)\n",
      "    at Socket.<anonymous> (/Users/avneeshsarwate/abletonAutomationExtraction/node_modules/osc/src/platforms/osc-node.js:102:18)\n",
      "    at Socket.emit (node:events:390:28)\n",
      "    at UDP.onMessage [as onmessage] (node:dgram:931:8)"
     ]
    },
    {
     "name": "stdout",
     "output_type": "stream",
     "text": [
      "{ address: '/pos', args: [ 0.469521701335907, 0.6051437854766846 ] }\n"
     ]
    },
    {
     "name": "stderr",
     "output_type": "stream",
     "text": [
      "TypeError: udp_osc_port.sendMsg is not a function\n",
      "    at Object.handlers./pos (evalmachine.<anonymous>:62:18)\n",
      "    at osc.UDPPort.<anonymous> (evalmachine.<anonymous>:72:44)\n",
      "    at osc.UDPPort.emit (node:events:390:28)\n",
      "    at Object.osc.firePacketEvents (/Users/avneeshsarwate/abletonAutomationExtraction/node_modules/osc/src/osc-transports.js:25:18)\n",
      "    at osc.UDPPort.p.decodeOSC (/Users/avneeshsarwate/abletonAutomationExtraction/node_modules/osc/src/osc-transports.js:85:17)\n",
      "    at osc.UDPPort.emit (node:events:390:28)\n",
      "    at Socket.<anonymous> (/Users/avneeshsarwate/abletonAutomationExtraction/node_modules/osc/src/platforms/osc-node.js:102:18)\n",
      "    at Socket.emit (node:events:390:28)\n",
      "    at UDP.onMessage [as onmessage] (node:dgram:931:8)"
     ]
    },
    {
     "name": "stdout",
     "output_type": "stream",
     "text": [
      "{ address: '/pos', args: [ 0.469521701335907, 0.6032723784446716 ] }\n"
     ]
    },
    {
     "name": "stderr",
     "output_type": "stream",
     "text": [
      "TypeError: udp_osc_port.sendMsg is not a function\n",
      "    at Object.handlers./pos (evalmachine.<anonymous>:62:18)\n",
      "    at osc.UDPPort.<anonymous> (evalmachine.<anonymous>:72:44)\n",
      "    at osc.UDPPort.emit (node:events:390:28)\n",
      "    at Object.osc.firePacketEvents (/Users/avneeshsarwate/abletonAutomationExtraction/node_modules/osc/src/osc-transports.js:25:18)\n",
      "    at osc.UDPPort.p.decodeOSC (/Users/avneeshsarwate/abletonAutomationExtraction/node_modules/osc/src/osc-transports.js:85:17)\n",
      "    at osc.UDPPort.emit (node:events:390:28)\n",
      "    at Socket.<anonymous> (/Users/avneeshsarwate/abletonAutomationExtraction/node_modules/osc/src/platforms/osc-node.js:102:18)\n",
      "    at Socket.emit (node:events:390:28)\n",
      "    at UDP.onMessage [as onmessage] (node:dgram:931:8)"
     ]
    },
    {
     "name": "stdout",
     "output_type": "stream",
     "text": [
      "{ address: '/pos', args: [ 0.47233638167381287, 0.6032723784446716 ] }\n"
     ]
    },
    {
     "name": "stderr",
     "output_type": "stream",
     "text": [
      "TypeError: udp_osc_port.sendMsg is not a function\n",
      "    at Object.handlers./pos (evalmachine.<anonymous>:62:18)\n",
      "    at osc.UDPPort.<anonymous> (evalmachine.<anonymous>:72:44)\n",
      "    at osc.UDPPort.emit (node:events:390:28)\n",
      "    at Object.osc.firePacketEvents (/Users/avneeshsarwate/abletonAutomationExtraction/node_modules/osc/src/osc-transports.js:25:18)\n",
      "    at osc.UDPPort.p.decodeOSC (/Users/avneeshsarwate/abletonAutomationExtraction/node_modules/osc/src/osc-transports.js:85:17)\n",
      "    at osc.UDPPort.emit (node:events:390:28)\n",
      "    at Socket.<anonymous> (/Users/avneeshsarwate/abletonAutomationExtraction/node_modules/osc/src/platforms/osc-node.js:102:18)\n",
      "    at Socket.emit (node:events:390:28)\n",
      "    at UDP.onMessage [as onmessage] (node:dgram:931:8)"
     ]
    },
    {
     "name": "stdout",
     "output_type": "stream",
     "text": [
      "{ address: '/pos', args: [ 0.47233638167381287, 0.6012259721755981 ] }\n"
     ]
    },
    {
     "name": "stderr",
     "output_type": "stream",
     "text": [
      "TypeError: udp_osc_port.sendMsg is not a function\n",
      "    at Object.handlers./pos (evalmachine.<anonymous>:62:18)\n",
      "    at osc.UDPPort.<anonymous> (evalmachine.<anonymous>:72:44)\n",
      "    at osc.UDPPort.emit (node:events:390:28)\n",
      "    at Object.osc.firePacketEvents (/Users/avneeshsarwate/abletonAutomationExtraction/node_modules/osc/src/osc-transports.js:25:18)\n",
      "    at osc.UDPPort.p.decodeOSC (/Users/avneeshsarwate/abletonAutomationExtraction/node_modules/osc/src/osc-transports.js:85:17)\n",
      "    at osc.UDPPort.emit (node:events:390:28)\n",
      "    at Socket.<anonymous> (/Users/avneeshsarwate/abletonAutomationExtraction/node_modules/osc/src/platforms/osc-node.js:102:18)\n",
      "    at Socket.emit (node:events:390:28)\n",
      "    at UDP.onMessage [as onmessage] (node:dgram:931:8)"
     ]
    },
    {
     "name": "stdout",
     "output_type": "stream",
     "text": [
      "{ address: '/pos', args: [ 0.475546658039093, 0.6012259721755981 ] }\n"
     ]
    },
    {
     "name": "stderr",
     "output_type": "stream",
     "text": [
      "TypeError: udp_osc_port.sendMsg is not a function\n",
      "    at Object.handlers./pos (evalmachine.<anonymous>:62:18)\n",
      "    at osc.UDPPort.<anonymous> (evalmachine.<anonymous>:72:44)\n",
      "    at osc.UDPPort.emit (node:events:390:28)\n",
      "    at Object.osc.firePacketEvents (/Users/avneeshsarwate/abletonAutomationExtraction/node_modules/osc/src/osc-transports.js:25:18)\n",
      "    at osc.UDPPort.p.decodeOSC (/Users/avneeshsarwate/abletonAutomationExtraction/node_modules/osc/src/osc-transports.js:85:17)\n",
      "    at osc.UDPPort.emit (node:events:390:28)\n",
      "    at Socket.<anonymous> (/Users/avneeshsarwate/abletonAutomationExtraction/node_modules/osc/src/platforms/osc-node.js:102:18)\n",
      "    at Socket.emit (node:events:390:28)\n",
      "    at UDP.onMessage [as onmessage] (node:dgram:931:8)"
     ]
    },
    {
     "name": "stdout",
     "output_type": "stream",
     "text": [
      "{ address: '/pos', args: [ 0.475546658039093, 0.5992176532745361 ] }\n"
     ]
    },
    {
     "name": "stderr",
     "output_type": "stream",
     "text": [
      "TypeError: udp_osc_port.sendMsg is not a function\n",
      "    at Object.handlers./pos (evalmachine.<anonymous>:62:18)\n",
      "    at osc.UDPPort.<anonymous> (evalmachine.<anonymous>:72:44)\n",
      "    at osc.UDPPort.emit (node:events:390:28)\n",
      "    at Object.osc.firePacketEvents (/Users/avneeshsarwate/abletonAutomationExtraction/node_modules/osc/src/osc-transports.js:25:18)\n",
      "    at osc.UDPPort.p.decodeOSC (/Users/avneeshsarwate/abletonAutomationExtraction/node_modules/osc/src/osc-transports.js:85:17)\n",
      "    at osc.UDPPort.emit (node:events:390:28)\n",
      "    at Socket.<anonymous> (/Users/avneeshsarwate/abletonAutomationExtraction/node_modules/osc/src/platforms/osc-node.js:102:18)\n",
      "    at Socket.emit (node:events:390:28)\n",
      "    at UDP.onMessage [as onmessage] (node:dgram:931:8)"
     ]
    },
    {
     "name": "stdout",
     "output_type": "stream",
     "text": [
      "{ address: '/pos', args: [ 0.48027077317237854, 0.5992176532745361 ] }\n"
     ]
    },
    {
     "name": "stderr",
     "output_type": "stream",
     "text": [
      "TypeError: udp_osc_port.sendMsg is not a function\n",
      "    at Object.handlers./pos (evalmachine.<anonymous>:62:18)\n",
      "    at osc.UDPPort.<anonymous> (evalmachine.<anonymous>:72:44)\n",
      "    at osc.UDPPort.emit (node:events:390:28)\n",
      "    at Object.osc.firePacketEvents (/Users/avneeshsarwate/abletonAutomationExtraction/node_modules/osc/src/osc-transports.js:25:18)\n",
      "    at osc.UDPPort.p.decodeOSC (/Users/avneeshsarwate/abletonAutomationExtraction/node_modules/osc/src/osc-transports.js:85:17)\n",
      "    at osc.UDPPort.emit (node:events:390:28)\n",
      "    at Socket.<anonymous> (/Users/avneeshsarwate/abletonAutomationExtraction/node_modules/osc/src/platforms/osc-node.js:102:18)\n",
      "    at Socket.emit (node:events:390:28)\n",
      "    at UDP.onMessage [as onmessage] (node:dgram:931:8)"
     ]
    },
    {
     "name": "stdout",
     "output_type": "stream",
     "text": [
      "{ address: '/pos', args: [ 0.48027077317237854, 0.597118079662323 ] }\n"
     ]
    },
    {
     "name": "stderr",
     "output_type": "stream",
     "text": [
      "TypeError: udp_osc_port.sendMsg is not a function\n",
      "    at Object.handlers./pos (evalmachine.<anonymous>:62:18)\n",
      "    at osc.UDPPort.<anonymous> (evalmachine.<anonymous>:72:44)\n",
      "    at osc.UDPPort.emit (node:events:390:28)\n",
      "    at Object.osc.firePacketEvents (/Users/avneeshsarwate/abletonAutomationExtraction/node_modules/osc/src/osc-transports.js:25:18)\n",
      "    at osc.UDPPort.p.decodeOSC (/Users/avneeshsarwate/abletonAutomationExtraction/node_modules/osc/src/osc-transports.js:85:17)\n",
      "    at osc.UDPPort.emit (node:events:390:28)\n",
      "    at Socket.<anonymous> (/Users/avneeshsarwate/abletonAutomationExtraction/node_modules/osc/src/platforms/osc-node.js:102:18)\n",
      "    at Socket.emit (node:events:390:28)\n",
      "    at UDP.onMessage [as onmessage] (node:dgram:931:8)"
     ]
    },
    {
     "name": "stdout",
     "output_type": "stream",
     "text": [
      "{ address: '/pos', args: [ 0.485679566860199, 0.597118079662323 ] }\n"
     ]
    },
    {
     "name": "stderr",
     "output_type": "stream",
     "text": [
      "TypeError: udp_osc_port.sendMsg is not a function\n",
      "    at Object.handlers./pos (evalmachine.<anonymous>:62:18)\n",
      "    at osc.UDPPort.<anonymous> (evalmachine.<anonymous>:72:44)\n",
      "    at osc.UDPPort.emit (node:events:390:28)\n",
      "    at Object.osc.firePacketEvents (/Users/avneeshsarwate/abletonAutomationExtraction/node_modules/osc/src/osc-transports.js:25:18)\n",
      "    at osc.UDPPort.p.decodeOSC (/Users/avneeshsarwate/abletonAutomationExtraction/node_modules/osc/src/osc-transports.js:85:17)\n",
      "    at osc.UDPPort.emit (node:events:390:28)\n",
      "    at Socket.<anonymous> (/Users/avneeshsarwate/abletonAutomationExtraction/node_modules/osc/src/platforms/osc-node.js:102:18)\n",
      "    at Socket.emit (node:events:390:28)\n",
      "    at UDP.onMessage [as onmessage] (node:dgram:931:8)"
     ]
    },
    {
     "name": "stdout",
     "output_type": "stream",
     "text": [
      "{ address: '/pos', args: [ 0.485679566860199, 0.594539225101471 ] }\n"
     ]
    },
    {
     "name": "stderr",
     "output_type": "stream",
     "text": [
      "TypeError: udp_osc_port.sendMsg is not a function\n",
      "    at Object.handlers./pos (evalmachine.<anonymous>:62:18)\n",
      "    at osc.UDPPort.<anonymous> (evalmachine.<anonymous>:72:44)\n",
      "    at osc.UDPPort.emit (node:events:390:28)\n",
      "    at Object.osc.firePacketEvents (/Users/avneeshsarwate/abletonAutomationExtraction/node_modules/osc/src/osc-transports.js:25:18)\n",
      "    at osc.UDPPort.p.decodeOSC (/Users/avneeshsarwate/abletonAutomationExtraction/node_modules/osc/src/osc-transports.js:85:17)\n",
      "    at osc.UDPPort.emit (node:events:390:28)\n",
      "    at Socket.<anonymous> (/Users/avneeshsarwate/abletonAutomationExtraction/node_modules/osc/src/platforms/osc-node.js:102:18)\n",
      "    at Socket.emit (node:events:390:28)\n",
      "    at UDP.onMessage [as onmessage] (node:dgram:931:8)"
     ]
    },
    {
     "name": "stdout",
     "output_type": "stream",
     "text": [
      "{ address: '/pos', args: [ 0.49112632870674133, 0.594539225101471 ] }\n"
     ]
    },
    {
     "name": "stderr",
     "output_type": "stream",
     "text": [
      "TypeError: udp_osc_port.sendMsg is not a function\n",
      "    at Object.handlers./pos (evalmachine.<anonymous>:62:18)\n",
      "    at osc.UDPPort.<anonymous> (evalmachine.<anonymous>:72:44)\n",
      "    at osc.UDPPort.emit (node:events:390:28)\n",
      "    at Object.osc.firePacketEvents (/Users/avneeshsarwate/abletonAutomationExtraction/node_modules/osc/src/osc-transports.js:25:18)\n",
      "    at osc.UDPPort.p.decodeOSC (/Users/avneeshsarwate/abletonAutomationExtraction/node_modules/osc/src/osc-transports.js:85:17)\n",
      "    at osc.UDPPort.emit (node:events:390:28)\n",
      "    at Socket.<anonymous> (/Users/avneeshsarwate/abletonAutomationExtraction/node_modules/osc/src/platforms/osc-node.js:102:18)\n",
      "    at Socket.emit (node:events:390:28)\n",
      "    at UDP.onMessage [as onmessage] (node:dgram:931:8)"
     ]
    },
    {
     "name": "stdout",
     "output_type": "stream",
     "text": [
      "{ address: '/pos', args: [ 0.49112632870674133, 0.591823399066925 ] }\n"
     ]
    },
    {
     "name": "stderr",
     "output_type": "stream",
     "text": [
      "TypeError: udp_osc_port.sendMsg is not a function\n",
      "    at Object.handlers./pos (evalmachine.<anonymous>:62:18)\n",
      "    at osc.UDPPort.<anonymous> (evalmachine.<anonymous>:72:44)\n",
      "    at osc.UDPPort.emit (node:events:390:28)\n",
      "    at Object.osc.firePacketEvents (/Users/avneeshsarwate/abletonAutomationExtraction/node_modules/osc/src/osc-transports.js:25:18)\n",
      "    at osc.UDPPort.p.decodeOSC (/Users/avneeshsarwate/abletonAutomationExtraction/node_modules/osc/src/osc-transports.js:85:17)\n",
      "    at osc.UDPPort.emit (node:events:390:28)\n",
      "    at Socket.<anonymous> (/Users/avneeshsarwate/abletonAutomationExtraction/node_modules/osc/src/platforms/osc-node.js:102:18)\n",
      "    at Socket.emit (node:events:390:28)\n",
      "    at UDP.onMessage [as onmessage] (node:dgram:931:8)"
     ]
    },
    {
     "name": "stdout",
     "output_type": "stream",
     "text": [
      "{ address: '/pos', args: [ 0.4974023401737213, 0.591823399066925 ] }\n"
     ]
    },
    {
     "name": "stderr",
     "output_type": "stream",
     "text": [
      "TypeError: udp_osc_port.sendMsg is not a function\n",
      "    at Object.handlers./pos (evalmachine.<anonymous>:62:18)\n",
      "    at osc.UDPPort.<anonymous> (evalmachine.<anonymous>:72:44)\n",
      "    at osc.UDPPort.emit (node:events:390:28)\n",
      "    at Object.osc.firePacketEvents (/Users/avneeshsarwate/abletonAutomationExtraction/node_modules/osc/src/osc-transports.js:25:18)\n",
      "    at osc.UDPPort.p.decodeOSC (/Users/avneeshsarwate/abletonAutomationExtraction/node_modules/osc/src/osc-transports.js:85:17)\n",
      "    at osc.UDPPort.emit (node:events:390:28)\n",
      "    at Socket.<anonymous> (/Users/avneeshsarwate/abletonAutomationExtraction/node_modules/osc/src/platforms/osc-node.js:102:18)\n",
      "    at Socket.emit (node:events:390:28)\n",
      "    at UDP.onMessage [as onmessage] (node:dgram:931:8)"
     ]
    },
    {
     "name": "stdout",
     "output_type": "stream",
     "text": [
      "{ address: '/pos', args: [ 0.4974023401737213, 0.5890087485313416 ] }\n"
     ]
    },
    {
     "name": "stderr",
     "output_type": "stream",
     "text": [
      "TypeError: udp_osc_port.sendMsg is not a function\n",
      "    at Object.handlers./pos (evalmachine.<anonymous>:62:18)\n",
      "    at osc.UDPPort.<anonymous> (evalmachine.<anonymous>:72:44)\n",
      "    at osc.UDPPort.emit (node:events:390:28)\n",
      "    at Object.osc.firePacketEvents (/Users/avneeshsarwate/abletonAutomationExtraction/node_modules/osc/src/osc-transports.js:25:18)\n",
      "    at osc.UDPPort.p.decodeOSC (/Users/avneeshsarwate/abletonAutomationExtraction/node_modules/osc/src/osc-transports.js:85:17)\n",
      "    at osc.UDPPort.emit (node:events:390:28)\n",
      "    at Socket.<anonymous> (/Users/avneeshsarwate/abletonAutomationExtraction/node_modules/osc/src/platforms/osc-node.js:102:18)\n",
      "    at Socket.emit (node:events:390:28)\n",
      "    at UDP.onMessage [as onmessage] (node:dgram:931:8)"
     ]
    },
    {
     "name": "stdout",
     "output_type": "stream",
     "text": [
      "{ address: '/pos', args: [ 0.5032752156257629, 0.5890087485313416 ] }\n"
     ]
    },
    {
     "name": "stderr",
     "output_type": "stream",
     "text": [
      "TypeError: udp_osc_port.sendMsg is not a function\n",
      "    at Object.handlers./pos (evalmachine.<anonymous>:62:18)\n",
      "    at osc.UDPPort.<anonymous> (evalmachine.<anonymous>:72:44)\n",
      "    at osc.UDPPort.emit (node:events:390:28)\n",
      "    at Object.osc.firePacketEvents (/Users/avneeshsarwate/abletonAutomationExtraction/node_modules/osc/src/osc-transports.js:25:18)\n",
      "    at osc.UDPPort.p.decodeOSC (/Users/avneeshsarwate/abletonAutomationExtraction/node_modules/osc/src/osc-transports.js:85:17)\n",
      "    at osc.UDPPort.emit (node:events:390:28)\n",
      "    at Socket.<anonymous> (/Users/avneeshsarwate/abletonAutomationExtraction/node_modules/osc/src/platforms/osc-node.js:102:18)\n",
      "    at Socket.emit (node:events:390:28)\n",
      "    at UDP.onMessage [as onmessage] (node:dgram:931:8)"
     ]
    },
    {
     "name": "stdout",
     "output_type": "stream",
     "text": [
      "{ address: '/pos', args: [ 0.5032752156257629, 0.5862625241279602 ] }\n"
     ]
    },
    {
     "name": "stderr",
     "output_type": "stream",
     "text": [
      "TypeError: udp_osc_port.sendMsg is not a function\n",
      "    at Object.handlers./pos (evalmachine.<anonymous>:62:18)\n",
      "    at osc.UDPPort.<anonymous> (evalmachine.<anonymous>:72:44)\n",
      "    at osc.UDPPort.emit (node:events:390:28)\n",
      "    at Object.osc.firePacketEvents (/Users/avneeshsarwate/abletonAutomationExtraction/node_modules/osc/src/osc-transports.js:25:18)\n",
      "    at osc.UDPPort.p.decodeOSC (/Users/avneeshsarwate/abletonAutomationExtraction/node_modules/osc/src/osc-transports.js:85:17)\n",
      "    at osc.UDPPort.emit (node:events:390:28)\n",
      "    at Socket.<anonymous> (/Users/avneeshsarwate/abletonAutomationExtraction/node_modules/osc/src/platforms/osc-node.js:102:18)\n",
      "    at Socket.emit (node:events:390:28)\n",
      "    at UDP.onMessage [as onmessage] (node:dgram:931:8)"
     ]
    },
    {
     "name": "stdout",
     "output_type": "stream",
     "text": [
      "{ address: '/pos', args: [ 0.5089273452758789, 0.5862625241279602 ] }\n"
     ]
    },
    {
     "name": "stderr",
     "output_type": "stream",
     "text": [
      "TypeError: udp_osc_port.sendMsg is not a function\n",
      "    at Object.handlers./pos (evalmachine.<anonymous>:62:18)\n",
      "    at osc.UDPPort.<anonymous> (evalmachine.<anonymous>:72:44)\n",
      "    at osc.UDPPort.emit (node:events:390:28)\n",
      "    at Object.osc.firePacketEvents (/Users/avneeshsarwate/abletonAutomationExtraction/node_modules/osc/src/osc-transports.js:25:18)\n",
      "    at osc.UDPPort.p.decodeOSC (/Users/avneeshsarwate/abletonAutomationExtraction/node_modules/osc/src/osc-transports.js:85:17)\n",
      "    at osc.UDPPort.emit (node:events:390:28)\n",
      "    at Socket.<anonymous> (/Users/avneeshsarwate/abletonAutomationExtraction/node_modules/osc/src/platforms/osc-node.js:102:18)\n",
      "    at Socket.emit (node:events:390:28)\n",
      "    at UDP.onMessage [as onmessage] (node:dgram:931:8)"
     ]
    },
    {
     "name": "stdout",
     "output_type": "stream",
     "text": [
      "{ address: '/pos', args: [ 0.5089273452758789, 0.5835162401199341 ] }\n"
     ]
    },
    {
     "name": "stderr",
     "output_type": "stream",
     "text": [
      "TypeError: udp_osc_port.sendMsg is not a function\n",
      "    at Object.handlers./pos (evalmachine.<anonymous>:62:18)\n",
      "    at osc.UDPPort.<anonymous> (evalmachine.<anonymous>:72:44)\n",
      "    at osc.UDPPort.emit (node:events:390:28)\n",
      "    at Object.osc.firePacketEvents (/Users/avneeshsarwate/abletonAutomationExtraction/node_modules/osc/src/osc-transports.js:25:18)\n",
      "    at osc.UDPPort.p.decodeOSC (/Users/avneeshsarwate/abletonAutomationExtraction/node_modules/osc/src/osc-transports.js:85:17)\n",
      "    at osc.UDPPort.emit (node:events:390:28)\n",
      "    at Socket.<anonymous> (/Users/avneeshsarwate/abletonAutomationExtraction/node_modules/osc/src/platforms/osc-node.js:102:18)\n",
      "    at Socket.emit (node:events:390:28)\n",
      "    at UDP.onMessage [as onmessage] (node:dgram:931:8)"
     ]
    },
    {
     "name": "stdout",
     "output_type": "stream",
     "text": [
      "{ address: '/pos', args: [ 0.5143133401870728, 0.5835162401199341 ] }\n"
     ]
    },
    {
     "name": "stderr",
     "output_type": "stream",
     "text": [
      "TypeError: udp_osc_port.sendMsg is not a function\n",
      "    at Object.handlers./pos (evalmachine.<anonymous>:62:18)\n",
      "    at osc.UDPPort.<anonymous> (evalmachine.<anonymous>:72:44)\n",
      "    at osc.UDPPort.emit (node:events:390:28)\n",
      "    at Object.osc.firePacketEvents (/Users/avneeshsarwate/abletonAutomationExtraction/node_modules/osc/src/osc-transports.js:25:18)\n",
      "    at osc.UDPPort.p.decodeOSC (/Users/avneeshsarwate/abletonAutomationExtraction/node_modules/osc/src/osc-transports.js:85:17)\n",
      "    at osc.UDPPort.emit (node:events:390:28)\n",
      "    at Socket.<anonymous> (/Users/avneeshsarwate/abletonAutomationExtraction/node_modules/osc/src/platforms/osc-node.js:102:18)\n",
      "    at Socket.emit (node:events:390:28)\n",
      "    at UDP.onMessage [as onmessage] (node:dgram:931:8)"
     ]
    },
    {
     "name": "stdout",
     "output_type": "stream",
     "text": [
      "{ address: '/pos', args: [ 0.5143133401870728, 0.5811276435852051 ] }\n"
     ]
    },
    {
     "name": "stderr",
     "output_type": "stream",
     "text": [
      "TypeError: udp_osc_port.sendMsg is not a function\n",
      "    at Object.handlers./pos (evalmachine.<anonymous>:62:18)\n",
      "    at osc.UDPPort.<anonymous> (evalmachine.<anonymous>:72:44)\n",
      "    at osc.UDPPort.emit (node:events:390:28)\n",
      "    at Object.osc.firePacketEvents (/Users/avneeshsarwate/abletonAutomationExtraction/node_modules/osc/src/osc-transports.js:25:18)\n",
      "    at osc.UDPPort.p.decodeOSC (/Users/avneeshsarwate/abletonAutomationExtraction/node_modules/osc/src/osc-transports.js:85:17)\n",
      "    at osc.UDPPort.emit (node:events:390:28)\n",
      "    at Socket.<anonymous> (/Users/avneeshsarwate/abletonAutomationExtraction/node_modules/osc/src/platforms/osc-node.js:102:18)\n",
      "    at Socket.emit (node:events:390:28)\n",
      "    at UDP.onMessage [as onmessage] (node:dgram:931:8)"
     ]
    },
    {
     "name": "stdout",
     "output_type": "stream",
     "text": [
      "{ address: '/pos', args: [ 0.5183528065681458, 0.5811276435852051 ] }\n"
     ]
    },
    {
     "name": "stderr",
     "output_type": "stream",
     "text": [
      "TypeError: udp_osc_port.sendMsg is not a function\n",
      "    at Object.handlers./pos (evalmachine.<anonymous>:62:18)\n",
      "    at osc.UDPPort.<anonymous> (evalmachine.<anonymous>:72:44)\n",
      "    at osc.UDPPort.emit (node:events:390:28)\n",
      "    at Object.osc.firePacketEvents (/Users/avneeshsarwate/abletonAutomationExtraction/node_modules/osc/src/osc-transports.js:25:18)\n",
      "    at osc.UDPPort.p.decodeOSC (/Users/avneeshsarwate/abletonAutomationExtraction/node_modules/osc/src/osc-transports.js:85:17)\n",
      "    at osc.UDPPort.emit (node:events:390:28)\n",
      "    at Socket.<anonymous> (/Users/avneeshsarwate/abletonAutomationExtraction/node_modules/osc/src/platforms/osc-node.js:102:18)\n",
      "    at Socket.emit (node:events:390:28)\n",
      "    at UDP.onMessage [as onmessage] (node:dgram:931:8)"
     ]
    },
    {
     "name": "stdout",
     "output_type": "stream",
     "text": [
      "{ address: '/pos', args: [ 0.5183528065681458, 0.5782444477081299 ] }\n"
     ]
    },
    {
     "name": "stderr",
     "output_type": "stream",
     "text": [
      "TypeError: udp_osc_port.sendMsg is not a function\n",
      "    at Object.handlers./pos (evalmachine.<anonymous>:62:18)\n",
      "    at osc.UDPPort.<anonymous> (evalmachine.<anonymous>:72:44)\n",
      "    at osc.UDPPort.emit (node:events:390:28)\n",
      "    at Object.osc.firePacketEvents (/Users/avneeshsarwate/abletonAutomationExtraction/node_modules/osc/src/osc-transports.js:25:18)\n",
      "    at osc.UDPPort.p.decodeOSC (/Users/avneeshsarwate/abletonAutomationExtraction/node_modules/osc/src/osc-transports.js:85:17)\n",
      "    at osc.UDPPort.emit (node:events:390:28)\n",
      "    at Socket.<anonymous> (/Users/avneeshsarwate/abletonAutomationExtraction/node_modules/osc/src/platforms/osc-node.js:102:18)\n",
      "    at Socket.emit (node:events:390:28)\n",
      "    at UDP.onMessage [as onmessage] (node:dgram:931:8)"
     ]
    },
    {
     "name": "stdout",
     "output_type": "stream",
     "text": [
      "{ address: '/pos', args: [ 0.5229552388191223, 0.5782444477081299 ] }\n"
     ]
    },
    {
     "name": "stderr",
     "output_type": "stream",
     "text": [
      "TypeError: udp_osc_port.sendMsg is not a function\n",
      "    at Object.handlers./pos (evalmachine.<anonymous>:62:18)\n",
      "    at osc.UDPPort.<anonymous> (evalmachine.<anonymous>:72:44)\n",
      "    at osc.UDPPort.emit (node:events:390:28)\n",
      "    at Object.osc.firePacketEvents (/Users/avneeshsarwate/abletonAutomationExtraction/node_modules/osc/src/osc-transports.js:25:18)\n",
      "    at osc.UDPPort.p.decodeOSC (/Users/avneeshsarwate/abletonAutomationExtraction/node_modules/osc/src/osc-transports.js:85:17)\n",
      "    at osc.UDPPort.emit (node:events:390:28)\n",
      "    at Socket.<anonymous> (/Users/avneeshsarwate/abletonAutomationExtraction/node_modules/osc/src/platforms/osc-node.js:102:18)\n",
      "    at Socket.emit (node:events:390:28)\n",
      "    at UDP.onMessage [as onmessage] (node:dgram:931:8)"
     ]
    },
    {
     "name": "stdout",
     "output_type": "stream",
     "text": [
      "{ address: '/pos', args: [ 0.5229552388191223, 0.5757873058319092 ] }\n"
     ]
    },
    {
     "name": "stderr",
     "output_type": "stream",
     "text": [
      "TypeError: udp_osc_port.sendMsg is not a function\n",
      "    at Object.handlers./pos (evalmachine.<anonymous>:62:18)\n",
      "    at osc.UDPPort.<anonymous> (evalmachine.<anonymous>:72:44)\n",
      "    at osc.UDPPort.emit (node:events:390:28)\n",
      "    at Object.osc.firePacketEvents (/Users/avneeshsarwate/abletonAutomationExtraction/node_modules/osc/src/osc-transports.js:25:18)\n",
      "    at osc.UDPPort.p.decodeOSC (/Users/avneeshsarwate/abletonAutomationExtraction/node_modules/osc/src/osc-transports.js:85:17)\n",
      "    at osc.UDPPort.emit (node:events:390:28)\n",
      "    at Socket.<anonymous> (/Users/avneeshsarwate/abletonAutomationExtraction/node_modules/osc/src/platforms/osc-node.js:102:18)\n",
      "    at Socket.emit (node:events:390:28)\n",
      "    at UDP.onMessage [as onmessage] (node:dgram:931:8)"
     ]
    },
    {
     "name": "stdout",
     "output_type": "stream",
     "text": [
      "{ address: '/pos', args: [ 0.5256938338279724, 0.5757873058319092 ] }\n"
     ]
    },
    {
     "name": "stderr",
     "output_type": "stream",
     "text": [
      "TypeError: udp_osc_port.sendMsg is not a function\n",
      "    at Object.handlers./pos (evalmachine.<anonymous>:62:18)\n",
      "    at osc.UDPPort.<anonymous> (evalmachine.<anonymous>:72:44)\n",
      "    at osc.UDPPort.emit (node:events:390:28)\n",
      "    at Object.osc.firePacketEvents (/Users/avneeshsarwate/abletonAutomationExtraction/node_modules/osc/src/osc-transports.js:25:18)\n",
      "    at osc.UDPPort.p.decodeOSC (/Users/avneeshsarwate/abletonAutomationExtraction/node_modules/osc/src/osc-transports.js:85:17)\n",
      "    at osc.UDPPort.emit (node:events:390:28)\n",
      "    at Socket.<anonymous> (/Users/avneeshsarwate/abletonAutomationExtraction/node_modules/osc/src/platforms/osc-node.js:102:18)\n",
      "    at Socket.emit (node:events:390:28)\n",
      "    at UDP.onMessage [as onmessage] (node:dgram:931:8)"
     ]
    },
    {
     "name": "stdout",
     "output_type": "stream",
     "text": [
      "{ address: '/pos', args: [ 0.5256938338279724, 0.5745700597763062 ] }\n"
     ]
    },
    {
     "name": "stderr",
     "output_type": "stream",
     "text": [
      "TypeError: udp_osc_port.sendMsg is not a function\n",
      "    at Object.handlers./pos (evalmachine.<anonymous>:62:18)\n",
      "    at osc.UDPPort.<anonymous> (evalmachine.<anonymous>:72:44)\n",
      "    at osc.UDPPort.emit (node:events:390:28)\n",
      "    at Object.osc.firePacketEvents (/Users/avneeshsarwate/abletonAutomationExtraction/node_modules/osc/src/osc-transports.js:25:18)\n",
      "    at osc.UDPPort.p.decodeOSC (/Users/avneeshsarwate/abletonAutomationExtraction/node_modules/osc/src/osc-transports.js:85:17)\n",
      "    at osc.UDPPort.emit (node:events:390:28)\n",
      "    at Socket.<anonymous> (/Users/avneeshsarwate/abletonAutomationExtraction/node_modules/osc/src/platforms/osc-node.js:102:18)\n",
      "    at Socket.emit (node:events:390:28)\n",
      "    at UDP.onMessage [as onmessage] (node:dgram:931:8)"
     ]
    },
    {
     "name": "stdout",
     "output_type": "stream",
     "text": [
      "{ address: '/pos', args: [ 0.530227780342102, 0.5745700597763062 ] }\n"
     ]
    },
    {
     "name": "stderr",
     "output_type": "stream",
     "text": [
      "TypeError: udp_osc_port.sendMsg is not a function\n",
      "    at Object.handlers./pos (evalmachine.<anonymous>:62:18)\n",
      "    at osc.UDPPort.<anonymous> (evalmachine.<anonymous>:72:44)\n",
      "    at osc.UDPPort.emit (node:events:390:28)\n",
      "    at Object.osc.firePacketEvents (/Users/avneeshsarwate/abletonAutomationExtraction/node_modules/osc/src/osc-transports.js:25:18)\n",
      "    at osc.UDPPort.p.decodeOSC (/Users/avneeshsarwate/abletonAutomationExtraction/node_modules/osc/src/osc-transports.js:85:17)\n",
      "    at osc.UDPPort.emit (node:events:390:28)\n",
      "    at Socket.<anonymous> (/Users/avneeshsarwate/abletonAutomationExtraction/node_modules/osc/src/platforms/osc-node.js:102:18)\n",
      "    at Socket.emit (node:events:390:28)\n",
      "    at UDP.onMessage [as onmessage] (node:dgram:931:8)"
     ]
    },
    {
     "name": "stdout",
     "output_type": "stream",
     "text": [
      "{ address: '/pos', args: [ 0.530227780342102, 0.5729954242706299 ] }\n"
     ]
    },
    {
     "name": "stderr",
     "output_type": "stream",
     "text": [
      "TypeError: udp_osc_port.sendMsg is not a function\n",
      "    at Object.handlers./pos (evalmachine.<anonymous>:62:18)\n",
      "    at osc.UDPPort.<anonymous> (evalmachine.<anonymous>:72:44)\n",
      "    at osc.UDPPort.emit (node:events:390:28)\n",
      "    at Object.osc.firePacketEvents (/Users/avneeshsarwate/abletonAutomationExtraction/node_modules/osc/src/osc-transports.js:25:18)\n",
      "    at osc.UDPPort.p.decodeOSC (/Users/avneeshsarwate/abletonAutomationExtraction/node_modules/osc/src/osc-transports.js:85:17)\n",
      "    at osc.UDPPort.emit (node:events:390:28)\n",
      "    at Socket.<anonymous> (/Users/avneeshsarwate/abletonAutomationExtraction/node_modules/osc/src/platforms/osc-node.js:102:18)\n",
      "    at Socket.emit (node:events:390:28)\n",
      "    at UDP.onMessage [as onmessage] (node:dgram:931:8)"
     ]
    },
    {
     "name": "stdout",
     "output_type": "stream",
     "text": [
      "{ address: '/pos', args: [ 0.5367472171783447, 0.5729954242706299 ] }\n"
     ]
    },
    {
     "name": "stderr",
     "output_type": "stream",
     "text": [
      "TypeError: udp_osc_port.sendMsg is not a function\n",
      "    at Object.handlers./pos (evalmachine.<anonymous>:62:18)\n",
      "    at osc.UDPPort.<anonymous> (evalmachine.<anonymous>:72:44)\n",
      "    at osc.UDPPort.emit (node:events:390:28)\n",
      "    at Object.osc.firePacketEvents (/Users/avneeshsarwate/abletonAutomationExtraction/node_modules/osc/src/osc-transports.js:25:18)\n",
      "    at osc.UDPPort.p.decodeOSC (/Users/avneeshsarwate/abletonAutomationExtraction/node_modules/osc/src/osc-transports.js:85:17)\n",
      "    at osc.UDPPort.emit (node:events:390:28)\n",
      "    at Socket.<anonymous> (/Users/avneeshsarwate/abletonAutomationExtraction/node_modules/osc/src/platforms/osc-node.js:102:18)\n",
      "    at Socket.emit (node:events:390:28)\n",
      "    at UDP.onMessage [as onmessage] (node:dgram:931:8)"
     ]
    },
    {
     "name": "stdout",
     "output_type": "stream",
     "text": [
      "{ address: '/pos', args: [ 0.5367472171783447, 0.5716184973716736 ] }\n"
     ]
    },
    {
     "name": "stderr",
     "output_type": "stream",
     "text": [
      "TypeError: udp_osc_port.sendMsg is not a function\n",
      "    at Object.handlers./pos (evalmachine.<anonymous>:62:18)\n",
      "    at osc.UDPPort.<anonymous> (evalmachine.<anonymous>:72:44)\n",
      "    at osc.UDPPort.emit (node:events:390:28)\n",
      "    at Object.osc.firePacketEvents (/Users/avneeshsarwate/abletonAutomationExtraction/node_modules/osc/src/osc-transports.js:25:18)\n",
      "    at osc.UDPPort.p.decodeOSC (/Users/avneeshsarwate/abletonAutomationExtraction/node_modules/osc/src/osc-transports.js:85:17)\n",
      "    at osc.UDPPort.emit (node:events:390:28)\n",
      "    at Socket.<anonymous> (/Users/avneeshsarwate/abletonAutomationExtraction/node_modules/osc/src/platforms/osc-node.js:102:18)\n",
      "    at Socket.emit (node:events:390:28)\n",
      "    at UDP.onMessage [as onmessage] (node:dgram:931:8)"
     ]
    },
    {
     "name": "stdout",
     "output_type": "stream",
     "text": [
      "{ address: '/pos', args: [ 0.5440958142280579, 0.5716184973716736 ] }\n"
     ]
    },
    {
     "name": "stderr",
     "output_type": "stream",
     "text": [
      "TypeError: udp_osc_port.sendMsg is not a function\n",
      "    at Object.handlers./pos (evalmachine.<anonymous>:62:18)\n",
      "    at osc.UDPPort.<anonymous> (evalmachine.<anonymous>:72:44)\n",
      "    at osc.UDPPort.emit (node:events:390:28)\n",
      "    at Object.osc.firePacketEvents (/Users/avneeshsarwate/abletonAutomationExtraction/node_modules/osc/src/osc-transports.js:25:18)\n",
      "    at osc.UDPPort.p.decodeOSC (/Users/avneeshsarwate/abletonAutomationExtraction/node_modules/osc/src/osc-transports.js:85:17)\n",
      "    at osc.UDPPort.emit (node:events:390:28)\n",
      "    at Socket.<anonymous> (/Users/avneeshsarwate/abletonAutomationExtraction/node_modules/osc/src/platforms/osc-node.js:102:18)\n",
      "    at Socket.emit (node:events:390:28)\n",
      "    at UDP.onMessage [as onmessage] (node:dgram:931:8)"
     ]
    },
    {
     "name": "stdout",
     "output_type": "stream",
     "text": [
      "{ address: '/pos', args: [ 0.5440958142280579, 0.569823145866394 ] }\n"
     ]
    },
    {
     "name": "stderr",
     "output_type": "stream",
     "text": [
      "TypeError: udp_osc_port.sendMsg is not a function\n",
      "    at Object.handlers./pos (evalmachine.<anonymous>:62:18)\n",
      "    at osc.UDPPort.<anonymous> (evalmachine.<anonymous>:72:44)\n",
      "    at osc.UDPPort.emit (node:events:390:28)\n",
      "    at Object.osc.firePacketEvents (/Users/avneeshsarwate/abletonAutomationExtraction/node_modules/osc/src/osc-transports.js:25:18)\n",
      "    at osc.UDPPort.p.decodeOSC (/Users/avneeshsarwate/abletonAutomationExtraction/node_modules/osc/src/osc-transports.js:85:17)\n",
      "    at osc.UDPPort.emit (node:events:390:28)\n",
      "    at Socket.<anonymous> (/Users/avneeshsarwate/abletonAutomationExtraction/node_modules/osc/src/platforms/osc-node.js:102:18)\n",
      "    at Socket.emit (node:events:390:28)\n",
      "    at UDP.onMessage [as onmessage] (node:dgram:931:8)"
     ]
    },
    {
     "name": "stdout",
     "output_type": "stream",
     "text": [
      "{ address: '/pos', args: [ 0.552844226360321, 0.569823145866394 ] }\n"
     ]
    },
    {
     "name": "stderr",
     "output_type": "stream",
     "text": [
      "TypeError: udp_osc_port.sendMsg is not a function\n",
      "    at Object.handlers./pos (evalmachine.<anonymous>:62:18)\n",
      "    at osc.UDPPort.<anonymous> (evalmachine.<anonymous>:72:44)\n",
      "    at osc.UDPPort.emit (node:events:390:28)\n",
      "    at Object.osc.firePacketEvents (/Users/avneeshsarwate/abletonAutomationExtraction/node_modules/osc/src/osc-transports.js:25:18)\n",
      "    at osc.UDPPort.p.decodeOSC (/Users/avneeshsarwate/abletonAutomationExtraction/node_modules/osc/src/osc-transports.js:85:17)\n",
      "    at osc.UDPPort.emit (node:events:390:28)\n",
      "    at Socket.<anonymous> (/Users/avneeshsarwate/abletonAutomationExtraction/node_modules/osc/src/platforms/osc-node.js:102:18)\n",
      "    at Socket.emit (node:events:390:28)\n",
      "    at UDP.onMessage [as onmessage] (node:dgram:931:8)"
     ]
    },
    {
     "name": "stdout",
     "output_type": "stream",
     "text": [
      "{ address: '/pos', args: [ 0.552844226360321, 0.5671758651733398 ] }\n"
     ]
    },
    {
     "name": "stderr",
     "output_type": "stream",
     "text": [
      "TypeError: udp_osc_port.sendMsg is not a function\n",
      "    at Object.handlers./pos (evalmachine.<anonymous>:62:18)\n",
      "    at osc.UDPPort.<anonymous> (evalmachine.<anonymous>:72:44)\n",
      "    at osc.UDPPort.emit (node:events:390:28)\n",
      "    at Object.osc.firePacketEvents (/Users/avneeshsarwate/abletonAutomationExtraction/node_modules/osc/src/osc-transports.js:25:18)\n",
      "    at osc.UDPPort.p.decodeOSC (/Users/avneeshsarwate/abletonAutomationExtraction/node_modules/osc/src/osc-transports.js:85:17)\n",
      "    at osc.UDPPort.emit (node:events:390:28)\n",
      "    at Socket.<anonymous> (/Users/avneeshsarwate/abletonAutomationExtraction/node_modules/osc/src/platforms/osc-node.js:102:18)\n",
      "    at Socket.emit (node:events:390:28)\n",
      "    at UDP.onMessage [as onmessage] (node:dgram:931:8)"
     ]
    },
    {
     "name": "stdout",
     "output_type": "stream",
     "text": [
      "{ address: '/pos', args: [ 0.5618436336517334, 0.5671758651733398 ] }\n"
     ]
    },
    {
     "name": "stderr",
     "output_type": "stream",
     "text": [
      "TypeError: udp_osc_port.sendMsg is not a function\n",
      "    at Object.handlers./pos (evalmachine.<anonymous>:62:18)\n",
      "    at osc.UDPPort.<anonymous> (evalmachine.<anonymous>:72:44)\n",
      "    at osc.UDPPort.emit (node:events:390:28)\n",
      "    at Object.osc.firePacketEvents (/Users/avneeshsarwate/abletonAutomationExtraction/node_modules/osc/src/osc-transports.js:25:18)\n",
      "    at osc.UDPPort.p.decodeOSC (/Users/avneeshsarwate/abletonAutomationExtraction/node_modules/osc/src/osc-transports.js:85:17)\n",
      "    at osc.UDPPort.emit (node:events:390:28)\n",
      "    at Socket.<anonymous> (/Users/avneeshsarwate/abletonAutomationExtraction/node_modules/osc/src/platforms/osc-node.js:102:18)\n",
      "    at Socket.emit (node:events:390:28)\n",
      "    at UDP.onMessage [as onmessage] (node:dgram:931:8)"
     ]
    },
    {
     "name": "stdout",
     "output_type": "stream",
     "text": [
      "{ address: '/pos', args: [ 0.5618436336517334, 0.5637068748474121 ] }\n"
     ]
    },
    {
     "name": "stderr",
     "output_type": "stream",
     "text": [
      "TypeError: udp_osc_port.sendMsg is not a function\n",
      "    at Object.handlers./pos (evalmachine.<anonymous>:62:18)\n",
      "    at osc.UDPPort.<anonymous> (evalmachine.<anonymous>:72:44)\n",
      "    at osc.UDPPort.emit (node:events:390:28)\n",
      "    at Object.osc.firePacketEvents (/Users/avneeshsarwate/abletonAutomationExtraction/node_modules/osc/src/osc-transports.js:25:18)\n",
      "    at osc.UDPPort.p.decodeOSC (/Users/avneeshsarwate/abletonAutomationExtraction/node_modules/osc/src/osc-transports.js:85:17)\n",
      "    at osc.UDPPort.emit (node:events:390:28)\n",
      "    at Socket.<anonymous> (/Users/avneeshsarwate/abletonAutomationExtraction/node_modules/osc/src/platforms/osc-node.js:102:18)\n",
      "    at Socket.emit (node:events:390:28)\n",
      "    at UDP.onMessage [as onmessage] (node:dgram:931:8)"
     ]
    },
    {
     "name": "stdout",
     "output_type": "stream",
     "text": [
      "{ address: '/pos', args: [ 0.5700823068618774, 0.5637068748474121 ] }\n"
     ]
    },
    {
     "name": "stderr",
     "output_type": "stream",
     "text": [
      "TypeError: udp_osc_port.sendMsg is not a function\n",
      "    at Object.handlers./pos (evalmachine.<anonymous>:62:18)\n",
      "    at osc.UDPPort.<anonymous> (evalmachine.<anonymous>:72:44)\n",
      "    at osc.UDPPort.emit (node:events:390:28)\n",
      "    at Object.osc.firePacketEvents (/Users/avneeshsarwate/abletonAutomationExtraction/node_modules/osc/src/osc-transports.js:25:18)\n",
      "    at osc.UDPPort.p.decodeOSC (/Users/avneeshsarwate/abletonAutomationExtraction/node_modules/osc/src/osc-transports.js:85:17)\n",
      "    at osc.UDPPort.emit (node:events:390:28)\n",
      "    at Socket.<anonymous> (/Users/avneeshsarwate/abletonAutomationExtraction/node_modules/osc/src/platforms/osc-node.js:102:18)\n",
      "    at Socket.emit (node:events:390:28)\n",
      "    at UDP.onMessage [as onmessage] (node:dgram:931:8)"
     ]
    },
    {
     "name": "stdout",
     "output_type": "stream",
     "text": [
      "{ address: '/pos', args: [ 0.5700823068618774, 0.560420572757721 ] }\n"
     ]
    },
    {
     "name": "stderr",
     "output_type": "stream",
     "text": [
      "TypeError: udp_osc_port.sendMsg is not a function\n",
      "    at Object.handlers./pos (evalmachine.<anonymous>:62:18)\n",
      "    at osc.UDPPort.<anonymous> (evalmachine.<anonymous>:72:44)\n",
      "    at osc.UDPPort.emit (node:events:390:28)\n",
      "    at Object.osc.firePacketEvents (/Users/avneeshsarwate/abletonAutomationExtraction/node_modules/osc/src/osc-transports.js:25:18)\n",
      "    at osc.UDPPort.p.decodeOSC (/Users/avneeshsarwate/abletonAutomationExtraction/node_modules/osc/src/osc-transports.js:85:17)\n",
      "    at osc.UDPPort.emit (node:events:390:28)\n",
      "    at Socket.<anonymous> (/Users/avneeshsarwate/abletonAutomationExtraction/node_modules/osc/src/platforms/osc-node.js:102:18)\n",
      "    at Socket.emit (node:events:390:28)\n",
      "    at UDP.onMessage [as onmessage] (node:dgram:931:8)"
     ]
    },
    {
     "name": "stdout",
     "output_type": "stream",
     "text": [
      "{ address: '/pos', args: [ 0.5788306593894958, 0.560420572757721 ] }\n"
     ]
    },
    {
     "name": "stderr",
     "output_type": "stream",
     "text": [
      "TypeError: udp_osc_port.sendMsg is not a function\n",
      "    at Object.handlers./pos (evalmachine.<anonymous>:62:18)\n",
      "    at osc.UDPPort.<anonymous> (evalmachine.<anonymous>:72:44)\n",
      "    at osc.UDPPort.emit (node:events:390:28)\n",
      "    at Object.osc.firePacketEvents (/Users/avneeshsarwate/abletonAutomationExtraction/node_modules/osc/src/osc-transports.js:25:18)\n",
      "    at osc.UDPPort.p.decodeOSC (/Users/avneeshsarwate/abletonAutomationExtraction/node_modules/osc/src/osc-transports.js:85:17)\n",
      "    at osc.UDPPort.emit (node:events:390:28)\n",
      "    at Socket.<anonymous> (/Users/avneeshsarwate/abletonAutomationExtraction/node_modules/osc/src/platforms/osc-node.js:102:18)\n",
      "    at Socket.emit (node:events:390:28)\n",
      "    at UDP.onMessage [as onmessage] (node:dgram:931:8)"
     ]
    },
    {
     "name": "stdout",
     "output_type": "stream",
     "text": [
      "{ address: '/pos', args: [ 0.5788306593894958, 0.5560920238494873 ] }\n"
     ]
    },
    {
     "name": "stderr",
     "output_type": "stream",
     "text": [
      "TypeError: udp_osc_port.sendMsg is not a function\n",
      "    at Object.handlers./pos (evalmachine.<anonymous>:62:18)\n",
      "    at osc.UDPPort.<anonymous> (evalmachine.<anonymous>:72:44)\n",
      "    at osc.UDPPort.emit (node:events:390:28)\n",
      "    at Object.osc.firePacketEvents (/Users/avneeshsarwate/abletonAutomationExtraction/node_modules/osc/src/osc-transports.js:25:18)\n",
      "    at osc.UDPPort.p.decodeOSC (/Users/avneeshsarwate/abletonAutomationExtraction/node_modules/osc/src/osc-transports.js:85:17)\n",
      "    at osc.UDPPort.emit (node:events:390:28)\n",
      "    at Socket.<anonymous> (/Users/avneeshsarwate/abletonAutomationExtraction/node_modules/osc/src/platforms/osc-node.js:102:18)\n",
      "    at Socket.emit (node:events:390:28)\n",
      "    at UDP.onMessage [as onmessage] (node:dgram:931:8)"
     ]
    },
    {
     "name": "stdout",
     "output_type": "stream",
     "text": [
      "{ address: '/pos', args: [ 0.585821807384491, 0.5560920238494873 ] }\n"
     ]
    },
    {
     "name": "stderr",
     "output_type": "stream",
     "text": [
      "TypeError: udp_osc_port.sendMsg is not a function\n",
      "    at Object.handlers./pos (evalmachine.<anonymous>:62:18)\n",
      "    at osc.UDPPort.<anonymous> (evalmachine.<anonymous>:72:44)\n",
      "    at osc.UDPPort.emit (node:events:390:28)\n",
      "    at Object.osc.firePacketEvents (/Users/avneeshsarwate/abletonAutomationExtraction/node_modules/osc/src/osc-transports.js:25:18)\n",
      "    at osc.UDPPort.p.decodeOSC (/Users/avneeshsarwate/abletonAutomationExtraction/node_modules/osc/src/osc-transports.js:85:17)\n",
      "    at osc.UDPPort.emit (node:events:390:28)\n",
      "    at Socket.<anonymous> (/Users/avneeshsarwate/abletonAutomationExtraction/node_modules/osc/src/platforms/osc-node.js:102:18)\n",
      "    at Socket.emit (node:events:390:28)\n",
      "    at UDP.onMessage [as onmessage] (node:dgram:931:8)"
     ]
    },
    {
     "name": "stdout",
     "output_type": "stream",
     "text": [
      "{ address: '/pos', args: [ 0.585821807384491, 0.5519689321517944 ] }\n"
     ]
    },
    {
     "name": "stderr",
     "output_type": "stream",
     "text": [
      "TypeError: udp_osc_port.sendMsg is not a function\n",
      "    at Object.handlers./pos (evalmachine.<anonymous>:62:18)\n",
      "    at osc.UDPPort.<anonymous> (evalmachine.<anonymous>:72:44)\n",
      "    at osc.UDPPort.emit (node:events:390:28)\n",
      "    at Object.osc.firePacketEvents (/Users/avneeshsarwate/abletonAutomationExtraction/node_modules/osc/src/osc-transports.js:25:18)\n",
      "    at osc.UDPPort.p.decodeOSC (/Users/avneeshsarwate/abletonAutomationExtraction/node_modules/osc/src/osc-transports.js:85:17)\n",
      "    at osc.UDPPort.emit (node:events:390:28)\n",
      "    at Socket.<anonymous> (/Users/avneeshsarwate/abletonAutomationExtraction/node_modules/osc/src/platforms/osc-node.js:102:18)\n",
      "    at Socket.emit (node:events:390:28)\n",
      "    at UDP.onMessage [as onmessage] (node:dgram:931:8)"
     ]
    },
    {
     "name": "stdout",
     "output_type": "stream",
     "text": [
      "{ address: '/pos', args: [ 0.5939767956733704, 0.5519689321517944 ] }\n"
     ]
    },
    {
     "name": "stderr",
     "output_type": "stream",
     "text": [
      "TypeError: udp_osc_port.sendMsg is not a function\n",
      "    at Object.handlers./pos (evalmachine.<anonymous>:62:18)\n",
      "    at osc.UDPPort.<anonymous> (evalmachine.<anonymous>:72:44)\n",
      "    at osc.UDPPort.emit (node:events:390:28)\n",
      "    at Object.osc.firePacketEvents (/Users/avneeshsarwate/abletonAutomationExtraction/node_modules/osc/src/osc-transports.js:25:18)\n",
      "    at osc.UDPPort.p.decodeOSC (/Users/avneeshsarwate/abletonAutomationExtraction/node_modules/osc/src/osc-transports.js:85:17)\n",
      "    at osc.UDPPort.emit (node:events:390:28)\n",
      "    at Socket.<anonymous> (/Users/avneeshsarwate/abletonAutomationExtraction/node_modules/osc/src/platforms/osc-node.js:102:18)\n",
      "    at Socket.emit (node:events:390:28)\n",
      "    at UDP.onMessage [as onmessage] (node:dgram:931:8)"
     ]
    },
    {
     "name": "stdout",
     "output_type": "stream",
     "text": [
      "{ address: '/pos', args: [ 0.5939767956733704, 0.54743492603302 ] }\n"
     ]
    },
    {
     "name": "stderr",
     "output_type": "stream",
     "text": [
      "TypeError: udp_osc_port.sendMsg is not a function\n",
      "    at Object.handlers./pos (evalmachine.<anonymous>:62:18)\n",
      "    at osc.UDPPort.<anonymous> (evalmachine.<anonymous>:72:44)\n",
      "    at osc.UDPPort.emit (node:events:390:28)\n",
      "    at Object.osc.firePacketEvents (/Users/avneeshsarwate/abletonAutomationExtraction/node_modules/osc/src/osc-transports.js:25:18)\n",
      "    at osc.UDPPort.p.decodeOSC (/Users/avneeshsarwate/abletonAutomationExtraction/node_modules/osc/src/osc-transports.js:85:17)\n",
      "    at osc.UDPPort.emit (node:events:390:28)\n",
      "    at Socket.<anonymous> (/Users/avneeshsarwate/abletonAutomationExtraction/node_modules/osc/src/platforms/osc-node.js:102:18)\n",
      "    at Socket.emit (node:events:390:28)\n",
      "    at UDP.onMessage [as onmessage] (node:dgram:931:8)"
     ]
    },
    {
     "name": "stdout",
     "output_type": "stream",
     "text": [
      "{ address: '/pos', args: [ 0.6013101935386658, 0.54743492603302 ] }\n"
     ]
    },
    {
     "name": "stderr",
     "output_type": "stream",
     "text": [
      "TypeError: udp_osc_port.sendMsg is not a function\n",
      "    at Object.handlers./pos (evalmachine.<anonymous>:62:18)\n",
      "    at osc.UDPPort.<anonymous> (evalmachine.<anonymous>:72:44)\n",
      "    at osc.UDPPort.emit (node:events:390:28)\n",
      "    at Object.osc.firePacketEvents (/Users/avneeshsarwate/abletonAutomationExtraction/node_modules/osc/src/osc-transports.js:25:18)\n",
      "    at osc.UDPPort.p.decodeOSC (/Users/avneeshsarwate/abletonAutomationExtraction/node_modules/osc/src/osc-transports.js:85:17)\n",
      "    at osc.UDPPort.emit (node:events:390:28)\n",
      "    at Socket.<anonymous> (/Users/avneeshsarwate/abletonAutomationExtraction/node_modules/osc/src/platforms/osc-node.js:102:18)\n",
      "    at Socket.emit (node:events:390:28)\n",
      "    at UDP.onMessage [as onmessage] (node:dgram:931:8)"
     ]
    },
    {
     "name": "stdout",
     "output_type": "stream",
     "text": [
      "{ address: '/pos', args: [ 0.6013101935386658, 0.5430379509925842 ] }\n"
     ]
    },
    {
     "name": "stderr",
     "output_type": "stream",
     "text": [
      "TypeError: udp_osc_port.sendMsg is not a function\n",
      "    at Object.handlers./pos (evalmachine.<anonymous>:62:18)\n",
      "    at osc.UDPPort.<anonymous> (evalmachine.<anonymous>:72:44)\n",
      "    at osc.UDPPort.emit (node:events:390:28)\n",
      "    at Object.osc.firePacketEvents (/Users/avneeshsarwate/abletonAutomationExtraction/node_modules/osc/src/osc-transports.js:25:18)\n",
      "    at osc.UDPPort.p.decodeOSC (/Users/avneeshsarwate/abletonAutomationExtraction/node_modules/osc/src/osc-transports.js:85:17)\n",
      "    at osc.UDPPort.emit (node:events:390:28)\n",
      "    at Socket.<anonymous> (/Users/avneeshsarwate/abletonAutomationExtraction/node_modules/osc/src/platforms/osc-node.js:102:18)\n",
      "    at Socket.emit (node:events:390:28)\n",
      "    at UDP.onMessage [as onmessage] (node:dgram:931:8)"
     ]
    },
    {
     "name": "stdout",
     "output_type": "stream",
     "text": [
      "{ address: '/pos', args: [ 0.6081339120864868, 0.5430379509925842 ] }\n"
     ]
    },
    {
     "name": "stderr",
     "output_type": "stream",
     "text": [
      "TypeError: udp_osc_port.sendMsg is not a function\n",
      "    at Object.handlers./pos (evalmachine.<anonymous>:62:18)\n",
      "    at osc.UDPPort.<anonymous> (evalmachine.<anonymous>:72:44)\n",
      "    at osc.UDPPort.emit (node:events:390:28)\n",
      "    at Object.osc.firePacketEvents (/Users/avneeshsarwate/abletonAutomationExtraction/node_modules/osc/src/osc-transports.js:25:18)\n",
      "    at osc.UDPPort.p.decodeOSC (/Users/avneeshsarwate/abletonAutomationExtraction/node_modules/osc/src/osc-transports.js:85:17)\n",
      "    at osc.UDPPort.emit (node:events:390:28)\n",
      "    at Socket.<anonymous> (/Users/avneeshsarwate/abletonAutomationExtraction/node_modules/osc/src/platforms/osc-node.js:102:18)\n",
      "    at Socket.emit (node:events:390:28)\n",
      "    at UDP.onMessage [as onmessage] (node:dgram:931:8)"
     ]
    },
    {
     "name": "stdout",
     "output_type": "stream",
     "text": [
      "{ address: '/pos', args: [ 0.6081339120864868, 0.5386105179786682 ] }\n"
     ]
    },
    {
     "name": "stderr",
     "output_type": "stream",
     "text": [
      "TypeError: udp_osc_port.sendMsg is not a function\n",
      "    at Object.handlers./pos (evalmachine.<anonymous>:62:18)\n",
      "    at osc.UDPPort.<anonymous> (evalmachine.<anonymous>:72:44)\n",
      "    at osc.UDPPort.emit (node:events:390:28)\n",
      "    at Object.osc.firePacketEvents (/Users/avneeshsarwate/abletonAutomationExtraction/node_modules/osc/src/osc-transports.js:25:18)\n",
      "    at osc.UDPPort.p.decodeOSC (/Users/avneeshsarwate/abletonAutomationExtraction/node_modules/osc/src/osc-transports.js:85:17)\n",
      "    at osc.UDPPort.emit (node:events:390:28)\n",
      "    at Socket.<anonymous> (/Users/avneeshsarwate/abletonAutomationExtraction/node_modules/osc/src/platforms/osc-node.js:102:18)\n",
      "    at Socket.emit (node:events:390:28)\n",
      "    at UDP.onMessage [as onmessage] (node:dgram:931:8)"
     ]
    },
    {
     "name": "stdout",
     "output_type": "stream",
     "text": [
      "{ address: '/pos', args: [ 0.6144936084747314, 0.5386105179786682 ] }\n"
     ]
    },
    {
     "name": "stderr",
     "output_type": "stream",
     "text": [
      "TypeError: udp_osc_port.sendMsg is not a function\n",
      "    at Object.handlers./pos (evalmachine.<anonymous>:62:18)\n",
      "    at osc.UDPPort.<anonymous> (evalmachine.<anonymous>:72:44)\n",
      "    at osc.UDPPort.emit (node:events:390:28)\n",
      "    at Object.osc.firePacketEvents (/Users/avneeshsarwate/abletonAutomationExtraction/node_modules/osc/src/osc-transports.js:25:18)\n",
      "    at osc.UDPPort.p.decodeOSC (/Users/avneeshsarwate/abletonAutomationExtraction/node_modules/osc/src/osc-transports.js:85:17)\n",
      "    at osc.UDPPort.emit (node:events:390:28)\n",
      "    at Socket.<anonymous> (/Users/avneeshsarwate/abletonAutomationExtraction/node_modules/osc/src/platforms/osc-node.js:102:18)\n",
      "    at Socket.emit (node:events:390:28)\n",
      "    at UDP.onMessage [as onmessage] (node:dgram:931:8)"
     ]
    },
    {
     "name": "stdout",
     "output_type": "stream",
     "text": [
      "{ address: '/pos', args: [ 0.6144936084747314, 0.5342210531234741 ] }\n"
     ]
    },
    {
     "name": "stderr",
     "output_type": "stream",
     "text": [
      "TypeError: udp_osc_port.sendMsg is not a function\n",
      "    at Object.handlers./pos (evalmachine.<anonymous>:62:18)\n",
      "    at osc.UDPPort.<anonymous> (evalmachine.<anonymous>:72:44)\n",
      "    at osc.UDPPort.emit (node:events:390:28)\n",
      "    at Object.osc.firePacketEvents (/Users/avneeshsarwate/abletonAutomationExtraction/node_modules/osc/src/osc-transports.js:25:18)\n",
      "    at osc.UDPPort.p.decodeOSC (/Users/avneeshsarwate/abletonAutomationExtraction/node_modules/osc/src/osc-transports.js:85:17)\n",
      "    at osc.UDPPort.emit (node:events:390:28)\n",
      "    at Socket.<anonymous> (/Users/avneeshsarwate/abletonAutomationExtraction/node_modules/osc/src/platforms/osc-node.js:102:18)\n",
      "    at Socket.emit (node:events:390:28)\n",
      "    at UDP.onMessage [as onmessage] (node:dgram:931:8)"
     ]
    },
    {
     "name": "stdout",
     "output_type": "stream",
     "text": [
      "{ address: '/pos', args: [ 0.6195753216743469, 0.5342210531234741 ] }\n"
     ]
    },
    {
     "name": "stderr",
     "output_type": "stream",
     "text": [
      "TypeError: udp_osc_port.sendMsg is not a function\n",
      "    at Object.handlers./pos (evalmachine.<anonymous>:62:18)\n",
      "    at osc.UDPPort.<anonymous> (evalmachine.<anonymous>:72:44)\n",
      "    at osc.UDPPort.emit (node:events:390:28)\n",
      "    at Object.osc.firePacketEvents (/Users/avneeshsarwate/abletonAutomationExtraction/node_modules/osc/src/osc-transports.js:25:18)\n",
      "    at osc.UDPPort.p.decodeOSC (/Users/avneeshsarwate/abletonAutomationExtraction/node_modules/osc/src/osc-transports.js:85:17)\n",
      "    at osc.UDPPort.emit (node:events:390:28)\n",
      "    at Socket.<anonymous> (/Users/avneeshsarwate/abletonAutomationExtraction/node_modules/osc/src/platforms/osc-node.js:102:18)\n",
      "    at Socket.emit (node:events:390:28)\n",
      "    at UDP.onMessage [as onmessage] (node:dgram:931:8)"
     ]
    },
    {
     "name": "stdout",
     "output_type": "stream",
     "text": [
      "{ address: '/pos', args: [ 0.6195753216743469, 0.5302273035049438 ] }\n"
     ]
    },
    {
     "name": "stderr",
     "output_type": "stream",
     "text": [
      "TypeError: udp_osc_port.sendMsg is not a function\n",
      "    at Object.handlers./pos (evalmachine.<anonymous>:62:18)\n",
      "    at osc.UDPPort.<anonymous> (evalmachine.<anonymous>:72:44)\n",
      "    at osc.UDPPort.emit (node:events:390:28)\n",
      "    at Object.osc.firePacketEvents (/Users/avneeshsarwate/abletonAutomationExtraction/node_modules/osc/src/osc-transports.js:25:18)\n",
      "    at osc.UDPPort.p.decodeOSC (/Users/avneeshsarwate/abletonAutomationExtraction/node_modules/osc/src/osc-transports.js:85:17)\n",
      "    at osc.UDPPort.emit (node:events:390:28)\n",
      "    at Socket.<anonymous> (/Users/avneeshsarwate/abletonAutomationExtraction/node_modules/osc/src/platforms/osc-node.js:102:18)\n",
      "    at Socket.emit (node:events:390:28)\n",
      "    at UDP.onMessage [as onmessage] (node:dgram:931:8)"
     ]
    },
    {
     "name": "stdout",
     "output_type": "stream",
     "text": [
      "{ address: '/pos', args: [ 0.6240255832672119, 0.5302273035049438 ] }\n"
     ]
    },
    {
     "name": "stderr",
     "output_type": "stream",
     "text": [
      "TypeError: udp_osc_port.sendMsg is not a function\n",
      "    at Object.handlers./pos (evalmachine.<anonymous>:62:18)\n",
      "    at osc.UDPPort.<anonymous> (evalmachine.<anonymous>:72:44)\n",
      "    at osc.UDPPort.emit (node:events:390:28)\n",
      "    at Object.osc.firePacketEvents (/Users/avneeshsarwate/abletonAutomationExtraction/node_modules/osc/src/osc-transports.js:25:18)\n",
      "    at osc.UDPPort.p.decodeOSC (/Users/avneeshsarwate/abletonAutomationExtraction/node_modules/osc/src/osc-transports.js:85:17)\n",
      "    at osc.UDPPort.emit (node:events:390:28)\n",
      "    at Socket.<anonymous> (/Users/avneeshsarwate/abletonAutomationExtraction/node_modules/osc/src/platforms/osc-node.js:102:18)\n",
      "    at Socket.emit (node:events:390:28)\n",
      "    at UDP.onMessage [as onmessage] (node:dgram:931:8)"
     ]
    },
    {
     "name": "stdout",
     "output_type": "stream",
     "text": [
      "{ address: '/pos', args: [ 0.6240255832672119, 0.526872456073761 ] }\n"
     ]
    },
    {
     "name": "stderr",
     "output_type": "stream",
     "text": [
      "TypeError: udp_osc_port.sendMsg is not a function\n",
      "    at Object.handlers./pos (evalmachine.<anonymous>:62:18)\n",
      "    at osc.UDPPort.<anonymous> (evalmachine.<anonymous>:72:44)\n",
      "    at osc.UDPPort.emit (node:events:390:28)\n",
      "    at Object.osc.firePacketEvents (/Users/avneeshsarwate/abletonAutomationExtraction/node_modules/osc/src/osc-transports.js:25:18)\n",
      "    at osc.UDPPort.p.decodeOSC (/Users/avneeshsarwate/abletonAutomationExtraction/node_modules/osc/src/osc-transports.js:85:17)\n",
      "    at osc.UDPPort.emit (node:events:390:28)\n",
      "    at Socket.<anonymous> (/Users/avneeshsarwate/abletonAutomationExtraction/node_modules/osc/src/platforms/osc-node.js:102:18)\n",
      "    at Socket.emit (node:events:390:28)\n",
      "    at UDP.onMessage [as onmessage] (node:dgram:931:8)"
     ]
    },
    {
     "name": "stdout",
     "output_type": "stream",
     "text": [
      "{ address: '/pos', args: [ 0.6275020837783813, 0.526872456073761 ] }\n"
     ]
    },
    {
     "name": "stderr",
     "output_type": "stream",
     "text": [
      "TypeError: udp_osc_port.sendMsg is not a function\n",
      "    at Object.handlers./pos (evalmachine.<anonymous>:62:18)\n",
      "    at osc.UDPPort.<anonymous> (evalmachine.<anonymous>:72:44)\n",
      "    at osc.UDPPort.emit (node:events:390:28)\n",
      "    at Object.osc.firePacketEvents (/Users/avneeshsarwate/abletonAutomationExtraction/node_modules/osc/src/osc-transports.js:25:18)\n",
      "    at osc.UDPPort.p.decodeOSC (/Users/avneeshsarwate/abletonAutomationExtraction/node_modules/osc/src/osc-transports.js:85:17)\n",
      "    at osc.UDPPort.emit (node:events:390:28)\n",
      "    at Socket.<anonymous> (/Users/avneeshsarwate/abletonAutomationExtraction/node_modules/osc/src/platforms/osc-node.js:102:18)\n",
      "    at Socket.emit (node:events:390:28)\n",
      "    at UDP.onMessage [as onmessage] (node:dgram:931:8)"
     ]
    },
    {
     "name": "stdout",
     "output_type": "stream",
     "text": [
      "{ address: '/pos', args: [ 0.6275020837783813, 0.5243240594863892 ] }\n"
     ]
    },
    {
     "name": "stderr",
     "output_type": "stream",
     "text": [
      "TypeError: udp_osc_port.sendMsg is not a function\n",
      "    at Object.handlers./pos (evalmachine.<anonymous>:62:18)\n",
      "    at osc.UDPPort.<anonymous> (evalmachine.<anonymous>:72:44)\n",
      "    at osc.UDPPort.emit (node:events:390:28)\n",
      "    at Object.osc.firePacketEvents (/Users/avneeshsarwate/abletonAutomationExtraction/node_modules/osc/src/osc-transports.js:25:18)\n",
      "    at osc.UDPPort.p.decodeOSC (/Users/avneeshsarwate/abletonAutomationExtraction/node_modules/osc/src/osc-transports.js:85:17)\n",
      "    at osc.UDPPort.emit (node:events:390:28)\n",
      "    at Socket.<anonymous> (/Users/avneeshsarwate/abletonAutomationExtraction/node_modules/osc/src/platforms/osc-node.js:102:18)\n",
      "    at Socket.emit (node:events:390:28)\n",
      "    at UDP.onMessage [as onmessage] (node:dgram:931:8)"
     ]
    },
    {
     "name": "stdout",
     "output_type": "stream",
     "text": [
      "{ address: '/pos', args: [ 0.6306667327880859, 0.5243240594863892 ] }\n"
     ]
    },
    {
     "name": "stderr",
     "output_type": "stream",
     "text": [
      "TypeError: udp_osc_port.sendMsg is not a function\n",
      "    at Object.handlers./pos (evalmachine.<anonymous>:62:18)\n",
      "    at osc.UDPPort.<anonymous> (evalmachine.<anonymous>:72:44)\n",
      "    at osc.UDPPort.emit (node:events:390:28)\n",
      "    at Object.osc.firePacketEvents (/Users/avneeshsarwate/abletonAutomationExtraction/node_modules/osc/src/osc-transports.js:25:18)\n",
      "    at osc.UDPPort.p.decodeOSC (/Users/avneeshsarwate/abletonAutomationExtraction/node_modules/osc/src/osc-transports.js:85:17)\n",
      "    at osc.UDPPort.emit (node:events:390:28)\n",
      "    at Socket.<anonymous> (/Users/avneeshsarwate/abletonAutomationExtraction/node_modules/osc/src/platforms/osc-node.js:102:18)\n",
      "    at Socket.emit (node:events:390:28)\n",
      "    at UDP.onMessage [as onmessage] (node:dgram:931:8)"
     ]
    },
    {
     "name": "stdout",
     "output_type": "stream",
     "text": [
      "{ address: '/pos', args: [ 0.6306667327880859, 0.5212278366088867 ] }\n"
     ]
    },
    {
     "name": "stderr",
     "output_type": "stream",
     "text": [
      "TypeError: udp_osc_port.sendMsg is not a function\n",
      "    at Object.handlers./pos (evalmachine.<anonymous>:62:18)\n",
      "    at osc.UDPPort.<anonymous> (evalmachine.<anonymous>:72:44)\n",
      "    at osc.UDPPort.emit (node:events:390:28)\n",
      "    at Object.osc.firePacketEvents (/Users/avneeshsarwate/abletonAutomationExtraction/node_modules/osc/src/osc-transports.js:25:18)\n",
      "    at osc.UDPPort.p.decodeOSC (/Users/avneeshsarwate/abletonAutomationExtraction/node_modules/osc/src/osc-transports.js:85:17)\n",
      "    at osc.UDPPort.emit (node:events:390:28)\n",
      "    at Socket.<anonymous> (/Users/avneeshsarwate/abletonAutomationExtraction/node_modules/osc/src/platforms/osc-node.js:102:18)\n",
      "    at Socket.emit (node:events:390:28)\n",
      "    at UDP.onMessage [as onmessage] (node:dgram:931:8)"
     ]
    },
    {
     "name": "stdout",
     "output_type": "stream",
     "text": [
      "{ address: '/pos', args: [ 0.6331086754798889, 0.5212278366088867 ] }\n"
     ]
    },
    {
     "name": "stderr",
     "output_type": "stream",
     "text": [
      "TypeError: udp_osc_port.sendMsg is not a function\n",
      "    at Object.handlers./pos (evalmachine.<anonymous>:62:18)\n",
      "    at osc.UDPPort.<anonymous> (evalmachine.<anonymous>:72:44)\n",
      "    at osc.UDPPort.emit (node:events:390:28)\n",
      "    at Object.osc.firePacketEvents (/Users/avneeshsarwate/abletonAutomationExtraction/node_modules/osc/src/osc-transports.js:25:18)\n",
      "    at osc.UDPPort.p.decodeOSC (/Users/avneeshsarwate/abletonAutomationExtraction/node_modules/osc/src/osc-transports.js:85:17)\n",
      "    at osc.UDPPort.emit (node:events:390:28)\n",
      "    at Socket.<anonymous> (/Users/avneeshsarwate/abletonAutomationExtraction/node_modules/osc/src/platforms/osc-node.js:102:18)\n",
      "    at Socket.emit (node:events:390:28)\n",
      "    at UDP.onMessage [as onmessage] (node:dgram:931:8)"
     ]
    },
    {
     "name": "stdout",
     "output_type": "stream",
     "text": [
      "{ address: '/pos', args: [ 0.6331086754798889, 0.5182154178619385 ] }\n"
     ]
    },
    {
     "name": "stderr",
     "output_type": "stream",
     "text": [
      "TypeError: udp_osc_port.sendMsg is not a function\n",
      "    at Object.handlers./pos (evalmachine.<anonymous>:62:18)\n",
      "    at osc.UDPPort.<anonymous> (evalmachine.<anonymous>:72:44)\n",
      "    at osc.UDPPort.emit (node:events:390:28)\n",
      "    at Object.osc.firePacketEvents (/Users/avneeshsarwate/abletonAutomationExtraction/node_modules/osc/src/osc-transports.js:25:18)\n",
      "    at osc.UDPPort.p.decodeOSC (/Users/avneeshsarwate/abletonAutomationExtraction/node_modules/osc/src/osc-transports.js:85:17)\n",
      "    at osc.UDPPort.emit (node:events:390:28)\n",
      "    at Socket.<anonymous> (/Users/avneeshsarwate/abletonAutomationExtraction/node_modules/osc/src/platforms/osc-node.js:102:18)\n",
      "    at Socket.emit (node:events:390:28)\n",
      "    at UDP.onMessage [as onmessage] (node:dgram:931:8)"
     ]
    },
    {
     "name": "stdout",
     "output_type": "stream",
     "text": [
      "{ address: '/pos', args: [ 0.6351473927497864, 0.5182154178619385 ] }\n"
     ]
    },
    {
     "name": "stderr",
     "output_type": "stream",
     "text": [
      "TypeError: udp_osc_port.sendMsg is not a function\n",
      "    at Object.handlers./pos (evalmachine.<anonymous>:62:18)\n",
      "    at osc.UDPPort.<anonymous> (evalmachine.<anonymous>:72:44)\n",
      "    at osc.UDPPort.emit (node:events:390:28)\n",
      "    at Object.osc.firePacketEvents (/Users/avneeshsarwate/abletonAutomationExtraction/node_modules/osc/src/osc-transports.js:25:18)\n",
      "    at osc.UDPPort.p.decodeOSC (/Users/avneeshsarwate/abletonAutomationExtraction/node_modules/osc/src/osc-transports.js:85:17)\n",
      "    at osc.UDPPort.emit (node:events:390:28)\n",
      "    at Socket.<anonymous> (/Users/avneeshsarwate/abletonAutomationExtraction/node_modules/osc/src/platforms/osc-node.js:102:18)\n",
      "    at Socket.emit (node:events:390:28)\n",
      "    at UDP.onMessage [as onmessage] (node:dgram:931:8)"
     ]
    },
    {
     "name": "stdout",
     "output_type": "stream",
     "text": [
      "{ address: '/pos', args: [ 0.6351473927497864, 0.5155452489852905 ] }\n"
     ]
    },
    {
     "name": "stderr",
     "output_type": "stream",
     "text": [
      "TypeError: udp_osc_port.sendMsg is not a function\n",
      "    at Object.handlers./pos (evalmachine.<anonymous>:62:18)\n",
      "    at osc.UDPPort.<anonymous> (evalmachine.<anonymous>:72:44)\n",
      "    at osc.UDPPort.emit (node:events:390:28)\n",
      "    at Object.osc.firePacketEvents (/Users/avneeshsarwate/abletonAutomationExtraction/node_modules/osc/src/osc-transports.js:25:18)\n",
      "    at osc.UDPPort.p.decodeOSC (/Users/avneeshsarwate/abletonAutomationExtraction/node_modules/osc/src/osc-transports.js:85:17)\n",
      "    at osc.UDPPort.emit (node:events:390:28)\n",
      "    at Socket.<anonymous> (/Users/avneeshsarwate/abletonAutomationExtraction/node_modules/osc/src/platforms/osc-node.js:102:18)\n",
      "    at Socket.emit (node:events:390:28)\n",
      "    at UDP.onMessage [as onmessage] (node:dgram:931:8)"
     ]
    },
    {
     "name": "stdout",
     "output_type": "stream",
     "text": [
      "{ address: '/pos', args: [ 0.6368589997291565, 0.5155452489852905 ] }\n"
     ]
    },
    {
     "name": "stderr",
     "output_type": "stream",
     "text": [
      "TypeError: udp_osc_port.sendMsg is not a function\n",
      "    at Object.handlers./pos (evalmachine.<anonymous>:62:18)\n",
      "    at osc.UDPPort.<anonymous> (evalmachine.<anonymous>:72:44)\n",
      "    at osc.UDPPort.emit (node:events:390:28)\n",
      "    at Object.osc.firePacketEvents (/Users/avneeshsarwate/abletonAutomationExtraction/node_modules/osc/src/osc-transports.js:25:18)\n",
      "    at osc.UDPPort.p.decodeOSC (/Users/avneeshsarwate/abletonAutomationExtraction/node_modules/osc/src/osc-transports.js:85:17)\n",
      "    at osc.UDPPort.emit (node:events:390:28)\n",
      "    at Socket.<anonymous> (/Users/avneeshsarwate/abletonAutomationExtraction/node_modules/osc/src/platforms/osc-node.js:102:18)\n",
      "    at Socket.emit (node:events:390:28)\n",
      "    at UDP.onMessage [as onmessage] (node:dgram:931:8)"
     ]
    },
    {
     "name": "stdout",
     "output_type": "stream",
     "text": [
      "{ address: '/pos', args: [ 0.6368589997291565, 0.512928307056427 ] }\n"
     ]
    },
    {
     "name": "stderr",
     "output_type": "stream",
     "text": [
      "TypeError: udp_osc_port.sendMsg is not a function\n",
      "    at Object.handlers./pos (evalmachine.<anonymous>:62:18)\n",
      "    at osc.UDPPort.<anonymous> (evalmachine.<anonymous>:72:44)\n",
      "    at osc.UDPPort.emit (node:events:390:28)\n",
      "    at Object.osc.firePacketEvents (/Users/avneeshsarwate/abletonAutomationExtraction/node_modules/osc/src/osc-transports.js:25:18)\n",
      "    at osc.UDPPort.p.decodeOSC (/Users/avneeshsarwate/abletonAutomationExtraction/node_modules/osc/src/osc-transports.js:85:17)\n",
      "    at osc.UDPPort.emit (node:events:390:28)\n",
      "    at Socket.<anonymous> (/Users/avneeshsarwate/abletonAutomationExtraction/node_modules/osc/src/platforms/osc-node.js:102:18)\n",
      "    at Socket.emit (node:events:390:28)\n",
      "    at UDP.onMessage [as onmessage] (node:dgram:931:8)"
     ]
    },
    {
     "name": "stdout",
     "output_type": "stream",
     "text": [
      "{ address: '/pos', args: [ 0.6379392147064209, 0.512928307056427 ] }\n"
     ]
    },
    {
     "name": "stderr",
     "output_type": "stream",
     "text": [
      "TypeError: udp_osc_port.sendMsg is not a function\n",
      "    at Object.handlers./pos (evalmachine.<anonymous>:62:18)\n",
      "    at osc.UDPPort.<anonymous> (evalmachine.<anonymous>:72:44)\n",
      "    at osc.UDPPort.emit (node:events:390:28)\n",
      "    at Object.osc.firePacketEvents (/Users/avneeshsarwate/abletonAutomationExtraction/node_modules/osc/src/osc-transports.js:25:18)\n",
      "    at osc.UDPPort.p.decodeOSC (/Users/avneeshsarwate/abletonAutomationExtraction/node_modules/osc/src/osc-transports.js:85:17)\n",
      "    at osc.UDPPort.emit (node:events:390:28)\n",
      "    at Socket.<anonymous> (/Users/avneeshsarwate/abletonAutomationExtraction/node_modules/osc/src/platforms/osc-node.js:102:18)\n",
      "    at Socket.emit (node:events:390:28)\n",
      "    at UDP.onMessage [as onmessage] (node:dgram:931:8)"
     ]
    },
    {
     "name": "stdout",
     "output_type": "stream",
     "text": [
      "{ address: '/pos', args: [ 0.6379392147064209, 0.5112775564193726 ] }\n"
     ]
    },
    {
     "name": "stderr",
     "output_type": "stream",
     "text": [
      "TypeError: udp_osc_port.sendMsg is not a function\n",
      "    at Object.handlers./pos (evalmachine.<anonymous>:62:18)\n",
      "    at osc.UDPPort.<anonymous> (evalmachine.<anonymous>:72:44)\n",
      "    at osc.UDPPort.emit (node:events:390:28)\n",
      "    at Object.osc.firePacketEvents (/Users/avneeshsarwate/abletonAutomationExtraction/node_modules/osc/src/osc-transports.js:25:18)\n",
      "    at osc.UDPPort.p.decodeOSC (/Users/avneeshsarwate/abletonAutomationExtraction/node_modules/osc/src/osc-transports.js:85:17)\n",
      "    at osc.UDPPort.emit (node:events:390:28)\n",
      "    at Socket.<anonymous> (/Users/avneeshsarwate/abletonAutomationExtraction/node_modules/osc/src/platforms/osc-node.js:102:18)\n",
      "    at Socket.emit (node:events:390:28)\n",
      "    at UDP.onMessage [as onmessage] (node:dgram:931:8)"
     ]
    },
    {
     "name": "stdout",
     "output_type": "stream",
     "text": [
      "{ address: '/pos', args: [ 0.6389662027359009, 0.5112775564193726 ] }\n"
     ]
    },
    {
     "name": "stderr",
     "output_type": "stream",
     "text": [
      "TypeError: udp_osc_port.sendMsg is not a function\n",
      "    at Object.handlers./pos (evalmachine.<anonymous>:62:18)\n",
      "    at osc.UDPPort.<anonymous> (evalmachine.<anonymous>:72:44)\n",
      "    at osc.UDPPort.emit (node:events:390:28)\n",
      "    at Object.osc.firePacketEvents (/Users/avneeshsarwate/abletonAutomationExtraction/node_modules/osc/src/osc-transports.js:25:18)\n",
      "    at osc.UDPPort.p.decodeOSC (/Users/avneeshsarwate/abletonAutomationExtraction/node_modules/osc/src/osc-transports.js:85:17)\n",
      "    at osc.UDPPort.emit (node:events:390:28)\n",
      "    at Socket.<anonymous> (/Users/avneeshsarwate/abletonAutomationExtraction/node_modules/osc/src/platforms/osc-node.js:102:18)\n",
      "    at Socket.emit (node:events:390:28)\n",
      "    at UDP.onMessage [as onmessage] (node:dgram:931:8)"
     ]
    },
    {
     "name": "stdout",
     "output_type": "stream",
     "text": [
      "{ address: '/pos', args: [ 0.6389662027359009, 0.5099691152572632 ] }\n"
     ]
    },
    {
     "name": "stderr",
     "output_type": "stream",
     "text": [
      "TypeError: udp_osc_port.sendMsg is not a function\n",
      "    at Object.handlers./pos (evalmachine.<anonymous>:62:18)\n",
      "    at osc.UDPPort.<anonymous> (evalmachine.<anonymous>:72:44)\n",
      "    at osc.UDPPort.emit (node:events:390:28)\n",
      "    at Object.osc.firePacketEvents (/Users/avneeshsarwate/abletonAutomationExtraction/node_modules/osc/src/osc-transports.js:25:18)\n",
      "    at osc.UDPPort.p.decodeOSC (/Users/avneeshsarwate/abletonAutomationExtraction/node_modules/osc/src/osc-transports.js:85:17)\n",
      "    at osc.UDPPort.emit (node:events:390:28)\n",
      "    at Socket.<anonymous> (/Users/avneeshsarwate/abletonAutomationExtraction/node_modules/osc/src/platforms/osc-node.js:102:18)\n",
      "    at Socket.emit (node:events:390:28)\n",
      "    at UDP.onMessage [as onmessage] (node:dgram:931:8)"
     ]
    },
    {
     "name": "stdout",
     "output_type": "stream",
     "text": [
      "{ address: '/pos', args: [ 0.6394683122634888, 0.5099691152572632 ] }\n"
     ]
    },
    {
     "name": "stderr",
     "output_type": "stream",
     "text": [
      "TypeError: udp_osc_port.sendMsg is not a function\n",
      "    at Object.handlers./pos (evalmachine.<anonymous>:62:18)\n",
      "    at osc.UDPPort.<anonymous> (evalmachine.<anonymous>:72:44)\n",
      "    at osc.UDPPort.emit (node:events:390:28)\n",
      "    at Object.osc.firePacketEvents (/Users/avneeshsarwate/abletonAutomationExtraction/node_modules/osc/src/osc-transports.js:25:18)\n",
      "    at osc.UDPPort.p.decodeOSC (/Users/avneeshsarwate/abletonAutomationExtraction/node_modules/osc/src/osc-transports.js:85:17)\n",
      "    at osc.UDPPort.emit (node:events:390:28)\n",
      "    at Socket.<anonymous> (/Users/avneeshsarwate/abletonAutomationExtraction/node_modules/osc/src/platforms/osc-node.js:102:18)\n",
      "    at Socket.emit (node:events:390:28)\n",
      "    at UDP.onMessage [as onmessage] (node:dgram:931:8)"
     ]
    },
    {
     "name": "stdout",
     "output_type": "stream",
     "text": [
      "{ address: '/pos', args: [ 0.6394683122634888, 0.5083563327789307 ] }\n"
     ]
    },
    {
     "name": "stderr",
     "output_type": "stream",
     "text": [
      "TypeError: udp_osc_port.sendMsg is not a function\n",
      "    at Object.handlers./pos (evalmachine.<anonymous>:62:18)\n",
      "    at osc.UDPPort.<anonymous> (evalmachine.<anonymous>:72:44)\n",
      "    at osc.UDPPort.emit (node:events:390:28)\n",
      "    at Object.osc.firePacketEvents (/Users/avneeshsarwate/abletonAutomationExtraction/node_modules/osc/src/osc-transports.js:25:18)\n",
      "    at osc.UDPPort.p.decodeOSC (/Users/avneeshsarwate/abletonAutomationExtraction/node_modules/osc/src/osc-transports.js:85:17)\n",
      "    at osc.UDPPort.emit (node:events:390:28)\n",
      "    at Socket.<anonymous> (/Users/avneeshsarwate/abletonAutomationExtraction/node_modules/osc/src/platforms/osc-node.js:102:18)\n",
      "    at Socket.emit (node:events:390:28)\n",
      "    at UDP.onMessage [as onmessage] (node:dgram:931:8)"
     ]
    },
    {
     "name": "stdout",
     "output_type": "stream",
     "text": [
      "{ address: '/pos', args: [ 0.6397193670272827, 0.5083563327789307 ] }\n"
     ]
    },
    {
     "name": "stderr",
     "output_type": "stream",
     "text": [
      "TypeError: udp_osc_port.sendMsg is not a function\n",
      "    at Object.handlers./pos (evalmachine.<anonymous>:62:18)\n",
      "    at osc.UDPPort.<anonymous> (evalmachine.<anonymous>:72:44)\n",
      "    at osc.UDPPort.emit (node:events:390:28)\n",
      "    at Object.osc.firePacketEvents (/Users/avneeshsarwate/abletonAutomationExtraction/node_modules/osc/src/osc-transports.js:25:18)\n",
      "    at osc.UDPPort.p.decodeOSC (/Users/avneeshsarwate/abletonAutomationExtraction/node_modules/osc/src/osc-transports.js:85:17)\n",
      "    at osc.UDPPort.emit (node:events:390:28)\n",
      "    at Socket.<anonymous> (/Users/avneeshsarwate/abletonAutomationExtraction/node_modules/osc/src/platforms/osc-node.js:102:18)\n",
      "    at Socket.emit (node:events:390:28)\n",
      "    at UDP.onMessage [as onmessage] (node:dgram:931:8)"
     ]
    },
    {
     "name": "stdout",
     "output_type": "stream",
     "text": [
      "{ address: '/pos', args: [ 0.6397193670272827, 0.5070478916168213 ] }\n"
     ]
    },
    {
     "name": "stderr",
     "output_type": "stream",
     "text": [
      "TypeError: udp_osc_port.sendMsg is not a function\n",
      "    at Object.handlers./pos (evalmachine.<anonymous>:62:18)\n",
      "    at osc.UDPPort.<anonymous> (evalmachine.<anonymous>:72:44)\n",
      "    at osc.UDPPort.emit (node:events:390:28)\n",
      "    at Object.osc.firePacketEvents (/Users/avneeshsarwate/abletonAutomationExtraction/node_modules/osc/src/osc-transports.js:25:18)\n",
      "    at osc.UDPPort.p.decodeOSC (/Users/avneeshsarwate/abletonAutomationExtraction/node_modules/osc/src/osc-transports.js:85:17)\n",
      "    at osc.UDPPort.emit (node:events:390:28)\n",
      "    at Socket.<anonymous> (/Users/avneeshsarwate/abletonAutomationExtraction/node_modules/osc/src/platforms/osc-node.js:102:18)\n",
      "    at Socket.emit (node:events:390:28)\n",
      "    at UDP.onMessage [as onmessage] (node:dgram:931:8)"
     ]
    },
    {
     "name": "stdout",
     "output_type": "stream",
     "text": [
      "{ address: '/pos', args: [ 0.6399931907653809, 0.5070478916168213 ] }\n"
     ]
    },
    {
     "name": "stderr",
     "output_type": "stream",
     "text": [
      "TypeError: udp_osc_port.sendMsg is not a function\n",
      "    at Object.handlers./pos (evalmachine.<anonymous>:62:18)\n",
      "    at osc.UDPPort.<anonymous> (evalmachine.<anonymous>:72:44)\n",
      "    at osc.UDPPort.emit (node:events:390:28)\n",
      "    at Object.osc.firePacketEvents (/Users/avneeshsarwate/abletonAutomationExtraction/node_modules/osc/src/osc-transports.js:25:18)\n",
      "    at osc.UDPPort.p.decodeOSC (/Users/avneeshsarwate/abletonAutomationExtraction/node_modules/osc/src/osc-transports.js:85:17)\n",
      "    at osc.UDPPort.emit (node:events:390:28)\n",
      "    at Socket.<anonymous> (/Users/avneeshsarwate/abletonAutomationExtraction/node_modules/osc/src/platforms/osc-node.js:102:18)\n",
      "    at Socket.emit (node:events:390:28)\n",
      "    at UDP.onMessage [as onmessage] (node:dgram:931:8)"
     ]
    },
    {
     "name": "stdout",
     "output_type": "stream",
     "text": [
      "{ address: '/pos', args: [ 0.6399931907653809, 0.504826545715332 ] }\n"
     ]
    },
    {
     "name": "stderr",
     "output_type": "stream",
     "text": [
      "TypeError: udp_osc_port.sendMsg is not a function\n",
      "    at Object.handlers./pos (evalmachine.<anonymous>:62:18)\n",
      "    at osc.UDPPort.<anonymous> (evalmachine.<anonymous>:72:44)\n",
      "    at osc.UDPPort.emit (node:events:390:28)\n",
      "    at Object.osc.firePacketEvents (/Users/avneeshsarwate/abletonAutomationExtraction/node_modules/osc/src/osc-transports.js:25:18)\n",
      "    at osc.UDPPort.p.decodeOSC (/Users/avneeshsarwate/abletonAutomationExtraction/node_modules/osc/src/osc-transports.js:85:17)\n",
      "    at osc.UDPPort.emit (node:events:390:28)\n",
      "    at Socket.<anonymous> (/Users/avneeshsarwate/abletonAutomationExtraction/node_modules/osc/src/platforms/osc-node.js:102:18)\n",
      "    at Socket.emit (node:events:390:28)\n",
      "    at UDP.onMessage [as onmessage] (node:dgram:931:8)"
     ]
    },
    {
     "name": "stdout",
     "output_type": "stream",
     "text": [
      "{ address: '/pos', args: [ 0.6402670741081238, 0.504826545715332 ] }\n"
     ]
    },
    {
     "name": "stderr",
     "output_type": "stream",
     "text": [
      "TypeError: udp_osc_port.sendMsg is not a function\n",
      "    at Object.handlers./pos (evalmachine.<anonymous>:62:18)\n",
      "    at osc.UDPPort.<anonymous> (evalmachine.<anonymous>:72:44)\n",
      "    at osc.UDPPort.emit (node:events:390:28)\n",
      "    at Object.osc.firePacketEvents (/Users/avneeshsarwate/abletonAutomationExtraction/node_modules/osc/src/osc-transports.js:25:18)\n",
      "    at osc.UDPPort.p.decodeOSC (/Users/avneeshsarwate/abletonAutomationExtraction/node_modules/osc/src/osc-transports.js:85:17)\n",
      "    at osc.UDPPort.emit (node:events:390:28)\n",
      "    at Socket.<anonymous> (/Users/avneeshsarwate/abletonAutomationExtraction/node_modules/osc/src/platforms/osc-node.js:102:18)\n",
      "    at Socket.emit (node:events:390:28)\n",
      "    at UDP.onMessage [as onmessage] (node:dgram:931:8)"
     ]
    },
    {
     "name": "stdout",
     "output_type": "stream",
     "text": [
      "{ address: '/pos', args: [ 0.6402670741081238, 0.5026052594184875 ] }\n"
     ]
    },
    {
     "name": "stderr",
     "output_type": "stream",
     "text": [
      "TypeError: udp_osc_port.sendMsg is not a function\n",
      "    at Object.handlers./pos (evalmachine.<anonymous>:62:18)\n",
      "    at osc.UDPPort.<anonymous> (evalmachine.<anonymous>:72:44)\n",
      "    at osc.UDPPort.emit (node:events:390:28)\n",
      "    at Object.osc.firePacketEvents (/Users/avneeshsarwate/abletonAutomationExtraction/node_modules/osc/src/osc-transports.js:25:18)\n",
      "    at osc.UDPPort.p.decodeOSC (/Users/avneeshsarwate/abletonAutomationExtraction/node_modules/osc/src/osc-transports.js:85:17)\n",
      "    at osc.UDPPort.emit (node:events:390:28)\n",
      "    at Socket.<anonymous> (/Users/avneeshsarwate/abletonAutomationExtraction/node_modules/osc/src/platforms/osc-node.js:102:18)\n",
      "    at Socket.emit (node:events:390:28)\n",
      "    at UDP.onMessage [as onmessage] (node:dgram:931:8)"
     ]
    },
    {
     "name": "stdout",
     "output_type": "stream",
     "text": [
      "{ address: '/pos', args: [ 0.6402670741081238, 0.499189555644989 ] }\n"
     ]
    },
    {
     "name": "stderr",
     "output_type": "stream",
     "text": [
      "TypeError: udp_osc_port.sendMsg is not a function\n",
      "    at Object.handlers./pos (evalmachine.<anonymous>:62:18)\n",
      "    at osc.UDPPort.<anonymous> (evalmachine.<anonymous>:72:44)\n",
      "    at osc.UDPPort.emit (node:events:390:28)\n",
      "    at Object.osc.firePacketEvents (/Users/avneeshsarwate/abletonAutomationExtraction/node_modules/osc/src/osc-transports.js:25:18)\n",
      "    at osc.UDPPort.p.decodeOSC (/Users/avneeshsarwate/abletonAutomationExtraction/node_modules/osc/src/osc-transports.js:85:17)\n",
      "    at osc.UDPPort.emit (node:events:390:28)\n",
      "    at Socket.<anonymous> (/Users/avneeshsarwate/abletonAutomationExtraction/node_modules/osc/src/platforms/osc-node.js:102:18)\n",
      "    at Socket.emit (node:events:390:28)\n",
      "    at UDP.onMessage [as onmessage] (node:dgram:931:8)"
     ]
    },
    {
     "name": "stdout",
     "output_type": "stream",
     "text": [
      "{ address: '/pos', args: [ 0.6402670741081238, 0.49654221534729004 ] }\n"
     ]
    },
    {
     "name": "stderr",
     "output_type": "stream",
     "text": [
      "TypeError: udp_osc_port.sendMsg is not a function\n",
      "    at Object.handlers./pos (evalmachine.<anonymous>:62:18)\n",
      "    at osc.UDPPort.<anonymous> (evalmachine.<anonymous>:72:44)\n",
      "    at osc.UDPPort.emit (node:events:390:28)\n",
      "    at Object.osc.firePacketEvents (/Users/avneeshsarwate/abletonAutomationExtraction/node_modules/osc/src/osc-transports.js:25:18)\n",
      "    at osc.UDPPort.p.decodeOSC (/Users/avneeshsarwate/abletonAutomationExtraction/node_modules/osc/src/osc-transports.js:85:17)\n",
      "    at osc.UDPPort.emit (node:events:390:28)\n",
      "    at Socket.<anonymous> (/Users/avneeshsarwate/abletonAutomationExtraction/node_modules/osc/src/platforms/osc-node.js:102:18)\n",
      "    at Socket.emit (node:events:390:28)\n",
      "    at UDP.onMessage [as onmessage] (node:dgram:931:8)"
     ]
    },
    {
     "name": "stdout",
     "output_type": "stream",
     "text": [
      "{ address: '/pos', args: [ 0.6392020583152771, 0.49654221534729004 ] }\n"
     ]
    },
    {
     "name": "stderr",
     "output_type": "stream",
     "text": [
      "TypeError: udp_osc_port.sendMsg is not a function\n",
      "    at Object.handlers./pos (evalmachine.<anonymous>:62:18)\n",
      "    at osc.UDPPort.<anonymous> (evalmachine.<anonymous>:72:44)\n",
      "    at osc.UDPPort.emit (node:events:390:28)\n",
      "    at Object.osc.firePacketEvents (/Users/avneeshsarwate/abletonAutomationExtraction/node_modules/osc/src/osc-transports.js:25:18)\n",
      "    at osc.UDPPort.p.decodeOSC (/Users/avneeshsarwate/abletonAutomationExtraction/node_modules/osc/src/osc-transports.js:85:17)\n",
      "    at osc.UDPPort.emit (node:events:390:28)\n",
      "    at Socket.<anonymous> (/Users/avneeshsarwate/abletonAutomationExtraction/node_modules/osc/src/platforms/osc-node.js:102:18)\n",
      "    at Socket.emit (node:events:390:28)\n",
      "    at UDP.onMessage [as onmessage] (node:dgram:931:8)"
     ]
    },
    {
     "name": "stdout",
     "output_type": "stream",
     "text": [
      "{ address: '/pos', args: [ 0.6392020583152771, 0.4960629940032959 ] }\n"
     ]
    },
    {
     "name": "stderr",
     "output_type": "stream",
     "text": [
      "TypeError: udp_osc_port.sendMsg is not a function\n",
      "    at Object.handlers./pos (evalmachine.<anonymous>:62:18)\n",
      "    at osc.UDPPort.<anonymous> (evalmachine.<anonymous>:72:44)\n",
      "    at osc.UDPPort.emit (node:events:390:28)\n",
      "    at Object.osc.firePacketEvents (/Users/avneeshsarwate/abletonAutomationExtraction/node_modules/osc/src/osc-transports.js:25:18)\n",
      "    at osc.UDPPort.p.decodeOSC (/Users/avneeshsarwate/abletonAutomationExtraction/node_modules/osc/src/osc-transports.js:85:17)\n",
      "    at osc.UDPPort.emit (node:events:390:28)\n",
      "    at Socket.<anonymous> (/Users/avneeshsarwate/abletonAutomationExtraction/node_modules/osc/src/platforms/osc-node.js:102:18)\n",
      "    at Socket.emit (node:events:390:28)\n",
      "    at UDP.onMessage [as onmessage] (node:dgram:931:8)"
     ]
    },
    {
     "name": "stdout",
     "output_type": "stream",
     "text": [
      "{ address: '/pos', args: [ 0.6363569498062134, 0.4960629940032959 ] }\n"
     ]
    },
    {
     "name": "stderr",
     "output_type": "stream",
     "text": [
      "TypeError: udp_osc_port.sendMsg is not a function\n",
      "    at Object.handlers./pos (evalmachine.<anonymous>:62:18)\n",
      "    at osc.UDPPort.<anonymous> (evalmachine.<anonymous>:72:44)\n",
      "    at osc.UDPPort.emit (node:events:390:28)\n",
      "    at Object.osc.firePacketEvents (/Users/avneeshsarwate/abletonAutomationExtraction/node_modules/osc/src/osc-transports.js:25:18)\n",
      "    at osc.UDPPort.p.decodeOSC (/Users/avneeshsarwate/abletonAutomationExtraction/node_modules/osc/src/osc-transports.js:85:17)\n",
      "    at osc.UDPPort.emit (node:events:390:28)\n",
      "    at Socket.<anonymous> (/Users/avneeshsarwate/abletonAutomationExtraction/node_modules/osc/src/platforms/osc-node.js:102:18)\n",
      "    at Socket.emit (node:events:390:28)\n",
      "    at UDP.onMessage [as onmessage] (node:dgram:931:8)"
     ]
    },
    {
     "name": "stdout",
     "output_type": "stream",
     "text": [
      "{ address: '/pos', args: [ 0.6363569498062134, 0.49504363536834717 ] }\n"
     ]
    },
    {
     "name": "stderr",
     "output_type": "stream",
     "text": [
      "TypeError: udp_osc_port.sendMsg is not a function\n",
      "    at Object.handlers./pos (evalmachine.<anonymous>:62:18)\n",
      "    at osc.UDPPort.<anonymous> (evalmachine.<anonymous>:72:44)\n",
      "    at osc.UDPPort.emit (node:events:390:28)\n",
      "    at Object.osc.firePacketEvents (/Users/avneeshsarwate/abletonAutomationExtraction/node_modules/osc/src/osc-transports.js:25:18)\n",
      "    at osc.UDPPort.p.decodeOSC (/Users/avneeshsarwate/abletonAutomationExtraction/node_modules/osc/src/osc-transports.js:85:17)\n",
      "    at osc.UDPPort.emit (node:events:390:28)\n",
      "    at Socket.<anonymous> (/Users/avneeshsarwate/abletonAutomationExtraction/node_modules/osc/src/platforms/osc-node.js:102:18)\n",
      "    at Socket.emit (node:events:390:28)\n",
      "    at UDP.onMessage [as onmessage] (node:dgram:931:8)"
     ]
    },
    {
     "name": "stdout",
     "output_type": "stream",
     "text": [
      "{ address: '/pos', args: [ 0.6323555111885071, 0.49504363536834717 ] }\n"
     ]
    },
    {
     "name": "stderr",
     "output_type": "stream",
     "text": [
      "TypeError: udp_osc_port.sendMsg is not a function\n",
      "    at Object.handlers./pos (evalmachine.<anonymous>:62:18)\n",
      "    at osc.UDPPort.<anonymous> (evalmachine.<anonymous>:72:44)\n",
      "    at osc.UDPPort.emit (node:events:390:28)\n",
      "    at Object.osc.firePacketEvents (/Users/avneeshsarwate/abletonAutomationExtraction/node_modules/osc/src/osc-transports.js:25:18)\n",
      "    at osc.UDPPort.p.decodeOSC (/Users/avneeshsarwate/abletonAutomationExtraction/node_modules/osc/src/osc-transports.js:85:17)\n",
      "    at osc.UDPPort.emit (node:events:390:28)\n",
      "    at Socket.<anonymous> (/Users/avneeshsarwate/abletonAutomationExtraction/node_modules/osc/src/platforms/osc-node.js:102:18)\n",
      "    at Socket.emit (node:events:390:28)\n",
      "    at UDP.onMessage [as onmessage] (node:dgram:931:8)"
     ]
    },
    {
     "name": "stdout",
     "output_type": "stream",
     "text": [
      "{ address: '/pos', args: [ 0.6323555111885071, 0.49378079175949097 ] }\n"
     ]
    },
    {
     "name": "stderr",
     "output_type": "stream",
     "text": [
      "TypeError: udp_osc_port.sendMsg is not a function\n",
      "    at Object.handlers./pos (evalmachine.<anonymous>:62:18)\n",
      "    at osc.UDPPort.<anonymous> (evalmachine.<anonymous>:72:44)\n",
      "    at osc.UDPPort.emit (node:events:390:28)\n",
      "    at Object.osc.firePacketEvents (/Users/avneeshsarwate/abletonAutomationExtraction/node_modules/osc/src/osc-transports.js:25:18)\n",
      "    at osc.UDPPort.p.decodeOSC (/Users/avneeshsarwate/abletonAutomationExtraction/node_modules/osc/src/osc-transports.js:85:17)\n",
      "    at osc.UDPPort.emit (node:events:390:28)\n",
      "    at Socket.<anonymous> (/Users/avneeshsarwate/abletonAutomationExtraction/node_modules/osc/src/platforms/osc-node.js:102:18)\n",
      "    at Socket.emit (node:events:390:28)\n",
      "    at UDP.onMessage [as onmessage] (node:dgram:931:8)"
     ]
    },
    {
     "name": "stdout",
     "output_type": "stream",
     "text": [
      "{ address: '/pos', args: [ 0.6285746693611145, 0.49378079175949097 ] }\n"
     ]
    },
    {
     "name": "stderr",
     "output_type": "stream",
     "text": [
      "TypeError: udp_osc_port.sendMsg is not a function\n",
      "    at Object.handlers./pos (evalmachine.<anonymous>:62:18)\n",
      "    at osc.UDPPort.<anonymous> (evalmachine.<anonymous>:72:44)\n",
      "    at osc.UDPPort.emit (node:events:390:28)\n",
      "    at Object.osc.firePacketEvents (/Users/avneeshsarwate/abletonAutomationExtraction/node_modules/osc/src/osc-transports.js:25:18)\n",
      "    at osc.UDPPort.p.decodeOSC (/Users/avneeshsarwate/abletonAutomationExtraction/node_modules/osc/src/osc-transports.js:85:17)\n",
      "    at osc.UDPPort.emit (node:events:390:28)\n",
      "    at Socket.<anonymous> (/Users/avneeshsarwate/abletonAutomationExtraction/node_modules/osc/src/platforms/osc-node.js:102:18)\n",
      "    at Socket.emit (node:events:390:28)\n",
      "    at UDP.onMessage [as onmessage] (node:dgram:931:8)"
     ]
    },
    {
     "name": "stdout",
     "output_type": "stream",
     "text": [
      "{ address: '/pos', args: [ 0.6285746693611145, 0.4929744005203247 ] }\n"
     ]
    },
    {
     "name": "stderr",
     "output_type": "stream",
     "text": [
      "TypeError: udp_osc_port.sendMsg is not a function\n",
      "    at Object.handlers./pos (evalmachine.<anonymous>:62:18)\n",
      "    at osc.UDPPort.<anonymous> (evalmachine.<anonymous>:72:44)\n",
      "    at osc.UDPPort.emit (node:events:390:28)\n",
      "    at Object.osc.firePacketEvents (/Users/avneeshsarwate/abletonAutomationExtraction/node_modules/osc/src/osc-transports.js:25:18)\n",
      "    at osc.UDPPort.p.decodeOSC (/Users/avneeshsarwate/abletonAutomationExtraction/node_modules/osc/src/osc-transports.js:85:17)\n",
      "    at osc.UDPPort.emit (node:events:390:28)\n",
      "    at Socket.<anonymous> (/Users/avneeshsarwate/abletonAutomationExtraction/node_modules/osc/src/platforms/osc-node.js:102:18)\n",
      "    at Socket.emit (node:events:390:28)\n",
      "    at UDP.onMessage [as onmessage] (node:dgram:931:8)"
     ]
    },
    {
     "name": "stdout",
     "output_type": "stream",
     "text": [
      "{ address: '/pos', args: [ 0.6251818537712097, 0.4929744005203247 ] }\n"
     ]
    },
    {
     "name": "stderr",
     "output_type": "stream",
     "text": [
      "TypeError: udp_osc_port.sendMsg is not a function\n",
      "    at Object.handlers./pos (evalmachine.<anonymous>:62:18)\n",
      "    at osc.UDPPort.<anonymous> (evalmachine.<anonymous>:72:44)\n",
      "    at osc.UDPPort.emit (node:events:390:28)\n",
      "    at Object.osc.firePacketEvents (/Users/avneeshsarwate/abletonAutomationExtraction/node_modules/osc/src/osc-transports.js:25:18)\n",
      "    at osc.UDPPort.p.decodeOSC (/Users/avneeshsarwate/abletonAutomationExtraction/node_modules/osc/src/osc-transports.js:85:17)\n",
      "    at osc.UDPPort.emit (node:events:390:28)\n",
      "    at Socket.<anonymous> (/Users/avneeshsarwate/abletonAutomationExtraction/node_modules/osc/src/platforms/osc-node.js:102:18)\n",
      "    at Socket.emit (node:events:390:28)\n",
      "    at UDP.onMessage [as onmessage] (node:dgram:931:8)"
     ]
    },
    {
     "name": "stdout",
     "output_type": "stream",
     "text": [
      "{ address: '/pos', args: [ 0.6251818537712097, 0.4925408363342285 ] }\n"
     ]
    },
    {
     "name": "stderr",
     "output_type": "stream",
     "text": [
      "TypeError: udp_osc_port.sendMsg is not a function\n",
      "    at Object.handlers./pos (evalmachine.<anonymous>:62:18)\n",
      "    at osc.UDPPort.<anonymous> (evalmachine.<anonymous>:72:44)\n",
      "    at osc.UDPPort.emit (node:events:390:28)\n",
      "    at Object.osc.firePacketEvents (/Users/avneeshsarwate/abletonAutomationExtraction/node_modules/osc/src/osc-transports.js:25:18)\n",
      "    at osc.UDPPort.p.decodeOSC (/Users/avneeshsarwate/abletonAutomationExtraction/node_modules/osc/src/osc-transports.js:85:17)\n",
      "    at osc.UDPPort.emit (node:events:390:28)\n",
      "    at Socket.<anonymous> (/Users/avneeshsarwate/abletonAutomationExtraction/node_modules/osc/src/platforms/osc-node.js:102:18)\n",
      "    at Socket.emit (node:events:390:28)\n",
      "    at UDP.onMessage [as onmessage] (node:dgram:931:8)"
     ]
    },
    {
     "name": "stdout",
     "output_type": "stream",
     "text": [
      "{ address: '/pos', args: [ 0.6212412714958191, 0.4925408363342285 ] }\n"
     ]
    },
    {
     "name": "stderr",
     "output_type": "stream",
     "text": [
      "TypeError: udp_osc_port.sendMsg is not a function\n",
      "    at Object.handlers./pos (evalmachine.<anonymous>:62:18)\n",
      "    at osc.UDPPort.<anonymous> (evalmachine.<anonymous>:72:44)\n",
      "    at osc.UDPPort.emit (node:events:390:28)\n",
      "    at Object.osc.firePacketEvents (/Users/avneeshsarwate/abletonAutomationExtraction/node_modules/osc/src/osc-transports.js:25:18)\n",
      "    at osc.UDPPort.p.decodeOSC (/Users/avneeshsarwate/abletonAutomationExtraction/node_modules/osc/src/osc-transports.js:85:17)\n",
      "    at osc.UDPPort.emit (node:events:390:28)\n",
      "    at Socket.<anonymous> (/Users/avneeshsarwate/abletonAutomationExtraction/node_modules/osc/src/platforms/osc-node.js:102:18)\n",
      "    at Socket.emit (node:events:390:28)\n",
      "    at UDP.onMessage [as onmessage] (node:dgram:931:8)"
     ]
    },
    {
     "name": "stdout",
     "output_type": "stream",
     "text": [
      "{ address: '/pos', args: [ 0.6212412714958191, 0.4920006990432739 ] }\n"
     ]
    },
    {
     "name": "stderr",
     "output_type": "stream",
     "text": [
      "TypeError: udp_osc_port.sendMsg is not a function\n",
      "    at Object.handlers./pos (evalmachine.<anonymous>:62:18)\n",
      "    at osc.UDPPort.<anonymous> (evalmachine.<anonymous>:72:44)\n",
      "    at osc.UDPPort.emit (node:events:390:28)\n",
      "    at Object.osc.firePacketEvents (/Users/avneeshsarwate/abletonAutomationExtraction/node_modules/osc/src/osc-transports.js:25:18)\n",
      "    at osc.UDPPort.p.decodeOSC (/Users/avneeshsarwate/abletonAutomationExtraction/node_modules/osc/src/osc-transports.js:85:17)\n",
      "    at osc.UDPPort.emit (node:events:390:28)\n",
      "    at Socket.<anonymous> (/Users/avneeshsarwate/abletonAutomationExtraction/node_modules/osc/src/platforms/osc-node.js:102:18)\n",
      "    at Socket.emit (node:events:390:28)\n",
      "    at UDP.onMessage [as onmessage] (node:dgram:931:8)"
     ]
    },
    {
     "name": "stdout",
     "output_type": "stream",
     "text": [
      "{ address: '/pos', args: [ 0.6173539161682129, 0.4920006990432739 ] }\n"
     ]
    },
    {
     "name": "stderr",
     "output_type": "stream",
     "text": [
      "TypeError: udp_osc_port.sendMsg is not a function\n",
      "    at Object.handlers./pos (evalmachine.<anonymous>:62:18)\n",
      "    at osc.UDPPort.<anonymous> (evalmachine.<anonymous>:72:44)\n",
      "    at osc.UDPPort.emit (node:events:390:28)\n",
      "    at Object.osc.firePacketEvents (/Users/avneeshsarwate/abletonAutomationExtraction/node_modules/osc/src/osc-transports.js:25:18)\n",
      "    at osc.UDPPort.p.decodeOSC (/Users/avneeshsarwate/abletonAutomationExtraction/node_modules/osc/src/osc-transports.js:85:17)\n",
      "    at osc.UDPPort.emit (node:events:390:28)\n",
      "    at Socket.<anonymous> (/Users/avneeshsarwate/abletonAutomationExtraction/node_modules/osc/src/platforms/osc-node.js:102:18)\n",
      "    at Socket.emit (node:events:390:28)\n",
      "    at UDP.onMessage [as onmessage] (node:dgram:931:8)"
     ]
    },
    {
     "name": "stdout",
     "output_type": "stream",
     "text": [
      "{ address: '/pos', args: [ 0.6173539161682129, 0.49188655614852905 ] }\n"
     ]
    },
    {
     "name": "stderr",
     "output_type": "stream",
     "text": [
      "TypeError: udp_osc_port.sendMsg is not a function\n",
      "    at Object.handlers./pos (evalmachine.<anonymous>:62:18)\n",
      "    at osc.UDPPort.<anonymous> (evalmachine.<anonymous>:72:44)\n",
      "    at osc.UDPPort.emit (node:events:390:28)\n",
      "    at Object.osc.firePacketEvents (/Users/avneeshsarwate/abletonAutomationExtraction/node_modules/osc/src/osc-transports.js:25:18)\n",
      "    at osc.UDPPort.p.decodeOSC (/Users/avneeshsarwate/abletonAutomationExtraction/node_modules/osc/src/osc-transports.js:85:17)\n",
      "    at osc.UDPPort.emit (node:events:390:28)\n",
      "    at Socket.<anonymous> (/Users/avneeshsarwate/abletonAutomationExtraction/node_modules/osc/src/platforms/osc-node.js:102:18)\n",
      "    at Socket.emit (node:events:390:28)\n",
      "    at UDP.onMessage [as onmessage] (node:dgram:931:8)"
     ]
    },
    {
     "name": "stdout",
     "output_type": "stream",
     "text": [
      "{ address: '/pos', args: [ 0.6138393878936768, 0.49188655614852905 ] }\n"
     ]
    },
    {
     "name": "stderr",
     "output_type": "stream",
     "text": [
      "TypeError: udp_osc_port.sendMsg is not a function\n",
      "    at Object.handlers./pos (evalmachine.<anonymous>:62:18)\n",
      "    at osc.UDPPort.<anonymous> (evalmachine.<anonymous>:72:44)\n",
      "    at osc.UDPPort.emit (node:events:390:28)\n",
      "    at Object.osc.firePacketEvents (/Users/avneeshsarwate/abletonAutomationExtraction/node_modules/osc/src/osc-transports.js:25:18)\n",
      "    at osc.UDPPort.p.decodeOSC (/Users/avneeshsarwate/abletonAutomationExtraction/node_modules/osc/src/osc-transports.js:85:17)\n",
      "    at osc.UDPPort.emit (node:events:390:28)\n",
      "    at Socket.<anonymous> (/Users/avneeshsarwate/abletonAutomationExtraction/node_modules/osc/src/platforms/osc-node.js:102:18)\n",
      "    at Socket.emit (node:events:390:28)\n",
      "    at UDP.onMessage [as onmessage] (node:dgram:931:8)"
     ]
    },
    {
     "name": "stdout",
     "output_type": "stream",
     "text": [
      "{ address: '/pos', args: [ 0.6138393878936768, 0.4913541078567505 ] }\n"
     ]
    },
    {
     "name": "stderr",
     "output_type": "stream",
     "text": [
      "TypeError: udp_osc_port.sendMsg is not a function\n",
      "    at Object.handlers./pos (evalmachine.<anonymous>:62:18)\n",
      "    at osc.UDPPort.<anonymous> (evalmachine.<anonymous>:72:44)\n",
      "    at osc.UDPPort.emit (node:events:390:28)\n",
      "    at Object.osc.firePacketEvents (/Users/avneeshsarwate/abletonAutomationExtraction/node_modules/osc/src/osc-transports.js:25:18)\n",
      "    at osc.UDPPort.p.decodeOSC (/Users/avneeshsarwate/abletonAutomationExtraction/node_modules/osc/src/osc-transports.js:85:17)\n",
      "    at osc.UDPPort.emit (node:events:390:28)\n",
      "    at Socket.<anonymous> (/Users/avneeshsarwate/abletonAutomationExtraction/node_modules/osc/src/platforms/osc-node.js:102:18)\n",
      "    at Socket.emit (node:events:390:28)\n",
      "    at UDP.onMessage [as onmessage] (node:dgram:931:8)"
     ]
    },
    {
     "name": "stdout",
     "output_type": "stream",
     "text": [
      "{ address: '/pos', args: [ 0.6114659309387207, 0.4913541078567505 ] }\n"
     ]
    },
    {
     "name": "stderr",
     "output_type": "stream",
     "text": [
      "TypeError: udp_osc_port.sendMsg is not a function\n",
      "    at Object.handlers./pos (evalmachine.<anonymous>:62:18)\n",
      "    at osc.UDPPort.<anonymous> (evalmachine.<anonymous>:72:44)\n",
      "    at osc.UDPPort.emit (node:events:390:28)\n",
      "    at Object.osc.firePacketEvents (/Users/avneeshsarwate/abletonAutomationExtraction/node_modules/osc/src/osc-transports.js:25:18)\n",
      "    at osc.UDPPort.p.decodeOSC (/Users/avneeshsarwate/abletonAutomationExtraction/node_modules/osc/src/osc-transports.js:85:17)\n",
      "    at osc.UDPPort.emit (node:events:390:28)\n",
      "    at Socket.<anonymous> (/Users/avneeshsarwate/abletonAutomationExtraction/node_modules/osc/src/platforms/osc-node.js:102:18)\n",
      "    at Socket.emit (node:events:390:28)\n",
      "    at UDP.onMessage [as onmessage] (node:dgram:931:8)"
     ]
    },
    {
     "name": "stdout",
     "output_type": "stream",
     "text": [
      "{ address: '/pos', args: [ 0.6114659309387207, 0.49128562211990356 ] }\n"
     ]
    },
    {
     "name": "stderr",
     "output_type": "stream",
     "text": [
      "TypeError: udp_osc_port.sendMsg is not a function\n",
      "    at Object.handlers./pos (evalmachine.<anonymous>:62:18)\n",
      "    at osc.UDPPort.<anonymous> (evalmachine.<anonymous>:72:44)\n",
      "    at osc.UDPPort.emit (node:events:390:28)\n",
      "    at Object.osc.firePacketEvents (/Users/avneeshsarwate/abletonAutomationExtraction/node_modules/osc/src/osc-transports.js:25:18)\n",
      "    at osc.UDPPort.p.decodeOSC (/Users/avneeshsarwate/abletonAutomationExtraction/node_modules/osc/src/osc-transports.js:85:17)\n",
      "    at osc.UDPPort.emit (node:events:390:28)\n",
      "    at Socket.<anonymous> (/Users/avneeshsarwate/abletonAutomationExtraction/node_modules/osc/src/platforms/osc-node.js:102:18)\n",
      "    at Socket.emit (node:events:390:28)\n",
      "    at UDP.onMessage [as onmessage] (node:dgram:931:8)"
     ]
    },
    {
     "name": "stdout",
     "output_type": "stream",
     "text": [
      "{ address: '/pos', args: [ 0.6085066795349121, 0.49128562211990356 ] }\n"
     ]
    },
    {
     "name": "stderr",
     "output_type": "stream",
     "text": [
      "TypeError: udp_osc_port.sendMsg is not a function\n",
      "    at Object.handlers./pos (evalmachine.<anonymous>:62:18)\n",
      "    at osc.UDPPort.<anonymous> (evalmachine.<anonymous>:72:44)\n",
      "    at osc.UDPPort.emit (node:events:390:28)\n",
      "    at Object.osc.firePacketEvents (/Users/avneeshsarwate/abletonAutomationExtraction/node_modules/osc/src/osc-transports.js:25:18)\n",
      "    at osc.UDPPort.p.decodeOSC (/Users/avneeshsarwate/abletonAutomationExtraction/node_modules/osc/src/osc-transports.js:85:17)\n",
      "    at osc.UDPPort.emit (node:events:390:28)\n",
      "    at Socket.<anonymous> (/Users/avneeshsarwate/abletonAutomationExtraction/node_modules/osc/src/platforms/osc-node.js:102:18)\n",
      "    at Socket.emit (node:events:390:28)\n",
      "    at UDP.onMessage [as onmessage] (node:dgram:931:8)"
     ]
    },
    {
     "name": "stdout",
     "output_type": "stream",
     "text": [
      "{ address: '/pos', args: [ 0.605151891708374, 0.49128562211990356 ] }\n"
     ]
    },
    {
     "name": "stderr",
     "output_type": "stream",
     "text": [
      "TypeError: udp_osc_port.sendMsg is not a function\n",
      "    at Object.handlers./pos (evalmachine.<anonymous>:62:18)\n",
      "    at osc.UDPPort.<anonymous> (evalmachine.<anonymous>:72:44)\n",
      "    at osc.UDPPort.emit (node:events:390:28)\n",
      "    at Object.osc.firePacketEvents (/Users/avneeshsarwate/abletonAutomationExtraction/node_modules/osc/src/osc-transports.js:25:18)\n",
      "    at osc.UDPPort.p.decodeOSC (/Users/avneeshsarwate/abletonAutomationExtraction/node_modules/osc/src/osc-transports.js:85:17)\n",
      "    at osc.UDPPort.emit (node:events:390:28)\n",
      "    at Socket.<anonymous> (/Users/avneeshsarwate/abletonAutomationExtraction/node_modules/osc/src/platforms/osc-node.js:102:18)\n",
      "    at Socket.emit (node:events:390:28)\n",
      "    at UDP.onMessage [as onmessage] (node:dgram:931:8)"
     ]
    },
    {
     "name": "stdout",
     "output_type": "stream",
     "text": [
      "{ address: '/pos', args: [ 0.6010134816169739, 0.49128562211990356 ] }\n"
     ]
    },
    {
     "name": "stderr",
     "output_type": "stream",
     "text": [
      "TypeError: udp_osc_port.sendMsg is not a function\n",
      "    at Object.handlers./pos (evalmachine.<anonymous>:62:18)\n",
      "    at osc.UDPPort.<anonymous> (evalmachine.<anonymous>:72:44)\n",
      "    at osc.UDPPort.emit (node:events:390:28)\n",
      "    at Object.osc.firePacketEvents (/Users/avneeshsarwate/abletonAutomationExtraction/node_modules/osc/src/osc-transports.js:25:18)\n",
      "    at osc.UDPPort.p.decodeOSC (/Users/avneeshsarwate/abletonAutomationExtraction/node_modules/osc/src/osc-transports.js:85:17)\n",
      "    at osc.UDPPort.emit (node:events:390:28)\n",
      "    at Socket.<anonymous> (/Users/avneeshsarwate/abletonAutomationExtraction/node_modules/osc/src/platforms/osc-node.js:102:18)\n",
      "    at Socket.emit (node:events:390:28)\n",
      "    at UDP.onMessage [as onmessage] (node:dgram:931:8)"
     ]
    },
    {
     "name": "stdout",
     "output_type": "stream",
     "text": [
      "{ address: '/pos', args: [ 0.593307375907898, 0.49128562211990356 ] }\n"
     ]
    },
    {
     "name": "stderr",
     "output_type": "stream",
     "text": [
      "TypeError: udp_osc_port.sendMsg is not a function\n",
      "    at Object.handlers./pos (evalmachine.<anonymous>:62:18)\n",
      "    at osc.UDPPort.<anonymous> (evalmachine.<anonymous>:72:44)\n",
      "    at osc.UDPPort.emit (node:events:390:28)\n",
      "    at Object.osc.firePacketEvents (/Users/avneeshsarwate/abletonAutomationExtraction/node_modules/osc/src/osc-transports.js:25:18)\n",
      "    at osc.UDPPort.p.decodeOSC (/Users/avneeshsarwate/abletonAutomationExtraction/node_modules/osc/src/osc-transports.js:85:17)\n",
      "    at osc.UDPPort.emit (node:events:390:28)\n",
      "    at Socket.<anonymous> (/Users/avneeshsarwate/abletonAutomationExtraction/node_modules/osc/src/platforms/osc-node.js:102:18)\n",
      "    at Socket.emit (node:events:390:28)\n",
      "    at UDP.onMessage [as onmessage] (node:dgram:931:8)"
     ]
    },
    {
     "name": "stdout",
     "output_type": "stream",
     "text": [
      "{ address: '/pos', args: [ 0.5868716239929199, 0.49128562211990356 ] }\n"
     ]
    },
    {
     "name": "stderr",
     "output_type": "stream",
     "text": [
      "TypeError: udp_osc_port.sendMsg is not a function\n",
      "    at Object.handlers./pos (evalmachine.<anonymous>:62:18)\n",
      "    at osc.UDPPort.<anonymous> (evalmachine.<anonymous>:72:44)\n",
      "    at osc.UDPPort.emit (node:events:390:28)\n",
      "    at Object.osc.firePacketEvents (/Users/avneeshsarwate/abletonAutomationExtraction/node_modules/osc/src/osc-transports.js:25:18)\n",
      "    at osc.UDPPort.p.decodeOSC (/Users/avneeshsarwate/abletonAutomationExtraction/node_modules/osc/src/osc-transports.js:85:17)\n",
      "    at osc.UDPPort.emit (node:events:390:28)\n",
      "    at Socket.<anonymous> (/Users/avneeshsarwate/abletonAutomationExtraction/node_modules/osc/src/platforms/osc-node.js:102:18)\n",
      "    at Socket.emit (node:events:390:28)\n",
      "    at UDP.onMessage [as onmessage] (node:dgram:931:8)"
     ]
    },
    {
     "name": "stdout",
     "output_type": "stream",
     "text": [
      "{ address: '/pos', args: [ 0.5796827077865601, 0.49128562211990356 ] }\n"
     ]
    },
    {
     "name": "stderr",
     "output_type": "stream",
     "text": [
      "TypeError: udp_osc_port.sendMsg is not a function\n",
      "    at Object.handlers./pos (evalmachine.<anonymous>:62:18)\n",
      "    at osc.UDPPort.<anonymous> (evalmachine.<anonymous>:72:44)\n",
      "    at osc.UDPPort.emit (node:events:390:28)\n",
      "    at Object.osc.firePacketEvents (/Users/avneeshsarwate/abletonAutomationExtraction/node_modules/osc/src/osc-transports.js:25:18)\n",
      "    at osc.UDPPort.p.decodeOSC (/Users/avneeshsarwate/abletonAutomationExtraction/node_modules/osc/src/osc-transports.js:85:17)\n",
      "    at osc.UDPPort.emit (node:events:390:28)\n",
      "    at Socket.<anonymous> (/Users/avneeshsarwate/abletonAutomationExtraction/node_modules/osc/src/platforms/osc-node.js:102:18)\n",
      "    at Socket.emit (node:events:390:28)\n",
      "    at UDP.onMessage [as onmessage] (node:dgram:931:8)"
     ]
    },
    {
     "name": "stdout",
     "output_type": "stream",
     "text": [
      "{ address: '/pos', args: [ 0.5724862217903137, 0.49128562211990356 ] }\n"
     ]
    },
    {
     "name": "stderr",
     "output_type": "stream",
     "text": [
      "TypeError: udp_osc_port.sendMsg is not a function\n",
      "    at Object.handlers./pos (evalmachine.<anonymous>:62:18)\n",
      "    at osc.UDPPort.<anonymous> (evalmachine.<anonymous>:72:44)\n",
      "    at osc.UDPPort.emit (node:events:390:28)\n",
      "    at Object.osc.firePacketEvents (/Users/avneeshsarwate/abletonAutomationExtraction/node_modules/osc/src/osc-transports.js:25:18)\n",
      "    at osc.UDPPort.p.decodeOSC (/Users/avneeshsarwate/abletonAutomationExtraction/node_modules/osc/src/osc-transports.js:85:17)\n",
      "    at osc.UDPPort.emit (node:events:390:28)\n",
      "    at Socket.<anonymous> (/Users/avneeshsarwate/abletonAutomationExtraction/node_modules/osc/src/platforms/osc-node.js:102:18)\n",
      "    at Socket.emit (node:events:390:28)\n",
      "    at UDP.onMessage [as onmessage] (node:dgram:931:8)"
     ]
    },
    {
     "name": "stdout",
     "output_type": "stream",
     "text": [
      "{ address: '/pos', args: [ 0.5724862217903137, 0.49201589822769165 ] }\n"
     ]
    },
    {
     "name": "stderr",
     "output_type": "stream",
     "text": [
      "TypeError: udp_osc_port.sendMsg is not a function\n",
      "    at Object.handlers./pos (evalmachine.<anonymous>:62:18)\n",
      "    at osc.UDPPort.<anonymous> (evalmachine.<anonymous>:72:44)\n",
      "    at osc.UDPPort.emit (node:events:390:28)\n",
      "    at Object.osc.firePacketEvents (/Users/avneeshsarwate/abletonAutomationExtraction/node_modules/osc/src/osc-transports.js:25:18)\n",
      "    at osc.UDPPort.p.decodeOSC (/Users/avneeshsarwate/abletonAutomationExtraction/node_modules/osc/src/osc-transports.js:85:17)\n",
      "    at osc.UDPPort.emit (node:events:390:28)\n",
      "    at Socket.<anonymous> (/Users/avneeshsarwate/abletonAutomationExtraction/node_modules/osc/src/platforms/osc-node.js:102:18)\n",
      "    at Socket.emit (node:events:390:28)\n",
      "    at UDP.onMessage [as onmessage] (node:dgram:931:8)"
     ]
    },
    {
     "name": "stdout",
     "output_type": "stream",
     "text": [
      "{ address: '/pos', args: [ 0.5652897357940674, 0.49201589822769165 ] }\n"
     ]
    },
    {
     "name": "stderr",
     "output_type": "stream",
     "text": [
      "TypeError: udp_osc_port.sendMsg is not a function\n",
      "    at Object.handlers./pos (evalmachine.<anonymous>:62:18)\n",
      "    at osc.UDPPort.<anonymous> (evalmachine.<anonymous>:72:44)\n",
      "    at osc.UDPPort.emit (node:events:390:28)\n",
      "    at Object.osc.firePacketEvents (/Users/avneeshsarwate/abletonAutomationExtraction/node_modules/osc/src/osc-transports.js:25:18)\n",
      "    at osc.UDPPort.p.decodeOSC (/Users/avneeshsarwate/abletonAutomationExtraction/node_modules/osc/src/osc-transports.js:85:17)\n",
      "    at osc.UDPPort.emit (node:events:390:28)\n",
      "    at Socket.<anonymous> (/Users/avneeshsarwate/abletonAutomationExtraction/node_modules/osc/src/platforms/osc-node.js:102:18)\n",
      "    at Socket.emit (node:events:390:28)\n",
      "    at UDP.onMessage [as onmessage] (node:dgram:931:8)"
     ]
    },
    {
     "name": "stdout",
     "output_type": "stream",
     "text": [
      "{ address: '/pos', args: [ 0.5652897357940674, 0.4931037425994873 ] }\n"
     ]
    },
    {
     "name": "stderr",
     "output_type": "stream",
     "text": [
      "TypeError: udp_osc_port.sendMsg is not a function\n",
      "    at Object.handlers./pos (evalmachine.<anonymous>:62:18)\n",
      "    at osc.UDPPort.<anonymous> (evalmachine.<anonymous>:72:44)\n",
      "    at osc.UDPPort.emit (node:events:390:28)\n",
      "    at Object.osc.firePacketEvents (/Users/avneeshsarwate/abletonAutomationExtraction/node_modules/osc/src/osc-transports.js:25:18)\n",
      "    at osc.UDPPort.p.decodeOSC (/Users/avneeshsarwate/abletonAutomationExtraction/node_modules/osc/src/osc-transports.js:85:17)\n",
      "    at osc.UDPPort.emit (node:events:390:28)\n",
      "    at Socket.<anonymous> (/Users/avneeshsarwate/abletonAutomationExtraction/node_modules/osc/src/platforms/osc-node.js:102:18)\n",
      "    at Socket.emit (node:events:390:28)\n",
      "    at UDP.onMessage [as onmessage] (node:dgram:931:8)"
     ]
    },
    {
     "name": "stdout",
     "output_type": "stream",
     "text": [
      "{ address: '/pos', args: [ 0.5594930052757263, 0.4931037425994873 ] }\n"
     ]
    },
    {
     "name": "stderr",
     "output_type": "stream",
     "text": [
      "TypeError: udp_osc_port.sendMsg is not a function\n",
      "    at Object.handlers./pos (evalmachine.<anonymous>:62:18)\n",
      "    at osc.UDPPort.<anonymous> (evalmachine.<anonymous>:72:44)\n",
      "    at osc.UDPPort.emit (node:events:390:28)\n",
      "    at Object.osc.firePacketEvents (/Users/avneeshsarwate/abletonAutomationExtraction/node_modules/osc/src/osc-transports.js:25:18)\n",
      "    at osc.UDPPort.p.decodeOSC (/Users/avneeshsarwate/abletonAutomationExtraction/node_modules/osc/src/osc-transports.js:85:17)\n",
      "    at osc.UDPPort.emit (node:events:390:28)\n",
      "    at Socket.<anonymous> (/Users/avneeshsarwate/abletonAutomationExtraction/node_modules/osc/src/platforms/osc-node.js:102:18)\n",
      "    at Socket.emit (node:events:390:28)\n",
      "    at UDP.onMessage [as onmessage] (node:dgram:931:8)"
     ]
    },
    {
     "name": "stdout",
     "output_type": "stream",
     "text": [
      "{ address: '/pos', args: [ 0.5594930052757263, 0.4944654107093811 ] }\n"
     ]
    },
    {
     "name": "stderr",
     "output_type": "stream",
     "text": [
      "TypeError: udp_osc_port.sendMsg is not a function\n",
      "    at Object.handlers./pos (evalmachine.<anonymous>:62:18)\n",
      "    at osc.UDPPort.<anonymous> (evalmachine.<anonymous>:72:44)\n",
      "    at osc.UDPPort.emit (node:events:390:28)\n",
      "    at Object.osc.firePacketEvents (/Users/avneeshsarwate/abletonAutomationExtraction/node_modules/osc/src/osc-transports.js:25:18)\n",
      "    at osc.UDPPort.p.decodeOSC (/Users/avneeshsarwate/abletonAutomationExtraction/node_modules/osc/src/osc-transports.js:85:17)\n",
      "    at osc.UDPPort.emit (node:events:390:28)\n",
      "    at Socket.<anonymous> (/Users/avneeshsarwate/abletonAutomationExtraction/node_modules/osc/src/platforms/osc-node.js:102:18)\n",
      "    at Socket.emit (node:events:390:28)\n",
      "    at UDP.onMessage [as onmessage] (node:dgram:931:8)"
     ]
    },
    {
     "name": "stdout",
     "output_type": "stream",
     "text": [
      "{ address: '/pos', args: [ 0.5541907548904419, 0.4944654107093811 ] }\n"
     ]
    },
    {
     "name": "stderr",
     "output_type": "stream",
     "text": [
      "TypeError: udp_osc_port.sendMsg is not a function\n",
      "    at Object.handlers./pos (evalmachine.<anonymous>:62:18)\n",
      "    at osc.UDPPort.<anonymous> (evalmachine.<anonymous>:72:44)\n",
      "    at osc.UDPPort.emit (node:events:390:28)\n",
      "    at Object.osc.firePacketEvents (/Users/avneeshsarwate/abletonAutomationExtraction/node_modules/osc/src/osc-transports.js:25:18)\n",
      "    at osc.UDPPort.p.decodeOSC (/Users/avneeshsarwate/abletonAutomationExtraction/node_modules/osc/src/osc-transports.js:85:17)\n",
      "    at osc.UDPPort.emit (node:events:390:28)\n",
      "    at Socket.<anonymous> (/Users/avneeshsarwate/abletonAutomationExtraction/node_modules/osc/src/platforms/osc-node.js:102:18)\n",
      "    at Socket.emit (node:events:390:28)\n",
      "    at UDP.onMessage [as onmessage] (node:dgram:931:8)"
     ]
    },
    {
     "name": "stdout",
     "output_type": "stream",
     "text": [
      "{ address: '/pos', args: [ 0.5541907548904419, 0.496177077293396 ] }\n"
     ]
    },
    {
     "name": "stderr",
     "output_type": "stream",
     "text": [
      "TypeError: udp_osc_port.sendMsg is not a function\n",
      "    at Object.handlers./pos (evalmachine.<anonymous>:62:18)\n",
      "    at osc.UDPPort.<anonymous> (evalmachine.<anonymous>:72:44)\n",
      "    at osc.UDPPort.emit (node:events:390:28)\n",
      "    at Object.osc.firePacketEvents (/Users/avneeshsarwate/abletonAutomationExtraction/node_modules/osc/src/osc-transports.js:25:18)\n",
      "    at osc.UDPPort.p.decodeOSC (/Users/avneeshsarwate/abletonAutomationExtraction/node_modules/osc/src/osc-transports.js:85:17)\n",
      "    at osc.UDPPort.emit (node:events:390:28)\n",
      "    at Socket.<anonymous> (/Users/avneeshsarwate/abletonAutomationExtraction/node_modules/osc/src/platforms/osc-node.js:102:18)\n",
      "    at Socket.emit (node:events:390:28)\n",
      "    at UDP.onMessage [as onmessage] (node:dgram:931:8)"
     ]
    },
    {
     "name": "stdout",
     "output_type": "stream",
     "text": [
      "{ address: '/pos', args: [ 0.5487971305847168, 0.496177077293396 ] }\n"
     ]
    },
    {
     "name": "stderr",
     "output_type": "stream",
     "text": [
      "TypeError: udp_osc_port.sendMsg is not a function\n",
      "    at Object.handlers./pos (evalmachine.<anonymous>:62:18)\n",
      "    at osc.UDPPort.<anonymous> (evalmachine.<anonymous>:72:44)\n",
      "    at osc.UDPPort.emit (node:events:390:28)\n",
      "    at Object.osc.firePacketEvents (/Users/avneeshsarwate/abletonAutomationExtraction/node_modules/osc/src/osc-transports.js:25:18)\n",
      "    at osc.UDPPort.p.decodeOSC (/Users/avneeshsarwate/abletonAutomationExtraction/node_modules/osc/src/osc-transports.js:85:17)\n",
      "    at osc.UDPPort.emit (node:events:390:28)\n",
      "    at Socket.<anonymous> (/Users/avneeshsarwate/abletonAutomationExtraction/node_modules/osc/src/platforms/osc-node.js:102:18)\n",
      "    at Socket.emit (node:events:390:28)\n",
      "    at UDP.onMessage [as onmessage] (node:dgram:931:8)"
     ]
    },
    {
     "name": "stdout",
     "output_type": "stream",
     "text": [
      "{ address: '/pos', args: [ 0.5487971305847168, 0.4984669089317322 ] }\n"
     ]
    },
    {
     "name": "stderr",
     "output_type": "stream",
     "text": [
      "TypeError: udp_osc_port.sendMsg is not a function\n",
      "    at Object.handlers./pos (evalmachine.<anonymous>:62:18)\n",
      "    at osc.UDPPort.<anonymous> (evalmachine.<anonymous>:72:44)\n",
      "    at osc.UDPPort.emit (node:events:390:28)\n",
      "    at Object.osc.firePacketEvents (/Users/avneeshsarwate/abletonAutomationExtraction/node_modules/osc/src/osc-transports.js:25:18)\n",
      "    at osc.UDPPort.p.decodeOSC (/Users/avneeshsarwate/abletonAutomationExtraction/node_modules/osc/src/osc-transports.js:85:17)\n",
      "    at osc.UDPPort.emit (node:events:390:28)\n",
      "    at Socket.<anonymous> (/Users/avneeshsarwate/abletonAutomationExtraction/node_modules/osc/src/platforms/osc-node.js:102:18)\n",
      "    at Socket.emit (node:events:390:28)\n",
      "    at UDP.onMessage [as onmessage] (node:dgram:931:8)"
     ]
    },
    {
     "name": "stdout",
     "output_type": "stream",
     "text": [
      "{ address: '/pos', args: [ 0.5433046817779541, 0.4984669089317322 ] }\n"
     ]
    },
    {
     "name": "stderr",
     "output_type": "stream",
     "text": [
      "TypeError: udp_osc_port.sendMsg is not a function\n",
      "    at Object.handlers./pos (evalmachine.<anonymous>:62:18)\n",
      "    at osc.UDPPort.<anonymous> (evalmachine.<anonymous>:72:44)\n",
      "    at osc.UDPPort.emit (node:events:390:28)\n",
      "    at Object.osc.firePacketEvents (/Users/avneeshsarwate/abletonAutomationExtraction/node_modules/osc/src/osc-transports.js:25:18)\n",
      "    at osc.UDPPort.p.decodeOSC (/Users/avneeshsarwate/abletonAutomationExtraction/node_modules/osc/src/osc-transports.js:85:17)\n",
      "    at osc.UDPPort.emit (node:events:390:28)\n",
      "    at Socket.<anonymous> (/Users/avneeshsarwate/abletonAutomationExtraction/node_modules/osc/src/platforms/osc-node.js:102:18)\n",
      "    at Socket.emit (node:events:390:28)\n",
      "    at UDP.onMessage [as onmessage] (node:dgram:931:8)"
     ]
    },
    {
     "name": "stdout",
     "output_type": "stream",
     "text": [
      "{ address: '/pos', args: [ 0.5433046817779541, 0.5013576745986938 ] }\n"
     ]
    },
    {
     "name": "stderr",
     "output_type": "stream",
     "text": [
      "TypeError: udp_osc_port.sendMsg is not a function\n",
      "    at Object.handlers./pos (evalmachine.<anonymous>:62:18)\n",
      "    at osc.UDPPort.<anonymous> (evalmachine.<anonymous>:72:44)\n",
      "    at osc.UDPPort.emit (node:events:390:28)\n",
      "    at Object.osc.firePacketEvents (/Users/avneeshsarwate/abletonAutomationExtraction/node_modules/osc/src/osc-transports.js:25:18)\n",
      "    at osc.UDPPort.p.decodeOSC (/Users/avneeshsarwate/abletonAutomationExtraction/node_modules/osc/src/osc-transports.js:85:17)\n",
      "    at osc.UDPPort.emit (node:events:390:28)\n",
      "    at Socket.<anonymous> (/Users/avneeshsarwate/abletonAutomationExtraction/node_modules/osc/src/platforms/osc-node.js:102:18)\n",
      "    at Socket.emit (node:events:390:28)\n",
      "    at UDP.onMessage [as onmessage] (node:dgram:931:8)"
     ]
    },
    {
     "name": "stdout",
     "output_type": "stream",
     "text": [
      "{ address: '/pos', args: [ 0.5375231504440308, 0.5013576745986938 ] }\n"
     ]
    },
    {
     "name": "stderr",
     "output_type": "stream",
     "text": [
      "TypeError: udp_osc_port.sendMsg is not a function\n",
      "    at Object.handlers./pos (evalmachine.<anonymous>:62:18)\n",
      "    at osc.UDPPort.<anonymous> (evalmachine.<anonymous>:72:44)\n",
      "    at osc.UDPPort.emit (node:events:390:28)\n",
      "    at Object.osc.firePacketEvents (/Users/avneeshsarwate/abletonAutomationExtraction/node_modules/osc/src/osc-transports.js:25:18)\n",
      "    at osc.UDPPort.p.decodeOSC (/Users/avneeshsarwate/abletonAutomationExtraction/node_modules/osc/src/osc-transports.js:85:17)\n",
      "    at osc.UDPPort.emit (node:events:390:28)\n",
      "    at Socket.<anonymous> (/Users/avneeshsarwate/abletonAutomationExtraction/node_modules/osc/src/platforms/osc-node.js:102:18)\n",
      "    at Socket.emit (node:events:390:28)\n",
      "    at UDP.onMessage [as onmessage] (node:dgram:931:8)"
     ]
    },
    {
     "name": "stdout",
     "output_type": "stream",
     "text": [
      "{ address: '/pos', args: [ 0.5375231504440308, 0.5053362846374512 ] }\n"
     ]
    },
    {
     "name": "stderr",
     "output_type": "stream",
     "text": [
      "TypeError: udp_osc_port.sendMsg is not a function\n",
      "    at Object.handlers./pos (evalmachine.<anonymous>:62:18)\n",
      "    at osc.UDPPort.<anonymous> (evalmachine.<anonymous>:72:44)\n",
      "    at osc.UDPPort.emit (node:events:390:28)\n",
      "    at Object.osc.firePacketEvents (/Users/avneeshsarwate/abletonAutomationExtraction/node_modules/osc/src/osc-transports.js:25:18)\n",
      "    at osc.UDPPort.p.decodeOSC (/Users/avneeshsarwate/abletonAutomationExtraction/node_modules/osc/src/osc-transports.js:85:17)\n",
      "    at osc.UDPPort.emit (node:events:390:28)\n",
      "    at Socket.<anonymous> (/Users/avneeshsarwate/abletonAutomationExtraction/node_modules/osc/src/platforms/osc-node.js:102:18)\n",
      "    at Socket.emit (node:events:390:28)\n",
      "    at UDP.onMessage [as onmessage] (node:dgram:931:8)"
     ]
    },
    {
     "name": "stdout",
     "output_type": "stream",
     "text": [
      "{ address: '/pos', args: [ 0.5324186682701111, 0.5053362846374512 ] }\n"
     ]
    },
    {
     "name": "stderr",
     "output_type": "stream",
     "text": [
      "TypeError: udp_osc_port.sendMsg is not a function\n",
      "    at Object.handlers./pos (evalmachine.<anonymous>:62:18)\n",
      "    at osc.UDPPort.<anonymous> (evalmachine.<anonymous>:72:44)\n",
      "    at osc.UDPPort.emit (node:events:390:28)\n",
      "    at Object.osc.firePacketEvents (/Users/avneeshsarwate/abletonAutomationExtraction/node_modules/osc/src/osc-transports.js:25:18)\n",
      "    at osc.UDPPort.p.decodeOSC (/Users/avneeshsarwate/abletonAutomationExtraction/node_modules/osc/src/osc-transports.js:85:17)\n",
      "    at osc.UDPPort.emit (node:events:390:28)\n",
      "    at Socket.<anonymous> (/Users/avneeshsarwate/abletonAutomationExtraction/node_modules/osc/src/platforms/osc-node.js:102:18)\n",
      "    at Socket.emit (node:events:390:28)\n",
      "    at UDP.onMessage [as onmessage] (node:dgram:931:8)"
     ]
    },
    {
     "name": "stdout",
     "output_type": "stream",
     "text": [
      "{ address: '/pos', args: [ 0.5324186682701111, 0.5090105533599854 ] }\n"
     ]
    },
    {
     "name": "stderr",
     "output_type": "stream",
     "text": [
      "TypeError: udp_osc_port.sendMsg is not a function\n",
      "    at Object.handlers./pos (evalmachine.<anonymous>:62:18)\n",
      "    at osc.UDPPort.<anonymous> (evalmachine.<anonymous>:72:44)\n",
      "    at osc.UDPPort.emit (node:events:390:28)\n",
      "    at Object.osc.firePacketEvents (/Users/avneeshsarwate/abletonAutomationExtraction/node_modules/osc/src/osc-transports.js:25:18)\n",
      "    at osc.UDPPort.p.decodeOSC (/Users/avneeshsarwate/abletonAutomationExtraction/node_modules/osc/src/osc-transports.js:85:17)\n",
      "    at osc.UDPPort.emit (node:events:390:28)\n",
      "    at Socket.<anonymous> (/Users/avneeshsarwate/abletonAutomationExtraction/node_modules/osc/src/platforms/osc-node.js:102:18)\n",
      "    at Socket.emit (node:events:390:28)\n",
      "    at UDP.onMessage [as onmessage] (node:dgram:931:8)"
     ]
    },
    {
     "name": "stdout",
     "output_type": "stream",
     "text": [
      "{ address: '/pos', args: [ 0.5283411741256714, 0.5090105533599854 ] }\n"
     ]
    },
    {
     "name": "stderr",
     "output_type": "stream",
     "text": [
      "TypeError: udp_osc_port.sendMsg is not a function\n",
      "    at Object.handlers./pos (evalmachine.<anonymous>:62:18)\n",
      "    at osc.UDPPort.<anonymous> (evalmachine.<anonymous>:72:44)\n",
      "    at osc.UDPPort.emit (node:events:390:28)\n",
      "    at Object.osc.firePacketEvents (/Users/avneeshsarwate/abletonAutomationExtraction/node_modules/osc/src/osc-transports.js:25:18)\n",
      "    at osc.UDPPort.p.decodeOSC (/Users/avneeshsarwate/abletonAutomationExtraction/node_modules/osc/src/osc-transports.js:85:17)\n",
      "    at osc.UDPPort.emit (node:events:390:28)\n",
      "    at Socket.<anonymous> (/Users/avneeshsarwate/abletonAutomationExtraction/node_modules/osc/src/platforms/osc-node.js:102:18)\n",
      "    at Socket.emit (node:events:390:28)\n",
      "    at UDP.onMessage [as onmessage] (node:dgram:931:8)"
     ]
    },
    {
     "name": "stdout",
     "output_type": "stream",
     "text": [
      "{ address: '/pos', args: [ 0.5283411741256714, 0.5125479698181152 ] }\n"
     ]
    },
    {
     "name": "stderr",
     "output_type": "stream",
     "text": [
      "TypeError: udp_osc_port.sendMsg is not a function\n",
      "    at Object.handlers./pos (evalmachine.<anonymous>:62:18)\n",
      "    at osc.UDPPort.<anonymous> (evalmachine.<anonymous>:72:44)\n",
      "    at osc.UDPPort.emit (node:events:390:28)\n",
      "    at Object.osc.firePacketEvents (/Users/avneeshsarwate/abletonAutomationExtraction/node_modules/osc/src/osc-transports.js:25:18)\n",
      "    at osc.UDPPort.p.decodeOSC (/Users/avneeshsarwate/abletonAutomationExtraction/node_modules/osc/src/osc-transports.js:85:17)\n",
      "    at osc.UDPPort.emit (node:events:390:28)\n",
      "    at Socket.<anonymous> (/Users/avneeshsarwate/abletonAutomationExtraction/node_modules/osc/src/platforms/osc-node.js:102:18)\n",
      "    at Socket.emit (node:events:390:28)\n",
      "    at UDP.onMessage [as onmessage] (node:dgram:931:8)"
     ]
    },
    {
     "name": "stdout",
     "output_type": "stream",
     "text": [
      "{ address: '/pos', args: [ 0.5248037576675415, 0.5125479698181152 ] }\n"
     ]
    },
    {
     "name": "stderr",
     "output_type": "stream",
     "text": [
      "TypeError: udp_osc_port.sendMsg is not a function\n",
      "    at Object.handlers./pos (evalmachine.<anonymous>:62:18)\n",
      "    at osc.UDPPort.<anonymous> (evalmachine.<anonymous>:72:44)\n",
      "    at osc.UDPPort.emit (node:events:390:28)\n",
      "    at Object.osc.firePacketEvents (/Users/avneeshsarwate/abletonAutomationExtraction/node_modules/osc/src/osc-transports.js:25:18)\n",
      "    at osc.UDPPort.p.decodeOSC (/Users/avneeshsarwate/abletonAutomationExtraction/node_modules/osc/src/osc-transports.js:85:17)\n",
      "    at osc.UDPPort.emit (node:events:390:28)\n",
      "    at Socket.<anonymous> (/Users/avneeshsarwate/abletonAutomationExtraction/node_modules/osc/src/platforms/osc-node.js:102:18)\n",
      "    at Socket.emit (node:events:390:28)\n",
      "    at UDP.onMessage [as onmessage] (node:dgram:931:8)"
     ]
    },
    {
     "name": "stdout",
     "output_type": "stream",
     "text": [
      "{ address: '/pos', args: [ 0.5248037576675415, 0.5157963037490845 ] }\n"
     ]
    },
    {
     "name": "stderr",
     "output_type": "stream",
     "text": [
      "TypeError: udp_osc_port.sendMsg is not a function\n",
      "    at Object.handlers./pos (evalmachine.<anonymous>:62:18)\n",
      "    at osc.UDPPort.<anonymous> (evalmachine.<anonymous>:72:44)\n",
      "    at osc.UDPPort.emit (node:events:390:28)\n",
      "    at Object.osc.firePacketEvents (/Users/avneeshsarwate/abletonAutomationExtraction/node_modules/osc/src/osc-transports.js:25:18)\n",
      "    at osc.UDPPort.p.decodeOSC (/Users/avneeshsarwate/abletonAutomationExtraction/node_modules/osc/src/osc-transports.js:85:17)\n",
      "    at osc.UDPPort.emit (node:events:390:28)\n",
      "    at Socket.<anonymous> (/Users/avneeshsarwate/abletonAutomationExtraction/node_modules/osc/src/platforms/osc-node.js:102:18)\n",
      "    at Socket.emit (node:events:390:28)\n",
      "    at UDP.onMessage [as onmessage] (node:dgram:931:8)"
     ]
    },
    {
     "name": "stdout",
     "output_type": "stream",
     "text": [
      "{ address: '/pos', args: [ 0.5216771960258484, 0.5157963037490845 ] }\n"
     ]
    },
    {
     "name": "stderr",
     "output_type": "stream",
     "text": [
      "TypeError: udp_osc_port.sendMsg is not a function\n",
      "    at Object.handlers./pos (evalmachine.<anonymous>:62:18)\n",
      "    at osc.UDPPort.<anonymous> (evalmachine.<anonymous>:72:44)\n",
      "    at osc.UDPPort.emit (node:events:390:28)\n",
      "    at Object.osc.firePacketEvents (/Users/avneeshsarwate/abletonAutomationExtraction/node_modules/osc/src/osc-transports.js:25:18)\n",
      "    at osc.UDPPort.p.decodeOSC (/Users/avneeshsarwate/abletonAutomationExtraction/node_modules/osc/src/osc-transports.js:85:17)\n",
      "    at osc.UDPPort.emit (node:events:390:28)\n",
      "    at Socket.<anonymous> (/Users/avneeshsarwate/abletonAutomationExtraction/node_modules/osc/src/platforms/osc-node.js:102:18)\n",
      "    at Socket.emit (node:events:390:28)\n",
      "    at UDP.onMessage [as onmessage] (node:dgram:931:8)"
     ]
    },
    {
     "name": "stdout",
     "output_type": "stream",
     "text": [
      "{ address: '/pos', args: [ 0.5216771960258484, 0.5189152956008911 ] }\n"
     ]
    },
    {
     "name": "stderr",
     "output_type": "stream",
     "text": [
      "TypeError: udp_osc_port.sendMsg is not a function\n",
      "    at Object.handlers./pos (evalmachine.<anonymous>:62:18)\n",
      "    at osc.UDPPort.<anonymous> (evalmachine.<anonymous>:72:44)\n",
      "    at osc.UDPPort.emit (node:events:390:28)\n",
      "    at Object.osc.firePacketEvents (/Users/avneeshsarwate/abletonAutomationExtraction/node_modules/osc/src/osc-transports.js:25:18)\n",
      "    at osc.UDPPort.p.decodeOSC (/Users/avneeshsarwate/abletonAutomationExtraction/node_modules/osc/src/osc-transports.js:85:17)\n",
      "    at osc.UDPPort.emit (node:events:390:28)\n",
      "    at Socket.<anonymous> (/Users/avneeshsarwate/abletonAutomationExtraction/node_modules/osc/src/platforms/osc-node.js:102:18)\n",
      "    at Socket.emit (node:events:390:28)\n",
      "    at UDP.onMessage [as onmessage] (node:dgram:931:8)"
     ]
    },
    {
     "name": "stdout",
     "output_type": "stream",
     "text": [
      "{ address: '/pos', args: [ 0.518155038356781, 0.5189152956008911 ] }\n"
     ]
    },
    {
     "name": "stderr",
     "output_type": "stream",
     "text": [
      "TypeError: udp_osc_port.sendMsg is not a function\n",
      "    at Object.handlers./pos (evalmachine.<anonymous>:62:18)\n",
      "    at osc.UDPPort.<anonymous> (evalmachine.<anonymous>:72:44)\n",
      "    at osc.UDPPort.emit (node:events:390:28)\n",
      "    at Object.osc.firePacketEvents (/Users/avneeshsarwate/abletonAutomationExtraction/node_modules/osc/src/osc-transports.js:25:18)\n",
      "    at osc.UDPPort.p.decodeOSC (/Users/avneeshsarwate/abletonAutomationExtraction/node_modules/osc/src/osc-transports.js:85:17)\n",
      "    at osc.UDPPort.emit (node:events:390:28)\n",
      "    at Socket.<anonymous> (/Users/avneeshsarwate/abletonAutomationExtraction/node_modules/osc/src/platforms/osc-node.js:102:18)\n",
      "    at Socket.emit (node:events:390:28)\n",
      "    at UDP.onMessage [as onmessage] (node:dgram:931:8)"
     ]
    },
    {
     "name": "stdout",
     "output_type": "stream",
     "text": [
      "{ address: '/pos', args: [ 0.518155038356781, 0.5227341055870056 ] }\n"
     ]
    },
    {
     "name": "stderr",
     "output_type": "stream",
     "text": [
      "TypeError: udp_osc_port.sendMsg is not a function\n",
      "    at Object.handlers./pos (evalmachine.<anonymous>:62:18)\n",
      "    at osc.UDPPort.<anonymous> (evalmachine.<anonymous>:72:44)\n",
      "    at osc.UDPPort.emit (node:events:390:28)\n",
      "    at Object.osc.firePacketEvents (/Users/avneeshsarwate/abletonAutomationExtraction/node_modules/osc/src/osc-transports.js:25:18)\n",
      "    at osc.UDPPort.p.decodeOSC (/Users/avneeshsarwate/abletonAutomationExtraction/node_modules/osc/src/osc-transports.js:85:17)\n",
      "    at osc.UDPPort.emit (node:events:390:28)\n",
      "    at Socket.<anonymous> (/Users/avneeshsarwate/abletonAutomationExtraction/node_modules/osc/src/platforms/osc-node.js:102:18)\n",
      "    at Socket.emit (node:events:390:28)\n",
      "    at UDP.onMessage [as onmessage] (node:dgram:931:8)"
     ]
    },
    {
     "name": "stdout",
     "output_type": "stream",
     "text": [
      "{ address: '/pos', args: [ 0.5141079425811768, 0.5227341055870056 ] }\n"
     ]
    },
    {
     "name": "stderr",
     "output_type": "stream",
     "text": [
      "TypeError: udp_osc_port.sendMsg is not a function\n",
      "    at Object.handlers./pos (evalmachine.<anonymous>:62:18)\n",
      "    at osc.UDPPort.<anonymous> (evalmachine.<anonymous>:72:44)\n",
      "    at osc.UDPPort.emit (node:events:390:28)\n",
      "    at Object.osc.firePacketEvents (/Users/avneeshsarwate/abletonAutomationExtraction/node_modules/osc/src/osc-transports.js:25:18)\n",
      "    at osc.UDPPort.p.decodeOSC (/Users/avneeshsarwate/abletonAutomationExtraction/node_modules/osc/src/osc-transports.js:85:17)\n",
      "    at osc.UDPPort.emit (node:events:390:28)\n",
      "    at Socket.<anonymous> (/Users/avneeshsarwate/abletonAutomationExtraction/node_modules/osc/src/platforms/osc-node.js:102:18)\n",
      "    at Socket.emit (node:events:390:28)\n",
      "    at UDP.onMessage [as onmessage] (node:dgram:931:8)"
     ]
    },
    {
     "name": "stdout",
     "output_type": "stream",
     "text": [
      "{ address: '/pos', args: [ 0.5141079425811768, 0.5265605449676514 ] }\n"
     ]
    },
    {
     "name": "stderr",
     "output_type": "stream",
     "text": [
      "TypeError: udp_osc_port.sendMsg is not a function\n",
      "    at Object.handlers./pos (evalmachine.<anonymous>:62:18)\n",
      "    at osc.UDPPort.<anonymous> (evalmachine.<anonymous>:72:44)\n",
      "    at osc.UDPPort.emit (node:events:390:28)\n",
      "    at Object.osc.firePacketEvents (/Users/avneeshsarwate/abletonAutomationExtraction/node_modules/osc/src/osc-transports.js:25:18)\n",
      "    at osc.UDPPort.p.decodeOSC (/Users/avneeshsarwate/abletonAutomationExtraction/node_modules/osc/src/osc-transports.js:85:17)\n",
      "    at osc.UDPPort.emit (node:events:390:28)\n",
      "    at Socket.<anonymous> (/Users/avneeshsarwate/abletonAutomationExtraction/node_modules/osc/src/platforms/osc-node.js:102:18)\n",
      "    at Socket.emit (node:events:390:28)\n",
      "    at UDP.onMessage [as onmessage] (node:dgram:931:8)"
     ]
    },
    {
     "name": "stdout",
     "output_type": "stream",
     "text": [
      "{ address: '/pos', args: [ 0.5101521611213684, 0.5265605449676514 ] }\n"
     ]
    },
    {
     "name": "stderr",
     "output_type": "stream",
     "text": [
      "TypeError: udp_osc_port.sendMsg is not a function\n",
      "    at Object.handlers./pos (evalmachine.<anonymous>:62:18)\n",
      "    at osc.UDPPort.<anonymous> (evalmachine.<anonymous>:72:44)\n",
      "    at osc.UDPPort.emit (node:events:390:28)\n",
      "    at Object.osc.firePacketEvents (/Users/avneeshsarwate/abletonAutomationExtraction/node_modules/osc/src/osc-transports.js:25:18)\n",
      "    at osc.UDPPort.p.decodeOSC (/Users/avneeshsarwate/abletonAutomationExtraction/node_modules/osc/src/osc-transports.js:85:17)\n",
      "    at osc.UDPPort.emit (node:events:390:28)\n",
      "    at Socket.<anonymous> (/Users/avneeshsarwate/abletonAutomationExtraction/node_modules/osc/src/platforms/osc-node.js:102:18)\n",
      "    at Socket.emit (node:events:390:28)\n",
      "    at UDP.onMessage [as onmessage] (node:dgram:931:8)"
     ]
    },
    {
     "name": "stdout",
     "output_type": "stream",
     "text": [
      "{ address: '/pos', args: [ 0.5101521611213684, 0.5301283597946167 ] }\n"
     ]
    },
    {
     "name": "stderr",
     "output_type": "stream",
     "text": [
      "TypeError: udp_osc_port.sendMsg is not a function\n",
      "    at Object.handlers./pos (evalmachine.<anonymous>:62:18)\n",
      "    at osc.UDPPort.<anonymous> (evalmachine.<anonymous>:72:44)\n",
      "    at osc.UDPPort.emit (node:events:390:28)\n",
      "    at Object.osc.firePacketEvents (/Users/avneeshsarwate/abletonAutomationExtraction/node_modules/osc/src/osc-transports.js:25:18)\n",
      "    at osc.UDPPort.p.decodeOSC (/Users/avneeshsarwate/abletonAutomationExtraction/node_modules/osc/src/osc-transports.js:85:17)\n",
      "    at osc.UDPPort.emit (node:events:390:28)\n",
      "    at Socket.<anonymous> (/Users/avneeshsarwate/abletonAutomationExtraction/node_modules/osc/src/platforms/osc-node.js:102:18)\n",
      "    at Socket.emit (node:events:390:28)\n",
      "    at UDP.onMessage [as onmessage] (node:dgram:931:8)"
     ]
    },
    {
     "name": "stdout",
     "output_type": "stream",
     "text": [
      "{ address: '/pos', args: [ 0.5060518383979797, 0.5301283597946167 ] }\n"
     ]
    },
    {
     "name": "stderr",
     "output_type": "stream",
     "text": [
      "TypeError: udp_osc_port.sendMsg is not a function\n",
      "    at Object.handlers./pos (evalmachine.<anonymous>:62:18)\n",
      "    at osc.UDPPort.<anonymous> (evalmachine.<anonymous>:72:44)\n",
      "    at osc.UDPPort.emit (node:events:390:28)\n",
      "    at Object.osc.firePacketEvents (/Users/avneeshsarwate/abletonAutomationExtraction/node_modules/osc/src/osc-transports.js:25:18)\n",
      "    at osc.UDPPort.p.decodeOSC (/Users/avneeshsarwate/abletonAutomationExtraction/node_modules/osc/src/osc-transports.js:85:17)\n",
      "    at osc.UDPPort.emit (node:events:390:28)\n",
      "    at Socket.<anonymous> (/Users/avneeshsarwate/abletonAutomationExtraction/node_modules/osc/src/platforms/osc-node.js:102:18)\n",
      "    at Socket.emit (node:events:390:28)\n",
      "    at UDP.onMessage [as onmessage] (node:dgram:931:8)"
     ]
    },
    {
     "name": "stdout",
     "output_type": "stream",
     "text": [
      "{ address: '/pos', args: [ 0.5060518383979797, 0.5342287421226501 ] }\n"
     ]
    },
    {
     "name": "stderr",
     "output_type": "stream",
     "text": [
      "TypeError: udp_osc_port.sendMsg is not a function\n",
      "    at Object.handlers./pos (evalmachine.<anonymous>:62:18)\n",
      "    at osc.UDPPort.<anonymous> (evalmachine.<anonymous>:72:44)\n",
      "    at osc.UDPPort.emit (node:events:390:28)\n",
      "    at Object.osc.firePacketEvents (/Users/avneeshsarwate/abletonAutomationExtraction/node_modules/osc/src/osc-transports.js:25:18)\n",
      "    at osc.UDPPort.p.decodeOSC (/Users/avneeshsarwate/abletonAutomationExtraction/node_modules/osc/src/osc-transports.js:85:17)\n",
      "    at osc.UDPPort.emit (node:events:390:28)\n",
      "    at Socket.<anonymous> (/Users/avneeshsarwate/abletonAutomationExtraction/node_modules/osc/src/platforms/osc-node.js:102:18)\n",
      "    at Socket.emit (node:events:390:28)\n",
      "    at UDP.onMessage [as onmessage] (node:dgram:931:8)"
     ]
    },
    {
     "name": "stdout",
     "output_type": "stream",
     "text": [
      "{ address: '/pos', args: [ 0.5016015768051147, 0.5342287421226501 ] }\n"
     ]
    },
    {
     "name": "stderr",
     "output_type": "stream",
     "text": [
      "TypeError: udp_osc_port.sendMsg is not a function\n",
      "    at Object.handlers./pos (evalmachine.<anonymous>:62:18)\n",
      "    at osc.UDPPort.<anonymous> (evalmachine.<anonymous>:72:44)\n",
      "    at osc.UDPPort.emit (node:events:390:28)\n",
      "    at Object.osc.firePacketEvents (/Users/avneeshsarwate/abletonAutomationExtraction/node_modules/osc/src/osc-transports.js:25:18)\n",
      "    at osc.UDPPort.p.decodeOSC (/Users/avneeshsarwate/abletonAutomationExtraction/node_modules/osc/src/osc-transports.js:85:17)\n",
      "    at osc.UDPPort.emit (node:events:390:28)\n",
      "    at Socket.<anonymous> (/Users/avneeshsarwate/abletonAutomationExtraction/node_modules/osc/src/platforms/osc-node.js:102:18)\n",
      "    at Socket.emit (node:events:390:28)\n",
      "    at UDP.onMessage [as onmessage] (node:dgram:931:8)"
     ]
    },
    {
     "name": "stdout",
     "output_type": "stream",
     "text": [
      "{ address: '/pos', args: [ 0.5016015768051147, 0.5386790037155151 ] }\n"
     ]
    },
    {
     "name": "stderr",
     "output_type": "stream",
     "text": [
      "TypeError: udp_osc_port.sendMsg is not a function\n",
      "    at Object.handlers./pos (evalmachine.<anonymous>:62:18)\n",
      "    at osc.UDPPort.<anonymous> (evalmachine.<anonymous>:72:44)\n",
      "    at osc.UDPPort.emit (node:events:390:28)\n",
      "    at Object.osc.firePacketEvents (/Users/avneeshsarwate/abletonAutomationExtraction/node_modules/osc/src/osc-transports.js:25:18)\n",
      "    at osc.UDPPort.p.decodeOSC (/Users/avneeshsarwate/abletonAutomationExtraction/node_modules/osc/src/osc-transports.js:85:17)\n",
      "    at osc.UDPPort.emit (node:events:390:28)\n",
      "    at Socket.<anonymous> (/Users/avneeshsarwate/abletonAutomationExtraction/node_modules/osc/src/platforms/osc-node.js:102:18)\n",
      "    at Socket.emit (node:events:390:28)\n",
      "    at UDP.onMessage [as onmessage] (node:dgram:931:8)"
     ]
    },
    {
     "name": "stdout",
     "output_type": "stream",
     "text": [
      "{ address: '/pos', args: [ 0.4977370798587799, 0.5386790037155151 ] }\n"
     ]
    },
    {
     "name": "stderr",
     "output_type": "stream",
     "text": [
      "TypeError: udp_osc_port.sendMsg is not a function\n",
      "    at Object.handlers./pos (evalmachine.<anonymous>:62:18)\n",
      "    at osc.UDPPort.<anonymous> (evalmachine.<anonymous>:72:44)\n",
      "    at osc.UDPPort.emit (node:events:390:28)\n",
      "    at Object.osc.firePacketEvents (/Users/avneeshsarwate/abletonAutomationExtraction/node_modules/osc/src/osc-transports.js:25:18)\n",
      "    at osc.UDPPort.p.decodeOSC (/Users/avneeshsarwate/abletonAutomationExtraction/node_modules/osc/src/osc-transports.js:85:17)\n",
      "    at osc.UDPPort.emit (node:events:390:28)\n",
      "    at Socket.<anonymous> (/Users/avneeshsarwate/abletonAutomationExtraction/node_modules/osc/src/platforms/osc-node.js:102:18)\n",
      "    at Socket.emit (node:events:390:28)\n",
      "    at UDP.onMessage [as onmessage] (node:dgram:931:8)"
     ]
    },
    {
     "name": "stdout",
     "output_type": "stream",
     "text": [
      "{ address: '/pos', args: [ 0.4977370798587799, 0.5431140065193176 ] }\n"
     ]
    },
    {
     "name": "stderr",
     "output_type": "stream",
     "text": [
      "TypeError: udp_osc_port.sendMsg is not a function\n",
      "    at Object.handlers./pos (evalmachine.<anonymous>:62:18)\n",
      "    at osc.UDPPort.<anonymous> (evalmachine.<anonymous>:72:44)\n",
      "    at osc.UDPPort.emit (node:events:390:28)\n",
      "    at Object.osc.firePacketEvents (/Users/avneeshsarwate/abletonAutomationExtraction/node_modules/osc/src/osc-transports.js:25:18)\n",
      "    at osc.UDPPort.p.decodeOSC (/Users/avneeshsarwate/abletonAutomationExtraction/node_modules/osc/src/osc-transports.js:85:17)\n",
      "    at osc.UDPPort.emit (node:events:390:28)\n",
      "    at Socket.<anonymous> (/Users/avneeshsarwate/abletonAutomationExtraction/node_modules/osc/src/platforms/osc-node.js:102:18)\n",
      "    at Socket.emit (node:events:390:28)\n",
      "    at UDP.onMessage [as onmessage] (node:dgram:931:8)"
     ]
    },
    {
     "name": "stdout",
     "output_type": "stream",
     "text": [
      "{ address: '/pos', args: [ 0.4936823844909668, 0.5431140065193176 ] }\n"
     ]
    },
    {
     "name": "stderr",
     "output_type": "stream",
     "text": [
      "TypeError: udp_osc_port.sendMsg is not a function\n",
      "    at Object.handlers./pos (evalmachine.<anonymous>:62:18)\n",
      "    at osc.UDPPort.<anonymous> (evalmachine.<anonymous>:72:44)\n",
      "    at osc.UDPPort.emit (node:events:390:28)\n",
      "    at Object.osc.firePacketEvents (/Users/avneeshsarwate/abletonAutomationExtraction/node_modules/osc/src/osc-transports.js:25:18)\n",
      "    at osc.UDPPort.p.decodeOSC (/Users/avneeshsarwate/abletonAutomationExtraction/node_modules/osc/src/osc-transports.js:85:17)\n",
      "    at osc.UDPPort.emit (node:events:390:28)\n",
      "    at Socket.<anonymous> (/Users/avneeshsarwate/abletonAutomationExtraction/node_modules/osc/src/platforms/osc-node.js:102:18)\n",
      "    at Socket.emit (node:events:390:28)\n",
      "    at UDP.onMessage [as onmessage] (node:dgram:931:8)"
     ]
    },
    {
     "name": "stdout",
     "output_type": "stream",
     "text": [
      "{ address: '/pos', args: [ 0.4936823844909668, 0.5471991300582886 ] }\n"
     ]
    },
    {
     "name": "stderr",
     "output_type": "stream",
     "text": [
      "TypeError: udp_osc_port.sendMsg is not a function\n",
      "    at Object.handlers./pos (evalmachine.<anonymous>:62:18)\n",
      "    at osc.UDPPort.<anonymous> (evalmachine.<anonymous>:72:44)\n",
      "    at osc.UDPPort.emit (node:events:390:28)\n",
      "    at Object.osc.firePacketEvents (/Users/avneeshsarwate/abletonAutomationExtraction/node_modules/osc/src/osc-transports.js:25:18)\n",
      "    at osc.UDPPort.p.decodeOSC (/Users/avneeshsarwate/abletonAutomationExtraction/node_modules/osc/src/osc-transports.js:85:17)\n",
      "    at osc.UDPPort.emit (node:events:390:28)\n",
      "    at Socket.<anonymous> (/Users/avneeshsarwate/abletonAutomationExtraction/node_modules/osc/src/platforms/osc-node.js:102:18)\n",
      "    at Socket.emit (node:events:390:28)\n",
      "    at UDP.onMessage [as onmessage] (node:dgram:931:8)"
     ]
    },
    {
     "name": "stdout",
     "output_type": "stream",
     "text": [
      "{ address: '/pos', args: [ 0.48918649554252625, 0.5471991300582886 ] }\n"
     ]
    },
    {
     "name": "stderr",
     "output_type": "stream",
     "text": [
      "TypeError: udp_osc_port.sendMsg is not a function\n",
      "    at Object.handlers./pos (evalmachine.<anonymous>:62:18)\n",
      "    at osc.UDPPort.<anonymous> (evalmachine.<anonymous>:72:44)\n",
      "    at osc.UDPPort.emit (node:events:390:28)\n",
      "    at Object.osc.firePacketEvents (/Users/avneeshsarwate/abletonAutomationExtraction/node_modules/osc/src/osc-transports.js:25:18)\n",
      "    at osc.UDPPort.p.decodeOSC (/Users/avneeshsarwate/abletonAutomationExtraction/node_modules/osc/src/osc-transports.js:85:17)\n",
      "    at osc.UDPPort.emit (node:events:390:28)\n",
      "    at Socket.<anonymous> (/Users/avneeshsarwate/abletonAutomationExtraction/node_modules/osc/src/platforms/osc-node.js:102:18)\n",
      "    at Socket.emit (node:events:390:28)\n",
      "    at UDP.onMessage [as onmessage] (node:dgram:931:8)"
     ]
    },
    {
     "name": "stdout",
     "output_type": "stream",
     "text": [
      "{ address: '/pos', args: [ 0.48918649554252625, 0.5530263185501099 ] }\n"
     ]
    },
    {
     "name": "stderr",
     "output_type": "stream",
     "text": [
      "TypeError: udp_osc_port.sendMsg is not a function\n",
      "    at Object.handlers./pos (evalmachine.<anonymous>:62:18)\n",
      "    at osc.UDPPort.<anonymous> (evalmachine.<anonymous>:72:44)\n",
      "    at osc.UDPPort.emit (node:events:390:28)\n",
      "    at Object.osc.firePacketEvents (/Users/avneeshsarwate/abletonAutomationExtraction/node_modules/osc/src/osc-transports.js:25:18)\n",
      "    at osc.UDPPort.p.decodeOSC (/Users/avneeshsarwate/abletonAutomationExtraction/node_modules/osc/src/osc-transports.js:85:17)\n",
      "    at osc.UDPPort.emit (node:events:390:28)\n",
      "    at Socket.<anonymous> (/Users/avneeshsarwate/abletonAutomationExtraction/node_modules/osc/src/platforms/osc-node.js:102:18)\n",
      "    at Socket.emit (node:events:390:28)\n",
      "    at UDP.onMessage [as onmessage] (node:dgram:931:8)"
     ]
    },
    {
     "name": "stdout",
     "output_type": "stream",
     "text": [
      "{ address: '/pos', args: [ 0.4865696132183075, 0.5530263185501099 ] }\n"
     ]
    },
    {
     "name": "stderr",
     "output_type": "stream",
     "text": [
      "TypeError: udp_osc_port.sendMsg is not a function\n",
      "    at Object.handlers./pos (evalmachine.<anonymous>:62:18)\n",
      "    at osc.UDPPort.<anonymous> (evalmachine.<anonymous>:72:44)\n",
      "    at osc.UDPPort.emit (node:events:390:28)\n",
      "    at Object.osc.firePacketEvents (/Users/avneeshsarwate/abletonAutomationExtraction/node_modules/osc/src/osc-transports.js:25:18)\n",
      "    at osc.UDPPort.p.decodeOSC (/Users/avneeshsarwate/abletonAutomationExtraction/node_modules/osc/src/osc-transports.js:85:17)\n",
      "    at osc.UDPPort.emit (node:events:390:28)\n",
      "    at Socket.<anonymous> (/Users/avneeshsarwate/abletonAutomationExtraction/node_modules/osc/src/platforms/osc-node.js:102:18)\n",
      "    at Socket.emit (node:events:390:28)\n",
      "    at UDP.onMessage [as onmessage] (node:dgram:931:8)"
     ]
    },
    {
     "name": "stdout",
     "output_type": "stream",
     "text": [
      "{ address: '/pos', args: [ 0.4865696132183075, 0.555947482585907 ] }\n"
     ]
    },
    {
     "name": "stderr",
     "output_type": "stream",
     "text": [
      "TypeError: udp_osc_port.sendMsg is not a function\n",
      "    at Object.handlers./pos (evalmachine.<anonymous>:62:18)\n",
      "    at osc.UDPPort.<anonymous> (evalmachine.<anonymous>:72:44)\n",
      "    at osc.UDPPort.emit (node:events:390:28)\n",
      "    at Object.osc.firePacketEvents (/Users/avneeshsarwate/abletonAutomationExtraction/node_modules/osc/src/osc-transports.js:25:18)\n",
      "    at osc.UDPPort.p.decodeOSC (/Users/avneeshsarwate/abletonAutomationExtraction/node_modules/osc/src/osc-transports.js:85:17)\n",
      "    at osc.UDPPort.emit (node:events:390:28)\n",
      "    at Socket.<anonymous> (/Users/avneeshsarwate/abletonAutomationExtraction/node_modules/osc/src/platforms/osc-node.js:102:18)\n",
      "    at Socket.emit (node:events:390:28)\n",
      "    at UDP.onMessage [as onmessage] (node:dgram:931:8)"
     ]
    },
    {
     "name": "stdout",
     "output_type": "stream",
     "text": [
      "{ address: '/pos', args: [ 0.48351147770881653, 0.555947482585907 ] }\n"
     ]
    },
    {
     "name": "stderr",
     "output_type": "stream",
     "text": [
      "TypeError: udp_osc_port.sendMsg is not a function\n",
      "    at Object.handlers./pos (evalmachine.<anonymous>:62:18)\n",
      "    at osc.UDPPort.<anonymous> (evalmachine.<anonymous>:72:44)\n",
      "    at osc.UDPPort.emit (node:events:390:28)\n",
      "    at Object.osc.firePacketEvents (/Users/avneeshsarwate/abletonAutomationExtraction/node_modules/osc/src/osc-transports.js:25:18)\n",
      "    at osc.UDPPort.p.decodeOSC (/Users/avneeshsarwate/abletonAutomationExtraction/node_modules/osc/src/osc-transports.js:85:17)\n",
      "    at osc.UDPPort.emit (node:events:390:28)\n",
      "    at Socket.<anonymous> (/Users/avneeshsarwate/abletonAutomationExtraction/node_modules/osc/src/platforms/osc-node.js:102:18)\n",
      "    at Socket.emit (node:events:390:28)\n",
      "    at UDP.onMessage [as onmessage] (node:dgram:931:8)"
     ]
    },
    {
     "name": "stdout",
     "output_type": "stream",
     "text": [
      "{ address: '/pos', args: [ 0.48351147770881653, 0.559005618095398 ] }\n"
     ]
    },
    {
     "name": "stderr",
     "output_type": "stream",
     "text": [
      "TypeError: udp_osc_port.sendMsg is not a function\n",
      "    at Object.handlers./pos (evalmachine.<anonymous>:62:18)\n",
      "    at osc.UDPPort.<anonymous> (evalmachine.<anonymous>:72:44)\n",
      "    at osc.UDPPort.emit (node:events:390:28)\n",
      "    at Object.osc.firePacketEvents (/Users/avneeshsarwate/abletonAutomationExtraction/node_modules/osc/src/osc-transports.js:25:18)\n",
      "    at osc.UDPPort.p.decodeOSC (/Users/avneeshsarwate/abletonAutomationExtraction/node_modules/osc/src/osc-transports.js:85:17)\n",
      "    at osc.UDPPort.emit (node:events:390:28)\n",
      "    at Socket.<anonymous> (/Users/avneeshsarwate/abletonAutomationExtraction/node_modules/osc/src/platforms/osc-node.js:102:18)\n",
      "    at Socket.emit (node:events:390:28)\n",
      "    at UDP.onMessage [as onmessage] (node:dgram:931:8)"
     ]
    },
    {
     "name": "stdout",
     "output_type": "stream",
     "text": [
      "{ address: '/pos', args: [ 0.48136624693870544, 0.559005618095398 ] }\n"
     ]
    },
    {
     "name": "stderr",
     "output_type": "stream",
     "text": [
      "TypeError: udp_osc_port.sendMsg is not a function\n",
      "    at Object.handlers./pos (evalmachine.<anonymous>:62:18)\n",
      "    at osc.UDPPort.<anonymous> (evalmachine.<anonymous>:72:44)\n",
      "    at osc.UDPPort.emit (node:events:390:28)\n",
      "    at Object.osc.firePacketEvents (/Users/avneeshsarwate/abletonAutomationExtraction/node_modules/osc/src/osc-transports.js:25:18)\n",
      "    at osc.UDPPort.p.decodeOSC (/Users/avneeshsarwate/abletonAutomationExtraction/node_modules/osc/src/osc-transports.js:85:17)\n",
      "    at osc.UDPPort.emit (node:events:390:28)\n",
      "    at Socket.<anonymous> (/Users/avneeshsarwate/abletonAutomationExtraction/node_modules/osc/src/platforms/osc-node.js:102:18)\n",
      "    at Socket.emit (node:events:390:28)\n",
      "    at UDP.onMessage [as onmessage] (node:dgram:931:8)"
     ]
    },
    {
     "name": "stdout",
     "output_type": "stream",
     "text": [
      "{ address: '/pos', args: [ 0.48136624693870544, 0.5626723170280457 ] }\n"
     ]
    },
    {
     "name": "stderr",
     "output_type": "stream",
     "text": [
      "TypeError: udp_osc_port.sendMsg is not a function\n",
      "    at Object.handlers./pos (evalmachine.<anonymous>:62:18)\n",
      "    at osc.UDPPort.<anonymous> (evalmachine.<anonymous>:72:44)\n",
      "    at osc.UDPPort.emit (node:events:390:28)\n",
      "    at Object.osc.firePacketEvents (/Users/avneeshsarwate/abletonAutomationExtraction/node_modules/osc/src/osc-transports.js:25:18)\n",
      "    at osc.UDPPort.p.decodeOSC (/Users/avneeshsarwate/abletonAutomationExtraction/node_modules/osc/src/osc-transports.js:85:17)\n",
      "    at osc.UDPPort.emit (node:events:390:28)\n",
      "    at Socket.<anonymous> (/Users/avneeshsarwate/abletonAutomationExtraction/node_modules/osc/src/platforms/osc-node.js:102:18)\n",
      "    at Socket.emit (node:events:390:28)\n",
      "    at UDP.onMessage [as onmessage] (node:dgram:931:8)"
     ]
    },
    {
     "name": "stdout",
     "output_type": "stream",
     "text": [
      "{ address: '/pos', args: [ 0.479220986366272, 0.5626723170280457 ] }\n"
     ]
    },
    {
     "name": "stderr",
     "output_type": "stream",
     "text": [
      "TypeError: udp_osc_port.sendMsg is not a function\n",
      "    at Object.handlers./pos (evalmachine.<anonymous>:62:18)\n",
      "    at osc.UDPPort.<anonymous> (evalmachine.<anonymous>:72:44)\n",
      "    at osc.UDPPort.emit (node:events:390:28)\n",
      "    at Object.osc.firePacketEvents (/Users/avneeshsarwate/abletonAutomationExtraction/node_modules/osc/src/osc-transports.js:25:18)\n",
      "    at osc.UDPPort.p.decodeOSC (/Users/avneeshsarwate/abletonAutomationExtraction/node_modules/osc/src/osc-transports.js:85:17)\n",
      "    at osc.UDPPort.emit (node:events:390:28)\n",
      "    at Socket.<anonymous> (/Users/avneeshsarwate/abletonAutomationExtraction/node_modules/osc/src/platforms/osc-node.js:102:18)\n",
      "    at Socket.emit (node:events:390:28)\n",
      "    at UDP.onMessage [as onmessage] (node:dgram:931:8)"
     ]
    },
    {
     "name": "stdout",
     "output_type": "stream",
     "text": [
      "{ address: '/pos', args: [ 0.479220986366272, 0.5663390159606934 ] }\n"
     ]
    },
    {
     "name": "stderr",
     "output_type": "stream",
     "text": [
      "TypeError: udp_osc_port.sendMsg is not a function\n",
      "    at Object.handlers./pos (evalmachine.<anonymous>:62:18)\n",
      "    at osc.UDPPort.<anonymous> (evalmachine.<anonymous>:72:44)\n",
      "    at osc.UDPPort.emit (node:events:390:28)\n",
      "    at Object.osc.firePacketEvents (/Users/avneeshsarwate/abletonAutomationExtraction/node_modules/osc/src/osc-transports.js:25:18)\n",
      "    at osc.UDPPort.p.decodeOSC (/Users/avneeshsarwate/abletonAutomationExtraction/node_modules/osc/src/osc-transports.js:85:17)\n",
      "    at osc.UDPPort.emit (node:events:390:28)\n",
      "    at Socket.<anonymous> (/Users/avneeshsarwate/abletonAutomationExtraction/node_modules/osc/src/platforms/osc-node.js:102:18)\n",
      "    at Socket.emit (node:events:390:28)\n",
      "    at UDP.onMessage [as onmessage] (node:dgram:931:8)"
     ]
    },
    {
     "name": "stdout",
     "output_type": "stream",
     "text": [
      "{ address: '/pos', args: [ 0.47766146063804626, 0.5663390159606934 ] }\n"
     ]
    },
    {
     "name": "stderr",
     "output_type": "stream",
     "text": [
      "TypeError: udp_osc_port.sendMsg is not a function\n",
      "    at Object.handlers./pos (evalmachine.<anonymous>:62:18)\n",
      "    at osc.UDPPort.<anonymous> (evalmachine.<anonymous>:72:44)\n",
      "    at osc.UDPPort.emit (node:events:390:28)\n",
      "    at Object.osc.firePacketEvents (/Users/avneeshsarwate/abletonAutomationExtraction/node_modules/osc/src/osc-transports.js:25:18)\n",
      "    at osc.UDPPort.p.decodeOSC (/Users/avneeshsarwate/abletonAutomationExtraction/node_modules/osc/src/osc-transports.js:85:17)\n",
      "    at osc.UDPPort.emit (node:events:390:28)\n",
      "    at Socket.<anonymous> (/Users/avneeshsarwate/abletonAutomationExtraction/node_modules/osc/src/platforms/osc-node.js:102:18)\n",
      "    at Socket.emit (node:events:390:28)\n",
      "    at UDP.onMessage [as onmessage] (node:dgram:931:8)"
     ]
    },
    {
     "name": "stdout",
     "output_type": "stream",
     "text": [
      "{ address: '/pos', args: [ 0.47766146063804626, 0.5704241991043091 ] }\n"
     ]
    },
    {
     "name": "stderr",
     "output_type": "stream",
     "text": [
      "TypeError: udp_osc_port.sendMsg is not a function\n",
      "    at Object.handlers./pos (evalmachine.<anonymous>:62:18)\n",
      "    at osc.UDPPort.<anonymous> (evalmachine.<anonymous>:72:44)\n",
      "    at osc.UDPPort.emit (node:events:390:28)\n",
      "    at Object.osc.firePacketEvents (/Users/avneeshsarwate/abletonAutomationExtraction/node_modules/osc/src/osc-transports.js:25:18)\n",
      "    at osc.UDPPort.p.decodeOSC (/Users/avneeshsarwate/abletonAutomationExtraction/node_modules/osc/src/osc-transports.js:85:17)\n",
      "    at osc.UDPPort.emit (node:events:390:28)\n",
      "    at Socket.<anonymous> (/Users/avneeshsarwate/abletonAutomationExtraction/node_modules/osc/src/platforms/osc-node.js:102:18)\n",
      "    at Socket.emit (node:events:390:28)\n",
      "    at UDP.onMessage [as onmessage] (node:dgram:931:8)"
     ]
    },
    {
     "name": "stdout",
     "output_type": "stream",
     "text": [
      "{ address: '/pos', args: [ 0.47699204087257385, 0.5704241991043091 ] }\n"
     ]
    },
    {
     "name": "stderr",
     "output_type": "stream",
     "text": [
      "TypeError: udp_osc_port.sendMsg is not a function\n",
      "    at Object.handlers./pos (evalmachine.<anonymous>:62:18)\n",
      "    at osc.UDPPort.<anonymous> (evalmachine.<anonymous>:72:44)\n",
      "    at osc.UDPPort.emit (node:events:390:28)\n",
      "    at Object.osc.firePacketEvents (/Users/avneeshsarwate/abletonAutomationExtraction/node_modules/osc/src/osc-transports.js:25:18)\n",
      "    at osc.UDPPort.p.decodeOSC (/Users/avneeshsarwate/abletonAutomationExtraction/node_modules/osc/src/osc-transports.js:85:17)\n",
      "    at osc.UDPPort.emit (node:events:390:28)\n",
      "    at Socket.<anonymous> (/Users/avneeshsarwate/abletonAutomationExtraction/node_modules/osc/src/platforms/osc-node.js:102:18)\n",
      "    at Socket.emit (node:events:390:28)\n",
      "    at UDP.onMessage [as onmessage] (node:dgram:931:8)"
     ]
    },
    {
     "name": "stdout",
     "output_type": "stream",
     "text": [
      "{ address: '/pos', args: [ 0.47699204087257385, 0.5749276876449585 ] }\n"
     ]
    },
    {
     "name": "stderr",
     "output_type": "stream",
     "text": [
      "TypeError: udp_osc_port.sendMsg is not a function\n",
      "    at Object.handlers./pos (evalmachine.<anonymous>:62:18)\n",
      "    at osc.UDPPort.<anonymous> (evalmachine.<anonymous>:72:44)\n",
      "    at osc.UDPPort.emit (node:events:390:28)\n",
      "    at Object.osc.firePacketEvents (/Users/avneeshsarwate/abletonAutomationExtraction/node_modules/osc/src/osc-transports.js:25:18)\n",
      "    at osc.UDPPort.p.decodeOSC (/Users/avneeshsarwate/abletonAutomationExtraction/node_modules/osc/src/osc-transports.js:85:17)\n",
      "    at osc.UDPPort.emit (node:events:390:28)\n",
      "    at Socket.<anonymous> (/Users/avneeshsarwate/abletonAutomationExtraction/node_modules/osc/src/platforms/osc-node.js:102:18)\n",
      "    at Socket.emit (node:events:390:28)\n",
      "    at UDP.onMessage [as onmessage] (node:dgram:931:8)"
     ]
    },
    {
     "name": "stdout",
     "output_type": "stream",
     "text": [
      "{ address: '/pos', args: [ 0.47553902864456177, 0.5749276876449585 ] }\n"
     ]
    },
    {
     "name": "stderr",
     "output_type": "stream",
     "text": [
      "TypeError: udp_osc_port.sendMsg is not a function\n",
      "    at Object.handlers./pos (evalmachine.<anonymous>:62:18)\n",
      "    at osc.UDPPort.<anonymous> (evalmachine.<anonymous>:72:44)\n",
      "    at osc.UDPPort.emit (node:events:390:28)\n",
      "    at Object.osc.firePacketEvents (/Users/avneeshsarwate/abletonAutomationExtraction/node_modules/osc/src/osc-transports.js:25:18)\n",
      "    at osc.UDPPort.p.decodeOSC (/Users/avneeshsarwate/abletonAutomationExtraction/node_modules/osc/src/osc-transports.js:85:17)\n",
      "    at osc.UDPPort.emit (node:events:390:28)\n",
      "    at Socket.<anonymous> (/Users/avneeshsarwate/abletonAutomationExtraction/node_modules/osc/src/platforms/osc-node.js:102:18)\n",
      "    at Socket.emit (node:events:390:28)\n",
      "    at UDP.onMessage [as onmessage] (node:dgram:931:8)"
     ]
    },
    {
     "name": "stdout",
     "output_type": "stream",
     "text": [
      "{ address: '/pos', args: [ 0.47553902864456177, 0.5838282108306885 ] }\n"
     ]
    },
    {
     "name": "stderr",
     "output_type": "stream",
     "text": [
      "TypeError: udp_osc_port.sendMsg is not a function\n",
      "    at Object.handlers./pos (evalmachine.<anonymous>:62:18)\n",
      "    at osc.UDPPort.<anonymous> (evalmachine.<anonymous>:72:44)\n",
      "    at osc.UDPPort.emit (node:events:390:28)\n",
      "    at Object.osc.firePacketEvents (/Users/avneeshsarwate/abletonAutomationExtraction/node_modules/osc/src/osc-transports.js:25:18)\n",
      "    at osc.UDPPort.p.decodeOSC (/Users/avneeshsarwate/abletonAutomationExtraction/node_modules/osc/src/osc-transports.js:85:17)\n",
      "    at osc.UDPPort.emit (node:events:390:28)\n",
      "    at Socket.<anonymous> (/Users/avneeshsarwate/abletonAutomationExtraction/node_modules/osc/src/platforms/osc-node.js:102:18)\n",
      "    at Socket.emit (node:events:390:28)\n",
      "    at UDP.onMessage [as onmessage] (node:dgram:931:8)"
     ]
    },
    {
     "name": "stdout",
     "output_type": "stream",
     "text": [
      "{ address: '/pos', args: [ 0.475181519985199, 0.5838282108306885 ] }\n"
     ]
    },
    {
     "name": "stderr",
     "output_type": "stream",
     "text": [
      "TypeError: udp_osc_port.sendMsg is not a function\n",
      "    at Object.handlers./pos (evalmachine.<anonymous>:62:18)\n",
      "    at osc.UDPPort.<anonymous> (evalmachine.<anonymous>:72:44)\n",
      "    at osc.UDPPort.emit (node:events:390:28)\n",
      "    at Object.osc.firePacketEvents (/Users/avneeshsarwate/abletonAutomationExtraction/node_modules/osc/src/osc-transports.js:25:18)\n",
      "    at osc.UDPPort.p.decodeOSC (/Users/avneeshsarwate/abletonAutomationExtraction/node_modules/osc/src/osc-transports.js:85:17)\n",
      "    at osc.UDPPort.emit (node:events:390:28)\n",
      "    at Socket.<anonymous> (/Users/avneeshsarwate/abletonAutomationExtraction/node_modules/osc/src/platforms/osc-node.js:102:18)\n",
      "    at Socket.emit (node:events:390:28)\n",
      "    at UDP.onMessage [as onmessage] (node:dgram:931:8)"
     ]
    },
    {
     "name": "stdout",
     "output_type": "stream",
     "text": [
      "{ address: '/pos', args: [ 0.475181519985199, 0.5865668058395386 ] }\n"
     ]
    },
    {
     "name": "stderr",
     "output_type": "stream",
     "text": [
      "TypeError: udp_osc_port.sendMsg is not a function\n",
      "    at Object.handlers./pos (evalmachine.<anonymous>:62:18)\n",
      "    at osc.UDPPort.<anonymous> (evalmachine.<anonymous>:72:44)\n",
      "    at osc.UDPPort.emit (node:events:390:28)\n",
      "    at Object.osc.firePacketEvents (/Users/avneeshsarwate/abletonAutomationExtraction/node_modules/osc/src/osc-transports.js:25:18)\n",
      "    at osc.UDPPort.p.decodeOSC (/Users/avneeshsarwate/abletonAutomationExtraction/node_modules/osc/src/osc-transports.js:85:17)\n",
      "    at osc.UDPPort.emit (node:events:390:28)\n",
      "    at Socket.<anonymous> (/Users/avneeshsarwate/abletonAutomationExtraction/node_modules/osc/src/platforms/osc-node.js:102:18)\n",
      "    at Socket.emit (node:events:390:28)\n",
      "    at UDP.onMessage [as onmessage] (node:dgram:931:8)"
     ]
    },
    {
     "name": "stdout",
     "output_type": "stream",
     "text": [
      "{ address: '/pos', args: [ 0.4746413826942444, 0.5865668058395386 ] }\n"
     ]
    },
    {
     "name": "stderr",
     "output_type": "stream",
     "text": [
      "TypeError: udp_osc_port.sendMsg is not a function\n",
      "    at Object.handlers./pos (evalmachine.<anonymous>:62:18)\n",
      "    at osc.UDPPort.<anonymous> (evalmachine.<anonymous>:72:44)\n",
      "    at osc.UDPPort.emit (node:events:390:28)\n",
      "    at Object.osc.firePacketEvents (/Users/avneeshsarwate/abletonAutomationExtraction/node_modules/osc/src/osc-transports.js:25:18)\n",
      "    at osc.UDPPort.p.decodeOSC (/Users/avneeshsarwate/abletonAutomationExtraction/node_modules/osc/src/osc-transports.js:85:17)\n",
      "    at osc.UDPPort.emit (node:events:390:28)\n",
      "    at Socket.<anonymous> (/Users/avneeshsarwate/abletonAutomationExtraction/node_modules/osc/src/platforms/osc-node.js:102:18)\n",
      "    at Socket.emit (node:events:390:28)\n",
      "    at UDP.onMessage [as onmessage] (node:dgram:931:8)"
     ]
    },
    {
     "name": "stdout",
     "output_type": "stream",
     "text": [
      "{ address: '/pos', args: [ 0.4746413826942444, 0.592028796672821 ] }\n"
     ]
    },
    {
     "name": "stderr",
     "output_type": "stream",
     "text": [
      "TypeError: udp_osc_port.sendMsg is not a function\n",
      "    at Object.handlers./pos (evalmachine.<anonymous>:62:18)\n",
      "    at osc.UDPPort.<anonymous> (evalmachine.<anonymous>:72:44)\n",
      "    at osc.UDPPort.emit (node:events:390:28)\n",
      "    at Object.osc.firePacketEvents (/Users/avneeshsarwate/abletonAutomationExtraction/node_modules/osc/src/osc-transports.js:25:18)\n",
      "    at osc.UDPPort.p.decodeOSC (/Users/avneeshsarwate/abletonAutomationExtraction/node_modules/osc/src/osc-transports.js:85:17)\n",
      "    at osc.UDPPort.emit (node:events:390:28)\n",
      "    at Socket.<anonymous> (/Users/avneeshsarwate/abletonAutomationExtraction/node_modules/osc/src/platforms/osc-node.js:102:18)\n",
      "    at Socket.emit (node:events:390:28)\n",
      "    at UDP.onMessage [as onmessage] (node:dgram:931:8)"
     ]
    },
    {
     "name": "stdout",
     "output_type": "stream",
     "text": [
      "{ address: '/pos', args: [ 0.474154531955719, 0.592028796672821 ] }\n"
     ]
    },
    {
     "name": "stderr",
     "output_type": "stream",
     "text": [
      "TypeError: udp_osc_port.sendMsg is not a function\n",
      "    at Object.handlers./pos (evalmachine.<anonymous>:62:18)\n",
      "    at osc.UDPPort.<anonymous> (evalmachine.<anonymous>:72:44)\n",
      "    at osc.UDPPort.emit (node:events:390:28)\n",
      "    at Object.osc.firePacketEvents (/Users/avneeshsarwate/abletonAutomationExtraction/node_modules/osc/src/osc-transports.js:25:18)\n",
      "    at osc.UDPPort.p.decodeOSC (/Users/avneeshsarwate/abletonAutomationExtraction/node_modules/osc/src/osc-transports.js:85:17)\n",
      "    at osc.UDPPort.emit (node:events:390:28)\n",
      "    at Socket.<anonymous> (/Users/avneeshsarwate/abletonAutomationExtraction/node_modules/osc/src/platforms/osc-node.js:102:18)\n",
      "    at Socket.emit (node:events:390:28)\n",
      "    at UDP.onMessage [as onmessage] (node:dgram:931:8)"
     ]
    },
    {
     "name": "stdout",
     "output_type": "stream",
     "text": [
      "{ address: '/pos', args: [ 0.474154531955719, 0.5974528193473816 ] }\n"
     ]
    },
    {
     "name": "stderr",
     "output_type": "stream",
     "text": [
      "TypeError: udp_osc_port.sendMsg is not a function\n",
      "    at Object.handlers./pos (evalmachine.<anonymous>:62:18)\n",
      "    at osc.UDPPort.<anonymous> (evalmachine.<anonymous>:72:44)\n",
      "    at osc.UDPPort.emit (node:events:390:28)\n",
      "    at Object.osc.firePacketEvents (/Users/avneeshsarwate/abletonAutomationExtraction/node_modules/osc/src/osc-transports.js:25:18)\n",
      "    at osc.UDPPort.p.decodeOSC (/Users/avneeshsarwate/abletonAutomationExtraction/node_modules/osc/src/osc-transports.js:85:17)\n",
      "    at osc.UDPPort.emit (node:events:390:28)\n",
      "    at Socket.<anonymous> (/Users/avneeshsarwate/abletonAutomationExtraction/node_modules/osc/src/platforms/osc-node.js:102:18)\n",
      "    at Socket.emit (node:events:390:28)\n",
      "    at UDP.onMessage [as onmessage] (node:dgram:931:8)"
     ]
    },
    {
     "name": "stdout",
     "output_type": "stream",
     "text": [
      "{ address: '/pos', args: [ 0.47346988320350647, 0.5974528193473816 ] }\n"
     ]
    },
    {
     "name": "stderr",
     "output_type": "stream",
     "text": [
      "TypeError: udp_osc_port.sendMsg is not a function\n",
      "    at Object.handlers./pos (evalmachine.<anonymous>:62:18)\n",
      "    at osc.UDPPort.<anonymous> (evalmachine.<anonymous>:72:44)\n",
      "    at osc.UDPPort.emit (node:events:390:28)\n",
      "    at Object.osc.firePacketEvents (/Users/avneeshsarwate/abletonAutomationExtraction/node_modules/osc/src/osc-transports.js:25:18)\n",
      "    at osc.UDPPort.p.decodeOSC (/Users/avneeshsarwate/abletonAutomationExtraction/node_modules/osc/src/osc-transports.js:85:17)\n",
      "    at osc.UDPPort.emit (node:events:390:28)\n",
      "    at Socket.<anonymous> (/Users/avneeshsarwate/abletonAutomationExtraction/node_modules/osc/src/platforms/osc-node.js:102:18)\n",
      "    at Socket.emit (node:events:390:28)\n",
      "    at UDP.onMessage [as onmessage] (node:dgram:931:8)"
     ]
    },
    {
     "name": "stdout",
     "output_type": "stream",
     "text": [
      "{ address: '/pos', args: [ 0.47346988320350647, 0.6029224395751953 ] }\n"
     ]
    },
    {
     "name": "stderr",
     "output_type": "stream",
     "text": [
      "TypeError: udp_osc_port.sendMsg is not a function\n",
      "    at Object.handlers./pos (evalmachine.<anonymous>:62:18)\n",
      "    at osc.UDPPort.<anonymous> (evalmachine.<anonymous>:72:44)\n",
      "    at osc.UDPPort.emit (node:events:390:28)\n",
      "    at Object.osc.firePacketEvents (/Users/avneeshsarwate/abletonAutomationExtraction/node_modules/osc/src/osc-transports.js:25:18)\n",
      "    at osc.UDPPort.p.decodeOSC (/Users/avneeshsarwate/abletonAutomationExtraction/node_modules/osc/src/osc-transports.js:85:17)\n",
      "    at osc.UDPPort.emit (node:events:390:28)\n",
      "    at Socket.<anonymous> (/Users/avneeshsarwate/abletonAutomationExtraction/node_modules/osc/src/platforms/osc-node.js:102:18)\n",
      "    at Socket.emit (node:events:390:28)\n",
      "    at UDP.onMessage [as onmessage] (node:dgram:931:8)"
     ]
    },
    {
     "name": "stdout",
     "output_type": "stream",
     "text": [
      "{ address: '/pos', args: [ 0.47310471534729004, 0.6029224395751953 ] }\n"
     ]
    },
    {
     "name": "stderr",
     "output_type": "stream",
     "text": [
      "TypeError: udp_osc_port.sendMsg is not a function\n",
      "    at Object.handlers./pos (evalmachine.<anonymous>:62:18)\n",
      "    at osc.UDPPort.<anonymous> (evalmachine.<anonymous>:72:44)\n",
      "    at osc.UDPPort.emit (node:events:390:28)\n",
      "    at Object.osc.firePacketEvents (/Users/avneeshsarwate/abletonAutomationExtraction/node_modules/osc/src/osc-transports.js:25:18)\n",
      "    at osc.UDPPort.p.decodeOSC (/Users/avneeshsarwate/abletonAutomationExtraction/node_modules/osc/src/osc-transports.js:85:17)\n",
      "    at osc.UDPPort.emit (node:events:390:28)\n",
      "    at Socket.<anonymous> (/Users/avneeshsarwate/abletonAutomationExtraction/node_modules/osc/src/platforms/osc-node.js:102:18)\n",
      "    at Socket.emit (node:events:390:28)\n",
      "    at UDP.onMessage [as onmessage] (node:dgram:931:8)"
     ]
    },
    {
     "name": "stdout",
     "output_type": "stream",
     "text": [
      "{ address: '/pos', args: [ 0.47310471534729004, 0.6077454686164856 ] }\n"
     ]
    },
    {
     "name": "stderr",
     "output_type": "stream",
     "text": [
      "TypeError: udp_osc_port.sendMsg is not a function\n",
      "    at Object.handlers./pos (evalmachine.<anonymous>:62:18)\n",
      "    at osc.UDPPort.<anonymous> (evalmachine.<anonymous>:72:44)\n",
      "    at osc.UDPPort.emit (node:events:390:28)\n",
      "    at Object.osc.firePacketEvents (/Users/avneeshsarwate/abletonAutomationExtraction/node_modules/osc/src/osc-transports.js:25:18)\n",
      "    at osc.UDPPort.p.decodeOSC (/Users/avneeshsarwate/abletonAutomationExtraction/node_modules/osc/src/osc-transports.js:85:17)\n",
      "    at osc.UDPPort.emit (node:events:390:28)\n",
      "    at Socket.<anonymous> (/Users/avneeshsarwate/abletonAutomationExtraction/node_modules/osc/src/platforms/osc-node.js:102:18)\n",
      "    at Socket.emit (node:events:390:28)\n",
      "    at UDP.onMessage [as onmessage] (node:dgram:931:8)"
     ]
    },
    {
     "name": "stdout",
     "output_type": "stream",
     "text": [
      "{ address: '/pos', args: [ 0.4726254642009735, 0.6077454686164856 ] }\n"
     ]
    },
    {
     "name": "stderr",
     "output_type": "stream",
     "text": [
      "TypeError: udp_osc_port.sendMsg is not a function\n",
      "    at Object.handlers./pos (evalmachine.<anonymous>:62:18)\n",
      "    at osc.UDPPort.<anonymous> (evalmachine.<anonymous>:72:44)\n",
      "    at osc.UDPPort.emit (node:events:390:28)\n",
      "    at Object.osc.firePacketEvents (/Users/avneeshsarwate/abletonAutomationExtraction/node_modules/osc/src/osc-transports.js:25:18)\n",
      "    at osc.UDPPort.p.decodeOSC (/Users/avneeshsarwate/abletonAutomationExtraction/node_modules/osc/src/osc-transports.js:85:17)\n",
      "    at osc.UDPPort.emit (node:events:390:28)\n",
      "    at Socket.<anonymous> (/Users/avneeshsarwate/abletonAutomationExtraction/node_modules/osc/src/platforms/osc-node.js:102:18)\n",
      "    at Socket.emit (node:events:390:28)\n",
      "    at UDP.onMessage [as onmessage] (node:dgram:931:8)"
     ]
    },
    {
     "name": "stdout",
     "output_type": "stream",
     "text": [
      "{ address: '/pos', args: [ 0.4726254642009735, 0.6127662658691406 ] }\n"
     ]
    },
    {
     "name": "stderr",
     "output_type": "stream",
     "text": [
      "TypeError: udp_osc_port.sendMsg is not a function\n",
      "    at Object.handlers./pos (evalmachine.<anonymous>:62:18)\n",
      "    at osc.UDPPort.<anonymous> (evalmachine.<anonymous>:72:44)\n",
      "    at osc.UDPPort.emit (node:events:390:28)\n",
      "    at Object.osc.firePacketEvents (/Users/avneeshsarwate/abletonAutomationExtraction/node_modules/osc/src/osc-transports.js:25:18)\n",
      "    at osc.UDPPort.p.decodeOSC (/Users/avneeshsarwate/abletonAutomationExtraction/node_modules/osc/src/osc-transports.js:85:17)\n",
      "    at osc.UDPPort.emit (node:events:390:28)\n",
      "    at Socket.<anonymous> (/Users/avneeshsarwate/abletonAutomationExtraction/node_modules/osc/src/platforms/osc-node.js:102:18)\n",
      "    at Socket.emit (node:events:390:28)\n",
      "    at UDP.onMessage [as onmessage] (node:dgram:931:8)"
     ]
    },
    {
     "name": "stdout",
     "output_type": "stream",
     "text": [
      "{ address: '/pos', args: [ 0.47211575508117676, 0.6127662658691406 ] }\n"
     ]
    },
    {
     "name": "stderr",
     "output_type": "stream",
     "text": [
      "TypeError: udp_osc_port.sendMsg is not a function\n",
      "    at Object.handlers./pos (evalmachine.<anonymous>:62:18)\n",
      "    at osc.UDPPort.<anonymous> (evalmachine.<anonymous>:72:44)\n",
      "    at osc.UDPPort.emit (node:events:390:28)\n",
      "    at Object.osc.firePacketEvents (/Users/avneeshsarwate/abletonAutomationExtraction/node_modules/osc/src/osc-transports.js:25:18)\n",
      "    at osc.UDPPort.p.decodeOSC (/Users/avneeshsarwate/abletonAutomationExtraction/node_modules/osc/src/osc-transports.js:85:17)\n",
      "    at osc.UDPPort.emit (node:events:390:28)\n",
      "    at Socket.<anonymous> (/Users/avneeshsarwate/abletonAutomationExtraction/node_modules/osc/src/platforms/osc-node.js:102:18)\n",
      "    at Socket.emit (node:events:390:28)\n",
      "    at UDP.onMessage [as onmessage] (node:dgram:931:8)"
     ]
    },
    {
     "name": "stdout",
     "output_type": "stream",
     "text": [
      "{ address: '/pos', args: [ 0.47211575508117676, 0.6166688203811646 ] }\n"
     ]
    },
    {
     "name": "stderr",
     "output_type": "stream",
     "text": [
      "TypeError: udp_osc_port.sendMsg is not a function\n",
      "    at Object.handlers./pos (evalmachine.<anonymous>:62:18)\n",
      "    at osc.UDPPort.<anonymous> (evalmachine.<anonymous>:72:44)\n",
      "    at osc.UDPPort.emit (node:events:390:28)\n",
      "    at Object.osc.firePacketEvents (/Users/avneeshsarwate/abletonAutomationExtraction/node_modules/osc/src/osc-transports.js:25:18)\n",
      "    at osc.UDPPort.p.decodeOSC (/Users/avneeshsarwate/abletonAutomationExtraction/node_modules/osc/src/osc-transports.js:85:17)\n",
      "    at osc.UDPPort.emit (node:events:390:28)\n",
      "    at Socket.<anonymous> (/Users/avneeshsarwate/abletonAutomationExtraction/node_modules/osc/src/platforms/osc-node.js:102:18)\n",
      "    at Socket.emit (node:events:390:28)\n",
      "    at UDP.onMessage [as onmessage] (node:dgram:931:8)"
     ]
    },
    {
     "name": "stdout",
     "output_type": "stream",
     "text": [
      "{ address: '/pos', args: [ 0.4714767336845398, 0.6166688203811646 ] }\n"
     ]
    },
    {
     "name": "stderr",
     "output_type": "stream",
     "text": [
      "TypeError: udp_osc_port.sendMsg is not a function\n",
      "    at Object.handlers./pos (evalmachine.<anonymous>:62:18)\n",
      "    at osc.UDPPort.<anonymous> (evalmachine.<anonymous>:72:44)\n",
      "    at osc.UDPPort.emit (node:events:390:28)\n",
      "    at Object.osc.firePacketEvents (/Users/avneeshsarwate/abletonAutomationExtraction/node_modules/osc/src/osc-transports.js:25:18)\n",
      "    at osc.UDPPort.p.decodeOSC (/Users/avneeshsarwate/abletonAutomationExtraction/node_modules/osc/src/osc-transports.js:85:17)\n",
      "    at osc.UDPPort.emit (node:events:390:28)\n",
      "    at Socket.<anonymous> (/Users/avneeshsarwate/abletonAutomationExtraction/node_modules/osc/src/platforms/osc-node.js:102:18)\n",
      "    at Socket.emit (node:events:390:28)\n",
      "    at UDP.onMessage [as onmessage] (node:dgram:931:8)"
     ]
    },
    {
     "name": "stdout",
     "output_type": "stream",
     "text": [
      "{ address: '/pos', args: [ 0.4714767336845398, 0.6204344034194946 ] }\n"
     ]
    },
    {
     "name": "stderr",
     "output_type": "stream",
     "text": [
      "TypeError: udp_osc_port.sendMsg is not a function\n",
      "    at Object.handlers./pos (evalmachine.<anonymous>:62:18)\n",
      "    at osc.UDPPort.<anonymous> (evalmachine.<anonymous>:72:44)\n",
      "    at osc.UDPPort.emit (node:events:390:28)\n",
      "    at Object.osc.firePacketEvents (/Users/avneeshsarwate/abletonAutomationExtraction/node_modules/osc/src/osc-transports.js:25:18)\n",
      "    at osc.UDPPort.p.decodeOSC (/Users/avneeshsarwate/abletonAutomationExtraction/node_modules/osc/src/osc-transports.js:85:17)\n",
      "    at osc.UDPPort.emit (node:events:390:28)\n",
      "    at Socket.<anonymous> (/Users/avneeshsarwate/abletonAutomationExtraction/node_modules/osc/src/platforms/osc-node.js:102:18)\n",
      "    at Socket.emit (node:events:390:28)\n",
      "    at UDP.onMessage [as onmessage] (node:dgram:931:8)"
     ]
    },
    {
     "name": "stdout",
     "output_type": "stream",
     "text": [
      "{ address: '/pos', args: [ 0.47084537148475647, 0.6204344034194946 ] }\n"
     ]
    },
    {
     "name": "stderr",
     "output_type": "stream",
     "text": [
      "TypeError: udp_osc_port.sendMsg is not a function\n",
      "    at Object.handlers./pos (evalmachine.<anonymous>:62:18)\n",
      "    at osc.UDPPort.<anonymous> (evalmachine.<anonymous>:72:44)\n",
      "    at osc.UDPPort.emit (node:events:390:28)\n",
      "    at Object.osc.firePacketEvents (/Users/avneeshsarwate/abletonAutomationExtraction/node_modules/osc/src/osc-transports.js:25:18)\n",
      "    at osc.UDPPort.p.decodeOSC (/Users/avneeshsarwate/abletonAutomationExtraction/node_modules/osc/src/osc-transports.js:85:17)\n",
      "    at osc.UDPPort.emit (node:events:390:28)\n",
      "    at Socket.<anonymous> (/Users/avneeshsarwate/abletonAutomationExtraction/node_modules/osc/src/platforms/osc-node.js:102:18)\n",
      "    at Socket.emit (node:events:390:28)\n",
      "    at UDP.onMessage [as onmessage] (node:dgram:931:8)"
     ]
    },
    {
     "name": "stdout",
     "output_type": "stream",
     "text": [
      "{ address: '/pos', args: [ 0.47084537148475647, 0.6239261627197266 ] }\n"
     ]
    },
    {
     "name": "stderr",
     "output_type": "stream",
     "text": [
      "TypeError: udp_osc_port.sendMsg is not a function\n",
      "    at Object.handlers./pos (evalmachine.<anonymous>:62:18)\n",
      "    at osc.UDPPort.<anonymous> (evalmachine.<anonymous>:72:44)\n",
      "    at osc.UDPPort.emit (node:events:390:28)\n",
      "    at Object.osc.firePacketEvents (/Users/avneeshsarwate/abletonAutomationExtraction/node_modules/osc/src/osc-transports.js:25:18)\n",
      "    at osc.UDPPort.p.decodeOSC (/Users/avneeshsarwate/abletonAutomationExtraction/node_modules/osc/src/osc-transports.js:85:17)\n",
      "    at osc.UDPPort.emit (node:events:390:28)\n",
      "    at Socket.<anonymous> (/Users/avneeshsarwate/abletonAutomationExtraction/node_modules/osc/src/platforms/osc-node.js:102:18)\n",
      "    at Socket.emit (node:events:390:28)\n",
      "    at UDP.onMessage [as onmessage] (node:dgram:931:8)"
     ]
    },
    {
     "name": "stdout",
     "output_type": "stream",
     "text": [
      "{ address: '/pos', args: [ 0.46999332308769226, 0.6239261627197266 ] }\n"
     ]
    },
    {
     "name": "stderr",
     "output_type": "stream",
     "text": [
      "TypeError: udp_osc_port.sendMsg is not a function\n",
      "    at Object.handlers./pos (evalmachine.<anonymous>:62:18)\n",
      "    at osc.UDPPort.<anonymous> (evalmachine.<anonymous>:72:44)\n",
      "    at osc.UDPPort.emit (node:events:390:28)\n",
      "    at Object.osc.firePacketEvents (/Users/avneeshsarwate/abletonAutomationExtraction/node_modules/osc/src/osc-transports.js:25:18)\n",
      "    at osc.UDPPort.p.decodeOSC (/Users/avneeshsarwate/abletonAutomationExtraction/node_modules/osc/src/osc-transports.js:85:17)\n",
      "    at osc.UDPPort.emit (node:events:390:28)\n",
      "    at Socket.<anonymous> (/Users/avneeshsarwate/abletonAutomationExtraction/node_modules/osc/src/platforms/osc-node.js:102:18)\n",
      "    at Socket.emit (node:events:390:28)\n",
      "    at UDP.onMessage [as onmessage] (node:dgram:931:8)"
     ]
    },
    {
     "name": "stdout",
     "output_type": "stream",
     "text": [
      "{ address: '/pos', args: [ 0.46999332308769226, 0.6269386410713196 ] }\n"
     ]
    },
    {
     "name": "stderr",
     "output_type": "stream",
     "text": [
      "TypeError: udp_osc_port.sendMsg is not a function\n",
      "    at Object.handlers./pos (evalmachine.<anonymous>:62:18)\n",
      "    at osc.UDPPort.<anonymous> (evalmachine.<anonymous>:72:44)\n",
      "    at osc.UDPPort.emit (node:events:390:28)\n",
      "    at Object.osc.firePacketEvents (/Users/avneeshsarwate/abletonAutomationExtraction/node_modules/osc/src/osc-transports.js:25:18)\n",
      "    at osc.UDPPort.p.decodeOSC (/Users/avneeshsarwate/abletonAutomationExtraction/node_modules/osc/src/osc-transports.js:85:17)\n",
      "    at osc.UDPPort.emit (node:events:390:28)\n",
      "    at Socket.<anonymous> (/Users/avneeshsarwate/abletonAutomationExtraction/node_modules/osc/src/platforms/osc-node.js:102:18)\n",
      "    at Socket.emit (node:events:390:28)\n",
      "    at UDP.onMessage [as onmessage] (node:dgram:931:8)"
     ]
    },
    {
     "name": "stdout",
     "output_type": "stream",
     "text": [
      "{ address: '/pos', args: [ 0.46934670209884644, 0.6269386410713196 ] }\n"
     ]
    },
    {
     "name": "stderr",
     "output_type": "stream",
     "text": [
      "TypeError: udp_osc_port.sendMsg is not a function\n",
      "    at Object.handlers./pos (evalmachine.<anonymous>:62:18)\n",
      "    at osc.UDPPort.<anonymous> (evalmachine.<anonymous>:72:44)\n",
      "    at osc.UDPPort.emit (node:events:390:28)\n",
      "    at Object.osc.firePacketEvents (/Users/avneeshsarwate/abletonAutomationExtraction/node_modules/osc/src/osc-transports.js:25:18)\n",
      "    at osc.UDPPort.p.decodeOSC (/Users/avneeshsarwate/abletonAutomationExtraction/node_modules/osc/src/osc-transports.js:85:17)\n",
      "    at osc.UDPPort.emit (node:events:390:28)\n",
      "    at Socket.<anonymous> (/Users/avneeshsarwate/abletonAutomationExtraction/node_modules/osc/src/platforms/osc-node.js:102:18)\n",
      "    at Socket.emit (node:events:390:28)\n",
      "    at UDP.onMessage [as onmessage] (node:dgram:931:8)"
     ]
    },
    {
     "name": "stdout",
     "output_type": "stream",
     "text": [
      "{ address: '/pos', args: [ 0.46934670209884644, 0.6293120980262756 ] }\n"
     ]
    },
    {
     "name": "stderr",
     "output_type": "stream",
     "text": [
      "TypeError: udp_osc_port.sendMsg is not a function\n",
      "    at Object.handlers./pos (evalmachine.<anonymous>:62:18)\n",
      "    at osc.UDPPort.<anonymous> (evalmachine.<anonymous>:72:44)\n",
      "    at osc.UDPPort.emit (node:events:390:28)\n",
      "    at Object.osc.firePacketEvents (/Users/avneeshsarwate/abletonAutomationExtraction/node_modules/osc/src/osc-transports.js:25:18)\n",
      "    at osc.UDPPort.p.decodeOSC (/Users/avneeshsarwate/abletonAutomationExtraction/node_modules/osc/src/osc-transports.js:85:17)\n",
      "    at osc.UDPPort.emit (node:events:390:28)\n",
      "    at Socket.<anonymous> (/Users/avneeshsarwate/abletonAutomationExtraction/node_modules/osc/src/platforms/osc-node.js:102:18)\n",
      "    at Socket.emit (node:events:390:28)\n",
      "    at UDP.onMessage [as onmessage] (node:dgram:931:8)"
     ]
    },
    {
     "name": "stdout",
     "output_type": "stream",
     "text": [
      "{ address: '/pos', args: [ 0.46850988268852234, 0.6293120980262756 ] }\n"
     ]
    },
    {
     "name": "stderr",
     "output_type": "stream",
     "text": [
      "TypeError: udp_osc_port.sendMsg is not a function\n",
      "    at Object.handlers./pos (evalmachine.<anonymous>:62:18)\n",
      "    at osc.UDPPort.<anonymous> (evalmachine.<anonymous>:72:44)\n",
      "    at osc.UDPPort.emit (node:events:390:28)\n",
      "    at Object.osc.firePacketEvents (/Users/avneeshsarwate/abletonAutomationExtraction/node_modules/osc/src/osc-transports.js:25:18)\n",
      "    at osc.UDPPort.p.decodeOSC (/Users/avneeshsarwate/abletonAutomationExtraction/node_modules/osc/src/osc-transports.js:85:17)\n",
      "    at osc.UDPPort.emit (node:events:390:28)\n",
      "    at Socket.<anonymous> (/Users/avneeshsarwate/abletonAutomationExtraction/node_modules/osc/src/platforms/osc-node.js:102:18)\n",
      "    at Socket.emit (node:events:390:28)\n",
      "    at UDP.onMessage [as onmessage] (node:dgram:931:8)"
     ]
    },
    {
     "name": "stdout",
     "output_type": "stream",
     "text": [
      "{ address: '/pos', args: [ 0.46850988268852234, 0.6315638422966003 ] }\n"
     ]
    },
    {
     "name": "stderr",
     "output_type": "stream",
     "text": [
      "TypeError: udp_osc_port.sendMsg is not a function\n",
      "    at Object.handlers./pos (evalmachine.<anonymous>:62:18)\n",
      "    at osc.UDPPort.<anonymous> (evalmachine.<anonymous>:72:44)\n",
      "    at osc.UDPPort.emit (node:events:390:28)\n",
      "    at Object.osc.firePacketEvents (/Users/avneeshsarwate/abletonAutomationExtraction/node_modules/osc/src/osc-transports.js:25:18)\n",
      "    at osc.UDPPort.p.decodeOSC (/Users/avneeshsarwate/abletonAutomationExtraction/node_modules/osc/src/osc-transports.js:85:17)\n",
      "    at osc.UDPPort.emit (node:events:390:28)\n",
      "    at Socket.<anonymous> (/Users/avneeshsarwate/abletonAutomationExtraction/node_modules/osc/src/platforms/osc-node.js:102:18)\n",
      "    at Socket.emit (node:events:390:28)\n",
      "    at UDP.onMessage [as onmessage] (node:dgram:931:8)"
     ]
    },
    {
     "name": "stdout",
     "output_type": "stream",
     "text": [
      "{ address: '/pos', args: [ 0.46771112084388733, 0.6315638422966003 ] }\n"
     ]
    },
    {
     "name": "stderr",
     "output_type": "stream",
     "text": [
      "TypeError: udp_osc_port.sendMsg is not a function\n",
      "    at Object.handlers./pos (evalmachine.<anonymous>:62:18)\n",
      "    at osc.UDPPort.<anonymous> (evalmachine.<anonymous>:72:44)\n",
      "    at osc.UDPPort.emit (node:events:390:28)\n",
      "    at Object.osc.firePacketEvents (/Users/avneeshsarwate/abletonAutomationExtraction/node_modules/osc/src/osc-transports.js:25:18)\n",
      "    at osc.UDPPort.p.decodeOSC (/Users/avneeshsarwate/abletonAutomationExtraction/node_modules/osc/src/osc-transports.js:85:17)\n",
      "    at osc.UDPPort.emit (node:events:390:28)\n",
      "    at Socket.<anonymous> (/Users/avneeshsarwate/abletonAutomationExtraction/node_modules/osc/src/platforms/osc-node.js:102:18)\n",
      "    at Socket.emit (node:events:390:28)\n",
      "    at UDP.onMessage [as onmessage] (node:dgram:931:8)"
     ]
    },
    {
     "name": "stdout",
     "output_type": "stream",
     "text": [
      "{ address: '/pos', args: [ 0.46771112084388733, 0.6332907676696777 ] }\n"
     ]
    },
    {
     "name": "stderr",
     "output_type": "stream",
     "text": [
      "TypeError: udp_osc_port.sendMsg is not a function\n",
      "    at Object.handlers./pos (evalmachine.<anonymous>:62:18)\n",
      "    at osc.UDPPort.<anonymous> (evalmachine.<anonymous>:72:44)\n",
      "    at osc.UDPPort.emit (node:events:390:28)\n",
      "    at Object.osc.firePacketEvents (/Users/avneeshsarwate/abletonAutomationExtraction/node_modules/osc/src/osc-transports.js:25:18)\n",
      "    at osc.UDPPort.p.decodeOSC (/Users/avneeshsarwate/abletonAutomationExtraction/node_modules/osc/src/osc-transports.js:85:17)\n",
      "    at osc.UDPPort.emit (node:events:390:28)\n",
      "    at Socket.<anonymous> (/Users/avneeshsarwate/abletonAutomationExtraction/node_modules/osc/src/platforms/osc-node.js:102:18)\n",
      "    at Socket.emit (node:events:390:28)\n",
      "    at UDP.onMessage [as onmessage] (node:dgram:931:8)"
     ]
    },
    {
     "name": "stdout",
     "output_type": "stream",
     "text": [
      "{ address: '/pos', args: [ 0.46577125787734985, 0.6332907676696777 ] }\n"
     ]
    },
    {
     "name": "stderr",
     "output_type": "stream",
     "text": [
      "TypeError: udp_osc_port.sendMsg is not a function\n",
      "    at Object.handlers./pos (evalmachine.<anonymous>:62:18)\n",
      "    at osc.UDPPort.<anonymous> (evalmachine.<anonymous>:72:44)\n",
      "    at osc.UDPPort.emit (node:events:390:28)\n",
      "    at Object.osc.firePacketEvents (/Users/avneeshsarwate/abletonAutomationExtraction/node_modules/osc/src/osc-transports.js:25:18)\n",
      "    at osc.UDPPort.p.decodeOSC (/Users/avneeshsarwate/abletonAutomationExtraction/node_modules/osc/src/osc-transports.js:85:17)\n",
      "    at osc.UDPPort.emit (node:events:390:28)\n",
      "    at Socket.<anonymous> (/Users/avneeshsarwate/abletonAutomationExtraction/node_modules/osc/src/platforms/osc-node.js:102:18)\n",
      "    at Socket.emit (node:events:390:28)\n",
      "    at UDP.onMessage [as onmessage] (node:dgram:931:8)"
     ]
    },
    {
     "name": "stdout",
     "output_type": "stream",
     "text": [
      "{ address: '/pos', args: [ 0.46577125787734985, 0.6355196237564087 ] }\n"
     ]
    },
    {
     "name": "stderr",
     "output_type": "stream",
     "text": [
      "TypeError: udp_osc_port.sendMsg is not a function\n",
      "    at Object.handlers./pos (evalmachine.<anonymous>:62:18)\n",
      "    at osc.UDPPort.<anonymous> (evalmachine.<anonymous>:72:44)\n",
      "    at osc.UDPPort.emit (node:events:390:28)\n",
      "    at Object.osc.firePacketEvents (/Users/avneeshsarwate/abletonAutomationExtraction/node_modules/osc/src/osc-transports.js:25:18)\n",
      "    at osc.UDPPort.p.decodeOSC (/Users/avneeshsarwate/abletonAutomationExtraction/node_modules/osc/src/osc-transports.js:85:17)\n",
      "    at osc.UDPPort.emit (node:events:390:28)\n",
      "    at Socket.<anonymous> (/Users/avneeshsarwate/abletonAutomationExtraction/node_modules/osc/src/platforms/osc-node.js:102:18)\n",
      "    at Socket.emit (node:events:390:28)\n",
      "    at UDP.onMessage [as onmessage] (node:dgram:931:8)"
     ]
    },
    {
     "name": "stdout",
     "output_type": "stream",
     "text": [
      "{ address: '/pos', args: [ 0.4646986424922943, 0.6355196237564087 ] }\n"
     ]
    },
    {
     "name": "stderr",
     "output_type": "stream",
     "text": [
      "TypeError: udp_osc_port.sendMsg is not a function\n",
      "    at Object.handlers./pos (evalmachine.<anonymous>:62:18)\n",
      "    at osc.UDPPort.<anonymous> (evalmachine.<anonymous>:72:44)\n",
      "    at osc.UDPPort.emit (node:events:390:28)\n",
      "    at Object.osc.firePacketEvents (/Users/avneeshsarwate/abletonAutomationExtraction/node_modules/osc/src/osc-transports.js:25:18)\n",
      "    at osc.UDPPort.p.decodeOSC (/Users/avneeshsarwate/abletonAutomationExtraction/node_modules/osc/src/osc-transports.js:85:17)\n",
      "    at osc.UDPPort.emit (node:events:390:28)\n",
      "    at Socket.<anonymous> (/Users/avneeshsarwate/abletonAutomationExtraction/node_modules/osc/src/platforms/osc-node.js:102:18)\n",
      "    at Socket.emit (node:events:390:28)\n",
      "    at UDP.onMessage [as onmessage] (node:dgram:931:8)"
     ]
    },
    {
     "name": "stdout",
     "output_type": "stream",
     "text": [
      "{ address: '/pos', args: [ 0.4646986424922943, 0.6365922689437866 ] }\n"
     ]
    },
    {
     "name": "stderr",
     "output_type": "stream",
     "text": [
      "TypeError: udp_osc_port.sendMsg is not a function\n",
      "    at Object.handlers./pos (evalmachine.<anonymous>:62:18)\n",
      "    at osc.UDPPort.<anonymous> (evalmachine.<anonymous>:72:44)\n",
      "    at osc.UDPPort.emit (node:events:390:28)\n",
      "    at Object.osc.firePacketEvents (/Users/avneeshsarwate/abletonAutomationExtraction/node_modules/osc/src/osc-transports.js:25:18)\n",
      "    at osc.UDPPort.p.decodeOSC (/Users/avneeshsarwate/abletonAutomationExtraction/node_modules/osc/src/osc-transports.js:85:17)\n",
      "    at osc.UDPPort.emit (node:events:390:28)\n",
      "    at Socket.<anonymous> (/Users/avneeshsarwate/abletonAutomationExtraction/node_modules/osc/src/platforms/osc-node.js:102:18)\n",
      "    at Socket.emit (node:events:390:28)\n",
      "    at UDP.onMessage [as onmessage] (node:dgram:931:8)"
     ]
    },
    {
     "name": "stdout",
     "output_type": "stream",
     "text": [
      "{ address: '/pos', args: [ 0.46307069063186646, 0.6365922689437866 ] }\n"
     ]
    },
    {
     "name": "stderr",
     "output_type": "stream",
     "text": [
      "TypeError: udp_osc_port.sendMsg is not a function\n",
      "    at Object.handlers./pos (evalmachine.<anonymous>:62:18)\n",
      "    at osc.UDPPort.<anonymous> (evalmachine.<anonymous>:72:44)\n",
      "    at osc.UDPPort.emit (node:events:390:28)\n",
      "    at Object.osc.firePacketEvents (/Users/avneeshsarwate/abletonAutomationExtraction/node_modules/osc/src/osc-transports.js:25:18)\n",
      "    at osc.UDPPort.p.decodeOSC (/Users/avneeshsarwate/abletonAutomationExtraction/node_modules/osc/src/osc-transports.js:85:17)\n",
      "    at osc.UDPPort.emit (node:events:390:28)\n",
      "    at Socket.<anonymous> (/Users/avneeshsarwate/abletonAutomationExtraction/node_modules/osc/src/platforms/osc-node.js:102:18)\n",
      "    at Socket.emit (node:events:390:28)\n",
      "    at UDP.onMessage [as onmessage] (node:dgram:931:8)"
     ]
    },
    {
     "name": "stdout",
     "output_type": "stream",
     "text": [
      "{ address: '/pos', args: [ 0.46307069063186646, 0.6382202506065369 ] }\n"
     ]
    },
    {
     "name": "stderr",
     "output_type": "stream",
     "text": [
      "TypeError: udp_osc_port.sendMsg is not a function\n",
      "    at Object.handlers./pos (evalmachine.<anonymous>:62:18)\n",
      "    at osc.UDPPort.<anonymous> (evalmachine.<anonymous>:72:44)\n",
      "    at osc.UDPPort.emit (node:events:390:28)\n",
      "    at Object.osc.firePacketEvents (/Users/avneeshsarwate/abletonAutomationExtraction/node_modules/osc/src/osc-transports.js:25:18)\n",
      "    at osc.UDPPort.p.decodeOSC (/Users/avneeshsarwate/abletonAutomationExtraction/node_modules/osc/src/osc-transports.js:85:17)\n",
      "    at osc.UDPPort.emit (node:events:390:28)\n",
      "    at Socket.<anonymous> (/Users/avneeshsarwate/abletonAutomationExtraction/node_modules/osc/src/platforms/osc-node.js:102:18)\n",
      "    at Socket.emit (node:events:390:28)\n",
      "    at UDP.onMessage [as onmessage] (node:dgram:931:8)"
     ]
    },
    {
     "name": "stdout",
     "output_type": "stream",
     "text": [
      "{ address: '/pos', args: [ 0.46083417534828186, 0.6382202506065369 ] }\n"
     ]
    },
    {
     "name": "stderr",
     "output_type": "stream",
     "text": [
      "TypeError: udp_osc_port.sendMsg is not a function\n",
      "    at Object.handlers./pos (evalmachine.<anonymous>:62:18)\n",
      "    at osc.UDPPort.<anonymous> (evalmachine.<anonymous>:72:44)\n",
      "    at osc.UDPPort.emit (node:events:390:28)\n",
      "    at Object.osc.firePacketEvents (/Users/avneeshsarwate/abletonAutomationExtraction/node_modules/osc/src/osc-transports.js:25:18)\n",
      "    at osc.UDPPort.p.decodeOSC (/Users/avneeshsarwate/abletonAutomationExtraction/node_modules/osc/src/osc-transports.js:85:17)\n",
      "    at osc.UDPPort.emit (node:events:390:28)\n",
      "    at Socket.<anonymous> (/Users/avneeshsarwate/abletonAutomationExtraction/node_modules/osc/src/platforms/osc-node.js:102:18)\n",
      "    at Socket.emit (node:events:390:28)\n",
      "    at UDP.onMessage [as onmessage] (node:dgram:931:8)"
     ]
    },
    {
     "name": "stdout",
     "output_type": "stream",
     "text": [
      "{ address: '/pos', args: [ 0.46083417534828186, 0.6401753425598145 ] }\n"
     ]
    },
    {
     "name": "stderr",
     "output_type": "stream",
     "text": [
      "TypeError: udp_osc_port.sendMsg is not a function\n",
      "    at Object.handlers./pos (evalmachine.<anonymous>:62:18)\n",
      "    at osc.UDPPort.<anonymous> (evalmachine.<anonymous>:72:44)\n",
      "    at osc.UDPPort.emit (node:events:390:28)\n",
      "    at Object.osc.firePacketEvents (/Users/avneeshsarwate/abletonAutomationExtraction/node_modules/osc/src/osc-transports.js:25:18)\n",
      "    at osc.UDPPort.p.decodeOSC (/Users/avneeshsarwate/abletonAutomationExtraction/node_modules/osc/src/osc-transports.js:85:17)\n",
      "    at osc.UDPPort.emit (node:events:390:28)\n",
      "    at Socket.<anonymous> (/Users/avneeshsarwate/abletonAutomationExtraction/node_modules/osc/src/platforms/osc-node.js:102:18)\n",
      "    at Socket.emit (node:events:390:28)\n",
      "    at UDP.onMessage [as onmessage] (node:dgram:931:8)"
     ]
    },
    {
     "name": "stdout",
     "output_type": "stream",
     "text": [
      "{ address: '/pos', args: [ 0.4585976302623749, 0.6401753425598145 ] }\n"
     ]
    },
    {
     "name": "stderr",
     "output_type": "stream",
     "text": [
      "TypeError: udp_osc_port.sendMsg is not a function\n",
      "    at Object.handlers./pos (evalmachine.<anonymous>:62:18)\n",
      "    at osc.UDPPort.<anonymous> (evalmachine.<anonymous>:72:44)\n",
      "    at osc.UDPPort.emit (node:events:390:28)\n",
      "    at Object.osc.firePacketEvents (/Users/avneeshsarwate/abletonAutomationExtraction/node_modules/osc/src/osc-transports.js:25:18)\n",
      "    at osc.UDPPort.p.decodeOSC (/Users/avneeshsarwate/abletonAutomationExtraction/node_modules/osc/src/osc-transports.js:85:17)\n",
      "    at osc.UDPPort.emit (node:events:390:28)\n",
      "    at Socket.<anonymous> (/Users/avneeshsarwate/abletonAutomationExtraction/node_modules/osc/src/platforms/osc-node.js:102:18)\n",
      "    at Socket.emit (node:events:390:28)\n",
      "    at UDP.onMessage [as onmessage] (node:dgram:931:8)"
     ]
    },
    {
     "name": "stdout",
     "output_type": "stream",
     "text": [
      "{ address: '/pos', args: [ 0.4585976302623749, 0.6421303749084473 ] }\n"
     ]
    },
    {
     "name": "stderr",
     "output_type": "stream",
     "text": [
      "TypeError: udp_osc_port.sendMsg is not a function\n",
      "    at Object.handlers./pos (evalmachine.<anonymous>:62:18)\n",
      "    at osc.UDPPort.<anonymous> (evalmachine.<anonymous>:72:44)\n",
      "    at osc.UDPPort.emit (node:events:390:28)\n",
      "    at Object.osc.firePacketEvents (/Users/avneeshsarwate/abletonAutomationExtraction/node_modules/osc/src/osc-transports.js:25:18)\n",
      "    at osc.UDPPort.p.decodeOSC (/Users/avneeshsarwate/abletonAutomationExtraction/node_modules/osc/src/osc-transports.js:85:17)\n",
      "    at osc.UDPPort.emit (node:events:390:28)\n",
      "    at Socket.<anonymous> (/Users/avneeshsarwate/abletonAutomationExtraction/node_modules/osc/src/platforms/osc-node.js:102:18)\n",
      "    at Socket.emit (node:events:390:28)\n",
      "    at UDP.onMessage [as onmessage] (node:dgram:931:8)"
     ]
    },
    {
     "name": "stdout",
     "output_type": "stream",
     "text": [
      "{ address: '/pos', args: [ 0.456376314163208, 0.6421303749084473 ] }\n"
     ]
    },
    {
     "name": "stderr",
     "output_type": "stream",
     "text": [
      "TypeError: udp_osc_port.sendMsg is not a function\n",
      "    at Object.handlers./pos (evalmachine.<anonymous>:62:18)\n",
      "    at osc.UDPPort.<anonymous> (evalmachine.<anonymous>:72:44)\n",
      "    at osc.UDPPort.emit (node:events:390:28)\n",
      "    at Object.osc.firePacketEvents (/Users/avneeshsarwate/abletonAutomationExtraction/node_modules/osc/src/osc-transports.js:25:18)\n",
      "    at osc.UDPPort.p.decodeOSC (/Users/avneeshsarwate/abletonAutomationExtraction/node_modules/osc/src/osc-transports.js:85:17)\n",
      "    at osc.UDPPort.emit (node:events:390:28)\n",
      "    at Socket.<anonymous> (/Users/avneeshsarwate/abletonAutomationExtraction/node_modules/osc/src/platforms/osc-node.js:102:18)\n",
      "    at Socket.emit (node:events:390:28)\n",
      "    at UDP.onMessage [as onmessage] (node:dgram:931:8)"
     ]
    },
    {
     "name": "stdout",
     "output_type": "stream",
     "text": [
      "{ address: '/pos', args: [ 0.456376314163208, 0.6443517208099365 ] }\n"
     ]
    },
    {
     "name": "stderr",
     "output_type": "stream",
     "text": [
      "TypeError: udp_osc_port.sendMsg is not a function\n",
      "    at Object.handlers./pos (evalmachine.<anonymous>:62:18)\n",
      "    at osc.UDPPort.<anonymous> (evalmachine.<anonymous>:72:44)\n",
      "    at osc.UDPPort.emit (node:events:390:28)\n",
      "    at Object.osc.firePacketEvents (/Users/avneeshsarwate/abletonAutomationExtraction/node_modules/osc/src/osc-transports.js:25:18)\n",
      "    at osc.UDPPort.p.decodeOSC (/Users/avneeshsarwate/abletonAutomationExtraction/node_modules/osc/src/osc-transports.js:85:17)\n",
      "    at osc.UDPPort.emit (node:events:390:28)\n",
      "    at Socket.<anonymous> (/Users/avneeshsarwate/abletonAutomationExtraction/node_modules/osc/src/platforms/osc-node.js:102:18)\n",
      "    at Socket.emit (node:events:390:28)\n",
      "    at UDP.onMessage [as onmessage] (node:dgram:931:8)"
     ]
    },
    {
     "name": "stdout",
     "output_type": "stream",
     "text": [
      "{ address: '/pos', args: [ 0.4540864825248718, 0.6443517208099365 ] }\n"
     ]
    },
    {
     "name": "stderr",
     "output_type": "stream",
     "text": [
      "TypeError: udp_osc_port.sendMsg is not a function\n",
      "    at Object.handlers./pos (evalmachine.<anonymous>:62:18)\n",
      "    at osc.UDPPort.<anonymous> (evalmachine.<anonymous>:72:44)\n",
      "    at osc.UDPPort.emit (node:events:390:28)\n",
      "    at Object.osc.firePacketEvents (/Users/avneeshsarwate/abletonAutomationExtraction/node_modules/osc/src/osc-transports.js:25:18)\n",
      "    at osc.UDPPort.p.decodeOSC (/Users/avneeshsarwate/abletonAutomationExtraction/node_modules/osc/src/osc-transports.js:85:17)\n",
      "    at osc.UDPPort.emit (node:events:390:28)\n",
      "    at Socket.<anonymous> (/Users/avneeshsarwate/abletonAutomationExtraction/node_modules/osc/src/platforms/osc-node.js:102:18)\n",
      "    at Socket.emit (node:events:390:28)\n",
      "    at UDP.onMessage [as onmessage] (node:dgram:931:8)"
     ]
    },
    {
     "name": "stdout",
     "output_type": "stream",
     "text": [
      "{ address: '/pos', args: [ 0.4540864825248718, 0.6469457745552063 ] }\n"
     ]
    },
    {
     "name": "stderr",
     "output_type": "stream",
     "text": [
      "TypeError: udp_osc_port.sendMsg is not a function\n",
      "    at Object.handlers./pos (evalmachine.<anonymous>:62:18)\n",
      "    at osc.UDPPort.<anonymous> (evalmachine.<anonymous>:72:44)\n",
      "    at osc.UDPPort.emit (node:events:390:28)\n",
      "    at Object.osc.firePacketEvents (/Users/avneeshsarwate/abletonAutomationExtraction/node_modules/osc/src/osc-transports.js:25:18)\n",
      "    at osc.UDPPort.p.decodeOSC (/Users/avneeshsarwate/abletonAutomationExtraction/node_modules/osc/src/osc-transports.js:85:17)\n",
      "    at osc.UDPPort.emit (node:events:390:28)\n",
      "    at Socket.<anonymous> (/Users/avneeshsarwate/abletonAutomationExtraction/node_modules/osc/src/platforms/osc-node.js:102:18)\n",
      "    at Socket.emit (node:events:390:28)\n",
      "    at UDP.onMessage [as onmessage] (node:dgram:931:8)"
     ]
    },
    {
     "name": "stdout",
     "output_type": "stream",
     "text": [
      "{ address: '/pos', args: [ 0.4507240951061249, 0.6469457745552063 ] }\n"
     ]
    },
    {
     "name": "stderr",
     "output_type": "stream",
     "text": [
      "TypeError: udp_osc_port.sendMsg is not a function\n",
      "    at Object.handlers./pos (evalmachine.<anonymous>:62:18)\n",
      "    at osc.UDPPort.<anonymous> (evalmachine.<anonymous>:72:44)\n",
      "    at osc.UDPPort.emit (node:events:390:28)\n",
      "    at Object.osc.firePacketEvents (/Users/avneeshsarwate/abletonAutomationExtraction/node_modules/osc/src/osc-transports.js:25:18)\n",
      "    at osc.UDPPort.p.decodeOSC (/Users/avneeshsarwate/abletonAutomationExtraction/node_modules/osc/src/osc-transports.js:85:17)\n",
      "    at osc.UDPPort.emit (node:events:390:28)\n",
      "    at Socket.<anonymous> (/Users/avneeshsarwate/abletonAutomationExtraction/node_modules/osc/src/platforms/osc-node.js:102:18)\n",
      "    at Socket.emit (node:events:390:28)\n",
      "    at UDP.onMessage [as onmessage] (node:dgram:931:8)"
     ]
    },
    {
     "name": "stdout",
     "output_type": "stream",
     "text": [
      "{ address: '/pos', args: [ 0.4507240951061249, 0.6493953466415405 ] }\n"
     ]
    },
    {
     "name": "stderr",
     "output_type": "stream",
     "text": [
      "TypeError: udp_osc_port.sendMsg is not a function\n",
      "    at Object.handlers./pos (evalmachine.<anonymous>:62:18)\n",
      "    at osc.UDPPort.<anonymous> (evalmachine.<anonymous>:72:44)\n",
      "    at osc.UDPPort.emit (node:events:390:28)\n",
      "    at Object.osc.firePacketEvents (/Users/avneeshsarwate/abletonAutomationExtraction/node_modules/osc/src/osc-transports.js:25:18)\n",
      "    at osc.UDPPort.p.decodeOSC (/Users/avneeshsarwate/abletonAutomationExtraction/node_modules/osc/src/osc-transports.js:85:17)\n",
      "    at osc.UDPPort.emit (node:events:390:28)\n",
      "    at Socket.<anonymous> (/Users/avneeshsarwate/abletonAutomationExtraction/node_modules/osc/src/platforms/osc-node.js:102:18)\n",
      "    at Socket.emit (node:events:390:28)\n",
      "    at UDP.onMessage [as onmessage] (node:dgram:931:8)"
     ]
    },
    {
     "name": "stdout",
     "output_type": "stream",
     "text": [
      "{ address: '/pos', args: [ 0.4488602876663208, 0.6493953466415405 ] }\n"
     ]
    },
    {
     "name": "stderr",
     "output_type": "stream",
     "text": [
      "TypeError: udp_osc_port.sendMsg is not a function\n",
      "    at Object.handlers./pos (evalmachine.<anonymous>:62:18)\n",
      "    at osc.UDPPort.<anonymous> (evalmachine.<anonymous>:72:44)\n",
      "    at osc.UDPPort.emit (node:events:390:28)\n",
      "    at Object.osc.firePacketEvents (/Users/avneeshsarwate/abletonAutomationExtraction/node_modules/osc/src/osc-transports.js:25:18)\n",
      "    at osc.UDPPort.p.decodeOSC (/Users/avneeshsarwate/abletonAutomationExtraction/node_modules/osc/src/osc-transports.js:85:17)\n",
      "    at osc.UDPPort.emit (node:events:390:28)\n",
      "    at Socket.<anonymous> (/Users/avneeshsarwate/abletonAutomationExtraction/node_modules/osc/src/platforms/osc-node.js:102:18)\n",
      "    at Socket.emit (node:events:390:28)\n",
      "    at UDP.onMessage [as onmessage] (node:dgram:931:8)"
     ]
    },
    {
     "name": "stdout",
     "output_type": "stream",
     "text": [
      "{ address: '/pos', args: [ 0.4488602876663208, 0.6511526107788086 ] }\n"
     ]
    },
    {
     "name": "stderr",
     "output_type": "stream",
     "text": [
      "TypeError: udp_osc_port.sendMsg is not a function\n",
      "    at Object.handlers./pos (evalmachine.<anonymous>:62:18)\n",
      "    at osc.UDPPort.<anonymous> (evalmachine.<anonymous>:72:44)\n",
      "    at osc.UDPPort.emit (node:events:390:28)\n",
      "    at Object.osc.firePacketEvents (/Users/avneeshsarwate/abletonAutomationExtraction/node_modules/osc/src/osc-transports.js:25:18)\n",
      "    at osc.UDPPort.p.decodeOSC (/Users/avneeshsarwate/abletonAutomationExtraction/node_modules/osc/src/osc-transports.js:85:17)\n",
      "    at osc.UDPPort.emit (node:events:390:28)\n",
      "    at Socket.<anonymous> (/Users/avneeshsarwate/abletonAutomationExtraction/node_modules/osc/src/platforms/osc-node.js:102:18)\n",
      "    at Socket.emit (node:events:390:28)\n",
      "    at UDP.onMessage [as onmessage] (node:dgram:931:8)"
     ]
    },
    {
     "name": "stdout",
     "output_type": "stream",
     "text": [
      "{ address: '/pos', args: [ 0.4467530846595764, 0.6511526107788086 ] }\n"
     ]
    },
    {
     "name": "stderr",
     "output_type": "stream",
     "text": [
      "TypeError: udp_osc_port.sendMsg is not a function\n",
      "    at Object.handlers./pos (evalmachine.<anonymous>:62:18)\n",
      "    at osc.UDPPort.<anonymous> (evalmachine.<anonymous>:72:44)\n",
      "    at osc.UDPPort.emit (node:events:390:28)\n",
      "    at Object.osc.firePacketEvents (/Users/avneeshsarwate/abletonAutomationExtraction/node_modules/osc/src/osc-transports.js:25:18)\n",
      "    at osc.UDPPort.p.decodeOSC (/Users/avneeshsarwate/abletonAutomationExtraction/node_modules/osc/src/osc-transports.js:85:17)\n",
      "    at osc.UDPPort.emit (node:events:390:28)\n",
      "    at Socket.<anonymous> (/Users/avneeshsarwate/abletonAutomationExtraction/node_modules/osc/src/platforms/osc-node.js:102:18)\n",
      "    at Socket.emit (node:events:390:28)\n",
      "    at UDP.onMessage [as onmessage] (node:dgram:931:8)"
     ]
    },
    {
     "name": "stdout",
     "output_type": "stream",
     "text": [
      "{ address: '/pos', args: [ 0.4467530846595764, 0.6525675654411316 ] }\n"
     ]
    },
    {
     "name": "stderr",
     "output_type": "stream",
     "text": [
      "TypeError: udp_osc_port.sendMsg is not a function\n",
      "    at Object.handlers./pos (evalmachine.<anonymous>:62:18)\n",
      "    at osc.UDPPort.<anonymous> (evalmachine.<anonymous>:72:44)\n",
      "    at osc.UDPPort.emit (node:events:390:28)\n",
      "    at Object.osc.firePacketEvents (/Users/avneeshsarwate/abletonAutomationExtraction/node_modules/osc/src/osc-transports.js:25:18)\n",
      "    at osc.UDPPort.p.decodeOSC (/Users/avneeshsarwate/abletonAutomationExtraction/node_modules/osc/src/osc-transports.js:85:17)\n",
      "    at osc.UDPPort.emit (node:events:390:28)\n",
      "    at Socket.<anonymous> (/Users/avneeshsarwate/abletonAutomationExtraction/node_modules/osc/src/platforms/osc-node.js:102:18)\n",
      "    at Socket.emit (node:events:390:28)\n",
      "    at UDP.onMessage [as onmessage] (node:dgram:931:8)"
     ]
    },
    {
     "name": "stdout",
     "output_type": "stream",
     "text": [
      "{ address: '/pos', args: [ 0.44488927721977234, 0.6525675654411316 ] }\n"
     ]
    },
    {
     "name": "stderr",
     "output_type": "stream",
     "text": [
      "TypeError: udp_osc_port.sendMsg is not a function\n",
      "    at Object.handlers./pos (evalmachine.<anonymous>:62:18)\n",
      "    at osc.UDPPort.<anonymous> (evalmachine.<anonymous>:72:44)\n",
      "    at osc.UDPPort.emit (node:events:390:28)\n",
      "    at Object.osc.firePacketEvents (/Users/avneeshsarwate/abletonAutomationExtraction/node_modules/osc/src/osc-transports.js:25:18)\n",
      "    at osc.UDPPort.p.decodeOSC (/Users/avneeshsarwate/abletonAutomationExtraction/node_modules/osc/src/osc-transports.js:85:17)\n",
      "    at osc.UDPPort.emit (node:events:390:28)\n",
      "    at Socket.<anonymous> (/Users/avneeshsarwate/abletonAutomationExtraction/node_modules/osc/src/platforms/osc-node.js:102:18)\n",
      "    at Socket.emit (node:events:390:28)\n",
      "    at UDP.onMessage [as onmessage] (node:dgram:931:8)"
     ]
    },
    {
     "name": "stdout",
     "output_type": "stream",
     "text": [
      "{ address: '/pos', args: [ 0.44488927721977234, 0.6538304090499878 ] }\n"
     ]
    },
    {
     "name": "stderr",
     "output_type": "stream",
     "text": [
      "TypeError: udp_osc_port.sendMsg is not a function\n",
      "    at Object.handlers./pos (evalmachine.<anonymous>:62:18)\n",
      "    at osc.UDPPort.<anonymous> (evalmachine.<anonymous>:72:44)\n",
      "    at osc.UDPPort.emit (node:events:390:28)\n",
      "    at Object.osc.firePacketEvents (/Users/avneeshsarwate/abletonAutomationExtraction/node_modules/osc/src/osc-transports.js:25:18)\n",
      "    at osc.UDPPort.p.decodeOSC (/Users/avneeshsarwate/abletonAutomationExtraction/node_modules/osc/src/osc-transports.js:85:17)\n",
      "    at osc.UDPPort.emit (node:events:390:28)\n",
      "    at Socket.<anonymous> (/Users/avneeshsarwate/abletonAutomationExtraction/node_modules/osc/src/platforms/osc-node.js:102:18)\n",
      "    at Socket.emit (node:events:390:28)\n",
      "    at UDP.onMessage [as onmessage] (node:dgram:931:8)"
     ]
    },
    {
     "name": "stdout",
     "output_type": "stream",
     "text": [
      "{ address: '/pos', args: [ 0.44291141629219055, 0.6538304090499878 ] }\n"
     ]
    },
    {
     "name": "stderr",
     "output_type": "stream",
     "text": [
      "TypeError: udp_osc_port.sendMsg is not a function\n",
      "    at Object.handlers./pos (evalmachine.<anonymous>:62:18)\n",
      "    at osc.UDPPort.<anonymous> (evalmachine.<anonymous>:72:44)\n",
      "    at osc.UDPPort.emit (node:events:390:28)\n",
      "    at Object.osc.firePacketEvents (/Users/avneeshsarwate/abletonAutomationExtraction/node_modules/osc/src/osc-transports.js:25:18)\n",
      "    at osc.UDPPort.p.decodeOSC (/Users/avneeshsarwate/abletonAutomationExtraction/node_modules/osc/src/osc-transports.js:85:17)\n",
      "    at osc.UDPPort.emit (node:events:390:28)\n",
      "    at Socket.<anonymous> (/Users/avneeshsarwate/abletonAutomationExtraction/node_modules/osc/src/platforms/osc-node.js:102:18)\n",
      "    at Socket.emit (node:events:390:28)\n",
      "    at UDP.onMessage [as onmessage] (node:dgram:931:8)"
     ]
    },
    {
     "name": "stdout",
     "output_type": "stream",
     "text": [
      "{ address: '/pos', args: [ 0.44291141629219055, 0.6547051668167114 ] }\n"
     ]
    },
    {
     "name": "stderr",
     "output_type": "stream",
     "text": [
      "TypeError: udp_osc_port.sendMsg is not a function\n",
      "    at Object.handlers./pos (evalmachine.<anonymous>:62:18)\n",
      "    at osc.UDPPort.<anonymous> (evalmachine.<anonymous>:72:44)\n",
      "    at osc.UDPPort.emit (node:events:390:28)\n",
      "    at Object.osc.firePacketEvents (/Users/avneeshsarwate/abletonAutomationExtraction/node_modules/osc/src/osc-transports.js:25:18)\n",
      "    at osc.UDPPort.p.decodeOSC (/Users/avneeshsarwate/abletonAutomationExtraction/node_modules/osc/src/osc-transports.js:85:17)\n",
      "    at osc.UDPPort.emit (node:events:390:28)\n",
      "    at Socket.<anonymous> (/Users/avneeshsarwate/abletonAutomationExtraction/node_modules/osc/src/platforms/osc-node.js:102:18)\n",
      "    at Socket.emit (node:events:390:28)\n",
      "    at UDP.onMessage [as onmessage] (node:dgram:931:8)"
     ]
    },
    {
     "name": "stdout",
     "output_type": "stream",
     "text": [
      "{ address: '/pos', args: [ 0.441245436668396, 0.6547051668167114 ] }\n"
     ]
    },
    {
     "name": "stderr",
     "output_type": "stream",
     "text": [
      "TypeError: udp_osc_port.sendMsg is not a function\n",
      "    at Object.handlers./pos (evalmachine.<anonymous>:62:18)\n",
      "    at osc.UDPPort.<anonymous> (evalmachine.<anonymous>:72:44)\n",
      "    at osc.UDPPort.emit (node:events:390:28)\n",
      "    at Object.osc.firePacketEvents (/Users/avneeshsarwate/abletonAutomationExtraction/node_modules/osc/src/osc-transports.js:25:18)\n",
      "    at osc.UDPPort.p.decodeOSC (/Users/avneeshsarwate/abletonAutomationExtraction/node_modules/osc/src/osc-transports.js:85:17)\n",
      "    at osc.UDPPort.emit (node:events:390:28)\n",
      "    at Socket.<anonymous> (/Users/avneeshsarwate/abletonAutomationExtraction/node_modules/osc/src/platforms/osc-node.js:102:18)\n",
      "    at Socket.emit (node:events:390:28)\n",
      "    at UDP.onMessage [as onmessage] (node:dgram:931:8)"
     ]
    },
    {
     "name": "stdout",
     "output_type": "stream",
     "text": [
      "{ address: '/pos', args: [ 0.441245436668396, 0.655656099319458 ] }\n"
     ]
    },
    {
     "name": "stderr",
     "output_type": "stream",
     "text": [
      "TypeError: udp_osc_port.sendMsg is not a function\n",
      "    at Object.handlers./pos (evalmachine.<anonymous>:62:18)\n",
      "    at osc.UDPPort.<anonymous> (evalmachine.<anonymous>:72:44)\n",
      "    at osc.UDPPort.emit (node:events:390:28)\n",
      "    at Object.osc.firePacketEvents (/Users/avneeshsarwate/abletonAutomationExtraction/node_modules/osc/src/osc-transports.js:25:18)\n",
      "    at osc.UDPPort.p.decodeOSC (/Users/avneeshsarwate/abletonAutomationExtraction/node_modules/osc/src/osc-transports.js:85:17)\n",
      "    at osc.UDPPort.emit (node:events:390:28)\n",
      "    at Socket.<anonymous> (/Users/avneeshsarwate/abletonAutomationExtraction/node_modules/osc/src/platforms/osc-node.js:102:18)\n",
      "    at Socket.emit (node:events:390:28)\n",
      "    at UDP.onMessage [as onmessage] (node:dgram:931:8)"
     ]
    },
    {
     "name": "stdout",
     "output_type": "stream",
     "text": [
      "{ address: '/pos', args: [ 0.44008150696754456, 0.655656099319458 ] }\n"
     ]
    },
    {
     "name": "stderr",
     "output_type": "stream",
     "text": [
      "TypeError: udp_osc_port.sendMsg is not a function\n",
      "    at Object.handlers./pos (evalmachine.<anonymous>:62:18)\n",
      "    at osc.UDPPort.<anonymous> (evalmachine.<anonymous>:72:44)\n",
      "    at osc.UDPPort.emit (node:events:390:28)\n",
      "    at Object.osc.firePacketEvents (/Users/avneeshsarwate/abletonAutomationExtraction/node_modules/osc/src/osc-transports.js:25:18)\n",
      "    at osc.UDPPort.p.decodeOSC (/Users/avneeshsarwate/abletonAutomationExtraction/node_modules/osc/src/osc-transports.js:85:17)\n",
      "    at osc.UDPPort.emit (node:events:390:28)\n",
      "    at Socket.<anonymous> (/Users/avneeshsarwate/abletonAutomationExtraction/node_modules/osc/src/platforms/osc-node.js:102:18)\n",
      "    at Socket.emit (node:events:390:28)\n",
      "    at UDP.onMessage [as onmessage] (node:dgram:931:8)"
     ]
    },
    {
     "name": "stdout",
     "output_type": "stream",
     "text": [
      "{ address: '/pos', args: [ 0.44008150696754456, 0.6566983461380005 ] }\n"
     ]
    },
    {
     "name": "stderr",
     "output_type": "stream",
     "text": [
      "TypeError: udp_osc_port.sendMsg is not a function\n",
      "    at Object.handlers./pos (evalmachine.<anonymous>:62:18)\n",
      "    at osc.UDPPort.<anonymous> (evalmachine.<anonymous>:72:44)\n",
      "    at osc.UDPPort.emit (node:events:390:28)\n",
      "    at Object.osc.firePacketEvents (/Users/avneeshsarwate/abletonAutomationExtraction/node_modules/osc/src/osc-transports.js:25:18)\n",
      "    at osc.UDPPort.p.decodeOSC (/Users/avneeshsarwate/abletonAutomationExtraction/node_modules/osc/src/osc-transports.js:85:17)\n",
      "    at osc.UDPPort.emit (node:events:390:28)\n",
      "    at Socket.<anonymous> (/Users/avneeshsarwate/abletonAutomationExtraction/node_modules/osc/src/platforms/osc-node.js:102:18)\n",
      "    at Socket.emit (node:events:390:28)\n",
      "    at UDP.onMessage [as onmessage] (node:dgram:931:8)"
     ]
    },
    {
     "name": "stdout",
     "output_type": "stream",
     "text": [
      "{ address: '/pos', args: [ 0.43853724002838135, 0.6566983461380005 ] }\n"
     ]
    },
    {
     "name": "stderr",
     "output_type": "stream",
     "text": [
      "TypeError: udp_osc_port.sendMsg is not a function\n",
      "    at Object.handlers./pos (evalmachine.<anonymous>:62:18)\n",
      "    at osc.UDPPort.<anonymous> (evalmachine.<anonymous>:72:44)\n",
      "    at osc.UDPPort.emit (node:events:390:28)\n",
      "    at Object.osc.firePacketEvents (/Users/avneeshsarwate/abletonAutomationExtraction/node_modules/osc/src/osc-transports.js:25:18)\n",
      "    at osc.UDPPort.p.decodeOSC (/Users/avneeshsarwate/abletonAutomationExtraction/node_modules/osc/src/osc-transports.js:85:17)\n",
      "    at osc.UDPPort.emit (node:events:390:28)\n",
      "    at Socket.<anonymous> (/Users/avneeshsarwate/abletonAutomationExtraction/node_modules/osc/src/platforms/osc-node.js:102:18)\n",
      "    at Socket.emit (node:events:390:28)\n",
      "    at UDP.onMessage [as onmessage] (node:dgram:931:8)"
     ]
    },
    {
     "name": "stdout",
     "output_type": "stream",
     "text": [
      "{ address: '/pos', args: [ 0.43853724002838135, 0.6577861309051514 ] }\n"
     ]
    },
    {
     "name": "stderr",
     "output_type": "stream",
     "text": [
      "TypeError: udp_osc_port.sendMsg is not a function\n",
      "    at Object.handlers./pos (evalmachine.<anonymous>:62:18)\n",
      "    at osc.UDPPort.<anonymous> (evalmachine.<anonymous>:72:44)\n",
      "    at osc.UDPPort.emit (node:events:390:28)\n",
      "    at Object.osc.firePacketEvents (/Users/avneeshsarwate/abletonAutomationExtraction/node_modules/osc/src/osc-transports.js:25:18)\n",
      "    at osc.UDPPort.p.decodeOSC (/Users/avneeshsarwate/abletonAutomationExtraction/node_modules/osc/src/osc-transports.js:85:17)\n",
      "    at osc.UDPPort.emit (node:events:390:28)\n",
      "    at Socket.<anonymous> (/Users/avneeshsarwate/abletonAutomationExtraction/node_modules/osc/src/platforms/osc-node.js:102:18)\n",
      "    at Socket.emit (node:events:390:28)\n",
      "    at UDP.onMessage [as onmessage] (node:dgram:931:8)"
     ]
    },
    {
     "name": "stdout",
     "output_type": "stream",
     "text": [
      "{ address: '/pos', args: [ 0.43735048174858093, 0.6577861309051514 ] }\n"
     ]
    },
    {
     "name": "stderr",
     "output_type": "stream",
     "text": [
      "TypeError: udp_osc_port.sendMsg is not a function\n",
      "    at Object.handlers./pos (evalmachine.<anonymous>:62:18)\n",
      "    at osc.UDPPort.<anonymous> (evalmachine.<anonymous>:72:44)\n",
      "    at osc.UDPPort.emit (node:events:390:28)\n",
      "    at Object.osc.firePacketEvents (/Users/avneeshsarwate/abletonAutomationExtraction/node_modules/osc/src/osc-transports.js:25:18)\n",
      "    at osc.UDPPort.p.decodeOSC (/Users/avneeshsarwate/abletonAutomationExtraction/node_modules/osc/src/osc-transports.js:85:17)\n",
      "    at osc.UDPPort.emit (node:events:390:28)\n",
      "    at Socket.<anonymous> (/Users/avneeshsarwate/abletonAutomationExtraction/node_modules/osc/src/platforms/osc-node.js:102:18)\n",
      "    at Socket.emit (node:events:390:28)\n",
      "    at UDP.onMessage [as onmessage] (node:dgram:931:8)"
     ]
    },
    {
     "name": "stdout",
     "output_type": "stream",
     "text": [
      "{ address: '/pos', args: [ 0.43735048174858093, 0.6593456268310547 ] }\n"
     ]
    },
    {
     "name": "stderr",
     "output_type": "stream",
     "text": [
      "TypeError: udp_osc_port.sendMsg is not a function\n",
      "    at Object.handlers./pos (evalmachine.<anonymous>:62:18)\n",
      "    at osc.UDPPort.<anonymous> (evalmachine.<anonymous>:72:44)\n",
      "    at osc.UDPPort.emit (node:events:390:28)\n",
      "    at Object.osc.firePacketEvents (/Users/avneeshsarwate/abletonAutomationExtraction/node_modules/osc/src/osc-transports.js:25:18)\n",
      "    at osc.UDPPort.p.decodeOSC (/Users/avneeshsarwate/abletonAutomationExtraction/node_modules/osc/src/osc-transports.js:85:17)\n",
      "    at osc.UDPPort.emit (node:events:390:28)\n",
      "    at Socket.<anonymous> (/Users/avneeshsarwate/abletonAutomationExtraction/node_modules/osc/src/platforms/osc-node.js:102:18)\n",
      "    at Socket.emit (node:events:390:28)\n",
      "    at UDP.onMessage [as onmessage] (node:dgram:931:8)"
     ]
    },
    {
     "name": "stdout",
     "output_type": "stream",
     "text": [
      "{ address: '/pos', args: [ 0.43630826473236084, 0.6593456268310547 ] }\n"
     ]
    },
    {
     "name": "stderr",
     "output_type": "stream",
     "text": [
      "TypeError: udp_osc_port.sendMsg is not a function\n",
      "    at Object.handlers./pos (evalmachine.<anonymous>:62:18)\n",
      "    at osc.UDPPort.<anonymous> (evalmachine.<anonymous>:72:44)\n",
      "    at osc.UDPPort.emit (node:events:390:28)\n",
      "    at Object.osc.firePacketEvents (/Users/avneeshsarwate/abletonAutomationExtraction/node_modules/osc/src/osc-transports.js:25:18)\n",
      "    at osc.UDPPort.p.decodeOSC (/Users/avneeshsarwate/abletonAutomationExtraction/node_modules/osc/src/osc-transports.js:85:17)\n",
      "    at osc.UDPPort.emit (node:events:390:28)\n",
      "    at Socket.<anonymous> (/Users/avneeshsarwate/abletonAutomationExtraction/node_modules/osc/src/platforms/osc-node.js:102:18)\n",
      "    at Socket.emit (node:events:390:28)\n",
      "    at UDP.onMessage [as onmessage] (node:dgram:931:8)"
     ]
    },
    {
     "name": "stdout",
     "output_type": "stream",
     "text": [
      "{ address: '/pos', args: [ 0.43630826473236084, 0.6604715585708618 ] }\n"
     ]
    },
    {
     "name": "stderr",
     "output_type": "stream",
     "text": [
      "TypeError: udp_osc_port.sendMsg is not a function\n",
      "    at Object.handlers./pos (evalmachine.<anonymous>:62:18)\n",
      "    at osc.UDPPort.<anonymous> (evalmachine.<anonymous>:72:44)\n",
      "    at osc.UDPPort.emit (node:events:390:28)\n",
      "    at Object.osc.firePacketEvents (/Users/avneeshsarwate/abletonAutomationExtraction/node_modules/osc/src/osc-transports.js:25:18)\n",
      "    at osc.UDPPort.p.decodeOSC (/Users/avneeshsarwate/abletonAutomationExtraction/node_modules/osc/src/osc-transports.js:85:17)\n",
      "    at osc.UDPPort.emit (node:events:390:28)\n",
      "    at Socket.<anonymous> (/Users/avneeshsarwate/abletonAutomationExtraction/node_modules/osc/src/platforms/osc-node.js:102:18)\n",
      "    at Socket.emit (node:events:390:28)\n",
      "    at UDP.onMessage [as onmessage] (node:dgram:931:8)"
     ]
    },
    {
     "name": "stdout",
     "output_type": "stream",
     "text": [
      "{ address: '/pos', args: [ 0.4352584779262543, 0.6604715585708618 ] }\n"
     ]
    },
    {
     "name": "stderr",
     "output_type": "stream",
     "text": [
      "TypeError: udp_osc_port.sendMsg is not a function\n",
      "    at Object.handlers./pos (evalmachine.<anonymous>:62:18)\n",
      "    at osc.UDPPort.<anonymous> (evalmachine.<anonymous>:72:44)\n",
      "    at osc.UDPPort.emit (node:events:390:28)\n",
      "    at Object.osc.firePacketEvents (/Users/avneeshsarwate/abletonAutomationExtraction/node_modules/osc/src/osc-transports.js:25:18)\n",
      "    at osc.UDPPort.p.decodeOSC (/Users/avneeshsarwate/abletonAutomationExtraction/node_modules/osc/src/osc-transports.js:85:17)\n",
      "    at osc.UDPPort.emit (node:events:390:28)\n",
      "    at Socket.<anonymous> (/Users/avneeshsarwate/abletonAutomationExtraction/node_modules/osc/src/platforms/osc-node.js:102:18)\n",
      "    at Socket.emit (node:events:390:28)\n",
      "    at UDP.onMessage [as onmessage] (node:dgram:931:8)"
     ]
    },
    {
     "name": "stdout",
     "output_type": "stream",
     "text": [
      "{ address: '/pos', args: [ 0.4352584779262543, 0.661521315574646 ] }\n"
     ]
    },
    {
     "name": "stderr",
     "output_type": "stream",
     "text": [
      "TypeError: udp_osc_port.sendMsg is not a function\n",
      "    at Object.handlers./pos (evalmachine.<anonymous>:62:18)\n",
      "    at osc.UDPPort.<anonymous> (evalmachine.<anonymous>:72:44)\n",
      "    at osc.UDPPort.emit (node:events:390:28)\n",
      "    at Object.osc.firePacketEvents (/Users/avneeshsarwate/abletonAutomationExtraction/node_modules/osc/src/osc-transports.js:25:18)\n",
      "    at osc.UDPPort.p.decodeOSC (/Users/avneeshsarwate/abletonAutomationExtraction/node_modules/osc/src/osc-transports.js:85:17)\n",
      "    at osc.UDPPort.emit (node:events:390:28)\n",
      "    at Socket.<anonymous> (/Users/avneeshsarwate/abletonAutomationExtraction/node_modules/osc/src/platforms/osc-node.js:102:18)\n",
      "    at Socket.emit (node:events:390:28)\n",
      "    at UDP.onMessage [as onmessage] (node:dgram:931:8)"
     ]
    },
    {
     "name": "stdout",
     "output_type": "stream",
     "text": [
      "{ address: '/pos', args: [ 0.4342314898967743, 0.661521315574646 ] }\n"
     ]
    },
    {
     "name": "stderr",
     "output_type": "stream",
     "text": [
      "TypeError: udp_osc_port.sendMsg is not a function\n",
      "    at Object.handlers./pos (evalmachine.<anonymous>:62:18)\n",
      "    at osc.UDPPort.<anonymous> (evalmachine.<anonymous>:72:44)\n",
      "    at osc.UDPPort.emit (node:events:390:28)\n",
      "    at Object.osc.firePacketEvents (/Users/avneeshsarwate/abletonAutomationExtraction/node_modules/osc/src/osc-transports.js:25:18)\n",
      "    at osc.UDPPort.p.decodeOSC (/Users/avneeshsarwate/abletonAutomationExtraction/node_modules/osc/src/osc-transports.js:85:17)\n",
      "    at osc.UDPPort.emit (node:events:390:28)\n",
      "    at Socket.<anonymous> (/Users/avneeshsarwate/abletonAutomationExtraction/node_modules/osc/src/platforms/osc-node.js:102:18)\n",
      "    at Socket.emit (node:events:390:28)\n",
      "    at UDP.onMessage [as onmessage] (node:dgram:931:8)"
     ]
    },
    {
     "name": "stdout",
     "output_type": "stream",
     "text": [
      "{ address: '/pos', args: [ 0.4342314898967743, 0.6620994806289673 ] }\n"
     ]
    },
    {
     "name": "stderr",
     "output_type": "stream",
     "text": [
      "TypeError: udp_osc_port.sendMsg is not a function\n",
      "    at Object.handlers./pos (evalmachine.<anonymous>:62:18)\n",
      "    at osc.UDPPort.<anonymous> (evalmachine.<anonymous>:72:44)\n",
      "    at osc.UDPPort.emit (node:events:390:28)\n",
      "    at Object.osc.firePacketEvents (/Users/avneeshsarwate/abletonAutomationExtraction/node_modules/osc/src/osc-transports.js:25:18)\n",
      "    at osc.UDPPort.p.decodeOSC (/Users/avneeshsarwate/abletonAutomationExtraction/node_modules/osc/src/osc-transports.js:85:17)\n",
      "    at osc.UDPPort.emit (node:events:390:28)\n",
      "    at Socket.<anonymous> (/Users/avneeshsarwate/abletonAutomationExtraction/node_modules/osc/src/platforms/osc-node.js:102:18)\n",
      "    at Socket.emit (node:events:390:28)\n",
      "    at UDP.onMessage [as onmessage] (node:dgram:931:8)"
     ]
    },
    {
     "name": "stdout",
     "output_type": "stream",
     "text": [
      "{ address: '/pos', args: [ 0.433189332485199, 0.6620994806289673 ] }\n"
     ]
    },
    {
     "name": "stderr",
     "output_type": "stream",
     "text": [
      "TypeError: udp_osc_port.sendMsg is not a function\n",
      "    at Object.handlers./pos (evalmachine.<anonymous>:62:18)\n",
      "    at osc.UDPPort.<anonymous> (evalmachine.<anonymous>:72:44)\n",
      "    at osc.UDPPort.emit (node:events:390:28)\n",
      "    at Object.osc.firePacketEvents (/Users/avneeshsarwate/abletonAutomationExtraction/node_modules/osc/src/osc-transports.js:25:18)\n",
      "    at osc.UDPPort.p.decodeOSC (/Users/avneeshsarwate/abletonAutomationExtraction/node_modules/osc/src/osc-transports.js:85:17)\n",
      "    at osc.UDPPort.emit (node:events:390:28)\n",
      "    at Socket.<anonymous> (/Users/avneeshsarwate/abletonAutomationExtraction/node_modules/osc/src/platforms/osc-node.js:102:18)\n",
      "    at Socket.emit (node:events:390:28)\n",
      "    at UDP.onMessage [as onmessage] (node:dgram:931:8)"
     ]
    },
    {
     "name": "stdout",
     "output_type": "stream",
     "text": [
      "{ address: '/pos', args: [ 0.433189332485199, 0.6630960702896118 ] }\n"
     ]
    },
    {
     "name": "stderr",
     "output_type": "stream",
     "text": [
      "TypeError: udp_osc_port.sendMsg is not a function\n",
      "    at Object.handlers./pos (evalmachine.<anonymous>:62:18)\n",
      "    at osc.UDPPort.<anonymous> (evalmachine.<anonymous>:72:44)\n",
      "    at osc.UDPPort.emit (node:events:390:28)\n",
      "    at Object.osc.firePacketEvents (/Users/avneeshsarwate/abletonAutomationExtraction/node_modules/osc/src/osc-transports.js:25:18)\n",
      "    at osc.UDPPort.p.decodeOSC (/Users/avneeshsarwate/abletonAutomationExtraction/node_modules/osc/src/osc-transports.js:85:17)\n",
      "    at osc.UDPPort.emit (node:events:390:28)\n",
      "    at Socket.<anonymous> (/Users/avneeshsarwate/abletonAutomationExtraction/node_modules/osc/src/platforms/osc-node.js:102:18)\n",
      "    at Socket.emit (node:events:390:28)\n",
      "    at UDP.onMessage [as onmessage] (node:dgram:931:8)"
     ]
    },
    {
     "name": "stdout",
     "output_type": "stream",
     "text": [
      "{ address: '/pos', args: [ 0.43239057064056396, 0.6630960702896118 ] }\n"
     ]
    },
    {
     "name": "stderr",
     "output_type": "stream",
     "text": [
      "TypeError: udp_osc_port.sendMsg is not a function\n",
      "    at Object.handlers./pos (evalmachine.<anonymous>:62:18)\n",
      "    at osc.UDPPort.<anonymous> (evalmachine.<anonymous>:72:44)\n",
      "    at osc.UDPPort.emit (node:events:390:28)\n",
      "    at Object.osc.firePacketEvents (/Users/avneeshsarwate/abletonAutomationExtraction/node_modules/osc/src/osc-transports.js:25:18)\n",
      "    at osc.UDPPort.p.decodeOSC (/Users/avneeshsarwate/abletonAutomationExtraction/node_modules/osc/src/osc-transports.js:85:17)\n",
      "    at osc.UDPPort.emit (node:events:390:28)\n",
      "    at Socket.<anonymous> (/Users/avneeshsarwate/abletonAutomationExtraction/node_modules/osc/src/platforms/osc-node.js:102:18)\n",
      "    at Socket.emit (node:events:390:28)\n",
      "    at UDP.onMessage [as onmessage] (node:dgram:931:8)"
     ]
    },
    {
     "name": "stdout",
     "output_type": "stream",
     "text": [
      "{ address: '/pos', args: [ 0.43239057064056396, 0.6636437773704529 ] }\n"
     ]
    },
    {
     "name": "stderr",
     "output_type": "stream",
     "text": [
      "TypeError: udp_osc_port.sendMsg is not a function\n",
      "    at Object.handlers./pos (evalmachine.<anonymous>:62:18)\n",
      "    at osc.UDPPort.<anonymous> (evalmachine.<anonymous>:72:44)\n",
      "    at osc.UDPPort.emit (node:events:390:28)\n",
      "    at Object.osc.firePacketEvents (/Users/avneeshsarwate/abletonAutomationExtraction/node_modules/osc/src/osc-transports.js:25:18)\n",
      "    at osc.UDPPort.p.decodeOSC (/Users/avneeshsarwate/abletonAutomationExtraction/node_modules/osc/src/osc-transports.js:85:17)\n",
      "    at osc.UDPPort.emit (node:events:390:28)\n",
      "    at Socket.<anonymous> (/Users/avneeshsarwate/abletonAutomationExtraction/node_modules/osc/src/platforms/osc-node.js:102:18)\n",
      "    at Socket.emit (node:events:390:28)\n",
      "    at UDP.onMessage [as onmessage] (node:dgram:931:8)"
     ]
    },
    {
     "name": "stdout",
     "output_type": "stream",
     "text": [
      "{ address: '/pos', args: [ 0.43162980675697327, 0.6636437773704529 ] }\n"
     ]
    },
    {
     "name": "stderr",
     "output_type": "stream",
     "text": [
      "TypeError: udp_osc_port.sendMsg is not a function\n",
      "    at Object.handlers./pos (evalmachine.<anonymous>:62:18)\n",
      "    at osc.UDPPort.<anonymous> (evalmachine.<anonymous>:72:44)\n",
      "    at osc.UDPPort.emit (node:events:390:28)\n",
      "    at Object.osc.firePacketEvents (/Users/avneeshsarwate/abletonAutomationExtraction/node_modules/osc/src/osc-transports.js:25:18)\n",
      "    at osc.UDPPort.p.decodeOSC (/Users/avneeshsarwate/abletonAutomationExtraction/node_modules/osc/src/osc-transports.js:85:17)\n",
      "    at osc.UDPPort.emit (node:events:390:28)\n",
      "    at Socket.<anonymous> (/Users/avneeshsarwate/abletonAutomationExtraction/node_modules/osc/src/platforms/osc-node.js:102:18)\n",
      "    at Socket.emit (node:events:390:28)\n",
      "    at UDP.onMessage [as onmessage] (node:dgram:931:8)"
     ]
    },
    {
     "name": "stdout",
     "output_type": "stream",
     "text": [
      "{ address: '/pos', args: [ 0.43162980675697327, 0.6644121408462524 ] }\n"
     ]
    },
    {
     "name": "stderr",
     "output_type": "stream",
     "text": [
      "TypeError: udp_osc_port.sendMsg is not a function\n",
      "    at Object.handlers./pos (evalmachine.<anonymous>:62:18)\n",
      "    at osc.UDPPort.<anonymous> (evalmachine.<anonymous>:72:44)\n",
      "    at osc.UDPPort.emit (node:events:390:28)\n",
      "    at Object.osc.firePacketEvents (/Users/avneeshsarwate/abletonAutomationExtraction/node_modules/osc/src/osc-transports.js:25:18)\n",
      "    at osc.UDPPort.p.decodeOSC (/Users/avneeshsarwate/abletonAutomationExtraction/node_modules/osc/src/osc-transports.js:85:17)\n",
      "    at osc.UDPPort.emit (node:events:390:28)\n",
      "    at Socket.<anonymous> (/Users/avneeshsarwate/abletonAutomationExtraction/node_modules/osc/src/platforms/osc-node.js:102:18)\n",
      "    at Socket.emit (node:events:390:28)\n",
      "    at UDP.onMessage [as onmessage] (node:dgram:931:8)"
     ]
    },
    {
     "name": "stdout",
     "output_type": "stream",
     "text": [
      "{ address: '/pos', args: [ 0.43111252784729004, 0.6644121408462524 ] }\n"
     ]
    },
    {
     "name": "stderr",
     "output_type": "stream",
     "text": [
      "TypeError: udp_osc_port.sendMsg is not a function\n",
      "    at Object.handlers./pos (evalmachine.<anonymous>:62:18)\n",
      "    at osc.UDPPort.<anonymous> (evalmachine.<anonymous>:72:44)\n",
      "    at osc.UDPPort.emit (node:events:390:28)\n",
      "    at Object.osc.firePacketEvents (/Users/avneeshsarwate/abletonAutomationExtraction/node_modules/osc/src/osc-transports.js:25:18)\n",
      "    at osc.UDPPort.p.decodeOSC (/Users/avneeshsarwate/abletonAutomationExtraction/node_modules/osc/src/osc-transports.js:85:17)\n",
      "    at osc.UDPPort.emit (node:events:390:28)\n",
      "    at Socket.<anonymous> (/Users/avneeshsarwate/abletonAutomationExtraction/node_modules/osc/src/platforms/osc-node.js:102:18)\n",
      "    at Socket.emit (node:events:390:28)\n",
      "    at UDP.onMessage [as onmessage] (node:dgram:931:8)"
     ]
    },
    {
     "name": "stdout",
     "output_type": "stream",
     "text": [
      "{ address: '/pos', args: [ 0.43111252784729004, 0.6651804447174072 ] }\n"
     ]
    },
    {
     "name": "stderr",
     "output_type": "stream",
     "text": [
      "TypeError: udp_osc_port.sendMsg is not a function\n",
      "    at Object.handlers./pos (evalmachine.<anonymous>:62:18)\n",
      "    at osc.UDPPort.<anonymous> (evalmachine.<anonymous>:72:44)\n",
      "    at osc.UDPPort.emit (node:events:390:28)\n",
      "    at Object.osc.firePacketEvents (/Users/avneeshsarwate/abletonAutomationExtraction/node_modules/osc/src/osc-transports.js:25:18)\n",
      "    at osc.UDPPort.p.decodeOSC (/Users/avneeshsarwate/abletonAutomationExtraction/node_modules/osc/src/osc-transports.js:85:17)\n",
      "    at osc.UDPPort.emit (node:events:390:28)\n",
      "    at Socket.<anonymous> (/Users/avneeshsarwate/abletonAutomationExtraction/node_modules/osc/src/platforms/osc-node.js:102:18)\n",
      "    at Socket.emit (node:events:390:28)\n",
      "    at UDP.onMessage [as onmessage] (node:dgram:931:8)"
     ]
    },
    {
     "name": "stdout",
     "output_type": "stream",
     "text": [
      "{ address: '/pos', args: [ 0.4306180477142334, 0.6651804447174072 ] }\n"
     ]
    },
    {
     "name": "stderr",
     "output_type": "stream",
     "text": [
      "TypeError: udp_osc_port.sendMsg is not a function\n",
      "    at Object.handlers./pos (evalmachine.<anonymous>:62:18)\n",
      "    at osc.UDPPort.<anonymous> (evalmachine.<anonymous>:72:44)\n",
      "    at osc.UDPPort.emit (node:events:390:28)\n",
      "    at Object.osc.firePacketEvents (/Users/avneeshsarwate/abletonAutomationExtraction/node_modules/osc/src/osc-transports.js:25:18)\n",
      "    at osc.UDPPort.p.decodeOSC (/Users/avneeshsarwate/abletonAutomationExtraction/node_modules/osc/src/osc-transports.js:85:17)\n",
      "    at osc.UDPPort.emit (node:events:390:28)\n",
      "    at Socket.<anonymous> (/Users/avneeshsarwate/abletonAutomationExtraction/node_modules/osc/src/platforms/osc-node.js:102:18)\n",
      "    at Socket.emit (node:events:390:28)\n",
      "    at UDP.onMessage [as onmessage] (node:dgram:931:8)"
     ]
    },
    {
     "name": "stdout",
     "output_type": "stream",
     "text": [
      "{ address: '/pos', args: [ 0.4306180477142334, 0.6656749248504639 ] }\n"
     ]
    },
    {
     "name": "stderr",
     "output_type": "stream",
     "text": [
      "TypeError: udp_osc_port.sendMsg is not a function\n",
      "    at Object.handlers./pos (evalmachine.<anonymous>:62:18)\n",
      "    at osc.UDPPort.<anonymous> (evalmachine.<anonymous>:72:44)\n",
      "    at osc.UDPPort.emit (node:events:390:28)\n",
      "    at Object.osc.firePacketEvents (/Users/avneeshsarwate/abletonAutomationExtraction/node_modules/osc/src/osc-transports.js:25:18)\n",
      "    at osc.UDPPort.p.decodeOSC (/Users/avneeshsarwate/abletonAutomationExtraction/node_modules/osc/src/osc-transports.js:85:17)\n",
      "    at osc.UDPPort.emit (node:events:390:28)\n",
      "    at Socket.<anonymous> (/Users/avneeshsarwate/abletonAutomationExtraction/node_modules/osc/src/platforms/osc-node.js:102:18)\n",
      "    at Socket.emit (node:events:390:28)\n",
      "    at UDP.onMessage [as onmessage] (node:dgram:931:8)"
     ]
    },
    {
     "name": "stdout",
     "output_type": "stream",
     "text": [
      "{ address: '/pos', args: [ 0.4303745925426483, 0.6656749248504639 ] }\n"
     ]
    },
    {
     "name": "stderr",
     "output_type": "stream",
     "text": [
      "TypeError: udp_osc_port.sendMsg is not a function\n",
      "    at Object.handlers./pos (evalmachine.<anonymous>:62:18)\n",
      "    at osc.UDPPort.<anonymous> (evalmachine.<anonymous>:72:44)\n",
      "    at osc.UDPPort.emit (node:events:390:28)\n",
      "    at Object.osc.firePacketEvents (/Users/avneeshsarwate/abletonAutomationExtraction/node_modules/osc/src/osc-transports.js:25:18)\n",
      "    at osc.UDPPort.p.decodeOSC (/Users/avneeshsarwate/abletonAutomationExtraction/node_modules/osc/src/osc-transports.js:85:17)\n",
      "    at osc.UDPPort.emit (node:events:390:28)\n",
      "    at Socket.<anonymous> (/Users/avneeshsarwate/abletonAutomationExtraction/node_modules/osc/src/platforms/osc-node.js:102:18)\n",
      "    at Socket.emit (node:events:390:28)\n",
      "    at UDP.onMessage [as onmessage] (node:dgram:931:8)"
     ]
    },
    {
     "name": "stdout",
     "output_type": "stream",
     "text": [
      "{ address: '/pos', args: [ 0.4303745925426483, 0.666154146194458 ] }\n"
     ]
    },
    {
     "name": "stderr",
     "output_type": "stream",
     "text": [
      "TypeError: udp_osc_port.sendMsg is not a function\n",
      "    at Object.handlers./pos (evalmachine.<anonymous>:62:18)\n",
      "    at osc.UDPPort.<anonymous> (evalmachine.<anonymous>:72:44)\n",
      "    at osc.UDPPort.emit (node:events:390:28)\n",
      "    at Object.osc.firePacketEvents (/Users/avneeshsarwate/abletonAutomationExtraction/node_modules/osc/src/osc-transports.js:25:18)\n",
      "    at osc.UDPPort.p.decodeOSC (/Users/avneeshsarwate/abletonAutomationExtraction/node_modules/osc/src/osc-transports.js:85:17)\n",
      "    at osc.UDPPort.emit (node:events:390:28)\n",
      "    at Socket.<anonymous> (/Users/avneeshsarwate/abletonAutomationExtraction/node_modules/osc/src/platforms/osc-node.js:102:18)\n",
      "    at Socket.emit (node:events:390:28)\n",
      "    at UDP.onMessage [as onmessage] (node:dgram:931:8)"
     ]
    },
    {
     "name": "stdout",
     "output_type": "stream",
     "text": [
      "{ address: '/pos', args: [ 0.430131196975708, 0.666154146194458 ] }\n"
     ]
    },
    {
     "name": "stderr",
     "output_type": "stream",
     "text": [
      "TypeError: udp_osc_port.sendMsg is not a function\n",
      "    at Object.handlers./pos (evalmachine.<anonymous>:62:18)\n",
      "    at osc.UDPPort.<anonymous> (evalmachine.<anonymous>:72:44)\n",
      "    at osc.UDPPort.emit (node:events:390:28)\n",
      "    at Object.osc.firePacketEvents (/Users/avneeshsarwate/abletonAutomationExtraction/node_modules/osc/src/osc-transports.js:25:18)\n",
      "    at osc.UDPPort.p.decodeOSC (/Users/avneeshsarwate/abletonAutomationExtraction/node_modules/osc/src/osc-transports.js:85:17)\n",
      "    at osc.UDPPort.emit (node:events:390:28)\n",
      "    at Socket.<anonymous> (/Users/avneeshsarwate/abletonAutomationExtraction/node_modules/osc/src/platforms/osc-node.js:102:18)\n",
      "    at Socket.emit (node:events:390:28)\n",
      "    at UDP.onMessage [as onmessage] (node:dgram:931:8)"
     ]
    },
    {
     "name": "stdout",
     "output_type": "stream",
     "text": [
      "{ address: '/pos', args: [ 0.430131196975708, 0.6663975715637207 ] }\n"
     ]
    },
    {
     "name": "stderr",
     "output_type": "stream",
     "text": [
      "TypeError: udp_osc_port.sendMsg is not a function\n",
      "    at Object.handlers./pos (evalmachine.<anonymous>:62:18)\n",
      "    at osc.UDPPort.<anonymous> (evalmachine.<anonymous>:72:44)\n",
      "    at osc.UDPPort.emit (node:events:390:28)\n",
      "    at Object.osc.firePacketEvents (/Users/avneeshsarwate/abletonAutomationExtraction/node_modules/osc/src/osc-transports.js:25:18)\n",
      "    at osc.UDPPort.p.decodeOSC (/Users/avneeshsarwate/abletonAutomationExtraction/node_modules/osc/src/osc-transports.js:85:17)\n",
      "    at osc.UDPPort.emit (node:events:390:28)\n",
      "    at Socket.<anonymous> (/Users/avneeshsarwate/abletonAutomationExtraction/node_modules/osc/src/platforms/osc-node.js:102:18)\n",
      "    at Socket.emit (node:events:390:28)\n",
      "    at UDP.onMessage [as onmessage] (node:dgram:931:8)"
     ]
    },
    {
     "name": "stdout",
     "output_type": "stream",
     "text": [
      "{ address: '/pos', args: [ 0.4298877418041229, 0.6663975715637207 ] }\n"
     ]
    },
    {
     "name": "stderr",
     "output_type": "stream",
     "text": [
      "TypeError: udp_osc_port.sendMsg is not a function\n",
      "    at Object.handlers./pos (evalmachine.<anonymous>:62:18)\n",
      "    at osc.UDPPort.<anonymous> (evalmachine.<anonymous>:72:44)\n",
      "    at osc.UDPPort.emit (node:events:390:28)\n",
      "    at Object.osc.firePacketEvents (/Users/avneeshsarwate/abletonAutomationExtraction/node_modules/osc/src/osc-transports.js:25:18)\n",
      "    at osc.UDPPort.p.decodeOSC (/Users/avneeshsarwate/abletonAutomationExtraction/node_modules/osc/src/osc-transports.js:85:17)\n",
      "    at osc.UDPPort.emit (node:events:390:28)\n",
      "    at Socket.<anonymous> (/Users/avneeshsarwate/abletonAutomationExtraction/node_modules/osc/src/platforms/osc-node.js:102:18)\n",
      "    at Socket.emit (node:events:390:28)\n",
      "    at UDP.onMessage [as onmessage] (node:dgram:931:8)"
     ]
    },
    {
     "name": "stdout",
     "output_type": "stream",
     "text": [
      "{ address: '/pos', args: [ 0.4298877418041229, 0.6666562557220459 ] }\n"
     ]
    },
    {
     "name": "stderr",
     "output_type": "stream",
     "text": [
      "TypeError: udp_osc_port.sendMsg is not a function\n",
      "    at Object.handlers./pos (evalmachine.<anonymous>:62:18)\n",
      "    at osc.UDPPort.<anonymous> (evalmachine.<anonymous>:72:44)\n",
      "    at osc.UDPPort.emit (node:events:390:28)\n",
      "    at Object.osc.firePacketEvents (/Users/avneeshsarwate/abletonAutomationExtraction/node_modules/osc/src/osc-transports.js:25:18)\n",
      "    at osc.UDPPort.p.decodeOSC (/Users/avneeshsarwate/abletonAutomationExtraction/node_modules/osc/src/osc-transports.js:85:17)\n",
      "    at osc.UDPPort.emit (node:events:390:28)\n",
      "    at Socket.<anonymous> (/Users/avneeshsarwate/abletonAutomationExtraction/node_modules/osc/src/platforms/osc-node.js:102:18)\n",
      "    at Socket.emit (node:events:390:28)\n",
      "    at UDP.onMessage [as onmessage] (node:dgram:931:8)"
     ]
    },
    {
     "name": "stdout",
     "output_type": "stream",
     "text": [
      "{ address: '/pos', args: [ 0.4296519458293915, 0.6666562557220459 ] }\n"
     ]
    },
    {
     "name": "stderr",
     "output_type": "stream",
     "text": [
      "TypeError: udp_osc_port.sendMsg is not a function\n",
      "    at Object.handlers./pos (evalmachine.<anonymous>:62:18)\n",
      "    at osc.UDPPort.<anonymous> (evalmachine.<anonymous>:72:44)\n",
      "    at osc.UDPPort.emit (node:events:390:28)\n",
      "    at Object.osc.firePacketEvents (/Users/avneeshsarwate/abletonAutomationExtraction/node_modules/osc/src/osc-transports.js:25:18)\n",
      "    at osc.UDPPort.p.decodeOSC (/Users/avneeshsarwate/abletonAutomationExtraction/node_modules/osc/src/osc-transports.js:85:17)\n",
      "    at osc.UDPPort.emit (node:events:390:28)\n",
      "    at Socket.<anonymous> (/Users/avneeshsarwate/abletonAutomationExtraction/node_modules/osc/src/platforms/osc-node.js:102:18)\n",
      "    at Socket.emit (node:events:390:28)\n",
      "    at UDP.onMessage [as onmessage] (node:dgram:931:8)"
     ]
    },
    {
     "name": "stdout",
     "output_type": "stream",
     "text": [
      "{ address: '/pos', args: [ 0.4296519458293915, 0.6669148802757263 ] }\n"
     ]
    },
    {
     "name": "stderr",
     "output_type": "stream",
     "text": [
      "TypeError: udp_osc_port.sendMsg is not a function\n",
      "    at Object.handlers./pos (evalmachine.<anonymous>:62:18)\n",
      "    at osc.UDPPort.<anonymous> (evalmachine.<anonymous>:72:44)\n",
      "    at osc.UDPPort.emit (node:events:390:28)\n",
      "    at Object.osc.firePacketEvents (/Users/avneeshsarwate/abletonAutomationExtraction/node_modules/osc/src/osc-transports.js:25:18)\n",
      "    at osc.UDPPort.p.decodeOSC (/Users/avneeshsarwate/abletonAutomationExtraction/node_modules/osc/src/osc-transports.js:85:17)\n",
      "    at osc.UDPPort.emit (node:events:390:28)\n",
      "    at Socket.<anonymous> (/Users/avneeshsarwate/abletonAutomationExtraction/node_modules/osc/src/platforms/osc-node.js:102:18)\n",
      "    at Socket.emit (node:events:390:28)\n",
      "    at UDP.onMessage [as onmessage] (node:dgram:931:8)"
     ]
    },
    {
     "name": "stdout",
     "output_type": "stream",
     "text": [
      "{ address: '/pos', args: [ 0.42941609025001526, 0.6669148802757263 ] }\n"
     ]
    },
    {
     "name": "stderr",
     "output_type": "stream",
     "text": [
      "TypeError: udp_osc_port.sendMsg is not a function\n",
      "    at Object.handlers./pos (evalmachine.<anonymous>:62:18)\n",
      "    at osc.UDPPort.<anonymous> (evalmachine.<anonymous>:72:44)\n",
      "    at osc.UDPPort.emit (node:events:390:28)\n",
      "    at Object.osc.firePacketEvents (/Users/avneeshsarwate/abletonAutomationExtraction/node_modules/osc/src/osc-transports.js:25:18)\n",
      "    at osc.UDPPort.p.decodeOSC (/Users/avneeshsarwate/abletonAutomationExtraction/node_modules/osc/src/osc-transports.js:85:17)\n",
      "    at osc.UDPPort.emit (node:events:390:28)\n",
      "    at Socket.<anonymous> (/Users/avneeshsarwate/abletonAutomationExtraction/node_modules/osc/src/platforms/osc-node.js:102:18)\n",
      "    at Socket.emit (node:events:390:28)\n",
      "    at UDP.onMessage [as onmessage] (node:dgram:931:8)"
     ]
    },
    {
     "name": "stdout",
     "output_type": "stream",
     "text": [
      "{ address: '/pos', args: [ 0.42941609025001526, 0.6671659350395203 ] }\n"
     ]
    },
    {
     "name": "stderr",
     "output_type": "stream",
     "text": [
      "TypeError: udp_osc_port.sendMsg is not a function\n",
      "    at Object.handlers./pos (evalmachine.<anonymous>:62:18)\n",
      "    at osc.UDPPort.<anonymous> (evalmachine.<anonymous>:72:44)\n",
      "    at osc.UDPPort.emit (node:events:390:28)\n",
      "    at Object.osc.firePacketEvents (/Users/avneeshsarwate/abletonAutomationExtraction/node_modules/osc/src/osc-transports.js:25:18)\n",
      "    at osc.UDPPort.p.decodeOSC (/Users/avneeshsarwate/abletonAutomationExtraction/node_modules/osc/src/osc-transports.js:85:17)\n",
      "    at osc.UDPPort.emit (node:events:390:28)\n",
      "    at Socket.<anonymous> (/Users/avneeshsarwate/abletonAutomationExtraction/node_modules/osc/src/platforms/osc-node.js:102:18)\n",
      "    at Socket.emit (node:events:390:28)\n",
      "    at UDP.onMessage [as onmessage] (node:dgram:931:8)"
     ]
    },
    {
     "name": "stdout",
     "output_type": "stream",
     "text": [
      "{ address: '/pos', args: [ 0.4289976954460144, 0.6671659350395203 ] }\n"
     ]
    },
    {
     "name": "stderr",
     "output_type": "stream",
     "text": [
      "TypeError: udp_osc_port.sendMsg is not a function\n",
      "    at Object.handlers./pos (evalmachine.<anonymous>:62:18)\n",
      "    at osc.UDPPort.<anonymous> (evalmachine.<anonymous>:72:44)\n",
      "    at osc.UDPPort.emit (node:events:390:28)\n",
      "    at Object.osc.firePacketEvents (/Users/avneeshsarwate/abletonAutomationExtraction/node_modules/osc/src/osc-transports.js:25:18)\n",
      "    at osc.UDPPort.p.decodeOSC (/Users/avneeshsarwate/abletonAutomationExtraction/node_modules/osc/src/osc-transports.js:85:17)\n",
      "    at osc.UDPPort.emit (node:events:390:28)\n",
      "    at Socket.<anonymous> (/Users/avneeshsarwate/abletonAutomationExtraction/node_modules/osc/src/platforms/osc-node.js:102:18)\n",
      "    at Socket.emit (node:events:390:28)\n",
      "    at UDP.onMessage [as onmessage] (node:dgram:931:8)"
     ]
    },
    {
     "name": "stdout",
     "output_type": "stream",
     "text": [
      "{ address: '/pos', args: [ 0.4289976954460144, 0.6675235033035278 ] }\n"
     ]
    },
    {
     "name": "stderr",
     "output_type": "stream",
     "text": [
      "TypeError: udp_osc_port.sendMsg is not a function\n",
      "    at Object.handlers./pos (evalmachine.<anonymous>:62:18)\n",
      "    at osc.UDPPort.<anonymous> (evalmachine.<anonymous>:72:44)\n",
      "    at osc.UDPPort.emit (node:events:390:28)\n",
      "    at Object.osc.firePacketEvents (/Users/avneeshsarwate/abletonAutomationExtraction/node_modules/osc/src/osc-transports.js:25:18)\n",
      "    at osc.UDPPort.p.decodeOSC (/Users/avneeshsarwate/abletonAutomationExtraction/node_modules/osc/src/osc-transports.js:85:17)\n",
      "    at osc.UDPPort.emit (node:events:390:28)\n",
      "    at Socket.<anonymous> (/Users/avneeshsarwate/abletonAutomationExtraction/node_modules/osc/src/platforms/osc-node.js:102:18)\n",
      "    at Socket.emit (node:events:390:28)\n",
      "    at UDP.onMessage [as onmessage] (node:dgram:931:8)"
     ]
    },
    {
     "name": "stdout",
     "output_type": "stream",
     "text": [
      "{ address: '/pos', args: [ 0.42878469824790955, 0.6675235033035278 ] }\n"
     ]
    },
    {
     "name": "stderr",
     "output_type": "stream",
     "text": [
      "TypeError: udp_osc_port.sendMsg is not a function\n",
      "    at Object.handlers./pos (evalmachine.<anonymous>:62:18)\n",
      "    at osc.UDPPort.<anonymous> (evalmachine.<anonymous>:72:44)\n",
      "    at osc.UDPPort.emit (node:events:390:28)\n",
      "    at Object.osc.firePacketEvents (/Users/avneeshsarwate/abletonAutomationExtraction/node_modules/osc/src/osc-transports.js:25:18)\n",
      "    at osc.UDPPort.p.decodeOSC (/Users/avneeshsarwate/abletonAutomationExtraction/node_modules/osc/src/osc-transports.js:85:17)\n",
      "    at osc.UDPPort.emit (node:events:390:28)\n",
      "    at Socket.<anonymous> (/Users/avneeshsarwate/abletonAutomationExtraction/node_modules/osc/src/platforms/osc-node.js:102:18)\n",
      "    at Socket.emit (node:events:390:28)\n",
      "    at UDP.onMessage [as onmessage] (node:dgram:931:8)"
     ]
    },
    {
     "name": "stdout",
     "output_type": "stream",
     "text": [
      "{ address: '/pos', args: [ 0.42878469824790955, 0.6679342985153198 ] }\n"
     ]
    },
    {
     "name": "stderr",
     "output_type": "stream",
     "text": [
      "TypeError: udp_osc_port.sendMsg is not a function\n",
      "    at Object.handlers./pos (evalmachine.<anonymous>:62:18)\n",
      "    at osc.UDPPort.<anonymous> (evalmachine.<anonymous>:72:44)\n",
      "    at osc.UDPPort.emit (node:events:390:28)\n",
      "    at Object.osc.firePacketEvents (/Users/avneeshsarwate/abletonAutomationExtraction/node_modules/osc/src/osc-transports.js:25:18)\n",
      "    at osc.UDPPort.p.decodeOSC (/Users/avneeshsarwate/abletonAutomationExtraction/node_modules/osc/src/osc-transports.js:85:17)\n",
      "    at osc.UDPPort.emit (node:events:390:28)\n",
      "    at Socket.<anonymous> (/Users/avneeshsarwate/abletonAutomationExtraction/node_modules/osc/src/platforms/osc-node.js:102:18)\n",
      "    at Socket.emit (node:events:390:28)\n",
      "    at UDP.onMessage [as onmessage] (node:dgram:931:8)"
     ]
    },
    {
     "name": "stdout",
     "output_type": "stream",
     "text": [
      "{ address: '/pos', args: [ 0.42844995856285095, 0.6679342985153198 ] }\n"
     ]
    },
    {
     "name": "stderr",
     "output_type": "stream",
     "text": [
      "TypeError: udp_osc_port.sendMsg is not a function\n",
      "    at Object.handlers./pos (evalmachine.<anonymous>:62:18)\n",
      "    at osc.UDPPort.<anonymous> (evalmachine.<anonymous>:72:44)\n",
      "    at osc.UDPPort.emit (node:events:390:28)\n",
      "    at Object.osc.firePacketEvents (/Users/avneeshsarwate/abletonAutomationExtraction/node_modules/osc/src/osc-transports.js:25:18)\n",
      "    at osc.UDPPort.p.decodeOSC (/Users/avneeshsarwate/abletonAutomationExtraction/node_modules/osc/src/osc-transports.js:85:17)\n",
      "    at osc.UDPPort.emit (node:events:390:28)\n",
      "    at Socket.<anonymous> (/Users/avneeshsarwate/abletonAutomationExtraction/node_modules/osc/src/platforms/osc-node.js:102:18)\n",
      "    at Socket.emit (node:events:390:28)\n",
      "    at UDP.onMessage [as onmessage] (node:dgram:931:8)"
     ]
    },
    {
     "name": "stdout",
     "output_type": "stream",
     "text": [
      "{ address: '/pos', args: [ 0.42844995856285095, 0.6680940389633179 ] }\n"
     ]
    },
    {
     "name": "stderr",
     "output_type": "stream",
     "text": [
      "TypeError: udp_osc_port.sendMsg is not a function\n",
      "    at Object.handlers./pos (evalmachine.<anonymous>:62:18)\n",
      "    at osc.UDPPort.<anonymous> (evalmachine.<anonymous>:72:44)\n",
      "    at osc.UDPPort.emit (node:events:390:28)\n",
      "    at Object.osc.firePacketEvents (/Users/avneeshsarwate/abletonAutomationExtraction/node_modules/osc/src/osc-transports.js:25:18)\n",
      "    at osc.UDPPort.p.decodeOSC (/Users/avneeshsarwate/abletonAutomationExtraction/node_modules/osc/src/osc-transports.js:85:17)\n",
      "    at osc.UDPPort.emit (node:events:390:28)\n",
      "    at Socket.<anonymous> (/Users/avneeshsarwate/abletonAutomationExtraction/node_modules/osc/src/platforms/osc-node.js:102:18)\n",
      "    at Socket.emit (node:events:390:28)\n",
      "    at UDP.onMessage [as onmessage] (node:dgram:931:8)"
     ]
    },
    {
     "name": "stdout",
     "output_type": "stream",
     "text": [
      "{ address: '/pos', args: [ 0.42806199193000793, 0.6680940389633179 ] }\n"
     ]
    },
    {
     "name": "stderr",
     "output_type": "stream",
     "text": [
      "TypeError: udp_osc_port.sendMsg is not a function\n",
      "    at Object.handlers./pos (evalmachine.<anonymous>:62:18)\n",
      "    at osc.UDPPort.<anonymous> (evalmachine.<anonymous>:72:44)\n",
      "    at osc.UDPPort.emit (node:events:390:28)\n",
      "    at Object.osc.firePacketEvents (/Users/avneeshsarwate/abletonAutomationExtraction/node_modules/osc/src/osc-transports.js:25:18)\n",
      "    at osc.UDPPort.p.decodeOSC (/Users/avneeshsarwate/abletonAutomationExtraction/node_modules/osc/src/osc-transports.js:85:17)\n",
      "    at osc.UDPPort.emit (node:events:390:28)\n",
      "    at Socket.<anonymous> (/Users/avneeshsarwate/abletonAutomationExtraction/node_modules/osc/src/platforms/osc-node.js:102:18)\n",
      "    at Socket.emit (node:events:390:28)\n",
      "    at UDP.onMessage [as onmessage] (node:dgram:931:8)"
     ]
    },
    {
     "name": "stdout",
     "output_type": "stream",
     "text": [
      "{ address: '/pos', args: [ 0.42806199193000793, 0.6684211492538452 ] }\n"
     ]
    },
    {
     "name": "stderr",
     "output_type": "stream",
     "text": [
      "TypeError: udp_osc_port.sendMsg is not a function\n",
      "    at Object.handlers./pos (evalmachine.<anonymous>:62:18)\n",
      "    at osc.UDPPort.<anonymous> (evalmachine.<anonymous>:72:44)\n",
      "    at osc.UDPPort.emit (node:events:390:28)\n",
      "    at Object.osc.firePacketEvents (/Users/avneeshsarwate/abletonAutomationExtraction/node_modules/osc/src/osc-transports.js:25:18)\n",
      "    at osc.UDPPort.p.decodeOSC (/Users/avneeshsarwate/abletonAutomationExtraction/node_modules/osc/src/osc-transports.js:85:17)\n",
      "    at osc.UDPPort.emit (node:events:390:28)\n",
      "    at Socket.<anonymous> (/Users/avneeshsarwate/abletonAutomationExtraction/node_modules/osc/src/platforms/osc-node.js:102:18)\n",
      "    at Socket.emit (node:events:390:28)\n",
      "    at UDP.onMessage [as onmessage] (node:dgram:931:8)"
     ]
    },
    {
     "name": "stdout",
     "output_type": "stream",
     "text": [
      "{ address: '/pos', args: [ 0.42793264985084534, 0.6684211492538452 ] }\n"
     ]
    },
    {
     "name": "stderr",
     "output_type": "stream",
     "text": [
      "TypeError: udp_osc_port.sendMsg is not a function\n",
      "    at Object.handlers./pos (evalmachine.<anonymous>:62:18)\n",
      "    at osc.UDPPort.<anonymous> (evalmachine.<anonymous>:72:44)\n",
      "    at osc.UDPPort.emit (node:events:390:28)\n",
      "    at Object.osc.firePacketEvents (/Users/avneeshsarwate/abletonAutomationExtraction/node_modules/osc/src/osc-transports.js:25:18)\n",
      "    at osc.UDPPort.p.decodeOSC (/Users/avneeshsarwate/abletonAutomationExtraction/node_modules/osc/src/osc-transports.js:85:17)\n",
      "    at osc.UDPPort.emit (node:events:390:28)\n",
      "    at Socket.<anonymous> (/Users/avneeshsarwate/abletonAutomationExtraction/node_modules/osc/src/platforms/osc-node.js:102:18)\n",
      "    at Socket.emit (node:events:390:28)\n",
      "    at UDP.onMessage [as onmessage] (node:dgram:931:8)"
     ]
    },
    {
     "name": "stdout",
     "output_type": "stream",
     "text": [
      "{ address: '/pos', args: [ 0.42793264985084534, 0.6688319444656372 ] }\n"
     ]
    },
    {
     "name": "stderr",
     "output_type": "stream",
     "text": [
      "TypeError: udp_osc_port.sendMsg is not a function\n",
      "    at Object.handlers./pos (evalmachine.<anonymous>:62:18)\n",
      "    at osc.UDPPort.<anonymous> (evalmachine.<anonymous>:72:44)\n",
      "    at osc.UDPPort.emit (node:events:390:28)\n",
      "    at Object.osc.firePacketEvents (/Users/avneeshsarwate/abletonAutomationExtraction/node_modules/osc/src/osc-transports.js:25:18)\n",
      "    at osc.UDPPort.p.decodeOSC (/Users/avneeshsarwate/abletonAutomationExtraction/node_modules/osc/src/osc-transports.js:85:17)\n",
      "    at osc.UDPPort.emit (node:events:390:28)\n",
      "    at Socket.<anonymous> (/Users/avneeshsarwate/abletonAutomationExtraction/node_modules/osc/src/platforms/osc-node.js:102:18)\n",
      "    at Socket.emit (node:events:390:28)\n",
      "    at UDP.onMessage [as onmessage] (node:dgram:931:8)"
     ]
    },
    {
     "name": "stdout",
     "output_type": "stream",
     "text": [
      "{ address: '/pos', args: [ 0.42751428484916687, 0.6688319444656372 ] }\n"
     ]
    },
    {
     "name": "stderr",
     "output_type": "stream",
     "text": [
      "TypeError: udp_osc_port.sendMsg is not a function\n",
      "    at Object.handlers./pos (evalmachine.<anonymous>:62:18)\n",
      "    at osc.UDPPort.<anonymous> (evalmachine.<anonymous>:72:44)\n",
      "    at osc.UDPPort.emit (node:events:390:28)\n",
      "    at Object.osc.firePacketEvents (/Users/avneeshsarwate/abletonAutomationExtraction/node_modules/osc/src/osc-transports.js:25:18)\n",
      "    at osc.UDPPort.p.decodeOSC (/Users/avneeshsarwate/abletonAutomationExtraction/node_modules/osc/src/osc-transports.js:85:17)\n",
      "    at osc.UDPPort.emit (node:events:390:28)\n",
      "    at Socket.<anonymous> (/Users/avneeshsarwate/abletonAutomationExtraction/node_modules/osc/src/platforms/osc-node.js:102:18)\n",
      "    at Socket.emit (node:events:390:28)\n",
      "    at UDP.onMessage [as onmessage] (node:dgram:931:8)"
     ]
    },
    {
     "name": "stdout",
     "output_type": "stream",
     "text": [
      "{ address: '/pos', args: [ 0.42751428484916687, 0.6689079999923706 ] }\n"
     ]
    },
    {
     "name": "stderr",
     "output_type": "stream",
     "text": [
      "TypeError: udp_osc_port.sendMsg is not a function\n",
      "    at Object.handlers./pos (evalmachine.<anonymous>:62:18)\n",
      "    at osc.UDPPort.<anonymous> (evalmachine.<anonymous>:72:44)\n",
      "    at osc.UDPPort.emit (node:events:390:28)\n",
      "    at Object.osc.firePacketEvents (/Users/avneeshsarwate/abletonAutomationExtraction/node_modules/osc/src/osc-transports.js:25:18)\n",
      "    at osc.UDPPort.p.decodeOSC (/Users/avneeshsarwate/abletonAutomationExtraction/node_modules/osc/src/osc-transports.js:85:17)\n",
      "    at osc.UDPPort.emit (node:events:390:28)\n",
      "    at Socket.<anonymous> (/Users/avneeshsarwate/abletonAutomationExtraction/node_modules/osc/src/platforms/osc-node.js:102:18)\n",
      "    at Socket.emit (node:events:390:28)\n",
      "    at UDP.onMessage [as onmessage] (node:dgram:931:8)"
     ]
    },
    {
     "name": "stdout",
     "output_type": "stream",
     "text": [
      "{ address: '/pos', args: [ 0.4270274341106415, 0.6689079999923706 ] }\n"
     ]
    },
    {
     "name": "stderr",
     "output_type": "stream",
     "text": [
      "TypeError: udp_osc_port.sendMsg is not a function\n",
      "    at Object.handlers./pos (evalmachine.<anonymous>:62:18)\n",
      "    at osc.UDPPort.<anonymous> (evalmachine.<anonymous>:72:44)\n",
      "    at osc.UDPPort.emit (node:events:390:28)\n",
      "    at Object.osc.firePacketEvents (/Users/avneeshsarwate/abletonAutomationExtraction/node_modules/osc/src/osc-transports.js:25:18)\n",
      "    at osc.UDPPort.p.decodeOSC (/Users/avneeshsarwate/abletonAutomationExtraction/node_modules/osc/src/osc-transports.js:85:17)\n",
      "    at osc.UDPPort.emit (node:events:390:28)\n",
      "    at Socket.<anonymous> (/Users/avneeshsarwate/abletonAutomationExtraction/node_modules/osc/src/platforms/osc-node.js:102:18)\n",
      "    at Socket.emit (node:events:390:28)\n",
      "    at UDP.onMessage [as onmessage] (node:dgram:931:8)"
     ]
    },
    {
     "name": "stdout",
     "output_type": "stream",
     "text": [
      "{ address: '/pos', args: [ 0.4270274341106415, 0.6690753698348999 ] }\n"
     ]
    },
    {
     "name": "stderr",
     "output_type": "stream",
     "text": [
      "TypeError: udp_osc_port.sendMsg is not a function\n",
      "    at Object.handlers./pos (evalmachine.<anonymous>:62:18)\n",
      "    at osc.UDPPort.<anonymous> (evalmachine.<anonymous>:72:44)\n",
      "    at osc.UDPPort.emit (node:events:390:28)\n",
      "    at Object.osc.firePacketEvents (/Users/avneeshsarwate/abletonAutomationExtraction/node_modules/osc/src/osc-transports.js:25:18)\n",
      "    at osc.UDPPort.p.decodeOSC (/Users/avneeshsarwate/abletonAutomationExtraction/node_modules/osc/src/osc-transports.js:85:17)\n",
      "    at osc.UDPPort.emit (node:events:390:28)\n",
      "    at Socket.<anonymous> (/Users/avneeshsarwate/abletonAutomationExtraction/node_modules/osc/src/platforms/osc-node.js:102:18)\n",
      "    at Socket.emit (node:events:390:28)\n",
      "    at UDP.onMessage [as onmessage] (node:dgram:931:8)"
     ]
    },
    {
     "name": "stdout",
     "output_type": "stream",
     "text": [
      "{ address: '/pos', args: [ 0.4267611503601074, 0.6690753698348999 ] }\n"
     ]
    },
    {
     "name": "stderr",
     "output_type": "stream",
     "text": [
      "TypeError: udp_osc_port.sendMsg is not a function\n",
      "    at Object.handlers./pos (evalmachine.<anonymous>:62:18)\n",
      "    at osc.UDPPort.<anonymous> (evalmachine.<anonymous>:72:44)\n",
      "    at osc.UDPPort.emit (node:events:390:28)\n",
      "    at Object.osc.firePacketEvents (/Users/avneeshsarwate/abletonAutomationExtraction/node_modules/osc/src/osc-transports.js:25:18)\n",
      "    at osc.UDPPort.p.decodeOSC (/Users/avneeshsarwate/abletonAutomationExtraction/node_modules/osc/src/osc-transports.js:85:17)\n",
      "    at osc.UDPPort.emit (node:events:390:28)\n",
      "    at Socket.<anonymous> (/Users/avneeshsarwate/abletonAutomationExtraction/node_modules/osc/src/platforms/osc-node.js:102:18)\n",
      "    at Socket.emit (node:events:390:28)\n",
      "    at UDP.onMessage [as onmessage] (node:dgram:931:8)"
     ]
    },
    {
     "name": "stdout",
     "output_type": "stream",
     "text": [
      "{ address: '/pos', args: [ 0.4267611503601074, 0.6694252490997314 ] }\n"
     ]
    },
    {
     "name": "stderr",
     "output_type": "stream",
     "text": [
      "TypeError: udp_osc_port.sendMsg is not a function\n",
      "    at Object.handlers./pos (evalmachine.<anonymous>:62:18)\n",
      "    at osc.UDPPort.<anonymous> (evalmachine.<anonymous>:72:44)\n",
      "    at osc.UDPPort.emit (node:events:390:28)\n",
      "    at Object.osc.firePacketEvents (/Users/avneeshsarwate/abletonAutomationExtraction/node_modules/osc/src/osc-transports.js:25:18)\n",
      "    at osc.UDPPort.p.decodeOSC (/Users/avneeshsarwate/abletonAutomationExtraction/node_modules/osc/src/osc-transports.js:85:17)\n",
      "    at osc.UDPPort.emit (node:events:390:28)\n",
      "    at Socket.<anonymous> (/Users/avneeshsarwate/abletonAutomationExtraction/node_modules/osc/src/platforms/osc-node.js:102:18)\n",
      "    at Socket.emit (node:events:390:28)\n",
      "    at UDP.onMessage [as onmessage] (node:dgram:931:8)"
     ]
    },
    {
     "name": "stdout",
     "output_type": "stream",
     "text": [
      "{ address: '/pos', args: [ 0.4262818992137909, 0.6694252490997314 ] }\n"
     ]
    },
    {
     "name": "stderr",
     "output_type": "stream",
     "text": [
      "TypeError: udp_osc_port.sendMsg is not a function\n",
      "    at Object.handlers./pos (evalmachine.<anonymous>:62:18)\n",
      "    at osc.UDPPort.<anonymous> (evalmachine.<anonymous>:72:44)\n",
      "    at osc.UDPPort.emit (node:events:390:28)\n",
      "    at Object.osc.firePacketEvents (/Users/avneeshsarwate/abletonAutomationExtraction/node_modules/osc/src/osc-transports.js:25:18)\n",
      "    at osc.UDPPort.p.decodeOSC (/Users/avneeshsarwate/abletonAutomationExtraction/node_modules/osc/src/osc-transports.js:85:17)\n",
      "    at osc.UDPPort.emit (node:events:390:28)\n",
      "    at Socket.<anonymous> (/Users/avneeshsarwate/abletonAutomationExtraction/node_modules/osc/src/platforms/osc-node.js:102:18)\n",
      "    at Socket.emit (node:events:390:28)\n",
      "    at UDP.onMessage [as onmessage] (node:dgram:931:8)"
     ]
    },
    {
     "name": "stdout",
     "output_type": "stream",
     "text": [
      "{ address: '/pos', args: [ 0.4262818992137909, 0.6698665618896484 ] }\n"
     ]
    },
    {
     "name": "stderr",
     "output_type": "stream",
     "text": [
      "TypeError: udp_osc_port.sendMsg is not a function\n",
      "    at Object.handlers./pos (evalmachine.<anonymous>:62:18)\n",
      "    at osc.UDPPort.<anonymous> (evalmachine.<anonymous>:72:44)\n",
      "    at osc.UDPPort.emit (node:events:390:28)\n",
      "    at Object.osc.firePacketEvents (/Users/avneeshsarwate/abletonAutomationExtraction/node_modules/osc/src/osc-transports.js:25:18)\n",
      "    at osc.UDPPort.p.decodeOSC (/Users/avneeshsarwate/abletonAutomationExtraction/node_modules/osc/src/osc-transports.js:85:17)\n",
      "    at osc.UDPPort.emit (node:events:390:28)\n",
      "    at Socket.<anonymous> (/Users/avneeshsarwate/abletonAutomationExtraction/node_modules/osc/src/platforms/osc-node.js:102:18)\n",
      "    at Socket.emit (node:events:390:28)\n",
      "    at UDP.onMessage [as onmessage] (node:dgram:931:8)"
     ]
    },
    {
     "name": "stdout",
     "output_type": "stream",
     "text": [
      "{ address: '/pos', args: [ 0.42595478892326355, 0.6698665618896484 ] }\n"
     ]
    },
    {
     "name": "stderr",
     "output_type": "stream",
     "text": [
      "TypeError: udp_osc_port.sendMsg is not a function\n",
      "    at Object.handlers./pos (evalmachine.<anonymous>:62:18)\n",
      "    at osc.UDPPort.<anonymous> (evalmachine.<anonymous>:72:44)\n",
      "    at osc.UDPPort.emit (node:events:390:28)\n",
      "    at Object.osc.firePacketEvents (/Users/avneeshsarwate/abletonAutomationExtraction/node_modules/osc/src/osc-transports.js:25:18)\n",
      "    at osc.UDPPort.p.decodeOSC (/Users/avneeshsarwate/abletonAutomationExtraction/node_modules/osc/src/osc-transports.js:85:17)\n",
      "    at osc.UDPPort.emit (node:events:390:28)\n",
      "    at Socket.<anonymous> (/Users/avneeshsarwate/abletonAutomationExtraction/node_modules/osc/src/platforms/osc-node.js:102:18)\n",
      "    at Socket.emit (node:events:390:28)\n",
      "    at UDP.onMessage [as onmessage] (node:dgram:931:8)"
     ]
    },
    {
     "name": "stdout",
     "output_type": "stream",
     "text": [
      "{ address: '/pos', args: [ 0.42595478892326355, 0.6703990697860718 ] }\n"
     ]
    },
    {
     "name": "stderr",
     "output_type": "stream",
     "text": [
      "TypeError: udp_osc_port.sendMsg is not a function\n",
      "    at Object.handlers./pos (evalmachine.<anonymous>:62:18)\n",
      "    at osc.UDPPort.<anonymous> (evalmachine.<anonymous>:72:44)\n",
      "    at osc.UDPPort.emit (node:events:390:28)\n",
      "    at Object.osc.firePacketEvents (/Users/avneeshsarwate/abletonAutomationExtraction/node_modules/osc/src/osc-transports.js:25:18)\n",
      "    at osc.UDPPort.p.decodeOSC (/Users/avneeshsarwate/abletonAutomationExtraction/node_modules/osc/src/osc-transports.js:85:17)\n",
      "    at osc.UDPPort.emit (node:events:390:28)\n",
      "    at Socket.<anonymous> (/Users/avneeshsarwate/abletonAutomationExtraction/node_modules/osc/src/platforms/osc-node.js:102:18)\n",
      "    at Socket.emit (node:events:390:28)\n",
      "    at UDP.onMessage [as onmessage] (node:dgram:931:8)"
     ]
    },
    {
     "name": "stdout",
     "output_type": "stream",
     "text": [
      "{ address: '/pos', args: [ 0.425498366355896, 0.6703990697860718 ] }\n"
     ]
    },
    {
     "name": "stderr",
     "output_type": "stream",
     "text": [
      "TypeError: udp_osc_port.sendMsg is not a function\n",
      "    at Object.handlers./pos (evalmachine.<anonymous>:62:18)\n",
      "    at osc.UDPPort.<anonymous> (evalmachine.<anonymous>:72:44)\n",
      "    at osc.UDPPort.emit (node:events:390:28)\n",
      "    at Object.osc.firePacketEvents (/Users/avneeshsarwate/abletonAutomationExtraction/node_modules/osc/src/osc-transports.js:25:18)\n",
      "    at osc.UDPPort.p.decodeOSC (/Users/avneeshsarwate/abletonAutomationExtraction/node_modules/osc/src/osc-transports.js:85:17)\n",
      "    at osc.UDPPort.emit (node:events:390:28)\n",
      "    at Socket.<anonymous> (/Users/avneeshsarwate/abletonAutomationExtraction/node_modules/osc/src/platforms/osc-node.js:102:18)\n",
      "    at Socket.emit (node:events:390:28)\n",
      "    at UDP.onMessage [as onmessage] (node:dgram:931:8)"
     ]
    },
    {
     "name": "stdout",
     "output_type": "stream",
     "text": [
      "{ address: '/pos', args: [ 0.425498366355896, 0.6704522371292114 ] }\n"
     ]
    },
    {
     "name": "stderr",
     "output_type": "stream",
     "text": [
      "TypeError: udp_osc_port.sendMsg is not a function\n",
      "    at Object.handlers./pos (evalmachine.<anonymous>:62:18)\n",
      "    at osc.UDPPort.<anonymous> (evalmachine.<anonymous>:72:44)\n",
      "    at osc.UDPPort.emit (node:events:390:28)\n",
      "    at Object.osc.firePacketEvents (/Users/avneeshsarwate/abletonAutomationExtraction/node_modules/osc/src/osc-transports.js:25:18)\n",
      "    at osc.UDPPort.p.decodeOSC (/Users/avneeshsarwate/abletonAutomationExtraction/node_modules/osc/src/osc-transports.js:85:17)\n",
      "    at osc.UDPPort.emit (node:events:390:28)\n",
      "    at Socket.<anonymous> (/Users/avneeshsarwate/abletonAutomationExtraction/node_modules/osc/src/platforms/osc-node.js:102:18)\n",
      "    at Socket.emit (node:events:390:28)\n",
      "    at UDP.onMessage [as onmessage] (node:dgram:931:8)"
     ]
    },
    {
     "name": "stdout",
     "output_type": "stream",
     "text": [
      "{ address: '/pos', args: [ 0.42546790838241577, 0.6704522371292114 ] }\n"
     ]
    },
    {
     "name": "stderr",
     "output_type": "stream",
     "text": [
      "TypeError: udp_osc_port.sendMsg is not a function\n",
      "    at Object.handlers./pos (evalmachine.<anonymous>:62:18)\n",
      "    at osc.UDPPort.<anonymous> (evalmachine.<anonymous>:72:44)\n",
      "    at osc.UDPPort.emit (node:events:390:28)\n",
      "    at Object.osc.firePacketEvents (/Users/avneeshsarwate/abletonAutomationExtraction/node_modules/osc/src/osc-transports.js:25:18)\n",
      "    at osc.UDPPort.p.decodeOSC (/Users/avneeshsarwate/abletonAutomationExtraction/node_modules/osc/src/osc-transports.js:85:17)\n",
      "    at osc.UDPPort.emit (node:events:390:28)\n",
      "    at Socket.<anonymous> (/Users/avneeshsarwate/abletonAutomationExtraction/node_modules/osc/src/platforms/osc-node.js:102:18)\n",
      "    at Socket.emit (node:events:390:28)\n",
      "    at UDP.onMessage [as onmessage] (node:dgram:931:8)"
     ]
    },
    {
     "name": "stdout",
     "output_type": "stream",
     "text": [
      "{ address: '/pos', args: [ 0.42546790838241577, 0.6706805229187012 ] }\n"
     ]
    },
    {
     "name": "stderr",
     "output_type": "stream",
     "text": [
      "TypeError: udp_osc_port.sendMsg is not a function\n",
      "    at Object.handlers./pos (evalmachine.<anonymous>:62:18)\n",
      "    at osc.UDPPort.<anonymous> (evalmachine.<anonymous>:72:44)\n",
      "    at osc.UDPPort.emit (node:events:390:28)\n",
      "    at Object.osc.firePacketEvents (/Users/avneeshsarwate/abletonAutomationExtraction/node_modules/osc/src/osc-transports.js:25:18)\n",
      "    at osc.UDPPort.p.decodeOSC (/Users/avneeshsarwate/abletonAutomationExtraction/node_modules/osc/src/osc-transports.js:85:17)\n",
      "    at osc.UDPPort.emit (node:events:390:28)\n",
      "    at Socket.<anonymous> (/Users/avneeshsarwate/abletonAutomationExtraction/node_modules/osc/src/platforms/osc-node.js:102:18)\n",
      "    at Socket.emit (node:events:390:28)\n",
      "    at UDP.onMessage [as onmessage] (node:dgram:931:8)"
     ]
    },
    {
     "name": "stdout",
     "output_type": "stream",
     "text": [
      "{ address: '/pos', args: [ 0.4252396821975708, 0.6706805229187012 ] }\n"
     ]
    },
    {
     "name": "stderr",
     "output_type": "stream",
     "text": [
      "TypeError: udp_osc_port.sendMsg is not a function\n",
      "    at Object.handlers./pos (evalmachine.<anonymous>:62:18)\n",
      "    at osc.UDPPort.<anonymous> (evalmachine.<anonymous>:72:44)\n",
      "    at osc.UDPPort.emit (node:events:390:28)\n",
      "    at Object.osc.firePacketEvents (/Users/avneeshsarwate/abletonAutomationExtraction/node_modules/osc/src/osc-transports.js:25:18)\n",
      "    at osc.UDPPort.p.decodeOSC (/Users/avneeshsarwate/abletonAutomationExtraction/node_modules/osc/src/osc-transports.js:85:17)\n",
      "    at osc.UDPPort.emit (node:events:390:28)\n",
      "    at Socket.<anonymous> (/Users/avneeshsarwate/abletonAutomationExtraction/node_modules/osc/src/platforms/osc-node.js:102:18)\n",
      "    at Socket.emit (node:events:390:28)\n",
      "    at UDP.onMessage [as onmessage] (node:dgram:931:8)"
     ]
    },
    {
     "name": "stdout",
     "output_type": "stream",
     "text": [
      "{ address: '/pos', args: [ 0.4252396821975708, 0.6709315180778503 ] }\n"
     ]
    },
    {
     "name": "stderr",
     "output_type": "stream",
     "text": [
      "TypeError: udp_osc_port.sendMsg is not a function\n",
      "    at Object.handlers./pos (evalmachine.<anonymous>:62:18)\n",
      "    at osc.UDPPort.<anonymous> (evalmachine.<anonymous>:72:44)\n",
      "    at osc.UDPPort.emit (node:events:390:28)\n",
      "    at Object.osc.firePacketEvents (/Users/avneeshsarwate/abletonAutomationExtraction/node_modules/osc/src/osc-transports.js:25:18)\n",
      "    at osc.UDPPort.p.decodeOSC (/Users/avneeshsarwate/abletonAutomationExtraction/node_modules/osc/src/osc-transports.js:85:17)\n",
      "    at osc.UDPPort.emit (node:events:390:28)\n",
      "    at Socket.<anonymous> (/Users/avneeshsarwate/abletonAutomationExtraction/node_modules/osc/src/platforms/osc-node.js:102:18)\n",
      "    at Socket.emit (node:events:390:28)\n",
      "    at UDP.onMessage [as onmessage] (node:dgram:931:8)"
     ]
    },
    {
     "name": "stdout",
     "output_type": "stream",
     "text": [
      "{ address: '/pos', args: [ 0.4249962866306305, 0.6709315180778503 ] }\n"
     ]
    },
    {
     "name": "stderr",
     "output_type": "stream",
     "text": [
      "TypeError: udp_osc_port.sendMsg is not a function\n",
      "    at Object.handlers./pos (evalmachine.<anonymous>:62:18)\n",
      "    at osc.UDPPort.<anonymous> (evalmachine.<anonymous>:72:44)\n",
      "    at osc.UDPPort.emit (node:events:390:28)\n",
      "    at Object.osc.firePacketEvents (/Users/avneeshsarwate/abletonAutomationExtraction/node_modules/osc/src/osc-transports.js:25:18)\n",
      "    at osc.UDPPort.p.decodeOSC (/Users/avneeshsarwate/abletonAutomationExtraction/node_modules/osc/src/osc-transports.js:85:17)\n",
      "    at osc.UDPPort.emit (node:events:390:28)\n",
      "    at Socket.<anonymous> (/Users/avneeshsarwate/abletonAutomationExtraction/node_modules/osc/src/platforms/osc-node.js:102:18)\n",
      "    at Socket.emit (node:events:390:28)\n",
      "    at UDP.onMessage [as onmessage] (node:dgram:931:8)"
     ]
    },
    {
     "name": "stdout",
     "output_type": "stream",
     "text": [
      "{ address: '/pos', args: [ 0.4249810576438904, 0.6709315180778503 ] }\n"
     ]
    },
    {
     "name": "stderr",
     "output_type": "stream",
     "text": [
      "TypeError: udp_osc_port.sendMsg is not a function\n",
      "    at Object.handlers./pos (evalmachine.<anonymous>:62:18)\n",
      "    at osc.UDPPort.<anonymous> (evalmachine.<anonymous>:72:44)\n",
      "    at osc.UDPPort.emit (node:events:390:28)\n",
      "    at Object.osc.firePacketEvents (/Users/avneeshsarwate/abletonAutomationExtraction/node_modules/osc/src/osc-transports.js:25:18)\n",
      "    at osc.UDPPort.p.decodeOSC (/Users/avneeshsarwate/abletonAutomationExtraction/node_modules/osc/src/osc-transports.js:85:17)\n",
      "    at osc.UDPPort.emit (node:events:390:28)\n",
      "    at Socket.<anonymous> (/Users/avneeshsarwate/abletonAutomationExtraction/node_modules/osc/src/platforms/osc-node.js:102:18)\n",
      "    at Socket.emit (node:events:390:28)\n",
      "    at UDP.onMessage [as onmessage] (node:dgram:931:8)"
     ]
    },
    {
     "name": "stdout",
     "output_type": "stream",
     "text": [
      "{ address: '/pos', args: [ 0.4249810576438904, 0.6711673736572266 ] }\n"
     ]
    },
    {
     "name": "stderr",
     "output_type": "stream",
     "text": [
      "TypeError: udp_osc_port.sendMsg is not a function\n",
      "    at Object.handlers./pos (evalmachine.<anonymous>:62:18)\n",
      "    at osc.UDPPort.<anonymous> (evalmachine.<anonymous>:72:44)\n",
      "    at osc.UDPPort.emit (node:events:390:28)\n",
      "    at Object.osc.firePacketEvents (/Users/avneeshsarwate/abletonAutomationExtraction/node_modules/osc/src/osc-transports.js:25:18)\n",
      "    at osc.UDPPort.p.decodeOSC (/Users/avneeshsarwate/abletonAutomationExtraction/node_modules/osc/src/osc-transports.js:85:17)\n",
      "    at osc.UDPPort.emit (node:events:390:28)\n",
      "    at Socket.<anonymous> (/Users/avneeshsarwate/abletonAutomationExtraction/node_modules/osc/src/platforms/osc-node.js:102:18)\n",
      "    at Socket.emit (node:events:390:28)\n",
      "    at UDP.onMessage [as onmessage] (node:dgram:931:8)"
     ]
    },
    {
     "name": "stdout",
     "output_type": "stream",
     "text": [
      "{ address: '/pos', args: [ 0.42474523186683655, 0.6711673736572266 ] }\n"
     ]
    },
    {
     "name": "stderr",
     "output_type": "stream",
     "text": [
      "TypeError: udp_osc_port.sendMsg is not a function\n",
      "    at Object.handlers./pos (evalmachine.<anonymous>:62:18)\n",
      "    at osc.UDPPort.<anonymous> (evalmachine.<anonymous>:72:44)\n",
      "    at osc.UDPPort.emit (node:events:390:28)\n",
      "    at Object.osc.firePacketEvents (/Users/avneeshsarwate/abletonAutomationExtraction/node_modules/osc/src/osc-transports.js:25:18)\n",
      "    at osc.UDPPort.p.decodeOSC (/Users/avneeshsarwate/abletonAutomationExtraction/node_modules/osc/src/osc-transports.js:85:17)\n",
      "    at osc.UDPPort.emit (node:events:390:28)\n",
      "    at Socket.<anonymous> (/Users/avneeshsarwate/abletonAutomationExtraction/node_modules/osc/src/platforms/osc-node.js:102:18)\n",
      "    at Socket.emit (node:events:390:28)\n",
      "    at UDP.onMessage [as onmessage] (node:dgram:931:8)"
     ]
    },
    {
     "name": "stdout",
     "output_type": "stream",
     "text": [
      "{ address: '/pos', args: [ 0.42474523186683655, 0.671403169631958 ] }\n"
     ]
    },
    {
     "name": "stderr",
     "output_type": "stream",
     "text": [
      "TypeError: udp_osc_port.sendMsg is not a function\n",
      "    at Object.handlers./pos (evalmachine.<anonymous>:62:18)\n",
      "    at osc.UDPPort.<anonymous> (evalmachine.<anonymous>:72:44)\n",
      "    at osc.UDPPort.emit (node:events:390:28)\n",
      "    at Object.osc.firePacketEvents (/Users/avneeshsarwate/abletonAutomationExtraction/node_modules/osc/src/osc-transports.js:25:18)\n",
      "    at osc.UDPPort.p.decodeOSC (/Users/avneeshsarwate/abletonAutomationExtraction/node_modules/osc/src/osc-transports.js:85:17)\n",
      "    at osc.UDPPort.emit (node:events:390:28)\n",
      "    at Socket.<anonymous> (/Users/avneeshsarwate/abletonAutomationExtraction/node_modules/osc/src/platforms/osc-node.js:102:18)\n",
      "    at Socket.emit (node:events:390:28)\n",
      "    at UDP.onMessage [as onmessage] (node:dgram:931:8)"
     ]
    },
    {
     "name": "stdout",
     "output_type": "stream",
     "text": [
      "{ address: '/pos/touch', args: [ false ] }\n"
     ]
    },
    {
     "name": "stderr",
     "output_type": "stream",
     "text": [
      "TypeError: udp_osc_port.sendMsg is not a function\n",
      "    at Object.handlers./pos/touch (evalmachine.<anonymous>:66:18)\n",
      "    at osc.UDPPort.<anonymous> (evalmachine.<anonymous>:72:44)\n",
      "    at osc.UDPPort.emit (node:events:390:28)\n",
      "    at Object.osc.firePacketEvents (/Users/avneeshsarwate/abletonAutomationExtraction/node_modules/osc/src/osc-transports.js:25:18)\n",
      "    at osc.UDPPort.p.decodeOSC (/Users/avneeshsarwate/abletonAutomationExtraction/node_modules/osc/src/osc-transports.js:85:17)\n",
      "    at osc.UDPPort.emit (node:events:390:28)\n",
      "    at Socket.<anonymous> (/Users/avneeshsarwate/abletonAutomationExtraction/node_modules/osc/src/platforms/osc-node.js:102:18)\n",
      "    at Socket.emit (node:events:390:28)\n",
      "    at UDP.onMessage [as onmessage] (node:dgram:931:8)"
     ]
    },
    {
     "name": "stdout",
     "output_type": "stream",
     "text": [
      "{ address: '/recording', args: [ 0 ] }\n"
     ]
    },
    {
     "name": "stderr",
     "output_type": "stream",
     "text": [
      "Error: connect ETIMEDOUT 192.168.1.39:7071\n",
      "    at TCPConnectWrap.afterConnect [as oncomplete] (node:net:1161:16)"
     ]
    },
    {
     "name": "stdout",
     "output_type": "stream",
     "text": [
      "CLOSED: 127.0.0.1 63734\n"
     ]
    }
   ],
   "source": [
    "//OSC Server to touchOSC\n",
    "\n",
    "const osc = require('osc');\n",
    "\n",
    "const TCP_OSC_PORT = 7071;\n",
    "const TCP_OSC_HOST = '192.168.1.39';\n",
    "\n",
    "let tcp_osc_port = new osc.TCPSocketPort({});\n",
    "// change to remote host/port (address of phone/tablet) - set touchOSC on device to TCPserver\n",
    "tcp_osc_port.open(TCP_OSC_HOST, TCP_OSC_PORT); \n",
    "\n",
    "tcp_osc_port.on('ready', () => {\n",
    "  console.log('ready TCP');\n",
    "});\n",
    "\n",
    "\n",
    "const UDP_OSC_PORT = 7071;\n",
    "const UDP_OSC_HOST = '0.0.0.0';\n",
    "\n",
    "// Bind to a UDP socket to listen for incoming OSC events.\n",
    "let udp_osc_port = new osc.UDPPort({\n",
    "    localAddress: UDP_OSC_HOST,\n",
    "    localPort: UDP_OSC_PORT,\n",
    "    remoteAddress: '127.0.0.1',\n",
    "    remotePort: 7072\n",
    "});\n",
    "\n",
    "udp_osc_port.on(\"ready\", () => {\n",
    "    console.log('ready UDP');\n",
    "});\n",
    "\n",
    "udp_osc_port.open();\n",
    "\n",
    "let osc_port = udp_osc_port;\n",
    "\n",
    "const rawLoops = {};\n",
    "const processedLoops = {};\n",
    "let activeLoop = 'firstLoop';\n",
    "let isRecording = false;\n",
    "let isTouching = false;\n",
    "const handlers = {};\n",
    "\n",
    "function processLoop(loopKey) {\n",
    "    processedLoops[loopKey] = rawLoops[loopKey];\n",
    "}\n",
    "\n",
    "handlers['/recording'] = (isRec) => {\n",
    "    isRecording = isRec;\n",
    "    if(isRecording) {\n",
    "        rawLoops[activeLoop] = [{ts: Date.now(), pos: 'start'}];\n",
    "    } else {\n",
    "        rawLoops[activeLoop].push({ts: Date.now(), pos: 'end'});\n",
    "        processLoop(activeLoop);\n",
    "        sockets.forEach(sock => sock.write( JSON.stringify(processedLoops) + '\\n' ))\n",
    "    }\n",
    "}\n",
    "const f = float => ({type: 'f', value: float}); //helper for formatting floats for OSC\n",
    "handlers['/pos'] = (x, y) => {\n",
    "    if(isRecording) {\n",
    "        rawLoops[activeLoop].push({ts: Date.now(), pos: {x, y}});\n",
    "    }\n",
    "    udp_osc_port.sendMsg({addres: '/touchPos', args: [f(x), f(y)]});\n",
    "}\n",
    "handlers['/pos/touch'] = (touching) => {\n",
    "    isTouching = touching;\n",
    "    udp_osc_port.sendMsg({addres: '/touching', args: [f(isTouching)]});\n",
    "}\n",
    "\n",
    "osc_port.on('message', (message) => {\n",
    "    let {address, args} = message;\n",
    "    console.log(message)\n",
    "    if(handlers[address]) handlers[address](...args); \n",
    "});"
   ]
  },
  {
   "cell_type": "code",
   "execution_count": 7,
   "id": "76bb3ca9",
   "metadata": {},
   "outputs": [
    {
     "data": {
      "text/plain": [
       "{ ts: 1640469770824, pos: 'start' }"
      ]
     },
     "execution_count": 7,
     "metadata": {},
     "output_type": "execute_result"
    }
   ],
   "source": [
    "processedLoops['firstLoop'][0]"
   ]
  },
  {
   "cell_type": "code",
   "execution_count": 6,
   "id": "7de26c4f",
   "metadata": {},
   "outputs": [
    {
     "name": "stdout",
     "output_type": "stream",
     "text": [
      "CLOSED: 127.0.0.1 49285\n"
     ]
    }
   ],
   "source": [
    "sockets.forEach(sock => sock.write( JSON.stringify(processedLoops) + '\\n' ))"
   ]
  }
 ],
 "metadata": {
  "kernelspec": {
   "display_name": "JavaScript (Node.js)",
   "language": "javascript",
   "name": "javascript"
  },
  "language_info": {
   "file_extension": ".js",
   "mimetype": "application/javascript",
   "name": "javascript",
   "version": "16.13.0"
  }
 },
 "nbformat": 4,
 "nbformat_minor": 5
}
