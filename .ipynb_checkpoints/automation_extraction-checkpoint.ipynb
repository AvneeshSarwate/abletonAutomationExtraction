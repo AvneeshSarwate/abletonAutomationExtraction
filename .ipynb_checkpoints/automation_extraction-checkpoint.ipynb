{
 "cells": [
  {
   "cell_type": "code",
   "execution_count": 2,
   "id": "226da064",
   "metadata": {},
   "outputs": [],
   "source": [
    "import gzip\n",
    "import sys \n",
    "import xml.etree.ElementTree as ET\n",
    "\n",
    "# refresh file to read in sublime w/ - cp xyGrab.als xyGrab.gz; gzip -d xyGrab.gz -f\n",
    "\n",
    "als_xml = gzip.open('xyGrab Project/xyGrab.als').read()\n",
    "tree = ET.fromstring(als_xml)\n",
    "\n",
    "def getClipsForTrack(trackNumber):\n",
    "    trackNum = trackNumber #maybe make this track name instead?\n",
    "    track = tree[0].find(\"Tracks\").findall(\"MidiTrack\")[trackNum]\n",
    "    clipSlots = track.find(\"DeviceChain\").find(\"MainSequencer\").find(\"ClipSlotList\").findall(\"ClipSlot\")\n",
    "    clipval = lambda cs: cs.find(\"ClipSlot\").find(\"Value\").find(\"MidiClip\")\n",
    "    clips = [clipval(cs) for cs in clipSlots if clipval(cs) is not None]\n",
    "    return clips\n",
    "\n",
    "def getAutomationsForClip(clip):\n",
    "    clipEnvelopes = clip.find(\"Envelopes\").find(\"Envelopes\").findall(\"ClipEnvelope\")\n",
    "    \n",
    "    return clipEnvelopes\n",
    "    \n",
    "clips = getClipsForTrack(0)\n",
    "automations = getAutomationsForClip(clips[0])\n",
    "\n",
    "\n",
    "# FloatEvent tag holds automation events\n",
    "# PointeeId in ClipEnvelope refers to device param being automated\n",
    "# MxDFloatParameter->AutomationTarget[Id] is same id as PointeeId\n",
    "# MxDFloatParameter->ShortName gives displayName of the parameter"
   ]
  },
  {
   "cell_type": "code",
   "execution_count": 15,
   "id": "4eccc9f8",
   "metadata": {},
   "outputs": [
    {
     "data": {
      "text/plain": [
       "[('Value', '1-Operator 6')]"
      ]
     },
     "execution_count": 15,
     "metadata": {},
     "output_type": "execute_result"
    }
   ],
   "source": [
    "clipName = clips[0].find(\"Name\").items()"
   ]
  },
  {
   "cell_type": "code",
   "execution_count": 30,
   "id": "536d1ee9",
   "metadata": {},
   "outputs": [
    {
     "data": {
      "text/plain": [
       "[]"
      ]
     },
     "execution_count": 30,
     "metadata": {},
     "output_type": "execute_result"
    }
   ],
   "source": [
    "tree[0].findall(\"MxDeviceAudioEffect\")"
   ]
  },
  {
   "cell_type": "code",
   "execution_count": 34,
   "id": "9265ab6a",
   "metadata": {},
   "outputs": [],
   "source": []
  },
  {
   "cell_type": "code",
   "execution_count": 48,
   "id": "b979f9f9",
   "metadata": {},
   "outputs": [],
   "source": [
    "tree2 = ET.parse(gzip.open('xyGrab Project/xyGrab.als'))\n",
    "tagType = 'MxDeviceAudioEffect'\n",
    "elems = []\n",
    "numItems = 0\n",
    "for e in tree2.iter():\n",
    "    numItems += 1\n",
    "    if e.tag == tagType:\n",
    "        elems.append(e)\n",
    "        \n",
    "\n",
    "def getAutomationsByTrackDeviceClip(trackNum, deviceName, clipName, tree):\n",
    "    tracks = []\n",
    "    for e in tree.iter():\n",
    "        if e.tag == \"MidiTrack\":\n",
    "            tracks.append(e)\n",
    "    \n",
    "    devices = []\n",
    "    for e in tracks[trackNum].iter():\n",
    "        if e.tag == \"MxDeviceAudioEffect\":\n",
    "            tracks.devices(e)\n",
    "            \n",
    "    \n",
    "        "
   ]
  },
  {
   "cell_type": "code",
   "execution_count": 81,
   "id": "30763b04",
   "metadata": {},
   "outputs": [],
   "source": [
    "trackNum = 0\n",
    "deviceName = \"map_target\"\n",
    "clipName = \"1-Operator 6\"\n",
    "\n",
    "tracks = []\n",
    "for e in tree2.iter():\n",
    "    if e.tag == \"MidiTrack\":\n",
    "        tracks.append(e)"
   ]
  },
  {
   "cell_type": "code",
   "execution_count": 82,
   "id": "d980b754",
   "metadata": {},
   "outputs": [],
   "source": [
    "devices = []\n",
    "for e in tracks[trackNum].iter():\n",
    "    if e.tag == \"MxDeviceAudioEffect\":\n",
    "        name = e.find(\"UserName\").attrib[\"Value\"]\n",
    "        if name == deviceName:\n",
    "            devices.append(e)\n",
    "            "
   ]
  },
  {
   "cell_type": "code",
   "execution_count": 83,
   "id": "7335f15f",
   "metadata": {},
   "outputs": [],
   "source": [
    "device = devices[0]\n",
    "id_to_param_name = {}\n",
    "for e in device.iter():\n",
    "    if e.tag == \"MxDFloatParameter\":\n",
    "        name = e.find(\"Name\").attrib[\"Value\"]\n",
    "        param_id = e.attrib[\"Id\"]\n",
    "        automation_target_id = e.find(\"Timeable/AutomationTarget\").attrib[\"Id\"]\n",
    "        id_to_param_name[automation_target_id] = name"
   ]
  },
  {
   "cell_type": "code",
   "execution_count": 84,
   "id": "6bb6d974",
   "metadata": {},
   "outputs": [],
   "source": [
    "param_to_curve = {}\n",
    "for e in tree2.iter():\n",
    "    if e.tag == \"ClipEnvelope\":\n",
    "        pointee_id = e.find(\"EnvelopeTarget/PointeeId\").attrib[\"Value\"]\n",
    "        param_to_curve[pointee_id] = e.find(\"Automation/Events\")"
   ]
  },
  {
   "cell_type": "code",
   "execution_count": 85,
   "id": "cacdee27",
   "metadata": {},
   "outputs": [
    {
     "data": {
      "text/plain": [
       "{'22215': <Element 'Events' at 0x107a0a9f0>,\n",
       " '22213': <Element 'Events' at 0x107946e00>}"
      ]
     },
     "execution_count": 85,
     "metadata": {},
     "output_type": "execute_result"
    }
   ],
   "source": []
  }
 ],
 "metadata": {
  "kernelspec": {
   "display_name": "Python 3 (ipykernel)",
   "language": "python",
   "name": "python3"
  },
  "language_info": {
   "codemirror_mode": {
    "name": "ipython",
    "version": 3
   },
   "file_extension": ".py",
   "mimetype": "text/x-python",
   "name": "python",
   "nbconvert_exporter": "python",
   "pygments_lexer": "ipython3",
   "version": "3.9.7"
  }
 },
 "nbformat": 4,
 "nbformat_minor": 5
}
