{
 "cells": [
  {
   "cell_type": "code",
   "execution_count": 40,
   "metadata": {
    "collapsed": true
   },
   "outputs": [],
   "source": [
    "import gzip\n",
    "import sys \n",
    "import xml.etree.ElementTree as ET\n",
    "\n",
    "\n",
    "als_xml = gzip.open('p5Control.als').read()\n",
    "tree = ET.fromstring(als_xml)"
   ]
  },
  {
   "cell_type": "code",
   "execution_count": 9,
   "metadata": {},
   "outputs": [
    {
     "data": {
      "text/plain": [
       "[('MajorVersion', '5'),\n",
       " ('Creator', 'Ableton Live 10.1.9'),\n",
       " ('SchemaChangeCount', '3'),\n",
       " ('MinorVersion', '10.0_377'),\n",
       " ('Revision', '758e3a2f6f6390598b388489d358dd799e7bb207')]"
      ]
     },
     "execution_count": 9,
     "metadata": {},
     "output_type": "execute_result"
    }
   ],
   "source": [
    "tree.items()"
   ]
  },
  {
   "cell_type": "code",
   "execution_count": 41,
   "metadata": {},
   "outputs": [],
   "source": [
    "def getClipsForTrack(trackNumber)\n",
    "trackNum = trackNumber #maybe make this track name instead?\n",
    "track = tree[0].find(\"Tracks\").findall(\"MidiTrack\")[trackNum]\n",
    "clipSlots = track.find(\"DeviceChain\").find(\"MainSequencer\").find(\"ClipSlotList\").findall(\"ClipSlot\")\n",
    "clipval = lambda cs: cs.find(\"ClipSlot\").find(\"Value\").find(\"MidiClip\")\n",
    "clips = [clipval(cs) for cs in clipSlots if clipval(cs) is not None]\n",
    "\n",
    "def get\n",
    "\n"
   ]
  },
  {
   "cell_type": "code",
   "execution_count": 42,
   "metadata": {},
   "outputs": [
    {
     "data": {
      "text/plain": [
       "[<Element 'MidiClip' at 0x10876de10>, <Element 'MidiClip' at 0x1087867d0>]"
      ]
     },
     "execution_count": 42,
     "metadata": {},
     "output_type": "execute_result"
    }
   ],
   "source": [
    "clips"
   ]
  }
 ],
 "metadata": {
  "kernelspec": {
   "display_name": "Python 2",
   "language": "python",
   "name": "python2"
  },
  "language_info": {
   "codemirror_mode": {
    "name": "ipython",
    "version": 2
   },
   "file_extension": ".py",
   "mimetype": "text/x-python",
   "name": "python",
   "nbconvert_exporter": "python",
   "pygments_lexer": "ipython2",
   "version": "2.7.15"
  }
 },
 "nbformat": 4,
 "nbformat_minor": 2
}
